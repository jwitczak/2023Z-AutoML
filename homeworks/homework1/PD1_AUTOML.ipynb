{
  "cells": [
    {
      "cell_type": "markdown",
      "metadata": {
        "id": "uto09-B2yVTn"
      },
      "source": [
        "Wczytanie potrzebnych pakietów"
      ]
    },
    {
      "cell_type": "code",
      "execution_count": 1,
      "metadata": {
        "colab": {
          "base_uri": "https://localhost:8080/"
        },
        "id": "82jHtHND1_sn",
        "outputId": "6867f239-e8bc-4093-d661-96d557e11527"
      },
      "outputs": [
        {
          "output_type": "stream",
          "name": "stdout",
          "text": [
            "Collecting smac\n",
            "  Downloading smac-2.0.2.tar.gz (147 kB)\n",
            "\u001b[?25l     \u001b[90m━━━━━━━━━━━━━━━━━━━━━━━━━━━━━━━━━━━━━━━━\u001b[0m \u001b[32m0.0/147.6 kB\u001b[0m \u001b[31m?\u001b[0m eta \u001b[36m-:--:--\u001b[0m\r\u001b[2K     \u001b[91m━━━━━━━━━━━━━━━━━━━━━━━━━━━━━━━━━━━━━━\u001b[0m\u001b[91m╸\u001b[0m\u001b[90m━\u001b[0m \u001b[32m143.4/147.6 kB\u001b[0m \u001b[31m4.7 MB/s\u001b[0m eta \u001b[36m0:00:01\u001b[0m\r\u001b[2K     \u001b[90m━━━━━━━━━━━━━━━━━━━━━━━━━━━━━━━━━━━━━━━━\u001b[0m \u001b[32m147.6/147.6 kB\u001b[0m \u001b[31m3.7 MB/s\u001b[0m eta \u001b[36m0:00:00\u001b[0m\n",
            "\u001b[?25h  Installing build dependencies ... \u001b[?25l\u001b[?25hdone\n",
            "  Getting requirements to build wheel ... \u001b[?25l\u001b[?25hdone\n",
            "  Preparing metadata (pyproject.toml) ... \u001b[?25l\u001b[?25hdone\n",
            "Requirement already satisfied: numpy>=1.23.3 in /usr/local/lib/python3.10/dist-packages (from smac) (1.23.5)\n",
            "Requirement already satisfied: scipy>=1.9.2 in /usr/local/lib/python3.10/dist-packages (from smac) (1.11.3)\n",
            "Requirement already satisfied: psutil in /usr/local/lib/python3.10/dist-packages (from smac) (5.9.5)\n",
            "Collecting pynisher>=1.0.0 (from smac)\n",
            "  Downloading pynisher-1.0.10.tar.gz (30 kB)\n",
            "  Installing build dependencies ... \u001b[?25l\u001b[?25hdone\n",
            "  Getting requirements to build wheel ... \u001b[?25l\u001b[?25hdone\n",
            "  Installing backend dependencies ... \u001b[?25l\u001b[?25hdone\n",
            "  Preparing metadata (pyproject.toml) ... \u001b[?25l\u001b[?25hdone\n",
            "Collecting ConfigSpace>=0.6.1 (from smac)\n",
            "  Downloading ConfigSpace-0.7.1-cp310-cp310-manylinux_2_17_x86_64.manylinux2014_x86_64.whl (6.3 MB)\n",
            "\u001b[2K     \u001b[90m━━━━━━━━━━━━━━━━━━━━━━━━━━━━━━━━━━━━━━━━\u001b[0m \u001b[32m6.3/6.3 MB\u001b[0m \u001b[31m62.5 MB/s\u001b[0m eta \u001b[36m0:00:00\u001b[0m\n",
            "\u001b[?25hRequirement already satisfied: joblib in /usr/local/lib/python3.10/dist-packages (from smac) (1.3.2)\n",
            "Requirement already satisfied: scikit-learn>=1.1.2 in /usr/local/lib/python3.10/dist-packages (from smac) (1.2.2)\n",
            "Collecting pyrfr>=0.9.0 (from smac)\n",
            "  Downloading pyrfr-0.9.0-cp310-cp310-manylinux_2_17_x86_64.manylinux2014_x86_64.whl (4.6 MB)\n",
            "\u001b[2K     \u001b[90m━━━━━━━━━━━━━━━━━━━━━━━━━━━━━━━━━━━━━━━━\u001b[0m \u001b[32m4.6/4.6 MB\u001b[0m \u001b[31m80.6 MB/s\u001b[0m eta \u001b[36m0:00:00\u001b[0m\n",
            "\u001b[?25hRequirement already satisfied: dask[distributed] in /usr/local/lib/python3.10/dist-packages (from smac) (2023.8.1)\n",
            "Collecting dask-jobqueue (from smac)\n",
            "  Downloading dask_jobqueue-0.8.2-py2.py3-none-any.whl (47 kB)\n",
            "\u001b[2K     \u001b[90m━━━━━━━━━━━━━━━━━━━━━━━━━━━━━━━━━━━━━━━━\u001b[0m \u001b[32m47.3/47.3 kB\u001b[0m \u001b[31m4.6 MB/s\u001b[0m eta \u001b[36m0:00:00\u001b[0m\n",
            "\u001b[?25hCollecting emcee>=3.0.0 (from smac)\n",
            "  Downloading emcee-3.1.4-py2.py3-none-any.whl (46 kB)\n",
            "\u001b[2K     \u001b[90m━━━━━━━━━━━━━━━━━━━━━━━━━━━━━━━━━━━━━━━━\u001b[0m \u001b[32m46.2/46.2 kB\u001b[0m \u001b[31m4.5 MB/s\u001b[0m eta \u001b[36m0:00:00\u001b[0m\n",
            "\u001b[?25hRequirement already satisfied: regex in /usr/local/lib/python3.10/dist-packages (from smac) (2023.6.3)\n",
            "Requirement already satisfied: pyyaml in /usr/local/lib/python3.10/dist-packages (from smac) (6.0.1)\n",
            "Requirement already satisfied: pyparsing in /usr/local/lib/python3.10/dist-packages (from ConfigSpace>=0.6.1->smac) (3.1.1)\n",
            "Requirement already satisfied: typing-extensions in /usr/local/lib/python3.10/dist-packages (from ConfigSpace>=0.6.1->smac) (4.5.0)\n",
            "Requirement already satisfied: more-itertools in /usr/local/lib/python3.10/dist-packages (from ConfigSpace>=0.6.1->smac) (10.1.0)\n",
            "Requirement already satisfied: threadpoolctl>=2.0.0 in /usr/local/lib/python3.10/dist-packages (from scikit-learn>=1.1.2->smac) (3.2.0)\n",
            "Requirement already satisfied: distributed>=2022.02.0 in /usr/local/lib/python3.10/dist-packages (from dask-jobqueue->smac) (2023.8.1)\n",
            "Requirement already satisfied: click>=8.0 in /usr/local/lib/python3.10/dist-packages (from dask[distributed]->smac) (8.1.7)\n",
            "Requirement already satisfied: cloudpickle>=1.5.0 in /usr/local/lib/python3.10/dist-packages (from dask[distributed]->smac) (2.2.1)\n",
            "Requirement already satisfied: fsspec>=2021.09.0 in /usr/local/lib/python3.10/dist-packages (from dask[distributed]->smac) (2023.6.0)\n",
            "Requirement already satisfied: packaging>=20.0 in /usr/local/lib/python3.10/dist-packages (from dask[distributed]->smac) (23.2)\n",
            "Requirement already satisfied: partd>=1.2.0 in /usr/local/lib/python3.10/dist-packages (from dask[distributed]->smac) (1.4.1)\n",
            "Requirement already satisfied: toolz>=0.10.0 in /usr/local/lib/python3.10/dist-packages (from dask[distributed]->smac) (0.12.0)\n",
            "Requirement already satisfied: importlib-metadata>=4.13.0 in /usr/local/lib/python3.10/dist-packages (from dask[distributed]->smac) (6.8.0)\n",
            "Requirement already satisfied: jinja2>=2.10.3 in /usr/local/lib/python3.10/dist-packages (from distributed>=2022.02.0->dask-jobqueue->smac) (3.1.2)\n",
            "Requirement already satisfied: locket>=1.0.0 in /usr/local/lib/python3.10/dist-packages (from distributed>=2022.02.0->dask-jobqueue->smac) (1.0.0)\n",
            "Requirement already satisfied: msgpack>=1.0.0 in /usr/local/lib/python3.10/dist-packages (from distributed>=2022.02.0->dask-jobqueue->smac) (1.0.7)\n",
            "Requirement already satisfied: sortedcontainers>=2.0.5 in /usr/local/lib/python3.10/dist-packages (from distributed>=2022.02.0->dask-jobqueue->smac) (2.4.0)\n",
            "Requirement already satisfied: tblib>=1.6.0 in /usr/local/lib/python3.10/dist-packages (from distributed>=2022.02.0->dask-jobqueue->smac) (3.0.0)\n",
            "Requirement already satisfied: tornado>=6.0.4 in /usr/local/lib/python3.10/dist-packages (from distributed>=2022.02.0->dask-jobqueue->smac) (6.3.2)\n",
            "Requirement already satisfied: urllib3>=1.24.3 in /usr/local/lib/python3.10/dist-packages (from distributed>=2022.02.0->dask-jobqueue->smac) (2.0.7)\n",
            "Requirement already satisfied: zict>=2.2.0 in /usr/local/lib/python3.10/dist-packages (from distributed>=2022.02.0->dask-jobqueue->smac) (3.0.0)\n",
            "Requirement already satisfied: zipp>=0.5 in /usr/local/lib/python3.10/dist-packages (from importlib-metadata>=4.13.0->dask[distributed]->smac) (3.17.0)\n",
            "Requirement already satisfied: MarkupSafe>=2.0 in /usr/local/lib/python3.10/dist-packages (from jinja2>=2.10.3->distributed>=2022.02.0->dask-jobqueue->smac) (2.1.3)\n",
            "Building wheels for collected packages: smac, pynisher\n",
            "  Building wheel for smac (pyproject.toml) ... \u001b[?25l\u001b[?25hdone\n",
            "  Created wheel for smac: filename=smac-2.0.2-py3-none-any.whl size=207413 sha256=69f4694eba7de58136503f341ba56b9074c8a3416df29e7f5277cf94ba369f45\n",
            "  Stored in directory: /root/.cache/pip/wheels/9e/7b/0f/70fa663d850965f42f74fd6ed340a48de9e0f88526e4c57fa4\n",
            "  Building wheel for pynisher (pyproject.toml) ... \u001b[?25l\u001b[?25hdone\n",
            "  Created wheel for pynisher: filename=pynisher-1.0.10-py3-none-any.whl size=28649 sha256=6cc4be0c561ab421ec6abb515a0393c5637ea0a383e650e3ec0b7b90b2dd4629\n",
            "  Stored in directory: /root/.cache/pip/wheels/44/98/1a/54f0456b6acd4f03172fd3c9f31c15dc305b441d9a094b18fc\n",
            "Successfully built smac pynisher\n",
            "Installing collected packages: pyrfr, pynisher, emcee, ConfigSpace, dask-jobqueue, smac\n",
            "Successfully installed ConfigSpace-0.7.1 dask-jobqueue-0.8.2 emcee-3.1.4 pynisher-1.0.10 pyrfr-0.9.0 smac-2.0.2\n",
            "Collecting scikit-optimize\n",
            "  Downloading scikit_optimize-0.9.0-py2.py3-none-any.whl (100 kB)\n",
            "\u001b[2K     \u001b[90m━━━━━━━━━━━━━━━━━━━━━━━━━━━━━━━━━━━━━━━━\u001b[0m \u001b[32m100.3/100.3 kB\u001b[0m \u001b[31m2.6 MB/s\u001b[0m eta \u001b[36m0:00:00\u001b[0m\n",
            "\u001b[?25hRequirement already satisfied: joblib>=0.11 in /usr/local/lib/python3.10/dist-packages (from scikit-optimize) (1.3.2)\n",
            "Collecting pyaml>=16.9 (from scikit-optimize)\n",
            "  Downloading pyaml-23.9.7-py3-none-any.whl (23 kB)\n",
            "Requirement already satisfied: numpy>=1.13.3 in /usr/local/lib/python3.10/dist-packages (from scikit-optimize) (1.23.5)\n",
            "Requirement already satisfied: scipy>=0.19.1 in /usr/local/lib/python3.10/dist-packages (from scikit-optimize) (1.11.3)\n",
            "Requirement already satisfied: scikit-learn>=0.20.0 in /usr/local/lib/python3.10/dist-packages (from scikit-optimize) (1.2.2)\n",
            "Requirement already satisfied: PyYAML in /usr/local/lib/python3.10/dist-packages (from pyaml>=16.9->scikit-optimize) (6.0.1)\n",
            "Requirement already satisfied: threadpoolctl>=2.0.0 in /usr/local/lib/python3.10/dist-packages (from scikit-learn>=0.20.0->scikit-optimize) (3.2.0)\n",
            "Installing collected packages: pyaml, scikit-optimize\n",
            "Successfully installed pyaml-23.9.7 scikit-optimize-0.9.0\n",
            "Collecting GPy==1.9.8\n",
            "  Downloading GPy-1.9.8.tar.gz (989 kB)\n",
            "\u001b[2K     \u001b[90m━━━━━━━━━━━━━━━━━━━━━━━━━━━━━━━━━━━━━━━━\u001b[0m \u001b[32m989.5/989.5 kB\u001b[0m \u001b[31m8.2 MB/s\u001b[0m eta \u001b[36m0:00:00\u001b[0m\n",
            "\u001b[?25h  Preparing metadata (setup.py) ... \u001b[?25l\u001b[?25hdone\n",
            "Requirement already satisfied: numpy>=1.7 in /usr/local/lib/python3.10/dist-packages (from GPy==1.9.8) (1.23.5)\n",
            "Requirement already satisfied: scipy>=0.16 in /usr/local/lib/python3.10/dist-packages (from GPy==1.9.8) (1.11.3)\n",
            "Requirement already satisfied: six in /usr/local/lib/python3.10/dist-packages (from GPy==1.9.8) (1.16.0)\n",
            "Collecting paramz>=0.9.0 (from GPy==1.9.8)\n",
            "  Downloading paramz-0.9.5.tar.gz (71 kB)\n",
            "\u001b[2K     \u001b[90m━━━━━━━━━━━━━━━━━━━━━━━━━━━━━━━━━━━━━━━━\u001b[0m \u001b[32m71.3/71.3 kB\u001b[0m \u001b[31m7.2 MB/s\u001b[0m eta \u001b[36m0:00:00\u001b[0m\n",
            "\u001b[?25h  Preparing metadata (setup.py) ... \u001b[?25l\u001b[?25hdone\n",
            "Requirement already satisfied: decorator>=4.0.10 in /usr/local/lib/python3.10/dist-packages (from paramz>=0.9.0->GPy==1.9.8) (4.4.2)\n",
            "Building wheels for collected packages: GPy, paramz\n",
            "  Building wheel for GPy (setup.py) ... \u001b[?25l\u001b[?25hdone\n",
            "  Created wheel for GPy: filename=GPy-1.9.8-cp310-cp310-linux_x86_64.whl size=3450713 sha256=53e7ed297579d815588851f1020a2287830cfcae2e0963aab99f4c76f5755f3f\n",
            "  Stored in directory: /root/.cache/pip/wheels/7e/8e/d4/2b438bbe320e54162451027cf69e14c8effef2b9e0eb3a3e1e\n",
            "  Building wheel for paramz (setup.py) ... \u001b[?25l\u001b[?25hdone\n",
            "  Created wheel for paramz: filename=paramz-0.9.5-py3-none-any.whl size=102543 sha256=527976aa4588908d2d5ebf5ee2ee5805ec8d221a49691d5cdeff6071501e6bcc\n",
            "  Stored in directory: /root/.cache/pip/wheels/d2/ef/9c/da9ceef7d0ff5287c24365844fc394852c2b79ac3fcf33bf8b\n",
            "Successfully built GPy paramz\n",
            "Installing collected packages: paramz, GPy\n",
            "Successfully installed GPy-1.9.8 paramz-0.9.5\n",
            "Collecting GPyOpt==1.2.1\n",
            "  Downloading GPyOpt-1.2.1.tar.gz (46 kB)\n",
            "\u001b[2K     \u001b[90m━━━━━━━━━━━━━━━━━━━━━━━━━━━━━━━━━━━━━━━━\u001b[0m \u001b[32m46.8/46.8 kB\u001b[0m \u001b[31m1.0 MB/s\u001b[0m eta \u001b[36m0:00:00\u001b[0m\n",
            "\u001b[?25h  Preparing metadata (setup.py) ... \u001b[?25l\u001b[?25hdone\n",
            "Requirement already satisfied: numpy>=1.7 in /usr/local/lib/python3.10/dist-packages (from GPyOpt==1.2.1) (1.23.5)\n",
            "Requirement already satisfied: scipy>=0.16 in /usr/local/lib/python3.10/dist-packages (from GPyOpt==1.2.1) (1.11.3)\n",
            "Requirement already satisfied: GPy>=1.8 in /usr/local/lib/python3.10/dist-packages (from GPyOpt==1.2.1) (1.9.8)\n",
            "Requirement already satisfied: six in /usr/local/lib/python3.10/dist-packages (from GPy>=1.8->GPyOpt==1.2.1) (1.16.0)\n",
            "Requirement already satisfied: paramz>=0.9.0 in /usr/local/lib/python3.10/dist-packages (from GPy>=1.8->GPyOpt==1.2.1) (0.9.5)\n",
            "Requirement already satisfied: decorator>=4.0.10 in /usr/local/lib/python3.10/dist-packages (from paramz>=0.9.0->GPy>=1.8->GPyOpt==1.2.1) (4.4.2)\n",
            "Building wheels for collected packages: GPyOpt\n",
            "  Building wheel for GPyOpt (setup.py) ... \u001b[?25l\u001b[?25hdone\n",
            "  Created wheel for GPyOpt: filename=GPyOpt-1.2.1-py3-none-any.whl size=73639 sha256=8bfc4ecb7840bc42cc425c37eb4542e92dda909db1c6c45dee63c5822e94d84c\n",
            "  Stored in directory: /root/.cache/pip/wheels/76/76/bf/1ae8963b4cad570f0298ac004a22dd12bedb8df1dd96611d6b\n",
            "Successfully built GPyOpt\n",
            "Installing collected packages: GPyOpt\n",
            "Successfully installed GPyOpt-1.2.1\n",
            "Collecting xgboost==0.90\n",
            "  Downloading xgboost-0.90-py2.py3-none-manylinux1_x86_64.whl (142.8 MB)\n",
            "\u001b[2K     \u001b[90m━━━━━━━━━━━━━━━━━━━━━━━━━━━━━━━━━━━━━━━━\u001b[0m \u001b[32m142.8/142.8 MB\u001b[0m \u001b[31m5.5 MB/s\u001b[0m eta \u001b[36m0:00:00\u001b[0m\n",
            "\u001b[?25hRequirement already satisfied: numpy in /usr/local/lib/python3.10/dist-packages (from xgboost==0.90) (1.23.5)\n",
            "Requirement already satisfied: scipy in /usr/local/lib/python3.10/dist-packages (from xgboost==0.90) (1.11.3)\n",
            "Installing collected packages: xgboost\n",
            "  Attempting uninstall: xgboost\n",
            "    Found existing installation: xgboost 2.0.2\n",
            "    Uninstalling xgboost-2.0.2:\n",
            "      Successfully uninstalled xgboost-2.0.2\n",
            "Successfully installed xgboost-0.90\n",
            "Collecting openml\n",
            "  Downloading openml-0.14.1.tar.gz (131 kB)\n",
            "\u001b[2K     \u001b[90m━━━━━━━━━━━━━━━━━━━━━━━━━━━━━━━━━━━━━━━━\u001b[0m \u001b[32m131.3/131.3 kB\u001b[0m \u001b[31m2.8 MB/s\u001b[0m eta \u001b[36m0:00:00\u001b[0m\n",
            "\u001b[?25h  Preparing metadata (setup.py) ... \u001b[?25l\u001b[?25hdone\n",
            "Collecting liac-arff>=2.4.0 (from openml)\n",
            "  Downloading liac-arff-2.5.0.tar.gz (13 kB)\n",
            "  Preparing metadata (setup.py) ... \u001b[?25l\u001b[?25hdone\n",
            "Collecting xmltodict (from openml)\n",
            "  Downloading xmltodict-0.13.0-py2.py3-none-any.whl (10.0 kB)\n",
            "Requirement already satisfied: requests in /usr/local/lib/python3.10/dist-packages (from openml) (2.31.0)\n",
            "Requirement already satisfied: scikit-learn>=0.18 in /usr/local/lib/python3.10/dist-packages (from openml) (1.2.2)\n",
            "Requirement already satisfied: python-dateutil in /usr/local/lib/python3.10/dist-packages (from openml) (2.8.2)\n",
            "Requirement already satisfied: pandas>=1.0.0 in /usr/local/lib/python3.10/dist-packages (from openml) (1.5.3)\n",
            "Requirement already satisfied: scipy>=0.13.3 in /usr/local/lib/python3.10/dist-packages (from openml) (1.11.3)\n",
            "Requirement already satisfied: numpy>=1.6.2 in /usr/local/lib/python3.10/dist-packages (from openml) (1.23.5)\n",
            "Collecting minio (from openml)\n",
            "  Downloading minio-7.2.0-py3-none-any.whl (83 kB)\n",
            "\u001b[2K     \u001b[90m━━━━━━━━━━━━━━━━━━━━━━━━━━━━━━━━━━━━━━━━\u001b[0m \u001b[32m83.5/83.5 kB\u001b[0m \u001b[31m7.4 MB/s\u001b[0m eta \u001b[36m0:00:00\u001b[0m\n",
            "\u001b[?25hRequirement already satisfied: pyarrow in /usr/local/lib/python3.10/dist-packages (from openml) (9.0.0)\n",
            "Requirement already satisfied: pytz>=2020.1 in /usr/local/lib/python3.10/dist-packages (from pandas>=1.0.0->openml) (2023.3.post1)\n",
            "Requirement already satisfied: six>=1.5 in /usr/local/lib/python3.10/dist-packages (from python-dateutil->openml) (1.16.0)\n",
            "Requirement already satisfied: joblib>=1.1.1 in /usr/local/lib/python3.10/dist-packages (from scikit-learn>=0.18->openml) (1.3.2)\n",
            "Requirement already satisfied: threadpoolctl>=2.0.0 in /usr/local/lib/python3.10/dist-packages (from scikit-learn>=0.18->openml) (3.2.0)\n",
            "Requirement already satisfied: certifi in /usr/local/lib/python3.10/dist-packages (from minio->openml) (2023.7.22)\n",
            "Requirement already satisfied: urllib3 in /usr/local/lib/python3.10/dist-packages (from minio->openml) (2.0.7)\n",
            "Requirement already satisfied: argon2-cffi in /usr/local/lib/python3.10/dist-packages (from minio->openml) (23.1.0)\n",
            "Collecting pycryptodome (from minio->openml)\n",
            "  Downloading pycryptodome-3.19.0-cp35-abi3-manylinux_2_17_x86_64.manylinux2014_x86_64.whl (2.1 MB)\n",
            "\u001b[2K     \u001b[90m━━━━━━━━━━━━━━━━━━━━━━━━━━━━━━━━━━━━━━━━\u001b[0m \u001b[32m2.1/2.1 MB\u001b[0m \u001b[31m13.4 MB/s\u001b[0m eta \u001b[36m0:00:00\u001b[0m\n",
            "\u001b[?25hRequirement already satisfied: charset-normalizer<4,>=2 in /usr/local/lib/python3.10/dist-packages (from requests->openml) (3.3.2)\n",
            "Requirement already satisfied: idna<4,>=2.5 in /usr/local/lib/python3.10/dist-packages (from requests->openml) (3.4)\n",
            "Requirement already satisfied: argon2-cffi-bindings in /usr/local/lib/python3.10/dist-packages (from argon2-cffi->minio->openml) (21.2.0)\n",
            "Requirement already satisfied: cffi>=1.0.1 in /usr/local/lib/python3.10/dist-packages (from argon2-cffi-bindings->argon2-cffi->minio->openml) (1.16.0)\n",
            "Requirement already satisfied: pycparser in /usr/local/lib/python3.10/dist-packages (from cffi>=1.0.1->argon2-cffi-bindings->argon2-cffi->minio->openml) (2.21)\n",
            "Building wheels for collected packages: openml, liac-arff\n",
            "  Building wheel for openml (setup.py) ... \u001b[?25l\u001b[?25hdone\n",
            "  Created wheel for openml: filename=openml-0.14.1-py3-none-any.whl size=146923 sha256=f6a492142131b7368295b0711cef9487c076ba27fc82665303c6764587a65de7\n",
            "  Stored in directory: /root/.cache/pip/wheels/75/bc/fd/739778254a2881ef96b139d0aaf60c6d4f9130bb1459b48f10\n",
            "  Building wheel for liac-arff (setup.py) ... \u001b[?25l\u001b[?25hdone\n",
            "  Created wheel for liac-arff: filename=liac_arff-2.5.0-py3-none-any.whl size=11717 sha256=f4996a3d7aba07a43f9d0252761cde567ec435e7fac03c56c738de5ca1d6ff74\n",
            "  Stored in directory: /root/.cache/pip/wheels/5d/2a/9c/3895d9617f8f49a0883ba686326d598e78a1c2f54fe3cae86d\n",
            "Successfully built openml liac-arff\n",
            "Installing collected packages: xmltodict, pycryptodome, liac-arff, minio, openml\n",
            "Successfully installed liac-arff-2.5.0 minio-7.2.0 openml-0.14.1 pycryptodome-3.19.0 xmltodict-0.13.0\n"
          ]
        }
      ],
      "source": [
        "!pip install smac\n",
        "!pip install scikit-optimize\n",
        "!pip install GPy==1.9.8\n",
        "!pip install GPyOpt==1.2.1\n",
        "!pip install xgboost==0.90\n",
        "!pip install openml\n"
      ]
    },
    {
      "cell_type": "code",
      "execution_count": 2,
      "metadata": {
        "id": "KJhMfU1sFwhK"
      },
      "outputs": [],
      "source": [
        "from smac import HyperparameterOptimizationFacade, Scenario\n",
        "from ConfigSpace import Configuration, ConfigurationSpace"
      ]
    },
    {
      "cell_type": "code",
      "execution_count": 3,
      "metadata": {
        "id": "5x5Y9jt-UGeh"
      },
      "outputs": [],
      "source": [
        "from ConfigSpace import Configuration, ConfigurationSpace\n"
      ]
    },
    {
      "cell_type": "code",
      "execution_count": 4,
      "metadata": {
        "id": "wz3LkVl4JCwN"
      },
      "outputs": [],
      "source": [
        "from smac import Callback\n",
        "#from smac import HyperparameterOptimizationFacade as HPOFacade\n",
        "from smac import Scenario\n",
        "from smac.runhistory import TrialInfo, TrialValue"
      ]
    },
    {
      "cell_type": "code",
      "execution_count": 5,
      "metadata": {
        "colab": {
          "base_uri": "https://localhost:8080/"
        },
        "id": "KMAFf4WFyRc-",
        "outputId": "c1c923fc-2156-4410-ef01-e09fb315d69f"
      },
      "outputs": [
        {
          "output_type": "stream",
          "name": "stdout",
          "text": [
            "--2023-11-21 17:53:41--  https://raw.githubusercontent.com/krasserm/bayesian-machine-learning/master/bayesian_optimization_util.py\n",
            "Resolving raw.githubusercontent.com (raw.githubusercontent.com)... 185.199.108.133, 185.199.109.133, 185.199.110.133, ...\n",
            "Connecting to raw.githubusercontent.com (raw.githubusercontent.com)|185.199.108.133|:443... connected.\n",
            "HTTP request sent, awaiting response... 200 OK\n",
            "Length: 1536 (1.5K) [text/plain]\n",
            "Saving to: ‘bayesian_optimization_util.py’\n",
            "\n",
            "\r          bayesian_   0%[                    ]       0  --.-KB/s               \rbayesian_optimizati 100%[===================>]   1.50K  --.-KB/s    in 0s      \n",
            "\n",
            "2023-11-21 17:53:41 (16.0 MB/s) - ‘bayesian_optimization_util.py’ saved [1536/1536]\n",
            "\n"
          ]
        }
      ],
      "source": [
        "import openml\n",
        "from sklearn.model_selection import train_test_split\n",
        "from sklearn.compose import make_column_transformer, make_column_selector, ColumnTransformer\n",
        "from sklearn.pipeline import Pipeline\n",
        "from sklearn.impute import SimpleImputer\n",
        "from sklearn.preprocessing import OneHotEncoder, MinMaxScaler,  StandardScaler\n",
        "import numpy as np\n",
        "import pandas as pd\n",
        "from sklearn.ensemble import RandomForestClassifier, GradientBoostingClassifier\n",
        "from sklearn.svm import SVC\n",
        "from sklearn.model_selection import RandomizedSearchCV\n",
        "import matplotlib.pyplot as plt\n",
        "import numpy as np\n",
        "%matplotlib inline\n",
        "\n",
        "#bayes:\n",
        "\n",
        "# Get additional files from Github\n",
        "!wget https://raw.githubusercontent.com/krasserm/bayesian-machine-learning/master/bayesian_optimization_util.py\n",
        "from sklearn.base import clone\n",
        "from skopt import gp_minimize\n",
        "from skopt.learning import GaussianProcessRegressor\n",
        "from skopt.learning.gaussian_process.kernels import ConstantKernel, Matern\n",
        "from bayesian_optimization_util import plot_approximation, plot_acquisition, plot_convergence\n",
        "\n",
        "import smac\n"
      ]
    },
    {
      "cell_type": "code",
      "execution_count": 6,
      "metadata": {
        "id": "yRGA_1rc59kQ"
      },
      "outputs": [],
      "source": [
        "from sklearn.model_selection import RandomizedSearchCV"
      ]
    },
    {
      "cell_type": "markdown",
      "metadata": {
        "id": "KIph762P0RE7"
      },
      "source": [
        "Wczytanie zbiorów"
      ]
    },
    {
      "cell_type": "code",
      "execution_count": 51,
      "metadata": {
        "colab": {
          "base_uri": "https://localhost:8080/"
        },
        "id": "vGvBKUd70TiI",
        "outputId": "937fd59e-de68-4a3e-e839-30f082c5da2f"
      },
      "outputs": [
        {
          "output_type": "stream",
          "name": "stdout",
          "text": [
            "[INFO][_api_calls.py:91] Starting [get] request for the URL https://www.openml.org/api/v1/xml/data/list/limit/10000/offset/0/status/active/data_name/credit-g\n"
          ]
        },
        {
          "output_type": "stream",
          "name": "stderr",
          "text": [
            "/usr/local/lib/python3.10/dist-packages/openml/datasets/functions.py:438: FutureWarning: Starting from Version 0.15 `download_data`, `download_qualities`, and `download_features_meta_data` will all be ``False`` instead of ``True`` by default to enable lazy loading. To disable this message until version 0.15 explicitly set `download_data`, `download_qualities`, and `download_features_meta_data` to a bool while calling `get_dataset`.\n",
            "  warnings.warn(\n"
          ]
        },
        {
          "output_type": "stream",
          "name": "stdout",
          "text": [
            "[INFO][_api_calls.py:103] 0.7375960s taken for [get] request for the URL https://www.openml.org/api/v1/xml/data/list/limit/10000/offset/0/status/active/data_name/credit-g\n",
            "[INFO][_api_calls.py:91] Starting [get] request for the URL https://www.openml.org/api/v1/xml/data/list/limit/10000/offset/0/status/active/data_name/monks-problems-1\n"
          ]
        },
        {
          "output_type": "stream",
          "name": "stderr",
          "text": [
            "/usr/local/lib/python3.10/dist-packages/openml/datasets/functions.py:438: FutureWarning: Starting from Version 0.15 `download_data`, `download_qualities`, and `download_features_meta_data` will all be ``False`` instead of ``True`` by default to enable lazy loading. To disable this message until version 0.15 explicitly set `download_data`, `download_qualities`, and `download_features_meta_data` to a bool while calling `get_dataset`.\n",
            "  warnings.warn(\n"
          ]
        },
        {
          "output_type": "stream",
          "name": "stdout",
          "text": [
            "[INFO][_api_calls.py:103] 0.7042103s taken for [get] request for the URL https://www.openml.org/api/v1/xml/data/list/limit/10000/offset/0/status/active/data_name/monks-problems-1\n",
            "[INFO][_api_calls.py:91] Starting [get] request for the URL https://www.openml.org/api/v1/xml/data/list/limit/10000/offset/0/status/active/data_name/monks-problems-2\n"
          ]
        },
        {
          "output_type": "stream",
          "name": "stderr",
          "text": [
            "/usr/local/lib/python3.10/dist-packages/openml/datasets/functions.py:438: FutureWarning: Starting from Version 0.15 `download_data`, `download_qualities`, and `download_features_meta_data` will all be ``False`` instead of ``True`` by default to enable lazy loading. To disable this message until version 0.15 explicitly set `download_data`, `download_qualities`, and `download_features_meta_data` to a bool while calling `get_dataset`.\n",
            "  warnings.warn(\n"
          ]
        },
        {
          "output_type": "stream",
          "name": "stdout",
          "text": [
            "[INFO][_api_calls.py:103] 0.5657551s taken for [get] request for the URL https://www.openml.org/api/v1/xml/data/list/limit/10000/offset/0/status/active/data_name/monks-problems-2\n",
            "[INFO][_api_calls.py:91] Starting [get] request for the URL https://www.openml.org/api/v1/xml/data/list/limit/10000/offset/0/status/active/data_name/pc1\n"
          ]
        },
        {
          "output_type": "stream",
          "name": "stderr",
          "text": [
            "/usr/local/lib/python3.10/dist-packages/openml/datasets/functions.py:438: FutureWarning: Starting from Version 0.15 `download_data`, `download_qualities`, and `download_features_meta_data` will all be ``False`` instead of ``True`` by default to enable lazy loading. To disable this message until version 0.15 explicitly set `download_data`, `download_qualities`, and `download_features_meta_data` to a bool while calling `get_dataset`.\n",
            "  warnings.warn(\n"
          ]
        },
        {
          "output_type": "stream",
          "name": "stdout",
          "text": [
            "[INFO][_api_calls.py:103] 0.5657887s taken for [get] request for the URL https://www.openml.org/api/v1/xml/data/list/limit/10000/offset/0/status/active/data_name/pc1\n",
            "[INFO][dataset.py:531] pickle write credit-g\n",
            "[INFO][dataset.py:531] pickle write monks-problems-1\n",
            "[INFO][dataset.py:531] pickle write monks-problems-2\n",
            "[INFO][dataset.py:531] pickle write pc1\n"
          ]
        }
      ],
      "source": [
        "# Get datasets\n",
        "dataset1 = openml.datasets.get_dataset('credit-g')\n",
        "dataset2 = openml.datasets.get_dataset('monks-problems-1')\n",
        "dataset3 = openml.datasets.get_dataset('monks-problems-2')\n",
        "dataset4 = openml.datasets.get_dataset('pc1')\n",
        "# Get the data itself as a dataframe\n",
        "X1, y1, _, _ = dataset1.get_data(dataset_format=\"dataframe\")\n",
        "X2, y2, _, _ = dataset2.get_data(dataset_format=\"dataframe\")\n",
        "X3, y3, _, _ = dataset3.get_data(dataset_format=\"dataframe\")\n",
        "X4, y4, _, _ = dataset4.get_data(dataset_format=\"dataframe\")"
      ]
    },
    {
      "cell_type": "markdown",
      "metadata": {
        "id": "iu7t5H9e1Vmd"
      },
      "source": [
        "Podział na dane treningowe i testowe"
      ]
    },
    {
      "cell_type": "code",
      "execution_count": 52,
      "metadata": {
        "id": "X1mUHZAJ1ZGV"
      },
      "outputs": [],
      "source": [
        "y1 = X1['class']\n",
        "X1 = X1.drop('class', axis=1)\n",
        "X1_train, X1_test, y1_train, y1_test = train_test_split(X1, y1, test_size=0.2)\n",
        "\n",
        "y2 = X2['class']\n",
        "X2 = X2.drop('class', axis=1)\n",
        "X2_train, X2_test, y2_train, y2_test = train_test_split(X2, y2,test_size=0.2)\n",
        "\n",
        "y3 = X3['class']\n",
        "X3 = X3.drop('class', axis=1)\n",
        "X3_train, X3_test, y3_train, y3_test = train_test_split(X3, y3, test_size=0.2)\n",
        "\n",
        "y4 = X4['defects']\n",
        "X4 = X4.drop('defects', axis=1)\n",
        "X4_train, X4_test, y4_train, y4_test = train_test_split(X4, y4, test_size=0.2)"
      ]
    },
    {
      "cell_type": "markdown",
      "metadata": {
        "id": "47qQRf6tqMlp"
      },
      "source": [
        "Funkcje optymalizacyjne"
      ]
    },
    {
      "cell_type": "code",
      "execution_count": 53,
      "metadata": {
        "id": "adSJ0RRAOvYb"
      },
      "outputs": [],
      "source": [
        "X_train = X1_train\n",
        "y_train = y1_train\n",
        "X_test = X1_test\n",
        "y_test  = y1_test\n",
        "\n",
        "\n",
        "def rf_to_opt(params: Configuration,seed: int = 0):\n",
        "    model_pipeline = Pipeline([('preprocessing', col_trans),\n",
        "                              ('model', RandomForestClassifier(n_estimators=np.int64(params['model__n_estimators']),\n",
        "                                                               min_samples_split=np.float64(params[\"model__min_samples_split\"]),\n",
        "                                                               #min_impurity_decrease = np.float64(params['model__min_impurity_decrease']),\n",
        "                                                               warm_start = bool(params[\"model__warm_start\"]),\n",
        "                                                               max_depth = np.int64(params['model__max_depth']),\n",
        "                                                               min_samples_leaf=np.int64(params['model__min_samples_leaf']), random_state=seed))])\n",
        "\n",
        "\n",
        "    model_pipeline.fit(X_train, y_train)\n",
        "    return model_pipeline.score(X_test, y_test)\n",
        "\n",
        "\n",
        "\n",
        "def gb_to_opt(params: Configuration,seed: int = 0):\n",
        "    model_pipeline = Pipeline([('preprocessing', col_trans),\n",
        "                               ('model', GradientBoostingClassifier(n_estimators=np.int64(params['model__n_estimators']),\n",
        "                                                                subsample=np.float64(params['model__subsample']),\n",
        "                                                                #min_impurity_decrease = np.float64(params['model__min_impurity_decrease']),\n",
        "                                                                loss = str(params['model__loss']),\n",
        "                                                                max_depth = np.int64(params['model__max_depth']),\n",
        "                                                                min_samples_leaf=np.int64(params['model__min_samples_leaf']), random_state=seed))])\n",
        "\n",
        "\n",
        "    model_pipeline.fit(X_train, y_train)\n",
        "    return model_pipeline.score(X_test, y_test)\n",
        "\n",
        "\n",
        "def svm_to_opt(params: Configuration,seed: int = 0):\n",
        "    model_pipeline = Pipeline([('preprocessing', col_trans),\n",
        "                               ('model', SVC (C=np.float64(params['model__C']),\n",
        "                                              kernel=str(params['model__kernel']),\n",
        "                                              gamma = np.float128(params['model__gamma']),\n",
        "                                              tol = np.float128(params['model__tol']),\n",
        "                                              #loss = np.str(params['model__loss']),\n",
        "                                              random_state=seed))])\n",
        "\n",
        "\n",
        "    model_pipeline.fit(X_train, y_train)\n",
        "    return model_pipeline.score(X_test, y_test)\n"
      ]
    },
    {
      "cell_type": "markdown",
      "metadata": {
        "id": "pAH71a782UDO"
      },
      "source": [
        "Siatka parametrów do RandomSearchCV dla lasu losowego"
      ]
    },
    {
      "cell_type": "code",
      "execution_count": 10,
      "metadata": {
        "id": "AZ_DRZED2TTR"
      },
      "outputs": [],
      "source": [
        "rf = RandomForestClassifier(random_state = 2023)\n",
        "grid_forest_prep = {\n",
        "    \"model__n_estimators\": [20, 50, 100, 200, 500, 700, 1000, 1500, 2000],\n",
        "    \"model__min_samples_split\": [ 1e-5,1e-4,0.0001, 0.001, 0.01, 0.1],\n",
        "    \"model__warm_start\": [True, False],\n",
        "    \"model__max_depth\": [10, 30, 50, 70, 100,150,200, 500, 1000],\n",
        "    \"model__min_samples_leaf\": [2, 3, 5, 10,15,20]\n",
        "}\n"
      ]
    },
    {
      "cell_type": "markdown",
      "metadata": {
        "id": "48nw5GdaCxhl"
      },
      "source": [
        "Dla lasu losowego rozważałyśmy następujące parametry dla metody Random Search:\n",
        "- n_estimators, czyli liczba drzew decyzyjnych w lesie losowym,\n",
        "- min_samples_split, czyli parametr informujący o minimalnej wymaganej liczbie obserwacji w danym węźle drzewa decyzyjnego, aby nastąpił podział węzła,\n",
        "- min_impurity_decrease, czyli parametr określający jaki minimalny spadek zanieczyszczenia musi nastąpić po podziale węzła, aby ten podział nastąpił,\n",
        "- max_depth, czyli maksymalna głębokość drzewa (najdłuższa ścieżka między węzłem korzenia a węzłem liścia),\n",
        "- min_samples_leaf, czyli minimalna liczba próbek, które powinny być obecne w węźle liścia."
      ]
    },
    {
      "cell_type": "markdown",
      "metadata": {
        "id": "bM9tdlvh5V0T"
      },
      "source": [
        "Siatka parametrów do RandomSearchCV dla Gradient Boosting"
      ]
    },
    {
      "cell_type": "code",
      "execution_count": 13,
      "metadata": {
        "id": "ykHnhSbw5evJ"
      },
      "outputs": [],
      "source": [
        "gb = GradientBoostingClassifier(random_state = 2023)\n",
        "grid_gb_prep = {\n",
        "    \"model__n_estimators\": [10, 50, 100, 150, 500, 1000, 1500, 2000, 2500],\n",
        "    \"model__subsample\": [1e-5, 0.005, 0.01,0.05, 0.1, 0.5, 0.7, 0.9],\n",
        "    \"model__max_depth\": [15, 50, 100, 150, 500, 1000, 1500, 2000, 2500],\n",
        "    \"model__min_samples_leaf\": [1, 3, 5, 10,15,20],\n",
        "    \"model__loss\": ['log_loss', 'exponential']\n",
        "}\n"
      ]
    },
    {
      "cell_type": "markdown",
      "metadata": {
        "id": "RhnBeTTwGPjt"
      },
      "source": [
        "Dla Gradient Boosting rozważałyśmy następujące parametry dla metody Random Search:\n",
        "- n_estimators, czyli liczba drzew decyzyjnych w lesie losowym,\n",
        "- subsample, czyli frakcja obserwacji, która ma zostać wykorzystana do dopasowania poszczególnych uczących się modeli,\n",
        "- min_impurity_decrease, czyli parametr określający jaki minimalny spadek zanieczyszczenia musi nastąpić po podziale węzła, aby ten podział nastąpił,\n",
        "- max_depth, czyli maksymalna głębokość drzewa (najdłuższa ścieżka między węzłem korzenia a węzłem liścia),\n",
        "- min_samples_leaf, czyli minimalna liczba próbek, które powinny być obecne w węźle liścia."
      ]
    },
    {
      "cell_type": "markdown",
      "metadata": {
        "id": "FGeoTO6hFhiC"
      },
      "source": [
        "Przygotowanie funkcji do automatycznej imputacji"
      ]
    },
    {
      "cell_type": "markdown",
      "metadata": {
        "id": "AQRrWBqJ5fL0"
      },
      "source": [
        "Siatka parametrów do RandomSearchCV dla SVM"
      ]
    },
    {
      "cell_type": "code",
      "execution_count": 11,
      "metadata": {
        "id": "OYUv487d5g_A"
      },
      "outputs": [],
      "source": [
        "svm = SVC(random_state = 2023)\n",
        "grid_svm_prep = {\n",
        "    \"model__C\": [0.001, 0.005 ,0.01, 1, 10, 20, 50, 100, 200, 500, 1000],\n",
        "    \"model__kernel\": ['rbf', 'sigmoid', 'poly'],\n",
        "    \"model__gamma\": [0.01, 0.1, 0.5, 1, 5, 20, 50, 100],\n",
        "    \"model__tol\": [1e-6, 1e-5, 1e-4, 1e-3, 1e-2, 0.1]\n",
        "}"
      ]
    },
    {
      "cell_type": "markdown",
      "metadata": {
        "id": "3ebpYZpDCj4R"
      },
      "source": [
        "Preprocessing"
      ]
    },
    {
      "cell_type": "code",
      "execution_count": 14,
      "metadata": {
        "id": "922PUq20CsQV"
      },
      "outputs": [],
      "source": [
        "num_pipeline = Pipeline(steps=[\n",
        "    ('impute', SimpleImputer(strategy='mean')),\n",
        "    ('scale',StandardScaler())])\n",
        "\n",
        "num_pipeline.set_output(transform = \"pandas\")\n",
        "\n",
        "cat_pipeline = Pipeline(steps=[\n",
        "    ('impute', SimpleImputer(strategy='most_frequent')),\n",
        "    ('one-hot',OneHotEncoder(handle_unknown='ignore', sparse=False))\n",
        "])\n",
        "\n",
        "cat_pipeline.set_output(transform = \"pandas\")\n",
        "\n",
        "col_trans = ColumnTransformer(\n",
        "transformers=[\n",
        "    ('num_pipeline',num_pipeline, make_column_selector( dtype_include= np.number )),\n",
        "    ('cat_pipeline',cat_pipeline,make_column_selector(dtype_include=[np.object_,'category']))\n",
        "    ],\n",
        "remainder='passthrough',\n",
        "n_jobs=-1)\n",
        "\n",
        "col_trans.set_output(transform = \"pandas\")\n",
        "\n",
        "model_pipeline1 = Pipeline([('preprocessing', col_trans),\n",
        "                               ('model', rf)])\n",
        "model_pipeline2 = Pipeline([('preprocessing', col_trans),\n",
        "                               ('model', gb)])\n",
        "model_pipeline3 = Pipeline([('preprocessing', col_trans),\n",
        "                               ('model', svm)])\n"
      ]
    },
    {
      "cell_type": "markdown",
      "metadata": {
        "id": "p6KD63mHBIBJ"
      },
      "source": [
        "**Znalezienie najlepszych parametrów dla lasu losowego**\n",
        "\n"
      ]
    },
    {
      "cell_type": "code",
      "execution_count": 54,
      "metadata": {
        "colab": {
          "base_uri": "https://localhost:8080/"
        },
        "id": "tGjHnLO2BUFw",
        "outputId": "366bddf4-1eb4-4163-f79e-bf0587579a4e"
      },
      "outputs": [
        {
          "output_type": "stream",
          "name": "stdout",
          "text": [
            "{'model__warm_start': False, 'model__n_estimators': 2000, 'model__min_samples_split': 0.001, 'model__min_samples_leaf': 2, 'model__max_depth': 150}\n",
            "0.83\n",
            "[0.715   0.7125  0.7325  0.72875 0.72875 0.70375 0.71    0.69875 0.73\n",
            " 0.695   0.745   0.7275  0.7225  0.7075  0.725   0.74375 0.705   0.715\n",
            " 0.71125 0.71125 0.72625 0.73    0.705   0.73    0.73125]\n"
          ]
        }
      ],
      "source": [
        "rs_rf_prep = RandomizedSearchCV(model_pipeline1, grid_forest_prep, cv=5, scoring='accuracy', random_state = 2023, n_iter = 25, n_jobs=-1)\n",
        "#rs_rf = RandomizedSearchCV(rf, grid_forest, cv=5, scoring='accuracy', random_state = 2023)\n",
        "\n",
        "rs_rf_prep.fit(X1_train, y1_train)\n",
        "rf_params_1=rs_rf_prep.best_params_\n",
        "res_rf_1 = rs_rf_prep.cv_results_\n",
        "rf_params_1=rs_rf_prep.best_params_\n",
        "print(rf_params_1)\n",
        "print(rs_rf_prep.score(X1_test, y1_test))\n",
        "score_rf_1 = rs_rf_prep.score(X1_test, y1_test)\n",
        "print(res_rf_1['mean_test_score'])"
      ]
    },
    {
      "cell_type": "code",
      "execution_count": 55,
      "metadata": {
        "colab": {
          "base_uri": "https://localhost:8080/"
        },
        "id": "0dNKXEF0GN-t",
        "outputId": "eb5df79a-6fff-440e-bb99-d1f5b6725036"
      },
      "outputs": [
        {
          "output_type": "stream",
          "name": "stdout",
          "text": [
            "{'model__warm_start': False, 'model__n_estimators': 2000, 'model__min_samples_split': 0.001, 'model__min_samples_leaf': 2, 'model__max_depth': 150}\n",
            "1.0\n",
            "[0.85130235 0.82872829 0.98186925 0.95255363 0.96384065 0.84440756\n",
            " 0.86034219 0.76121042 0.96386619 0.75896323 0.99093463 0.99093463\n",
            " 0.98641471 0.84456078 0.94583759 0.98419305 0.81297242 0.85130235\n",
            " 0.80178754 0.85357508 0.961619   0.97737487 0.78603166 0.97737487\n",
            " 0.95934627]\n"
          ]
        }
      ],
      "source": [
        "rs_rf_prep.fit(X2_train, y2_train)\n",
        "rf_params_2=rs_rf_prep.best_params_\n",
        "res_rf_2 = rs_rf_prep.cv_results_\n",
        "rf_params_2=rs_rf_prep.best_params_\n",
        "print(rf_params_2)\n",
        "print(rs_rf_prep.score(X2_test, y2_test))\n",
        "score_rf_2 = rs_rf_prep.score(X2_test, y2_test)\n",
        "print(res_rf_2['mean_test_score'])"
      ]
    },
    {
      "cell_type": "code",
      "execution_count": 56,
      "metadata": {
        "colab": {
          "base_uri": "https://localhost:8080/"
        },
        "id": "bMiJK0jrGR__",
        "outputId": "8e1ea236-4e0b-4f31-aa4b-cc87e52ca722"
      },
      "outputs": [
        {
          "output_type": "stream",
          "name": "stdout",
          "text": [
            "{'model__warm_start': False, 'model__n_estimators': 2000, 'model__min_samples_split': 0.001, 'model__min_samples_leaf': 2, 'model__max_depth': 150}\n",
            "0.8429752066115702\n",
            "[0.65416667 0.65       0.73125    0.68958333 0.70208333 0.65\n",
            " 0.65625    0.65       0.70208333 0.65       0.79166667 0.78333333\n",
            " 0.75416667 0.65       0.675      0.75       0.65       0.65625\n",
            " 0.65       0.65625    0.7        0.70416667 0.65       0.70416667\n",
            " 0.70208333]\n"
          ]
        }
      ],
      "source": [
        "rs_rf_prep.fit(X3_train, y3_train)\n",
        "rf_params_3=rs_rf_prep.best_params_\n",
        "res_rf_3 = rs_rf_prep.cv_results_\n",
        "rf_params_3=rs_rf_prep.best_params_\n",
        "print(rf_params_3)\n",
        "print(rs_rf_prep.score(X3_test, y3_test))\n",
        "score_rf_3 = rs_rf_prep.score(X3_test, y3_test)\n",
        "print(res_rf_3['mean_test_score'])"
      ]
    },
    {
      "cell_type": "code",
      "execution_count": 57,
      "metadata": {
        "colab": {
          "base_uri": "https://localhost:8080/"
        },
        "id": "s1Hdh1W6Xt3o",
        "outputId": "8d6a5cdd-a33a-45a7-8d22-6bff2e92c833"
      },
      "outputs": [
        {
          "output_type": "stream",
          "name": "stdout",
          "text": [
            "{'model__warm_start': False, 'model__n_estimators': 50, 'model__min_samples_split': 0.0001, 'model__min_samples_leaf': 2, 'model__max_depth': 10}\n",
            "0.9099099099099099\n",
            "[0.93686917 0.93686917 0.94250619 0.94476608 0.94476608 0.93686917\n",
            " 0.93686917 0.93686917 0.94476608 0.93686917 0.94137625 0.94475973\n",
            " 0.94701962 0.93686917 0.94475973 0.94137625 0.93686917 0.93686917\n",
            " 0.93686917 0.93686917 0.94476608 0.94363613 0.93686917 0.94363613\n",
            " 0.94476608]\n"
          ]
        }
      ],
      "source": [
        "rs_rf_prep.fit(X4_train, y4_train)\n",
        "rf_params_4=rs_rf_prep.best_params_\n",
        "res_rf_4 = rs_rf_prep.cv_results_\n",
        "rf_params_4=rs_rf_prep.best_params_\n",
        "print(rf_params_4)\n",
        "print(rs_rf_prep.score(X4_test, y4_test))\n",
        "score_rf_4 = rs_rf_prep.score(X4_test, y4_test)\n",
        "print(res_rf_4['mean_test_score'])"
      ]
    },
    {
      "cell_type": "code",
      "source": [
        "mean_rf = []\n",
        "for i in range (0,24):\n",
        "  x = (res_rf_1['mean_test_score'][i] + res_rf_2['mean_test_score'][i] + res_rf_3['mean_test_score'][i] + res_rf_4['mean_test_score'][i])/4\n",
        "  mean_rf.append(x)\n",
        "\n",
        "mean_best_rf = res_rf_1['params'][mean_rf.index(max(mean_rf))]"
      ],
      "metadata": {
        "id": "b7G-vMg8UdV4"
      },
      "execution_count": 58,
      "outputs": []
    },
    {
      "cell_type": "markdown",
      "metadata": {
        "id": "2Ig_F3BfLVbD"
      },
      "source": [
        "Dopasowanie na średnio najlepszych i wyznaczenie różnic"
      ]
    },
    {
      "cell_type": "code",
      "execution_count": 61,
      "metadata": {
        "id": "9sDupe6vZcGH",
        "colab": {
          "base_uri": "https://localhost:8080/"
        },
        "outputId": "ceccdbbf-6a8d-4380-c0fd-1bf24d343b11"
      },
      "outputs": [
        {
          "output_type": "stream",
          "name": "stdout",
          "text": [
            "0.825\n",
            "1.0\n",
            "0.8429752066115702\n",
            "0.9144144144144144\n"
          ]
        }
      ],
      "source": [
        "X_train = X1_train\n",
        "y_train = y1_train\n",
        "X_test = X1_test\n",
        "y_test  = y1_test\n",
        "\n",
        "score_mean_rf_1 = rf_to_opt(mean_best_rf)\n",
        "print(score_mean_rf_1)\n",
        "\n",
        "X_train = X2_train\n",
        "y_train = y2_train\n",
        "X_test = X2_test\n",
        "y_test  = y2_test\n",
        "\n",
        "score_mean_rf_2 = rf_to_opt(mean_best_rf)\n",
        "print(score_mean_rf_2)\n",
        "\n",
        "X_train = X3_train\n",
        "y_train = y3_train\n",
        "X_test = X3_test\n",
        "y_test  = y3_test\n",
        "\n",
        "score_mean_rf_3 = rf_to_opt(mean_best_rf)\n",
        "print(score_mean_rf_3)\n",
        "\n",
        "X_train = X4_train\n",
        "y_train = y4_train\n",
        "X_test = X4_test\n",
        "y_test  = y4_test\n",
        "\n",
        "score_mean_rf_4 = rf_to_opt(mean_best_rf)\n",
        "print(score_mean_rf_4)\n"
      ]
    },
    {
      "cell_type": "code",
      "execution_count": 130,
      "metadata": {
        "id": "FzBfUjdYpF0J"
      },
      "outputs": [],
      "source": [
        "dif1 = score_mean_rf_1 - score_rf_1\n",
        "dif2 = score_mean_rf_2 - score_rf_2\n",
        "dif3 = score_mean_rf_3 - score_rf_3\n",
        "dif4 = score_mean_rf_4 - score_rf_4"
      ]
    },
    {
      "cell_type": "code",
      "source": [
        "tunability_rf = (dif1 + dif2 + dif3+ dif4)/4\n",
        "print(tunability_rf)"
      ],
      "metadata": {
        "colab": {
          "base_uri": "https://localhost:8080/"
        },
        "id": "nTGpIOvFMdwQ",
        "outputId": "1352acc9-7b72-40a6-e84e-3b986e0c1c22"
      },
      "execution_count": 131,
      "outputs": [
        {
          "output_type": "stream",
          "name": "stdout",
          "text": [
            "-0.00012387387387388649\n"
          ]
        }
      ]
    },
    {
      "cell_type": "code",
      "source": [
        "print('dane 1')\n",
        "plt.boxplot([res_rf_1['mean_test_score'], res_rf_2['mean_test_score'], res_rf_3['mean_test_score'], res_rf_4['mean_test_score']],\n",
        "             labels=['Dane 1', 'Dane 2', 'Dane 3', 'Dane 4'])\n",
        "plt.show()\n"
      ],
      "metadata": {
        "colab": {
          "base_uri": "https://localhost:8080/",
          "height": 448
        },
        "id": "ExZ1v6PLb3Zq",
        "outputId": "41e724f7-e5b5-4562-c52f-28b2f8c1e02c"
      },
      "execution_count": 68,
      "outputs": [
        {
          "output_type": "stream",
          "name": "stdout",
          "text": [
            "dane 1\n"
          ]
        },
        {
          "output_type": "display_data",
          "data": {
            "text/plain": [
              "<Figure size 640x480 with 1 Axes>"
            ],
            "image/png": "[encoded data removed]"
          },
          "metadata": {}
        }
      ]
    },
    {
      "cell_type": "code",
      "source": [
        "plt.boxplot([score_mean_rf_1 - res_rf_1['mean_test_score'], score_mean_rf_2 - res_rf_2['mean_test_score'], score_mean_rf_3 - res_rf_3['mean_test_score'], score_mean_rf_4 - res_rf_4['mean_test_score']],\n",
        "             labels=['Dane 1', 'Dane 2', 'Dane 3', 'Dane 4'])\n",
        "plt.show()\n"
      ],
      "metadata": {
        "colab": {
          "base_uri": "https://localhost:8080/",
          "height": 448
        },
        "id": "ihMTFzOxO3ew",
        "outputId": "cddcf1dc-2b9f-4419-c5c5-6809e5d8f74e"
      },
      "execution_count": 69,
      "outputs": [
        {
          "output_type": "stream",
          "name": "stdout",
          "text": [
            "dane 1\n"
          ]
        },
        {
          "output_type": "display_data",
          "data": {
            "text/plain": [
              "<Figure size 640x480 with 1 Axes>"
            ],
            "image/png": "[encoded data removed]"
          },
          "metadata": {}
        }
      ]
    },
    {
      "cell_type": "markdown",
      "metadata": {
        "id": "QMV2QdMLPKyg"
      },
      "source": [
        "Stablizacja score w zależności od numeru iteracji"
      ]
    },
    {
      "cell_type": "code",
      "execution_count": null,
      "metadata": {
        "colab": {
          "base_uri": "https://localhost:8080/",
          "height": 452
        },
        "id": "Ix9evyV1POeW",
        "outputId": "ad65b9a3-8c51-442a-a946-c97fe57f5e14"
      },
      "outputs": [
        {
          "output_type": "display_data",
          "data": {
            "text/plain": [
              "<Figure size 640x480 with 1 Axes>"
            ],
            "image/png": "[encoded data removed]"
          },
          "metadata": {}
        }
      ],
      "source": [
        "ox = list(range(1,26))\n",
        "# Utwórz wykresy\n",
        "plt.plot(ox, np.maximum.accumulate(res_rf_1['mean_test_score']), label='dane 1')\n",
        "plt.plot(ox, np.maximum.accumulate(res_rf_2['mean_test_score']), label='dane 2')\n",
        "plt.plot(ox, np.maximum.accumulate(res_rf_3['mean_test_score']), label='dane 3')\n",
        "plt.plot(ox, np.maximum.accumulate(res_rf_4['mean_test_score']), label='dane 4')\n",
        "\n",
        "# Dodaj tytuł i etykiety osi\n",
        "plt.title('Random Forest')\n",
        "#plt.xlabel('n iter')\n",
        "plt.ylabel('mean score')\n",
        "\n",
        "# Dodaj legendę\n",
        "plt.legend()\n",
        "\n",
        "# Wyświetl wykres\n",
        "plt.show()"
      ]
    },
    {
      "cell_type": "markdown",
      "metadata": {
        "id": "pvNv7kkSLY_e"
      },
      "source": [
        "**Znalezienie najlepszych parametrów dla Gradient Boosting**\n"
      ]
    },
    {
      "cell_type": "code",
      "execution_count": 84,
      "metadata": {
        "colab": {
          "base_uri": "https://localhost:8080/"
        },
        "id": "ISxxCIQlLWQ8",
        "outputId": "14e557dd-c8d5-408a-890f-8163d4a1ef8b"
      },
      "outputs": [
        {
          "output_type": "stream",
          "name": "stdout",
          "text": [
            "{'model__subsample': 0.7, 'model__n_estimators': 500, 'model__min_samples_leaf': 1, 'model__max_depth': 50, 'model__loss': 'log_loss'}\n",
            "0.83\n",
            "[0.72    0.68625 0.73875 0.70375 0.68625 0.70875 0.685   0.65125 0.71\n",
            " 0.74125 0.71625 0.68625 0.72375 0.68625 0.71875 0.72    0.7325  0.72875\n",
            " 0.73    0.38625 0.68625 0.6875  0.68625 0.6925  0.68625]\n"
          ]
        }
      ],
      "source": [
        "rs_gb_prep = RandomizedSearchCV(model_pipeline2, grid_gb_prep, cv=5, scoring='accuracy', random_state = 2023, n_iter = 25)\n",
        "\n",
        "rs_gb_prep.fit(X1_train, y1_train)\n",
        "gb_params_1=rs_gb_prep.best_params_\n",
        "res_gb_1 = rs_gb_prep.cv_results_\n",
        "gb_params_1=rs_gb_prep.best_params_\n",
        "print(gb_params_1)\n",
        "print(rs_gb_prep.score(X1_test, y1_test))\n",
        "score_gb_1 = rs_gb_prep.score(X1_test, y1_test)\n",
        "print(res_gb_1['mean_test_score'])"
      ]
    },
    {
      "cell_type": "code",
      "execution_count": 85,
      "metadata": {
        "colab": {
          "base_uri": "https://localhost:8080/"
        },
        "id": "UPrxgVFKMAyG",
        "outputId": "66f68e34-380e-4e2e-c233-0457627e1826"
      },
      "outputs": [
        {
          "output_type": "stream",
          "name": "stdout",
          "text": [
            "{'model__subsample': 0.9, 'model__n_estimators': 1500, 'model__min_samples_leaf': 5, 'model__max_depth': 100, 'model__loss': 'exponential'}\n",
            "1.0\n",
            "[1.         0.50224719 1.         0.98868744 0.50449438 0.73416752\n",
            " 0.84458631 0.99772727 1.         1.         1.         0.5\n",
            " 1.         0.50224719 1.         1.         1.         1.\n",
            " 1.         0.50224719 0.50224719 0.72300817 0.49775281 1.\n",
            " 0.49775281]\n"
          ]
        }
      ],
      "source": [
        "rs_gb_prep.fit(X2_train, y2_train)\n",
        "gb_params_2=rs_gb_prep.best_params_\n",
        "res_gb_2 = rs_gb_prep.cv_results_\n",
        "gb_params_2=rs_gb_prep.best_params_\n",
        "print(gb_params_2)\n",
        "print(rs_gb_prep.score(X2_test, y2_test))\n",
        "score_gb_2 = rs_gb_prep.score(X2_test, y2_test)\n",
        "print(res_gb_2['mean_test_score'])"
      ]
    },
    {
      "cell_type": "code",
      "execution_count": 86,
      "metadata": {
        "colab": {
          "base_uri": "https://localhost:8080/"
        },
        "id": "oprP5zovMD4z",
        "outputId": "7e21a9d6-2fac-4239-c2c1-3fb1af025210"
      },
      "outputs": [
        {
          "output_type": "stream",
          "name": "stdout",
          "text": [
            "{'model__subsample': 0.5, 'model__n_estimators': 2500, 'model__min_samples_leaf': 15, 'model__max_depth': 15, 'model__loss': 'log_loss'}\n",
            "1.0\n",
            "[0.97916667 0.65       0.9625     0.85208333 0.65       0.58958333\n",
            " 0.6125     0.67291667 0.69375    0.96666667 0.99791667 0.65\n",
            " 0.89583333 0.53333333 0.98125    0.97916667 0.89166667 0.99583333\n",
            " 0.75208333 0.59166667 0.65       0.64166667 0.65       0.88541667\n",
            " 0.46666667]\n"
          ]
        }
      ],
      "source": [
        "rs_gb_prep.fit(X3_train, y3_train)\n",
        "gb_params_3=rs_gb_prep.best_params_\n",
        "res_gb_3 = rs_gb_prep.cv_results_\n",
        "gb_params_3=rs_gb_prep.best_params_\n",
        "print(gb_params_3)\n",
        "print(rs_gb_prep.score(X3_test, y3_test))\n",
        "score_gb_3 = rs_gb_prep.score(X3_test, y3_test)\n",
        "print(res_gb_3['mean_test_score'])"
      ]
    },
    {
      "cell_type": "code",
      "execution_count": 87,
      "metadata": {
        "colab": {
          "base_uri": "https://localhost:8080/"
        },
        "id": "e1WPOKCzMG3t",
        "outputId": "1d1b3b50-730e-4d53-934c-9bf4816803e7"
      },
      "outputs": [
        {
          "output_type": "stream",
          "name": "stdout",
          "text": [
            "{'model__subsample': 0.7, 'model__n_estimators': 1000, 'model__min_samples_leaf': 3, 'model__max_depth': 1500, 'model__loss': 'exponential'}\n",
            "0.9054054054054054\n",
            "[0.94139529 0.93686917 0.94476608 0.94362344 0.93686917 0.9120358\n",
            " 0.90528153 0.89512474 0.87484289 0.93686917 0.9301149  0.93686917\n",
            " 0.94251889 0.58869422 0.9391354  0.93012759 0.94137625 0.93572018\n",
            " 0.93574557 0.93686917 0.93686917 0.93686917 0.93686917 0.74288707\n",
            " 0.93686917]\n"
          ]
        }
      ],
      "source": [
        "rs_gb_prep.fit(X4_train, y4_train)\n",
        "gb_params_4=rs_gb_prep.best_params_\n",
        "res_gb_4 = rs_gb_prep.cv_results_\n",
        "gb_params_4=rs_gb_prep.best_params_\n",
        "print(gb_params_4)\n",
        "print(rs_gb_prep.score(X4_test, y4_test))\n",
        "score_gb_4 = rs_gb_prep.score(X4_test, y4_test)\n",
        "print(res_gb_4['mean_test_score'])"
      ]
    },
    {
      "cell_type": "markdown",
      "source": [
        "średnio najlepsza siatka gb"
      ],
      "metadata": {
        "id": "dSiBOcSzdIcL"
      }
    },
    {
      "cell_type": "code",
      "source": [
        "mean_gb = []\n",
        "for i in range (0,2):\n",
        "  x = (res_gb_1['mean_test_score'][i] + res_gb_2['mean_test_score'][i] + res_gb_3['mean_test_score'][i] + res_gb_4['mean_test_score'][i])/4\n",
        "  mean_gb.append(x)\n",
        "\n",
        "mean_best_gb = res_gb_1['params'][mean_gb.index(max(mean_gb))]"
      ],
      "metadata": {
        "id": "zMjrJcEndH0G"
      },
      "execution_count": 88,
      "outputs": []
    },
    {
      "cell_type": "code",
      "source": [
        "print(res_gb_1['params'])"
      ],
      "metadata": {
        "colab": {
          "base_uri": "https://localhost:8080/"
        },
        "id": "BkSlGw3Ydia-",
        "outputId": "2e153841-e26f-4771-c4ab-e456086665ce"
      },
      "execution_count": null,
      "outputs": [
        {
          "output_type": "stream",
          "name": "stdout",
          "text": [
            "[{'model__subsample': 0.9, 'model__n_estimators': 1500, 'model__min_samples_leaf': 5, 'model__max_depth': 100, 'model__loss': 'exponential'}, {'model__subsample': 0.005, 'model__n_estimators': 1000, 'model__min_samples_leaf': 1, 'model__max_depth': 500, 'model__loss': 'exponential'}, {'model__subsample': 0.7, 'model__n_estimators': 1000, 'model__min_samples_leaf': 3, 'model__max_depth': 1500, 'model__loss': 'exponential'}, {'model__subsample': 0.9, 'model__n_estimators': 10, 'model__min_samples_leaf': 5, 'model__max_depth': 1500, 'model__loss': 'log_loss'}, {'model__subsample': 0.005, 'model__n_estimators': 10, 'model__min_samples_leaf': 1, 'model__max_depth': 1000, 'model__loss': 'exponential'}, {'model__subsample': 0.1, 'model__n_estimators': 100, 'model__min_samples_leaf': 10, 'model__max_depth': 500, 'model__loss': 'exponential'}, {'model__subsample': 0.05, 'model__n_estimators': 500, 'model__min_samples_leaf': 5, 'model__max_depth': 1500, 'model__loss': 'exponential'}, {'model__subsample': 0.1, 'model__n_estimators': 100, 'model__min_samples_leaf': 1, 'model__max_depth': 100, 'model__loss': 'log_loss'}, {'model__subsample': 0.1, 'model__n_estimators': 1000, 'model__min_samples_leaf': 10, 'model__max_depth': 15, 'model__loss': 'exponential'}, {'model__subsample': 0.7, 'model__n_estimators': 500, 'model__min_samples_leaf': 1, 'model__max_depth': 50, 'model__loss': 'log_loss'}, {'model__subsample': 0.5, 'model__n_estimators': 2500, 'model__min_samples_leaf': 15, 'model__max_depth': 15, 'model__loss': 'log_loss'}, {'model__subsample': 1e-05, 'model__n_estimators': 1500, 'model__min_samples_leaf': 15, 'model__max_depth': 100, 'model__loss': 'exponential'}, {'model__subsample': 0.7, 'model__n_estimators': 150, 'model__min_samples_leaf': 10, 'model__max_depth': 1500, 'model__loss': 'log_loss'}, {'model__subsample': 0.005, 'model__n_estimators': 2500, 'model__min_samples_leaf': 5, 'model__max_depth': 500, 'model__loss': 'log_loss'}, {'model__subsample': 0.9, 'model__n_estimators': 2500, 'model__min_samples_leaf': 10, 'model__max_depth': 2000, 'model__loss': 'log_loss'}, {'model__subsample': 0.5, 'model__n_estimators': 1000, 'model__min_samples_leaf': 10, 'model__max_depth': 2500, 'model__loss': 'exponential'}, {'model__subsample': 0.5, 'model__n_estimators': 2000, 'model__min_samples_leaf': 1, 'model__max_depth': 150, 'model__loss': 'log_loss'}, {'model__subsample': 0.9, 'model__n_estimators': 500, 'model__min_samples_leaf': 1, 'model__max_depth': 15, 'model__loss': 'log_loss'}, {'model__subsample': 0.5, 'model__n_estimators': 100, 'model__min_samples_leaf': 15, 'model__max_depth': 100, 'model__loss': 'exponential'}, {'model__subsample': 1e-05, 'model__n_estimators': 10, 'model__min_samples_leaf': 10, 'model__max_depth': 15, 'model__loss': 'log_loss'}, {'model__subsample': 0.01, 'model__n_estimators': 500, 'model__min_samples_leaf': 5, 'model__max_depth': 150, 'model__loss': 'exponential'}, {'model__subsample': 0.05, 'model__n_estimators': 10, 'model__min_samples_leaf': 5, 'model__max_depth': 500, 'model__loss': 'exponential'}, {'model__subsample': 0.01, 'model__n_estimators': 150, 'model__min_samples_leaf': 15, 'model__max_depth': 2000, 'model__loss': 'exponential'}, {'model__subsample': 0.1, 'model__n_estimators': 1000, 'model__min_samples_leaf': 5, 'model__max_depth': 100, 'model__loss': 'log_loss'}, {'model__subsample': 0.005, 'model__n_estimators': 150, 'model__min_samples_leaf': 3, 'model__max_depth': 1000, 'model__loss': 'log_loss'}]\n"
          ]
        }
      ]
    },
    {
      "cell_type": "markdown",
      "metadata": {
        "id": "LSUjEE6JNPzh"
      },
      "source": [
        "Dopasowanie średnio najlepszych i wyznaczenie różnic"
      ]
    },
    {
      "cell_type": "code",
      "execution_count": 89,
      "metadata": {
        "id": "ZD1YbdkDNVRt",
        "colab": {
          "base_uri": "https://localhost:8080/"
        },
        "outputId": "88ae9797-c425-4069-edd6-6aac22ba1db0"
      },
      "outputs": [
        {
          "output_type": "stream",
          "name": "stdout",
          "text": [
            "0.81\n",
            "1.0\n",
            "1.0\n",
            "0.9099099099099099\n"
          ]
        }
      ],
      "source": [
        "X_train = X1_train\n",
        "y_train = y1_train\n",
        "X_test = X1_test\n",
        "y_test  = y1_test\n",
        "\n",
        "score_mean_gb_1 = gb_to_opt(mean_best_gb)\n",
        "print(score_mean_gb_1)\n",
        "\n",
        "X_train = X2_train\n",
        "y_train = y2_train\n",
        "X_test = X2_test\n",
        "y_test  = y2_test\n",
        "\n",
        "score_mean_gb_2 = gb_to_opt(mean_best_gb)\n",
        "print(score_mean_gb_2)\n",
        "\n",
        "X_train = X3_train\n",
        "y_train = y3_train\n",
        "X_test = X3_test\n",
        "y_test  = y3_test\n",
        "\n",
        "score_mean_gb_3 = gb_to_opt(mean_best_gb)\n",
        "print(score_mean_gb_3)\n",
        "\n",
        "X_train = X4_train\n",
        "y_train = y4_train\n",
        "X_test = X4_test\n",
        "y_test  = y4_test\n",
        "\n",
        "score_mean_gb_4 = gb_to_opt(mean_best_gb)\n",
        "print(score_mean_gb_4)\n",
        "\n",
        "diff_gb = [score_mean_gb_1 - score_gb_1,score_mean_gb_2 - score_gb_2,score_mean_gb_3 - score_gb_3,score_mean_gb_4 - score_gb_4]"
      ]
    },
    {
      "cell_type": "code",
      "source": [
        "dif1 = score_mean_gb_1 - score_gb_1\n",
        "dif2 = score_mean_gb_2 - score_gb_2\n",
        "dif3 = score_mean_gb_3 - score_gb_3\n",
        "dif4 = score_mean_gb_4 - score_gb_4"
      ],
      "metadata": {
        "id": "5BZ2uH8ydhgX"
      },
      "execution_count": 128,
      "outputs": []
    },
    {
      "cell_type": "code",
      "source": [
        "tunability_gb = (dif1 + dif2 + dif3+ dif4)/4\n",
        "print(tunability_gb)"
      ],
      "metadata": {
        "colab": {
          "base_uri": "https://localhost:8080/"
        },
        "id": "SUkezEpDQ8Qe",
        "outputId": "99881363-c390-4c34-edc3-e55150fd3f31"
      },
      "execution_count": 129,
      "outputs": [
        {
          "output_type": "stream",
          "name": "stdout",
          "text": [
            "-0.0038738738738738343\n"
          ]
        }
      ]
    },
    {
      "cell_type": "code",
      "source": [
        "print('dane 1')\n",
        "plt.boxplot([res_gb_1['mean_test_score'], res_gb_2['mean_test_score'], res_gb_3['mean_test_score'], res_gb_4['mean_test_score']],\n",
        "             labels=['Dane 1', 'Dane 2', 'Dane 3', 'Dane 4'])\n",
        "plt.show()"
      ],
      "metadata": {
        "colab": {
          "base_uri": "https://localhost:8080/",
          "height": 448
        },
        "id": "Ra1YMX6rRM0p",
        "outputId": "f9c93ecc-8986-4340-a511-f89a3d8ecb53"
      },
      "execution_count": 93,
      "outputs": [
        {
          "output_type": "stream",
          "name": "stdout",
          "text": [
            "dane 1\n"
          ]
        },
        {
          "output_type": "display_data",
          "data": {
            "text/plain": [
              "<Figure size 640x480 with 1 Axes>"
            ],
            "image/png": "[encoded data removed]"
          },
          "metadata": {}
        }
      ]
    },
    {
      "cell_type": "code",
      "source": [
        "plt.boxplot([score_mean_gb_1 - res_gb_1['mean_test_score'], score_mean_gb_2 - res_gb_2['mean_test_score'], score_mean_gb_3 - res_gb_3['mean_test_score'], score_mean_gb_4 - res_gb_4['mean_test_score']],\n",
        "             labels=['Dane 1', 'Dane 2', 'Dane 3', 'Dane 4'])\n",
        "plt.show()"
      ],
      "metadata": {
        "colab": {
          "base_uri": "https://localhost:8080/",
          "height": 430
        },
        "id": "Pvuelbi5dqjw",
        "outputId": "30b7f1a4-2a46-4d70-ab11-ea5bc7f784d0"
      },
      "execution_count": 94,
      "outputs": [
        {
          "output_type": "display_data",
          "data": {
            "text/plain": [
              "<Figure size 640x480 with 1 Axes>"
            ],
            "image/png": "[encoded data removed]"
          },
          "metadata": {}
        }
      ]
    },
    {
      "cell_type": "markdown",
      "metadata": {
        "id": "FarcM1-xRPn1"
      },
      "source": [
        "Stabilizacja score w zależności od iteracji"
      ]
    },
    {
      "cell_type": "code",
      "execution_count": null,
      "metadata": {
        "colab": {
          "base_uri": "https://localhost:8080/",
          "height": 452
        },
        "id": "lDeQnlDIRS37",
        "outputId": "8e51afd3-640b-4ff2-d2ee-452f95aad591"
      },
      "outputs": [
        {
          "output_type": "display_data",
          "data": {
            "text/plain": [
              "<Figure size 640x480 with 1 Axes>"
            ],
            "image/png": "[encoded data removed]"
          },
          "metadata": {}
        }
      ],
      "source": [
        "ox = list(range(1,26))\n",
        "# Utwórz wykresy\n",
        "plt.plot(ox, np.maximum.accumulate(res_gb_1['mean_test_score']), label='dane 1')\n",
        "plt.plot(ox, np.maximum.accumulate(res_gb_2['mean_test_score']), label='dane 2')\n",
        "plt.plot(ox, np.maximum.accumulate(res_gb_3['mean_test_score']), label='dane 3')\n",
        "plt.plot(ox, np.maximum.accumulate(res_gb_4['mean_test_score']), label='dane 4')\n",
        "\n",
        "# Dodaj tytuł i etykiety osi\n",
        "plt.title('Gradient Boosting')\n",
        "#plt.xlabel('n iter')\n",
        "plt.ylabel('mean score')\n",
        "\n",
        "# Dodaj legendę\n",
        "plt.legend()\n",
        "\n",
        "# Wyświetl wykres\n",
        "plt.show()"
      ]
    },
    {
      "cell_type": "markdown",
      "metadata": {
        "id": "TkLBmoRPMUSG"
      },
      "source": [
        "**Znalezienie najlepszych parametrów dla SVM**"
      ]
    },
    {
      "cell_type": "code",
      "execution_count": 96,
      "metadata": {
        "colab": {
          "base_uri": "https://localhost:8080/"
        },
        "id": "NDYHiDHeMYyi",
        "outputId": "8a4498be-d347-47c1-f630-dd102be68036"
      },
      "outputs": [
        {
          "output_type": "stream",
          "name": "stdout",
          "text": [
            "{'model__tol': 0.0001, 'model__kernel': 'rbf', 'model__gamma': 0.01, 'model__C': 20}\n",
            "0.82\n",
            "[0.68625 0.70875 0.73375 0.68625 0.70875 0.68625 0.68625 0.60625 0.68625\n",
            " 0.70875 0.68625 0.60625 0.68625 0.70875 0.68625 0.5725  0.68375 0.70875\n",
            " 0.68875 0.70875 0.68625 0.73125 0.68625 0.70875 0.68625]\n"
          ]
        }
      ],
      "source": [
        "rs_svm_prep = RandomizedSearchCV(model_pipeline3, grid_svm_prep, cv=5, scoring='accuracy', random_state = 2023, n_iter = 25)\n",
        "#rs_svm = RandomizedSearchCV(svm, grid_svm, cv=5, scoring='accuracy', random_state = 2023)\n",
        "\n",
        "rs_svm_prep.fit(X1_train, y1_train)\n",
        "svm_params_1=rs_svm_prep.best_params_\n",
        "res_svm_1 = rs_svm_prep.cv_results_\n",
        "svm_params_1=rs_svm_prep.best_params_\n",
        "print(svm_params_1)\n",
        "print(rs_svm_prep.score(X1_test, y1_test))\n",
        "score_svm_1 = rs_svm_prep.score(X1_test, y1_test)\n",
        "print(res_svm_1['mean_test_score'])"
      ]
    },
    {
      "cell_type": "code",
      "execution_count": 97,
      "metadata": {
        "colab": {
          "base_uri": "https://localhost:8080/"
        },
        "id": "h78Jbl6vgcow",
        "outputId": "1ae111a3-7c60-4e7e-a686-ac57637fbba3"
      },
      "outputs": [
        {
          "output_type": "stream",
          "name": "stdout",
          "text": [
            "{'model__tol': 0.001, 'model__kernel': 'poly', 'model__gamma': 5, 'model__C': 0.005}\n",
            "1.0\n",
            "[0.6328907  1.         0.7409857  0.6328907  1.         0.6328907\n",
            " 0.6328907  0.51562819 0.50224719 1.         0.50224719 0.51562819\n",
            " 0.6328907  1.         0.50224719 0.46187436 1.         1.\n",
            " 0.50224719 1.         0.50224719 1.         0.99775281 1.\n",
            " 0.50224719]\n"
          ]
        }
      ],
      "source": [
        "rs_svm_prep.fit(X2_train, y2_train)\n",
        "svm_params_2=rs_svm_prep.best_params_\n",
        "res_svm_2 = rs_svm_prep.cv_results_\n",
        "svm_params_2=rs_svm_prep.best_params_\n",
        "print(svm_params_2)\n",
        "print(rs_svm_prep.score(X2_test, y2_test))\n",
        "score_svm_2 = rs_svm_prep.score(X2_test, y2_test)\n",
        "print(res_svm_2['mean_test_score'])"
      ]
    },
    {
      "cell_type": "code",
      "execution_count": 98,
      "metadata": {
        "colab": {
          "base_uri": "https://localhost:8080/"
        },
        "id": "OvXxvh-5PJS5",
        "outputId": "77ce54db-7243-43c7-d794-18ecf5155f67"
      },
      "outputs": [
        {
          "output_type": "stream",
          "name": "stdout",
          "text": [
            "{'model__tol': 0.001, 'model__kernel': 'poly', 'model__gamma': 5, 'model__C': 0.005}\n",
            "1.0\n",
            "[0.79166667 1.         0.65       0.79166667 1.         0.79166667\n",
            " 0.79166667 0.4        0.65       1.         0.65       0.40416667\n",
            " 0.79166667 0.95208333 0.65       0.40833333 0.76666667 1.\n",
            " 0.65       1.         0.65       1.         0.6875     1.\n",
            " 0.65      ]\n"
          ]
        }
      ],
      "source": [
        "rs_svm_prep.fit(X3_train, y3_train)\n",
        "svm_params_3=rs_svm_prep.best_params_\n",
        "res_svm_3 = rs_svm_prep.cv_results_\n",
        "svm_params_3=rs_svm_prep.best_params_\n",
        "print(svm_params_3)\n",
        "print(rs_svm_prep.score(X3_test, y3_test))\n",
        "score_svm_3 = rs_svm_prep.score(X3_test, y3_test)\n",
        "print(res_svm_3['mean_test_score'])"
      ]
    },
    {
      "cell_type": "code",
      "source": [
        "rs_svm_prep.fit(X4_train, y4_train)\n",
        "svm_params_4=rs_svm_prep.best_params_\n",
        "res_svm_4 = rs_svm_prep.cv_results_\n",
        "svm_params_4=rs_svm_prep.best_params_\n",
        "print(svm_params_4)\n",
        "print(rs_svm_prep.score(X4_test, y4_test))\n",
        "score_svm_4 = rs_svm_prep.score(X4_test, y4_test)\n",
        "print(res_svm_4['mean_test_score'])"
      ],
      "metadata": {
        "colab": {
          "base_uri": "https://localhost:8080/"
        },
        "id": "v_eH2h4Li5Aq",
        "outputId": "9f1ee692-e243-4fcb-fe32-a693f554d368"
      },
      "execution_count": 99,
      "outputs": [
        {
          "output_type": "stream",
          "name": "stdout",
          "text": [
            "{'model__tol': 1e-06, 'model__kernel': 'rbf', 'model__gamma': 20, 'model__C': 20}\n",
            "0.9054054054054054\n",
            "[0.94588967 0.91541929 0.93460928 0.94927315 0.89179204 0.9492795\n",
            " 0.94927315 0.89407097 0.93686917 0.89179204 0.93686917 0.89407097\n",
            " 0.94927315 0.91771091 0.93686917 0.89405193 0.92897226 0.89179204\n",
            " 0.93798007 0.91432743 0.93686917 0.93123215 0.93575827 0.91541929\n",
            " 0.93573922]\n"
          ]
        }
      ]
    },
    {
      "cell_type": "markdown",
      "source": [
        "średnio najlepsza siatka SVM"
      ],
      "metadata": {
        "id": "kKfk83wTifm_"
      }
    },
    {
      "cell_type": "code",
      "source": [
        "mean_svm = []\n",
        "for i in range (0,24):\n",
        "  x = (res_svm_1['mean_test_score'][i] + res_svm_2['mean_test_score'][i] + res_svm_3['mean_test_score'][i] + res_svm_4['mean_test_score'][i])/4\n",
        "  mean_svm.append(x)\n",
        "\n",
        "mean_best_svm = res_svm_1['params'][mean_svm.index(max(mean_svm))]"
      ],
      "metadata": {
        "id": "ZKXOwHApiih8"
      },
      "execution_count": 100,
      "outputs": []
    },
    {
      "cell_type": "markdown",
      "metadata": {
        "id": "UMmsxXFYONwE"
      },
      "source": [
        "Dopasowanie średnio najlepszych i dopasowanie"
      ]
    },
    {
      "cell_type": "code",
      "execution_count": 101,
      "metadata": {
        "colab": {
          "base_uri": "https://localhost:8080/"
        },
        "id": "0Sr8Q0LCORaj",
        "outputId": "a0d23aeb-d86a-41b8-8c10-fb69243c88ec"
      },
      "outputs": [
        {
          "output_type": "stream",
          "name": "stdout",
          "text": [
            "0.815\n",
            "1.0\n",
            "1.0\n",
            "0.8828828828828829\n"
          ]
        }
      ],
      "source": [
        "X_train = X1_train\n",
        "y_train = y1_train\n",
        "X_test = X1_test\n",
        "y_test  = y1_test\n",
        "\n",
        "score_mean_svm_1 = svm_to_opt(mean_best_svm)\n",
        "print(score_mean_svm_1)\n",
        "\n",
        "X_train = X2_train\n",
        "y_train = y2_train\n",
        "X_test = X2_test\n",
        "y_test  = y2_test\n",
        "\n",
        "score_mean_svm_2 = svm_to_opt(mean_best_svm)\n",
        "print(score_mean_svm_2)\n",
        "\n",
        "X_train = X3_train\n",
        "y_train = y3_train\n",
        "X_test = X3_test\n",
        "y_test  = y3_test\n",
        "\n",
        "score_mean_svm_3 = svm_to_opt(mean_best_svm)\n",
        "print(score_mean_svm_3)\n",
        "\n",
        "X_train = X4_train\n",
        "y_train = y4_train\n",
        "X_test = X4_test\n",
        "y_test  = y4_test\n",
        "\n",
        "score_mean_svm_4 = svm_to_opt(mean_best_svm)\n",
        "print(score_mean_svm_4)\n",
        "\n",
        "diff_svm = [score_mean_svm_1 - score_svm_1,score_mean_svm_2 - score_svm_2,score_mean_svm_3 - score_svm_3,score_mean_svm_4 - score_svm_4]"
      ]
    },
    {
      "cell_type": "code",
      "execution_count": 126,
      "metadata": {
        "id": "6QX5S7aQOq6D"
      },
      "outputs": [],
      "source": [
        "dif1 = score_mean_svm_1 - score_svm_1\n",
        "dif2 = score_mean_svm_2 - score_svm_2\n",
        "dif3 = score_mean_svm_3 - score_svm_3\n",
        "dif4 = score_mean_svm_4 - score_svm_4\n"
      ]
    },
    {
      "cell_type": "code",
      "source": [
        "tunability_svm = (dif1 + dif2 + dif3+ dif4)/4\n",
        "print(tunability_svm)"
      ],
      "metadata": {
        "colab": {
          "base_uri": "https://localhost:8080/"
        },
        "id": "UV_07h8vVb65",
        "outputId": "855be6c9-739d-4b0b-c355-b4b77ea2f3c5"
      },
      "execution_count": 127,
      "outputs": [
        {
          "output_type": "stream",
          "name": "stdout",
          "text": [
            "-0.00688063063063063\n"
          ]
        }
      ]
    },
    {
      "cell_type": "code",
      "source": [
        "plt.boxplot([res_svm_1['mean_test_score'], res_svm_2['mean_test_score'], res_svm_3['mean_test_score'], res_svm_4['mean_test_score']],\n",
        "             labels=['Dane 1', 'Dane 2', 'Dane 3', 'Dane 4'])\n",
        "plt.show()"
      ],
      "metadata": {
        "colab": {
          "base_uri": "https://localhost:8080/",
          "height": 430
        },
        "id": "0DTxcF3RVd87",
        "outputId": "1d49d505-c397-4011-c767-8bd12dfdeac0"
      },
      "execution_count": 104,
      "outputs": [
        {
          "output_type": "display_data",
          "data": {
            "text/plain": [
              "<Figure size 640x480 with 1 Axes>"
            ],
            "image/png": "[encoded data removed]"
          },
          "metadata": {}
        }
      ]
    },
    {
      "cell_type": "code",
      "source": [
        "plt.boxplot([score_mean_svm_1 - res_svm_1['mean_test_score'], score_mean_svm_2 - res_svm_2['mean_test_score'], score_mean_svm_3 - res_svm_3['mean_test_score'], score_mean_svm_4 - res_svm_4['mean_test_score']],\n",
        "             labels=['Dane 1', 'Dane 2', 'Dane 3', 'Dane 4'])\n",
        "plt.show()"
      ],
      "metadata": {
        "colab": {
          "base_uri": "https://localhost:8080/",
          "height": 430
        },
        "id": "BIe4UEd_VmQE",
        "outputId": "925de7b8-8d0a-4e17-9e11-feae601ed52b"
      },
      "execution_count": 105,
      "outputs": [
        {
          "output_type": "display_data",
          "data": {
            "text/plain": [
              "<Figure size 640x480 with 1 Axes>"
            ],
            "image/png": "[encoded data removed]"
          },
          "metadata": {}
        }
      ]
    },
    {
      "cell_type": "code",
      "source": [
        "tune_rf = []\n",
        "tune_rf.append(score_mean_rf_1 - res_rf_1['mean_test_score'])\n",
        "tune_rf.append(score_mean_rf_2 - res_rf_2['mean_test_score'])\n",
        "tune_rf.append(score_mean_rf_3 - res_rf_3['mean_test_score'])\n",
        "tune_rf.append(score_mean_rf_4 - res_rf_4['mean_test_score'])\n",
        "\n",
        "tune_gb = []\n",
        "tune_gb.append(score_mean_gb_1 - res_gb_1['mean_test_score'])\n",
        "tune_gb.append(score_mean_gb_2 - res_gb_2['mean_test_score'])\n",
        "tune_gb.append(score_mean_gb_3 - res_gb_3['mean_test_score'])\n",
        "tune_gb.append(score_mean_gb_4 - res_gb_4['mean_test_score'])\n",
        "\n",
        "tune_svm = []\n",
        "tune_svm.append(score_mean_svm_1 - res_svm_1['mean_test_score'])\n",
        "tune_svm.append(score_mean_svm_2 - res_svm_2['mean_test_score'])\n",
        "tune_svm.append(score_mean_svm_3 - res_svm_3['mean_test_score'])\n",
        "tune_svm.append(score_mean_svm_4 - res_svm_4['mean_test_score'])\n",
        "\n",
        "plt.boxplot([np.array(tune_rf).flatten(), np.array(tune_gb).flatten(), np.array(tune_svm).flatten()], labels = ['RandomForest', 'GradientBoosting', 'SVM'])\n",
        "plt.show()"
      ],
      "metadata": {
        "colab": {
          "base_uri": "https://localhost:8080/",
          "height": 430
        },
        "id": "oLB2_vUMPG2y",
        "outputId": "bfc6a92c-306f-425c-c266-84ca281aec8e"
      },
      "execution_count": 141,
      "outputs": [
        {
          "output_type": "display_data",
          "data": {
            "text/plain": [
              "<Figure size 640x480 with 1 Axes>"
            ],
            "image/png": "[encoded data removed]"
          },
          "metadata": {}
        }
      ]
    },
    {
      "cell_type": "markdown",
      "metadata": {
        "id": "XKz0gblrR4Cl"
      },
      "source": [
        "Stabilizacja score w zależności od iteracji"
      ]
    },
    {
      "cell_type": "code",
      "execution_count": null,
      "metadata": {
        "id": "rxW1BaToRu9D",
        "colab": {
          "base_uri": "https://localhost:8080/",
          "height": 472
        },
        "outputId": "2b5d3c3d-a0db-4873-f601-c0e47b1cae7b"
      },
      "outputs": [
        {
          "output_type": "display_data",
          "data": {
            "text/plain": [
              "<Figure size 640x480 with 1 Axes>"
            ],
            "image/png": "[encoded data removed]"
          },
          "metadata": {}
        }
      ],
      "source": [
        "ox = list(range(1,26))\n",
        "# Utwórz wykresy\n",
        "plt.plot(ox, np.maximum.accumulate(res_svm_1['mean_test_score']), label='dane 1')\n",
        "plt.plot(ox, np.maximum.accumulate(res_svm_2['mean_test_score']), label='dane 2')\n",
        "plt.plot(ox, np.maximum.accumulate(res_svm_3['mean_test_score']), label='dane 3')\n",
        "plt.plot(ox, np.maximum.accumulate(res_svm_4['mean_test_score']), label='dane 4')\n",
        "\n",
        "# Dodaj tytuł i etykiety osi\n",
        "plt.title('SVM')\n",
        "plt.xlabel('n iter')\n",
        "plt.ylabel('mean score')\n",
        "\n",
        "# Dodaj legendę\n",
        "plt.legend()\n",
        "\n",
        "# Wyświetl wykres\n",
        "plt.show()"
      ]
    },
    {
      "cell_type": "markdown",
      "metadata": {
        "id": "yhpGQTUoOrbT"
      },
      "source": [
        "## **Bayesian Optimization**"
      ]
    },
    {
      "cell_type": "code",
      "execution_count": 107,
      "metadata": {
        "id": "bpPe2rs-Ujpt"
      },
      "outputs": [],
      "source": [
        "X1_train = col_trans.fit_transform(X1_train)\n",
        "X1_test = col_trans.transform(X1_test)\n",
        "\n",
        "X2_train = col_trans.fit_transform(X2_train)\n",
        "X2_test = col_trans.transform(X2_test)\n",
        "\n",
        "X3_train = col_trans.fit_transform(X3_train)\n",
        "X3_test = col_trans.transform(X3_test)\n",
        "\n",
        "X4_train = col_trans.fit_transform(X4_train)\n",
        "X4_test = col_trans.transform(X4_test)\n"
      ]
    },
    {
      "cell_type": "markdown",
      "metadata": {
        "id": "k7OPOu9Sqqf5"
      },
      "source": [
        "Siatki do optymalizacji dla danych/modeli"
      ]
    },
    {
      "cell_type": "code",
      "execution_count": 114,
      "metadata": {
        "id": "LCIFYhCmqYcT"
      },
      "outputs": [],
      "source": [
        "grid_forest_prep1 = {\n",
        "    \"model__n_estimators\": (20, 2000),  # Przedział od 20 do 2000\n",
        "    \"model__min_samples_split\": (1e-10, 0.1),  # Przedział od 0.0 do 0.1\n",
        "    \"model__min_impurity_decrease\": (0.0, 0.01),  # Przedział od 0.0 do 0.01\n",
        "    \"model__max_depth\": (10, 1000),  # Przedział od 10 do 1000\n",
        "    \"model__warm_start\": [True, False],\n",
        "    \"model__min_samples_leaf\": (2, 20)  # Przedział od 2 do 20\n",
        "}\n",
        "\n",
        "grid_gb_prep1 = {\n",
        "    \"model__n_estimators\": (5, 2500),\n",
        "    \"model__subsample\": (0.01, 0.95),\n",
        "    \"model__min_impurity_decrease\": (0.0, 0.01),\n",
        "    \"model__max_depth\": (15, 2500),\n",
        "    \"model__loss\": ['log_loss', 'exponential'],\n",
        "    \"model__min_samples_leaf\": (1,20)\n",
        "}\n",
        "\n",
        "grid_svm_prep1 = {\n",
        "    \"model__C\": (0.01, 1000),\n",
        "    \"model__kernel\": ['poly', 'rbf', 'sigmoid'],\n",
        "    \"model__gamma\": (0.0, 100),\n",
        "    \"model__tol\": (1e-6, 0.01)\n",
        "}\n"
      ]
    },
    {
      "cell_type": "markdown",
      "metadata": {
        "id": "UzLgsEbAWNCj"
      },
      "source": [
        "Funkcja - score"
      ]
    },
    {
      "cell_type": "code",
      "execution_count": 109,
      "metadata": {
        "id": "LpovZnT1WQJd"
      },
      "outputs": [],
      "source": [
        "X_train = X1_train\n",
        "y_train = y1_train\n",
        "X_test = X1_test\n",
        "y_test  = y1_test\n",
        "\n",
        "\n",
        "def rf_to_opt(params: Configuration,seed: int = 0):\n",
        "    model_pipeline = Pipeline([('preprocessing', col_trans),\n",
        "                              ('model', RandomForestClassifier(n_estimators=np.int64(params['model__n_estimators']),\n",
        "                                                               min_samples_split=np.float64(params[\"model__min_samples_split\"]),\n",
        "                                                               #min_impurity_decrease = np.float64(params['model__min_impurity_decrease']),\n",
        "                                                               warm_start = bool(params[\"model__warm_start\"]),\n",
        "                                                               max_depth = np.int64(params['model__max_depth']),\n",
        "                                                               min_samples_leaf=np.int64(params['model__min_samples_leaf']), random_state=seed))])\n",
        "\n",
        "\n",
        "    model_pipeline.fit(X_train, y_train)\n",
        "    return -model_pipeline.score(X_test, y_test)\n",
        "\n",
        "\n",
        "\n",
        "def gb_to_opt(params: Configuration,seed: int = 0):\n",
        "    model_pipeline = Pipeline([('preprocessing', col_trans),\n",
        "                               ('model', GradientBoostingClassifier(n_estimators=np.int64(params['model__n_estimators']),\n",
        "                                                                subsample=np.float64(params['model__subsample']),\n",
        "                                                                #min_impurity_decrease = np.float64(params['model__min_impurity_decrease']),\n",
        "                                                                loss = str(params['model__loss']),\n",
        "                                                                max_depth = np.int64(params['model__max_depth']),\n",
        "                                                                min_samples_leaf=np.int64(params['model__min_samples_leaf']), random_state=seed))])\n",
        "\n",
        "\n",
        "    model_pipeline.fit(X_train, y_train)\n",
        "    return -model_pipeline.score(X_test, y_test)\n",
        "\n",
        "\n",
        "def svm_to_opt(params: Configuration,seed: int = 0):\n",
        "    model_pipeline = Pipeline([('preprocessing', col_trans),\n",
        "                               ('model', SVC (C=np.float64(params['model__C']),\n",
        "                                              kernel=str(params['model__kernel']),\n",
        "                                              gamma = np.float128(params['model__gamma']),\n",
        "                                              tol = np.float128(params['model__tol']),\n",
        "                                              #loss = np.str(params['model__loss']),\n",
        "                                              random_state=seed))])\n",
        "\n",
        "\n",
        "    model_pipeline.fit(X_train, y_train)\n",
        "    return -model_pipeline.score(X_test, y_test)\n"
      ]
    },
    {
      "cell_type": "code",
      "execution_count": 112,
      "metadata": {
        "id": "1mkwXU-OJRL6"
      },
      "outputs": [],
      "source": [
        "val = []\n",
        "class CustomCallback(Callback):\n",
        "    def __init__(self) -> None:\n",
        "        self.trials_counter = 0\n",
        "\n",
        "    def on_tell_end(self, smbo: smac.main.smbo.SMBO, info: TrialInfo, value: TrialValue) -> bool | None:\n",
        "        self.trials_counter += 1\n",
        "        incumbent = smbo.intensifier.get_incumbent()\n",
        "        assert incumbent is not None\n",
        "        #print(f\"najlepsze par: {incumbent.get_dictionary()}\")\n",
        "        x = -smbo.runhistory.get_cost(incumbent)\n",
        "        val.append(x)\n",
        "\n",
        "        return None"
      ]
    },
    {
      "cell_type": "markdown",
      "metadata": {
        "id": "-_rGNSR_v7B0"
      },
      "source": [
        "Dopasowanie Forest"
      ]
    },
    {
      "cell_type": "code",
      "execution_count": 115,
      "metadata": {
        "colab": {
          "base_uri": "https://localhost:8080/"
        },
        "id": "NQokYD9W0nj8",
        "outputId": "3c114979-8a9d-4ec1-84f1-02a81a56266f"
      },
      "outputs": [
        {
          "output_type": "stream",
          "name": "stdout",
          "text": [
            "[INFO][abstract_initial_design.py:95] Reducing the number of initial configurations from 60 to 6 (max_ratio == 0.25).\n",
            "[INFO][abstract_initial_design.py:147] Using 6 initial design configurations and 0 additional configurations.\n",
            "[INFO][abstract_intensifier.py:305] Using only one seed for deterministic scenario.\n",
            "[INFO][abstract_intensifier.py:515] Added config c1a0c1 as new incumbent because there are no incumbents yet.\n",
            "[INFO][abstract_intensifier.py:590] Added config bb7d9d and rejected config c1a0c1 as incumbent because it is not better than the incumbents on 1 instances:\n",
            "[INFO][abstract_intensifier.py:590] Added config 19e2f0 and rejected config bb7d9d as incumbent because it is not better than the incumbents on 1 instances:\n",
            "[INFO][abstract_intensifier.py:590] Added config 6bf9e9 and rejected config 19e2f0 as incumbent because it is not better than the incumbents on 1 instances:\n",
            "[INFO][smbo.py:327] Configuration budget is exhausted:\n",
            "[INFO][smbo.py:328] --- Remaining wallclock time: inf\n",
            "[INFO][smbo.py:329] --- Remaining cpu time: inf\n",
            "[INFO][smbo.py:330] --- Remaining trials: 0\n",
            "najlepsze par dla rf dane 1: {'model__max_depth': 71, 'model__min_impurity_decrease': 0.005926094179162491, 'model__min_samples_leaf': 3, 'model__min_samples_split': 0.010060788571858652, 'model__n_estimators': 1866, 'model__warm_start': True}\n"
          ]
        },
        {
          "output_type": "stream",
          "name": "stderr",
          "text": [
            "<ipython-input-115-26f54c634612>:11: DeprecationWarning: `Configuration` act's like a dictionary. Please use `dict(config)` instead of `get_dictionary` if you explicitly need a `dict`\n",
            "  print(f\"najlepsze par dla rf dane 1: {rf_bayes_opt_1.get_dictionary()}\")\n"
          ]
        },
        {
          "output_type": "stream",
          "name": "stdout",
          "text": [
            "-0.825\n",
            "[INFO][abstract_initial_design.py:95] Reducing the number of initial configurations from 60 to 6 (max_ratio == 0.25).\n",
            "[INFO][abstract_initial_design.py:147] Using 6 initial design configurations and 0 additional configurations.\n",
            "[INFO][abstract_intensifier.py:305] Using only one seed for deterministic scenario.\n",
            "[INFO][abstract_intensifier.py:515] Added config c1a0c1 as new incumbent because there are no incumbents yet.\n",
            "[INFO][abstract_intensifier.py:590] Added config bb7d9d and rejected config c1a0c1 as incumbent because it is not better than the incumbents on 1 instances:\n",
            "[INFO][abstract_intensifier.py:590] Added config 13a272 and rejected config bb7d9d as incumbent because it is not better than the incumbents on 1 instances:\n",
            "[INFO][abstract_intensifier.py:590] Added config 0c3886 and rejected config 13a272 as incumbent because it is not better than the incumbents on 1 instances:\n",
            "[INFO][smbo.py:327] Configuration budget is exhausted:\n",
            "[INFO][smbo.py:328] --- Remaining wallclock time: inf\n",
            "[INFO][smbo.py:329] --- Remaining cpu time: inf\n",
            "[INFO][smbo.py:330] --- Remaining trials: 0\n",
            "najlepsze par dla rf dane 2: {'model__max_depth': 718, 'model__min_impurity_decrease': 0.0021657384703235635, 'model__min_samples_leaf': 3, 'model__min_samples_split': 0.0008088722947578943, 'model__n_estimators': 742, 'model__warm_start': True}\n"
          ]
        },
        {
          "output_type": "stream",
          "name": "stderr",
          "text": [
            "<ipython-input-115-26f54c634612>:30: DeprecationWarning: `Configuration` act's like a dictionary. Please use `dict(config)` instead of `get_dictionary` if you explicitly need a `dict`\n",
            "  print(f\"najlepsze par dla rf dane 2: {rf_bayes_opt_2.get_dictionary()}\")\n"
          ]
        },
        {
          "output_type": "stream",
          "name": "stdout",
          "text": [
            "-1.0\n",
            "[INFO][abstract_initial_design.py:95] Reducing the number of initial configurations from 60 to 6 (max_ratio == 0.25).\n",
            "[INFO][abstract_initial_design.py:147] Using 6 initial design configurations and 0 additional configurations.\n",
            "[INFO][abstract_intensifier.py:305] Using only one seed for deterministic scenario.\n",
            "[INFO][abstract_intensifier.py:515] Added config c1a0c1 as new incumbent because there are no incumbents yet.\n",
            "[INFO][abstract_intensifier.py:590] Added config bb7d9d and rejected config c1a0c1 as incumbent because it is not better than the incumbents on 1 instances:\n",
            "[INFO][abstract_intensifier.py:590] Added config 7f6d9c and rejected config bb7d9d as incumbent because it is not better than the incumbents on 1 instances:\n",
            "[INFO][abstract_intensifier.py:590] Added config e889d2 and rejected config 7f6d9c as incumbent because it is not better than the incumbents on 1 instances:\n",
            "[INFO][abstract_intensifier.py:590] Added config c721aa and rejected config e889d2 as incumbent because it is not better than the incumbents on 1 instances:\n",
            "[INFO][smbo.py:327] Configuration budget is exhausted:\n",
            "[INFO][smbo.py:328] --- Remaining wallclock time: inf\n",
            "[INFO][smbo.py:329] --- Remaining cpu time: inf\n",
            "[INFO][smbo.py:330] --- Remaining trials: 0\n",
            "najlepsze par dla rf dane 3: {'model__max_depth': 986, 'model__min_impurity_decrease': 0.00458391934098352, 'model__min_samples_leaf': 2, 'model__min_samples_split': 0.00737697596786554, 'model__n_estimators': 1930, 'model__warm_start': True}\n"
          ]
        },
        {
          "output_type": "stream",
          "name": "stderr",
          "text": [
            "<ipython-input-115-26f54c634612>:47: DeprecationWarning: `Configuration` act's like a dictionary. Please use `dict(config)` instead of `get_dictionary` if you explicitly need a `dict`\n",
            "  print(f\"najlepsze par dla rf dane 3: {rf_bayes_opt_3.get_dictionary()}\")\n"
          ]
        },
        {
          "output_type": "stream",
          "name": "stdout",
          "text": [
            "-0.8429752066115702\n",
            "[INFO][abstract_initial_design.py:95] Reducing the number of initial configurations from 60 to 6 (max_ratio == 0.25).\n",
            "[INFO][abstract_initial_design.py:147] Using 6 initial design configurations and 0 additional configurations.\n",
            "[INFO][abstract_intensifier.py:305] Using only one seed for deterministic scenario.\n",
            "[INFO][abstract_intensifier.py:515] Added config c1a0c1 as new incumbent because there are no incumbents yet.\n",
            "[INFO][abstract_intensifier.py:590] Added config bb7d9d and rejected config c1a0c1 as incumbent because it is not better than the incumbents on 1 instances:\n",
            "[INFO][abstract_intensifier.py:590] Added config 2db1a3 and rejected config bb7d9d as incumbent because it is not better than the incumbents on 1 instances:\n",
            "[INFO][smbo.py:327] Configuration budget is exhausted:\n",
            "[INFO][smbo.py:328] --- Remaining wallclock time: inf\n",
            "[INFO][smbo.py:329] --- Remaining cpu time: inf\n",
            "[INFO][smbo.py:330] --- Remaining trials: 0\n",
            "najlepsze par dla rf dane 4: {'model__max_depth': 99, 'model__min_impurity_decrease': 0.0040780818039910975, 'model__min_samples_leaf': 2, 'model__min_samples_split': 0.013419904460166275, 'model__n_estimators': 1726, 'model__warm_start': False}\n"
          ]
        },
        {
          "output_type": "stream",
          "name": "stderr",
          "text": [
            "<ipython-input-115-26f54c634612>:64: DeprecationWarning: `Configuration` act's like a dictionary. Please use `dict(config)` instead of `get_dictionary` if you explicitly need a `dict`\n",
            "  print(f\"najlepsze par dla rf dane 4: {rf_bayes_opt_4.get_dictionary()}\")\n"
          ]
        },
        {
          "output_type": "stream",
          "name": "stdout",
          "text": [
            "-0.918918918918919\n"
          ]
        }
      ],
      "source": [
        "#data1\n",
        "val = []\n",
        "X_train = X1_train\n",
        "y_train = y1_train\n",
        "X_test = X1_test\n",
        "y_test = y1_test\n",
        "configspace = ConfigurationSpace(grid_forest_prep1)\n",
        "scenario = Scenario(configspace, deterministic=True, n_trials=25, seed=2023)\n",
        "sma = HyperparameterOptimizationFacade(scenario, rf_to_opt, overwrite=True,callbacks=[CustomCallback()])\n",
        "rf_bayes_opt_1= sma.optimize()\n",
        "print(f\"najlepsze par dla rf dane 1: {rf_bayes_opt_1.get_dictionary()}\")\n",
        "score_rf_1_bayes = rf_to_opt(rf_bayes_opt_1)\n",
        "print(score_rf_1_bayes)\n",
        "\n",
        "val_rf_1 = val.copy()\n",
        "\n",
        "\n",
        "#data2\n",
        "val = []\n",
        "X_train = X2_train\n",
        "y_train = y2_train\n",
        "X_test = X2_test\n",
        "y_test = y2_test\n",
        "\n",
        "\n",
        "configspace = ConfigurationSpace(grid_forest_prep1)\n",
        "scenario = Scenario(configspace, deterministic=True, n_trials=25, seed=2023)\n",
        "sma = HyperparameterOptimizationFacade(scenario, rf_to_opt, overwrite=True,callbacks=[CustomCallback()])\n",
        "rf_bayes_opt_2= sma.optimize()\n",
        "print(f\"najlepsze par dla rf dane 2: {rf_bayes_opt_2.get_dictionary()}\")\n",
        "score_rf_2_bayes = rf_to_opt(rf_bayes_opt_2)\n",
        "print(score_rf_2_bayes)\n",
        "\n",
        "val_rf_2 = val.copy()\n",
        "\n",
        "#data3\n",
        "val = []\n",
        "X_train = X3_train\n",
        "y_train = y3_train\n",
        "X_test = X3_test\n",
        "y_test = y3_test\n",
        "\n",
        "configspace = ConfigurationSpace(grid_forest_prep1)\n",
        "scenario = Scenario(configspace, deterministic=True, n_trials=25, seed=2023)\n",
        "sma = HyperparameterOptimizationFacade(scenario, rf_to_opt, overwrite=True,callbacks=[CustomCallback()])\n",
        "rf_bayes_opt_3= sma.optimize()\n",
        "print(f\"najlepsze par dla rf dane 3: {rf_bayes_opt_3.get_dictionary()}\")\n",
        "score_rf_3_bayes = rf_to_opt(rf_bayes_opt_3)\n",
        "print(score_rf_3_bayes)\n",
        "\n",
        "val_rf_3 = val.copy()\n",
        "\n",
        "#data4\n",
        "val = []\n",
        "X_train = X4_train\n",
        "y_train = y4_train\n",
        "X_test = X4_test\n",
        "y_test = y4_test\n",
        "\n",
        "configspace = ConfigurationSpace(grid_forest_prep1)\n",
        "scenario = Scenario(configspace, deterministic=True, n_trials=25, seed=2023)\n",
        "sma = HyperparameterOptimizationFacade(scenario, rf_to_opt, overwrite=True,callbacks=[CustomCallback()])\n",
        "rf_bayes_opt_4= sma.optimize()\n",
        "print(f\"najlepsze par dla rf dane 4: {rf_bayes_opt_4.get_dictionary()}\")\n",
        "score_rf_4_bayes = rf_to_opt(rf_bayes_opt_4)\n",
        "print(score_rf_4_bayes)\n",
        "\n",
        "val_rf_4 = val.copy()\n"
      ]
    },
    {
      "cell_type": "code",
      "source": [
        "dif_rf_bay_1 = score_mean_rf_1 + score_rf_1_bayes\n",
        "dif_rf_bay_2 = score_mean_rf_2 + score_rf_2_bayes\n",
        "dif_rf_bay_3 = score_mean_rf_3 + score_rf_3_bayes\n",
        "dif_rf_bay_4 = score_mean_rf_4 + score_rf_4_bayes\n",
        "\n",
        "tunability_rf_bayes = (dif_rf_bay_1 + dif_rf_bay_2 + dif_rf_bay_3 + dif_rf_bay_4)/4\n",
        "print(tunability_rf_bayes)"
      ],
      "metadata": {
        "id": "5UleAq8-mQ2R",
        "colab": {
          "base_uri": "https://localhost:8080/"
        },
        "outputId": "3e3fad76-8460-4acf-8be8-ca322dddd61b"
      },
      "execution_count": 117,
      "outputs": [
        {
          "output_type": "stream",
          "name": "stdout",
          "text": [
            "-0.0011261261261261424\n"
          ]
        }
      ]
    },
    {
      "cell_type": "code",
      "source": [
        "print(val_rf_1)\n",
        "print(val_rf_2)\n",
        "print(val_rf_3)\n",
        "print(val_rf_4)"
      ],
      "metadata": {
        "colab": {
          "base_uri": "https://localhost:8080/"
        },
        "id": "172I38VksqKt",
        "outputId": "8c9e977f-0c9c-49d7-fb2d-15ad120c382c"
      },
      "execution_count": null,
      "outputs": [
        {
          "output_type": "stream",
          "name": "stdout",
          "text": [
            "[0.69, 0.69, 0.735, 0.735, 0.735, 0.735, 0.735, 0.735, 0.735, 0.735, 0.76, 0.76, 0.76, 0.76, 0.76, 0.76, 0.76, 0.76, 0.76, 0.76, 0.76, 0.76, 0.76, 0.76, 0.76]\n",
            "[0.9017857142857143, 0.9017857142857143, 1.0, 1.0, 1.0, 1.0, 1.0, 1.0, 1.0, 1.0, 1.0, 1.0, 1.0, 1.0, 1.0, 1.0, 1.0, 1.0, 1.0, 1.0, 1.0, 1.0, 1.0, 1.0, 1.0]\n",
            "[0.7024793388429752, 0.7024793388429752, 0.7768595041322314, 0.7768595041322314, 0.7768595041322314, 0.7768595041322314, 0.8016528925619835, 0.8016528925619835, 0.8016528925619835, 0.8016528925619835, 0.8016528925619835, 0.8016528925619835, 0.8016528925619835, 0.8016528925619835, 0.8016528925619835, 0.8016528925619835, 0.8016528925619835, 0.8016528925619835, 0.8016528925619835, 0.8264462809917356, 0.8264462809917356, 0.8264462809917356, 0.8264462809917356, 0.8264462809917356, 0.8264462809917356]\n",
            "[0.9279279279279279, 0.9279279279279279, 0.9324324324324325, 0.9324324324324325, 0.9324324324324325, 0.9324324324324325, 0.9324324324324325, 0.9324324324324325, 0.9324324324324325, 0.9324324324324325, 0.9324324324324325, 0.9324324324324325, 0.9324324324324325, 0.9324324324324325, 0.9324324324324325, 0.9324324324324325, 0.9324324324324325, 0.9369369369369369, 0.9369369369369369, 0.9369369369369369, 0.9369369369369369, 0.9369369369369369, 0.9369369369369369, 0.9369369369369369, 0.9369369369369369]\n"
          ]
        }
      ]
    },
    {
      "cell_type": "code",
      "execution_count": null,
      "metadata": {
        "id": "2BCJzB5pKbkT",
        "colab": {
          "base_uri": "https://localhost:8080/",
          "height": 472
        },
        "outputId": "82ca708f-682f-4e06-976c-0ad9ac9a6144"
      },
      "outputs": [
        {
          "output_type": "display_data",
          "data": {
            "text/plain": [
              "<Figure size 640x480 with 1 Axes>"
            ],
            "image/png": "[encoded data removed]"
          },
          "metadata": {}
        }
      ],
      "source": [
        "\n",
        "ox = list(range(1,26))\n",
        "# Utwórz wykresy\n",
        "plt.plot(ox, val_rf_1, label='dane 1')\n",
        "plt.plot(ox, val_rf_2, label='dane 2')\n",
        "plt.plot(ox, val_rf_3, label='dane 3')\n",
        "plt.plot(ox, val_rf_4, label='dane 4')\n",
        "\n",
        "# Dodaj tytuł i etykiety osi\n",
        "plt.title('RandomForest')\n",
        "plt.xlabel('n iter')\n",
        "plt.ylabel('score mean')\n",
        "\n",
        "# Dodaj legendę\n",
        "plt.legend()\n",
        "\n",
        "# Wyświetl wykres\n",
        "plt.show()"
      ]
    },
    {
      "cell_type": "markdown",
      "metadata": {
        "id": "9DOExEuCG7q_"
      },
      "source": [
        "SVM dopasowanie"
      ]
    },
    {
      "cell_type": "code",
      "execution_count": 118,
      "metadata": {
        "id": "IWYaV86oNkOe",
        "colab": {
          "base_uri": "https://localhost:8080/"
        },
        "outputId": "35bc7a9a-e173-4307-b613-2ab8d5ce9b72"
      },
      "outputs": [
        {
          "output_type": "stream",
          "name": "stdout",
          "text": [
            "[INFO][abstract_initial_design.py:95] Reducing the number of initial configurations from 40 to 6 (max_ratio == 0.25).\n",
            "[INFO][abstract_initial_design.py:147] Using 6 initial design configurations and 0 additional configurations.\n",
            "[INFO][abstract_intensifier.py:305] Using only one seed for deterministic scenario.\n",
            "[INFO][abstract_intensifier.py:515] Added config d2c128 as new incumbent because there are no incumbents yet.\n",
            "[INFO][abstract_intensifier.py:590] Added config 817105 and rejected config d2c128 as incumbent because it is not better than the incumbents on 1 instances:\n",
            "[INFO][abstract_intensifier.py:590] Added config 966702 and rejected config 817105 as incumbent because it is not better than the incumbents on 1 instances:\n",
            "[INFO][smbo.py:327] Configuration budget is exhausted:\n",
            "[INFO][smbo.py:328] --- Remaining wallclock time: inf\n",
            "[INFO][smbo.py:329] --- Remaining cpu time: inf\n",
            "[INFO][smbo.py:330] --- Remaining trials: 0\n",
            "najlepsze par dla svm dane 1: {'model__C': 850.0237549215052, 'model__gamma': 8.208687346029375, 'model__kernel': 'rbf', 'model__tol': 0.006325305447105166}\n"
          ]
        },
        {
          "output_type": "stream",
          "name": "stderr",
          "text": [
            "<ipython-input-118-bcb9308645b2>:12: DeprecationWarning: `Configuration` act's like a dictionary. Please use `dict(config)` instead of `get_dictionary` if you explicitly need a `dict`\n",
            "  print(f\"najlepsze par dla svm dane 1: {svm_bayes_opt_1.get_dictionary()}\")\n"
          ]
        },
        {
          "output_type": "stream",
          "name": "stdout",
          "text": [
            "-0.76\n",
            "[INFO][abstract_initial_design.py:95] Reducing the number of initial configurations from 40 to 6 (max_ratio == 0.25).\n",
            "[INFO][abstract_initial_design.py:147] Using 6 initial design configurations and 0 additional configurations.\n",
            "[INFO][abstract_intensifier.py:305] Using only one seed for deterministic scenario.\n",
            "[INFO][abstract_intensifier.py:515] Added config d2c128 as new incumbent because there are no incumbents yet.\n",
            "[INFO][smbo.py:327] Configuration budget is exhausted:\n",
            "[INFO][smbo.py:328] --- Remaining wallclock time: inf\n",
            "[INFO][smbo.py:329] --- Remaining cpu time: inf\n",
            "[INFO][smbo.py:330] --- Remaining trials: 0\n",
            "najlepsze par dla svm dane 2: {'model__C': 266.8858522846736, 'model__gamma': 62.05646954476833, 'model__kernel': 'poly', 'model__tol': 0.0021185505937980492}\n",
            "-1.0\n",
            "[INFO][abstract_initial_design.py:95] Reducing the number of initial configurations from 40 to 6 (max_ratio == 0.25).\n",
            "[INFO][abstract_initial_design.py:147] Using 6 initial design configurations and 0 additional configurations.\n",
            "[INFO][abstract_intensifier.py:305] Using only one seed for deterministic scenario.\n",
            "[INFO][abstract_intensifier.py:515] Added config d2c128 as new incumbent because there are no incumbents yet.\n"
          ]
        },
        {
          "output_type": "stream",
          "name": "stderr",
          "text": [
            "<ipython-input-118-bcb9308645b2>:29: DeprecationWarning: `Configuration` act's like a dictionary. Please use `dict(config)` instead of `get_dictionary` if you explicitly need a `dict`\n",
            "  print(f\"najlepsze par dla svm dane 2: {svm_bayes_opt_2.get_dictionary()}\")\n"
          ]
        },
        {
          "output_type": "stream",
          "name": "stdout",
          "text": [
            "[INFO][smbo.py:327] Configuration budget is exhausted:\n",
            "[INFO][smbo.py:328] --- Remaining wallclock time: inf\n",
            "[INFO][smbo.py:329] --- Remaining cpu time: inf\n",
            "[INFO][smbo.py:330] --- Remaining trials: 0\n",
            "najlepsze par dla svm dane 3: {'model__C': 266.8858522846736, 'model__gamma': 62.05646954476833, 'model__kernel': 'poly', 'model__tol': 0.0021185505937980492}\n",
            "-0.9834710743801653\n",
            "[INFO][abstract_initial_design.py:95] Reducing the number of initial configurations from 40 to 6 (max_ratio == 0.25).\n",
            "[INFO][abstract_initial_design.py:147] Using 6 initial design configurations and 0 additional configurations.\n",
            "[INFO][abstract_intensifier.py:305] Using only one seed for deterministic scenario.\n"
          ]
        },
        {
          "output_type": "stream",
          "name": "stderr",
          "text": [
            "<ipython-input-118-bcb9308645b2>:45: DeprecationWarning: `Configuration` act's like a dictionary. Please use `dict(config)` instead of `get_dictionary` if you explicitly need a `dict`\n",
            "  print(f\"najlepsze par dla svm dane 3: {svm_bayes_opt_3.get_dictionary()}\")\n"
          ]
        },
        {
          "output_type": "stream",
          "name": "stdout",
          "text": [
            "[INFO][abstract_intensifier.py:515] Added config d2c128 as new incumbent because there are no incumbents yet.\n",
            "[INFO][abstract_intensifier.py:590] Added config 817105 and rejected config d2c128 as incumbent because it is not better than the incumbents on 1 instances:\n",
            "[INFO][smbo.py:327] Configuration budget is exhausted:\n",
            "[INFO][smbo.py:328] --- Remaining wallclock time: inf\n",
            "[INFO][smbo.py:329] --- Remaining cpu time: inf\n",
            "[INFO][smbo.py:330] --- Remaining trials: 0\n",
            "najlepsze par dla svm dane 4: {'model__C': 860.4892920700834, 'model__gamma': 24.884581193327904, 'model__kernel': 'rbf', 'model__tol': 0.005595402156366967}\n",
            "-0.9054054054054054\n"
          ]
        },
        {
          "output_type": "stream",
          "name": "stderr",
          "text": [
            "<ipython-input-118-bcb9308645b2>:61: DeprecationWarning: `Configuration` act's like a dictionary. Please use `dict(config)` instead of `get_dictionary` if you explicitly need a `dict`\n",
            "  print(f\"najlepsze par dla svm dane 4: {svm_bayes_opt_4.get_dictionary()}\")\n"
          ]
        }
      ],
      "source": [
        "#data1\n",
        "val = []\n",
        "X_train = X1_train\n",
        "y_train = y1_train\n",
        "X_test = X1_test\n",
        "y_test = y1_test\n",
        "\n",
        "configspace = ConfigurationSpace(grid_svm_prep1)\n",
        "scenario = Scenario(configspace, deterministic=True, n_trials=25)\n",
        "sma = HyperparameterOptimizationFacade(scenario, svm_to_opt,overwrite=True,callbacks=[CustomCallback()])\n",
        "svm_bayes_opt_1= sma.optimize()\n",
        "print(f\"najlepsze par dla svm dane 1: {svm_bayes_opt_1.get_dictionary()}\")\n",
        "score_svm_1_bayes = svm_to_opt(svm_bayes_opt_1)\n",
        "print(score_svm_1_bayes)\n",
        "val_svm_1 = val.copy()\n",
        "\n",
        "#data2\n",
        "val = []\n",
        "\n",
        "X_train = X2_train\n",
        "y_train = y2_train\n",
        "X_test = X2_test\n",
        "y_test = y2_test\n",
        "\n",
        "configspace = ConfigurationSpace(grid_svm_prep1)\n",
        "scenario = Scenario(configspace, deterministic=True, n_trials=25)\n",
        "sma = HyperparameterOptimizationFacade(scenario, svm_to_opt,overwrite=True,callbacks=[CustomCallback()])\n",
        "svm_bayes_opt_2= sma.optimize()\n",
        "print(f\"najlepsze par dla svm dane 2: {svm_bayes_opt_2.get_dictionary()}\")\n",
        "score_svm_2_bayes = svm_to_opt(svm_bayes_opt_2)\n",
        "print(score_svm_2_bayes)\n",
        "val_svm_2= val.copy()\n",
        "\n",
        "#data3\n",
        "val = []\n",
        "X_train = X3_train\n",
        "y_train = y3_train\n",
        "X_test = X3_test\n",
        "y_test = y3_test\n",
        "\n",
        "configspace = ConfigurationSpace(grid_svm_prep1)\n",
        "scenario = Scenario(configspace, deterministic=True, n_trials=25)\n",
        "sma = HyperparameterOptimizationFacade(scenario, svm_to_opt, overwrite=True,callbacks=[CustomCallback()])\n",
        "svm_bayes_opt_3= sma.optimize()\n",
        "print(f\"najlepsze par dla svm dane 3: {svm_bayes_opt_3.get_dictionary()}\")\n",
        "score_svm_3_bayes = svm_to_opt(svm_bayes_opt_3)\n",
        "print(score_svm_3_bayes)\n",
        "val_svm_3 = val.copy()\n",
        "\n",
        "#data4\n",
        "val = []\n",
        "X_train = X4_train\n",
        "y_train = y4_train\n",
        "X_test = X4_test\n",
        "y_test = y4_test\n",
        "\n",
        "configspace = ConfigurationSpace(grid_svm_prep1)\n",
        "scenario = Scenario(configspace, deterministic=True, n_trials=25)\n",
        "sma = HyperparameterOptimizationFacade(scenario, svm_to_opt, overwrite=True,callbacks=[CustomCallback()])\n",
        "svm_bayes_opt_4= sma.optimize()\n",
        "print(f\"najlepsze par dla svm dane 4: {svm_bayes_opt_4.get_dictionary()}\")\n",
        "score_svm_4_bayes = svm_to_opt(svm_bayes_opt_4)\n",
        "print(score_svm_4_bayes)\n",
        "val_svm_4 = val.copy()"
      ]
    },
    {
      "cell_type": "code",
      "source": [
        "dif_svm_bay_1 = score_mean_svm_1 + score_svm_1_bayes\n",
        "dif_svm_bay_2 = score_mean_svm_2 + score_svm_2_bayes\n",
        "dif_svm_bay_3 = score_mean_svm_3 + score_svm_3_bayes\n",
        "dif_svm_bay_4 = score_mean_svm_4 + score_svm_4_bayes\n",
        "\n",
        "tunability_svm_bayes = (dif_svm_bay_1 + dif_svm_bay_2 + dif_svm_bay_3 + dif_svm_bay_4)/4\n",
        "print(tunability_svm_bayes)"
      ],
      "metadata": {
        "id": "X2dcETNAoSMD",
        "colab": {
          "base_uri": "https://localhost:8080/"
        },
        "outputId": "809ebef1-c00b-41cb-dc9c-30493addefac"
      },
      "execution_count": 119,
      "outputs": [
        {
          "output_type": "stream",
          "name": "stdout",
          "text": [
            "0.01225160077432802\n"
          ]
        }
      ]
    },
    {
      "cell_type": "code",
      "source": [
        "print(val_svm_1)\n",
        "print(val_svm_2)\n",
        "print(val_svm_3)\n",
        "print(val_svm_4)"
      ],
      "metadata": {
        "colab": {
          "base_uri": "https://localhost:8080/"
        },
        "id": "F4lqdUPjs3wh",
        "outputId": "19a888de-f218-4e27-deab-cad0b4f85df3"
      },
      "execution_count": null,
      "outputs": [
        {
          "output_type": "stream",
          "name": "stdout",
          "text": [
            "[0.72, 0.72, 0.72, 0.72, 0.72, 0.72, 0.72, 0.72, 0.72, 0.72, 0.72, 0.72, 0.72, 0.72, 0.72, 0.72, 0.72, 0.72, 0.72, 0.72, 0.72, 0.72, 0.72, 0.72, 0.72]\n",
            "[1.0, 1.0, 1.0, 1.0, 1.0, 1.0, 1.0, 1.0, 1.0, 1.0, 1.0, 1.0, 1.0, 1.0, 1.0, 1.0, 1.0, 1.0, 1.0, 1.0, 1.0, 1.0, 1.0, 1.0, 1.0]\n",
            "[1.0, 1.0, 1.0, 1.0, 1.0, 1.0, 1.0, 1.0, 1.0, 1.0, 1.0, 1.0, 1.0, 1.0, 1.0, 1.0, 1.0, 1.0, 1.0, 1.0, 1.0, 1.0, 1.0, 1.0, 1.0]\n",
            "[0.8693693693693694, 0.9324324324324325, 0.9324324324324325, 0.9324324324324325, 0.9369369369369369, 0.9369369369369369, 0.9369369369369369, 0.9369369369369369, 0.9369369369369369, 0.9369369369369369, 0.9369369369369369, 0.9369369369369369, 0.9369369369369369, 0.9369369369369369, 0.9369369369369369, 0.9369369369369369, 0.9369369369369369, 0.9369369369369369, 0.9369369369369369, 0.9369369369369369, 0.9369369369369369, 0.9369369369369369, 0.9369369369369369, 0.9369369369369369, 0.9369369369369369]\n"
          ]
        }
      ]
    },
    {
      "cell_type": "code",
      "execution_count": null,
      "metadata": {
        "id": "w4flQ-eoPyxx",
        "colab": {
          "base_uri": "https://localhost:8080/",
          "height": 472
        },
        "outputId": "51518c98-12c5-46f7-e102-ae6deb579377"
      },
      "outputs": [
        {
          "output_type": "display_data",
          "data": {
            "text/plain": [
              "<Figure size 640x480 with 1 Axes>"
            ],
            "image/png": "[encoded data removed]"
          },
          "metadata": {}
        }
      ],
      "source": [
        "ox = list(range(1,26))\n",
        "# Utwórz wykresy\n",
        "plt.plot(ox, val_svm_1, label='dane 1')\n",
        "plt.plot(ox, val_svm_2, label='dane 2')\n",
        "plt.plot(ox, val_svm_3, label='dane 3')\n",
        "plt.plot(ox, val_svm_4, label='dane 4')\n",
        "\n",
        "# Dodaj tytuł i etykiety osi\n",
        "plt.title('SVM')\n",
        "plt.xlabel('n iter')\n",
        "plt.ylabel('score mean')\n",
        "\n",
        "# Dodaj legendę\n",
        "plt.legend()\n",
        "\n",
        "# Wyświetl wykres\n",
        "plt.show()"
      ]
    },
    {
      "cell_type": "markdown",
      "metadata": {
        "id": "T67j7RcVL_bS"
      },
      "source": [
        "GB Dopasowanie"
      ]
    },
    {
      "cell_type": "code",
      "execution_count": 120,
      "metadata": {
        "id": "hpW_fbnCQLAq",
        "colab": {
          "base_uri": "https://localhost:8080/"
        },
        "outputId": "11fc421b-3765-4ba8-e4d2-a47a0eacd43e"
      },
      "outputs": [
        {
          "output_type": "stream",
          "name": "stdout",
          "text": [
            "[INFO][abstract_initial_design.py:95] Reducing the number of initial configurations from 60 to 6 (max_ratio == 0.25).\n",
            "[INFO][abstract_initial_design.py:147] Using 6 initial design configurations and 0 additional configurations.\n",
            "[INFO][abstract_intensifier.py:305] Using only one seed for deterministic scenario.\n",
            "[INFO][abstract_intensifier.py:515] Added config 16bca9 as new incumbent because there are no incumbents yet.\n",
            "[INFO][abstract_intensifier.py:590] Added config 4bfb82 and rejected config 16bca9 as incumbent because it is not better than the incumbents on 1 instances:\n",
            "[INFO][abstract_intensifier.py:590] Added config f35a29 and rejected config 4bfb82 as incumbent because it is not better than the incumbents on 1 instances:\n",
            "[INFO][smbo.py:327] Configuration budget is exhausted:\n",
            "[INFO][smbo.py:328] --- Remaining wallclock time: inf\n",
            "[INFO][smbo.py:329] --- Remaining cpu time: inf\n",
            "[INFO][smbo.py:330] --- Remaining trials: 0\n",
            "najlepsze par dla gb dane 1: {'model__loss': 'log_loss', 'model__max_depth': 494, 'model__min_impurity_decrease': 0.009920240173801448, 'model__min_samples_leaf': 9, 'model__n_estimators': 1092, 'model__subsample': 0.6642369586527258}\n"
          ]
        },
        {
          "output_type": "stream",
          "name": "stderr",
          "text": [
            "<ipython-input-120-a7d06e0f6b53>:12: DeprecationWarning: `Configuration` act's like a dictionary. Please use `dict(config)` instead of `get_dictionary` if you explicitly need a `dict`\n",
            "  print(f\"najlepsze par dla gb dane 1: {gb_bayes_opt_1.get_dictionary()}\")\n"
          ]
        },
        {
          "output_type": "stream",
          "name": "stdout",
          "text": [
            "-0.81\n",
            "[INFO][abstract_initial_design.py:95] Reducing the number of initial configurations from 60 to 6 (max_ratio == 0.25).\n",
            "[INFO][abstract_initial_design.py:147] Using 6 initial design configurations and 0 additional configurations.\n",
            "[INFO][abstract_intensifier.py:305] Using only one seed for deterministic scenario.\n",
            "[INFO][abstract_intensifier.py:515] Added config 16bca9 as new incumbent because there are no incumbents yet.\n",
            "[INFO][smbo.py:327] Configuration budget is exhausted:\n",
            "[INFO][smbo.py:328] --- Remaining wallclock time: inf\n",
            "[INFO][smbo.py:329] --- Remaining cpu time: inf\n",
            "[INFO][smbo.py:330] --- Remaining trials: 0\n",
            "najlepsze par dla gb dane 2: {'model__loss': 'log_loss', 'model__max_depth': 1557, 'model__min_impurity_decrease': 0.0010750788170844317, 'model__min_samples_leaf': 5, 'model__n_estimators': 2154, 'model__subsample': 0.47578472338616845}\n"
          ]
        },
        {
          "output_type": "stream",
          "name": "stderr",
          "text": [
            "<ipython-input-120-a7d06e0f6b53>:28: DeprecationWarning: `Configuration` act's like a dictionary. Please use `dict(config)` instead of `get_dictionary` if you explicitly need a `dict`\n",
            "  print(f\"najlepsze par dla gb dane 2: {gb_bayes_opt_2.get_dictionary()}\")\n"
          ]
        },
        {
          "output_type": "stream",
          "name": "stdout",
          "text": [
            "-1.0\n",
            "[INFO][abstract_initial_design.py:95] Reducing the number of initial configurations from 60 to 6 (max_ratio == 0.25).\n",
            "[INFO][abstract_initial_design.py:147] Using 6 initial design configurations and 0 additional configurations.\n",
            "[INFO][abstract_intensifier.py:305] Using only one seed for deterministic scenario.\n",
            "[INFO][abstract_intensifier.py:515] Added config 16bca9 as new incumbent because there are no incumbents yet.\n",
            "[INFO][abstract_intensifier.py:590] Added config 4bfb82 and rejected config 16bca9 as incumbent because it is not better than the incumbents on 1 instances:\n",
            "[INFO][smbo.py:327] Configuration budget is exhausted:\n",
            "[INFO][smbo.py:328] --- Remaining wallclock time: inf\n",
            "[INFO][smbo.py:329] --- Remaining cpu time: inf\n",
            "[INFO][smbo.py:330] --- Remaining trials: 0\n",
            "najlepsze par dla gb dane 3: {'model__loss': 'exponential', 'model__max_depth': 281, 'model__min_impurity_decrease': 0.009892357727512718, 'model__min_samples_leaf': 17, 'model__n_estimators': 983, 'model__subsample': 0.8395502524077892}\n"
          ]
        },
        {
          "output_type": "stream",
          "name": "stderr",
          "text": [
            "<ipython-input-120-a7d06e0f6b53>:44: DeprecationWarning: `Configuration` act's like a dictionary. Please use `dict(config)` instead of `get_dictionary` if you explicitly need a `dict`\n",
            "  print(f\"najlepsze par dla gb dane 3: {gb_bayes_opt_3.get_dictionary()}\")\n"
          ]
        },
        {
          "output_type": "stream",
          "name": "stdout",
          "text": [
            "-1.0\n",
            "[INFO][abstract_initial_design.py:95] Reducing the number of initial configurations from 60 to 6 (max_ratio == 0.25).\n",
            "[INFO][abstract_initial_design.py:147] Using 6 initial design configurations and 0 additional configurations.\n",
            "[INFO][abstract_intensifier.py:305] Using only one seed for deterministic scenario.\n",
            "[INFO][abstract_intensifier.py:515] Added config 16bca9 as new incumbent because there are no incumbents yet.\n",
            "[INFO][smbo.py:327] Configuration budget is exhausted:\n",
            "[INFO][smbo.py:328] --- Remaining wallclock time: inf\n",
            "[INFO][smbo.py:329] --- Remaining cpu time: inf\n",
            "[INFO][smbo.py:330] --- Remaining trials: 0\n",
            "najlepsze par dla gb dane 4: {'model__loss': 'log_loss', 'model__max_depth': 1557, 'model__min_impurity_decrease': 0.0010750788170844317, 'model__min_samples_leaf': 5, 'model__n_estimators': 2154, 'model__subsample': 0.47578472338616845}\n"
          ]
        },
        {
          "output_type": "stream",
          "name": "stderr",
          "text": [
            "<ipython-input-120-a7d06e0f6b53>:60: DeprecationWarning: `Configuration` act's like a dictionary. Please use `dict(config)` instead of `get_dictionary` if you explicitly need a `dict`\n",
            "  print(f\"najlepsze par dla gb dane 4: {gb_bayes_opt_4.get_dictionary()}\")\n"
          ]
        },
        {
          "output_type": "stream",
          "name": "stdout",
          "text": [
            "-0.9009009009009009\n"
          ]
        }
      ],
      "source": [
        "#data1\n",
        "val = []\n",
        "X_train = X1_train\n",
        "y_train = y1_train\n",
        "X_test = X1_test\n",
        "y_test = y1_test\n",
        "\n",
        "configspace = ConfigurationSpace(grid_gb_prep1)\n",
        "scenario = Scenario(configspace, deterministic=True, n_trials=25)\n",
        "sma = HyperparameterOptimizationFacade(scenario, gb_to_opt, overwrite=True,callbacks=[CustomCallback()])\n",
        "gb_bayes_opt_1= sma.optimize()\n",
        "print(f\"najlepsze par dla gb dane 1: {gb_bayes_opt_1.get_dictionary()}\")\n",
        "score_gb_1_bayes = gb_to_opt(gb_bayes_opt_1)\n",
        "print(score_gb_1_bayes)\n",
        "val_gb_1 = val.copy()\n",
        "\n",
        "#data2\n",
        "val = []\n",
        "X_train = X2_train\n",
        "y_train = y2_train\n",
        "X_test = X2_test\n",
        "y_test = y2_test\n",
        "\n",
        "configspace = ConfigurationSpace(grid_gb_prep1)\n",
        "scenario = Scenario(configspace, deterministic=True, n_trials=25)\n",
        "sma = HyperparameterOptimizationFacade(scenario, gb_to_opt, overwrite=True,callbacks=[CustomCallback()])\n",
        "gb_bayes_opt_2= sma.optimize()\n",
        "print(f\"najlepsze par dla gb dane 2: {gb_bayes_opt_2.get_dictionary()}\")\n",
        "score_gb_2_bayes = gb_to_opt(gb_bayes_opt_2)\n",
        "print(score_gb_2_bayes)\n",
        "val_gb_2 = val.copy()\n",
        "\n",
        "#data3\n",
        "val = []\n",
        "X_train = X3_train\n",
        "y_train = y3_train\n",
        "X_test = X3_test\n",
        "y_test = y3_test\n",
        "\n",
        "configspace = ConfigurationSpace(grid_gb_prep1)\n",
        "scenario = Scenario(configspace, deterministic=True, n_trials=25)\n",
        "sma = HyperparameterOptimizationFacade(scenario, gb_to_opt, overwrite=True,callbacks=[CustomCallback()])\n",
        "gb_bayes_opt_3= sma.optimize()\n",
        "print(f\"najlepsze par dla gb dane 3: {gb_bayes_opt_3.get_dictionary()}\")\n",
        "score_gb_3_bayes = gb_to_opt(gb_bayes_opt_3)\n",
        "print(score_gb_3_bayes)\n",
        "val_gb_3 = val.copy()\n",
        "\n",
        "#data4\n",
        "val = []\n",
        "X_train = X4_train\n",
        "y_train = y4_train\n",
        "X_test = X4_test\n",
        "y_test = y4_test\n",
        "\n",
        "configspace = ConfigurationSpace(grid_gb_prep1)\n",
        "scenario = Scenario(configspace, deterministic=True, n_trials=25)\n",
        "sma = HyperparameterOptimizationFacade(scenario, gb_to_opt, overwrite=True,callbacks=[CustomCallback()])\n",
        "gb_bayes_opt_4= sma.optimize()\n",
        "print(f\"najlepsze par dla gb dane 4: {gb_bayes_opt_4.get_dictionary()}\")\n",
        "score_gb_4_bayes = gb_to_opt(gb_bayes_opt_4)\n",
        "print(score_gb_4_bayes)\n",
        "val_gb_4 = val.copy()"
      ]
    },
    {
      "cell_type": "code",
      "source": [
        "dif_gb_bay_1 = score_mean_gb_1 + score_gb_1_bayes\n",
        "dif_gb_bay_2 = score_mean_gb_2 + score_gb_2_bayes\n",
        "dif_gb_bay_3 = score_mean_gb_3 + score_gb_3_bayes\n",
        "dif_gb_bay_4 = score_mean_gb_4 + score_gb_4_bayes\n",
        "\n",
        "tunability_gb_bayes = (dif_gb_bay_1 + dif_gb_bay_2 + dif_gb_bay_3 + dif_gb_bay_4)/4\n",
        "print(tunability_gb_bayes)"
      ],
      "metadata": {
        "id": "ahUAwGkuH7qp",
        "colab": {
          "base_uri": "https://localhost:8080/"
        },
        "outputId": "2b2c0933-aaf1-49dd-c428-24f2621ee460"
      },
      "execution_count": 121,
      "outputs": [
        {
          "output_type": "stream",
          "name": "stdout",
          "text": [
            "0.002252252252252257\n"
          ]
        }
      ]
    },
    {
      "cell_type": "code",
      "source": [
        "print(dif_gb_bay_1)\n",
        "print(dif_gb_bay_2)\n",
        "print(dif_gb_bay_3)\n",
        "print(dif_gb_bay_4)"
      ],
      "metadata": {
        "colab": {
          "base_uri": "https://localhost:8080/"
        },
        "id": "DXISARC5tBl1",
        "outputId": "f349b9f0-aead-4705-c5d0-1e8b1e00e44b"
      },
      "execution_count": null,
      "outputs": [
        {
          "output_type": "stream",
          "name": "stdout",
          "text": [
            "[0.02  0.02  0.02  0.02  0.02  0.02  0.02  0.02  0.02  0.02  0.02  0.02\n",
            " 0.035 0.035 0.035 0.035 0.04  0.04  0.04  0.04  0.04  0.04  0.04  0.04\n",
            " 0.04 ]\n",
            "[0. 0. 0. 0. 0. 0. 0. 0. 0. 0. 0. 0. 0. 0. 0. 0. 0. 0. 0. 0. 0. 0. 0. 0.\n",
            " 0.]\n",
            "[-0.04132231  0.          0.          0.          0.          0.\n",
            "  0.          0.          0.          0.          0.          0.\n",
            "  0.          0.          0.          0.          0.          0.\n",
            "  0.          0.          0.          0.          0.          0.\n",
            "  0.        ]\n",
            "[-0.01351351 -0.01351351 -0.0045045  -0.0045045  -0.0045045   0.\n",
            "  0.          0.          0.          0.          0.          0.\n",
            "  0.          0.          0.          0.          0.          0.\n",
            "  0.          0.          0.          0.          0.          0.\n",
            "  0.        ]\n"
          ]
        }
      ]
    },
    {
      "cell_type": "code",
      "execution_count": null,
      "metadata": {
        "id": "U8JRzwPdPzqr",
        "colab": {
          "base_uri": "https://localhost:8080/",
          "height": 472
        },
        "outputId": "a78463ff-6ccd-4b6a-8f43-8eaf240e6742"
      },
      "outputs": [
        {
          "output_type": "display_data",
          "data": {
            "text/plain": [
              "<Figure size 640x480 with 1 Axes>"
            ],
            "image/png": "[encoded data removed]"
          },
          "metadata": {}
        }
      ],
      "source": [
        "ox = list(range(1,26))\n",
        "# Utwórz wykresy\n",
        "plt.plot(ox, val_gb_1, label='dane 1')\n",
        "plt.plot(ox, val_gb_2, label='dane 2')\n",
        "plt.plot(ox, val_gb_3, label='dane 3')\n",
        "plt.plot(ox, val_gb_4, label='dane 4')\n",
        "\n",
        "# Dodaj tytuł i etykiety osi\n",
        "plt.title('GB')\n",
        "plt.xlabel('n iter')\n",
        "plt.ylabel('score mean')\n",
        "\n",
        "# Dodaj legendę\n",
        "plt.legend()\n",
        "\n",
        "# Wyświetl wykres\n",
        "plt.show()"
      ]
    },
    {
      "cell_type": "markdown",
      "source": [
        "Tunowalnosc"
      ],
      "metadata": {
        "id": "9g_a4QPqbrTl"
      }
    },
    {
      "cell_type": "code",
      "source": [
        "plt.bar(['rf RS', 'gb RS', 'svm RS','rf bayes',  'gb bayes', 'svm bayes'],[tunability_rf, tunability_gb, tunability_svm, tunability_rf_bayes, tunability_gb_bayes, tunability_svm_bayes])"
      ],
      "metadata": {
        "colab": {
          "base_uri": "https://localhost:8080/",
          "height": 448
        },
        "id": "whdSv-_AbqVe",
        "outputId": "d042ffa9-cbf1-4ce3-e403-84fff982b08e"
      },
      "execution_count": 134,
      "outputs": [
        {
          "output_type": "execute_result",
          "data": {
            "text/plain": [
              "<BarContainer object of 6 artists>"
            ]
          },
          "metadata": {},
          "execution_count": 134
        },
        {
          "output_type": "display_data",
          "data": {
            "text/plain": [
              "<Figure size 640x480 with 1 Axes>"
            ],
            "image/png": "[encoded data removed]"
          },
          "metadata": {}
        }
      ]
    },
    {
      "cell_type": "markdown",
      "source": [
        "Testy czy score otrzymane za pomocą randomizedSearchCV i metodą bayesa pochodzą z tego samego rozkładu"
      ],
      "metadata": {
        "id": "VbG2Gm61uHQV"
      }
    },
    {
      "cell_type": "code",
      "source": [
        "from scipy.stats import ks_2samp\n",
        "\n",
        "# Przykładowe dane\n",
        "\n",
        "statystyka_rf1, p_val_rf1 = ks_2samp(res_rf_1['mean_test_score'], np.maximum.accumulate(val_rf_1))\n",
        "print('RandomForest dane 1')\n",
        "print(\"Statystyka testowa KS:\", statystyka_rf1)\n",
        "print(\"P-wartość:\", p_val_rf1)\n",
        "\n",
        "statystyka_rf2, p_val_rf2 = ks_2samp(res_rf_2['mean_test_score'], np.maximum.accumulate(val_rf_2))\n",
        "print('RandomForest dane 2')\n",
        "print(\"Statystyka testowa KS:\", statystyka_rf2)\n",
        "print(\"P-wartość:\", p_val_rf2)\n",
        "\n",
        "statystyka_rf3, p_val_rf3 = ks_2samp(res_rf_3['mean_test_score'], np.maximum.accumulate(val_rf_3))\n",
        "print('RandomForest dane 3')\n",
        "print(\"Statystyka testowa KS:\", statystyka_rf3)\n",
        "print(\"P-wartość:\", p_val_rf3)\n",
        "\n",
        "statystyka_rf4, p_val_rf4 = ks_2samp(res_rf_4['mean_test_score'], np.maximum.accumulate(val_rf_4))\n",
        "print('RandomForest dane 4')\n",
        "print(\"Statystyka testowa KS:\", statystyka_rf4)\n",
        "print(\"P-wartość:\", p_val_rf4)\n",
        "\n",
        "statystyka_svm1, p_val_svm1 = ks_2samp(res_svm_1['mean_test_score'], np.maximum.accumulate(val_svm_1))\n",
        "print('SVM dane 1')\n",
        "print(\"Statystyka testowa KS:\", statystyka_svm1)\n",
        "print(\"P-wartość:\", p_val_svm1)\n",
        "\n",
        "statystyka_svm2, p_val_svm2 = ks_2samp(res_svm_2['mean_test_score'], np.maximum.accumulate(val_svm_2))\n",
        "print('SVM dane 2')\n",
        "print(\"Statystyka testowa KS:\", statystyka_svm2)\n",
        "print(\"P-wartość:\", p_val_svm2)\n",
        "\n",
        "statystyka_svm3, p_val_svm3 = ks_2samp(res_svm_3['mean_test_score'], np.maximum.accumulate(val_svm_3))\n",
        "print('SVM dane 3')\n",
        "print(\"Statystyka testowa KS:\", statystyka_svm3)\n",
        "print(\"P-wartość:\", p_val_svm3)\n",
        "\n",
        "statystyka_svm4, p_val_svm4 = ks_2samp(res_svm_4['mean_test_score'], np.maximum.accumulate(val_svm_4))\n",
        "print('SVM dane 4')\n",
        "print(\"Statystyka testowa KS:\", statystyka_svm4)\n",
        "print(\"P-wartość:\", p_val_svm4)\n",
        "\n",
        "statystyka_gb1, p_val_gb1 = ks_2samp(res_gb_1['mean_test_score'], np.maximum.accumulate(val_gb_1))\n",
        "print('GradientBoosting dane 1')\n",
        "print(\"Statystyka testowa KS:\", statystyka_gb1)\n",
        "print(\"P-wartość:\", p_val_gb1)\n",
        "\n",
        "statystyka_gb2, p_val_gb2 = ks_2samp(res_gb_2['mean_test_score'], np.maximum.accumulate(val_gb_2))\n",
        "print('GradientBoosting dane 2')\n",
        "print(\"Statystyka testowa KS:\", statystyka_gb2)\n",
        "print(\"P-wartość:\", p_val_gb2)\n",
        "\n",
        "statystyka_gb3, p_val_gb3 = ks_2samp(res_gb_3['mean_test_score'], np.maximum.accumulate(val_gb_3))\n",
        "print('GradientBoosting dane 3')\n",
        "print(\"Statystyka testowa KS:\", statystyka_gb3)\n",
        "print(\"P-wartość:\", p_val_gb3)\n",
        "\n",
        "statystyka_gb4, p_val_gb4 = ks_2samp(res_gb_4['mean_test_score'], np.maximum.accumulate(val_gb_4))\n",
        "print('GradientBoosting dane 4')\n",
        "print(\"Statystyka testowa KS:\", statystyka_gb4)\n",
        "print(\"P-wartość:\", p_val_gb4)"
      ],
      "metadata": {
        "colab": {
          "base_uri": "https://localhost:8080/"
        },
        "id": "sfV-lVyUuGzv",
        "outputId": "5d662a3a-47ff-4f76-f12a-0043326a2afe"
      },
      "execution_count": 135,
      "outputs": [
        {
          "output_type": "stream",
          "name": "stdout",
          "text": [
            "RandomForest dane 1\n",
            "Statystyka testowa KS: 1.0\n",
            "P-wartość: 1.582145720489723e-14\n",
            "RandomForest dane 2\n",
            "Statystyka testowa KS: 0.64\n",
            "P-wartość: 3.963961206425733e-05\n",
            "RandomForest dane 3\n",
            "Statystyka testowa KS: 0.8\n",
            "P-wartość: 3.352187066744806e-08\n",
            "RandomForest dane 4\n",
            "Statystyka testowa KS: 1.0\n",
            "P-wartość: 1.582145720489723e-14\n",
            "SVM dane 1\n",
            "Statystyka testowa KS: 0.96\n",
            "P-wartość: 7.910728602448615e-13\n",
            "SVM dane 1\n",
            "Statystyka testowa KS: 0.64\n",
            "P-wartość: 3.963961206425733e-05\n",
            "SVM dane 1\n",
            "Statystyka testowa KS: 0.72\n",
            "P-wartość: 1.580316760036837e-06\n",
            "SVM dane 1\n",
            "Statystyka testowa KS: 0.76\n",
            "P-wartość: 2.514140300058604e-07\n",
            "GradientBoosting dane 1\n",
            "Statystyka testowa KS: 1.0\n",
            "P-wartość: 1.582145720489723e-14\n",
            "GradientBoosting dane 1\n",
            "Statystyka testowa KS: 0.52\n",
            "P-wartość: 0.001920719384568105\n",
            "GradientBoosting dane 1\n",
            "Statystyka testowa KS: 0.96\n",
            "P-wartość: 7.910728602448615e-13\n",
            "GradientBoosting dane 1\n",
            "Statystyka testowa KS: 0.76\n",
            "P-wartość: 2.514140300058604e-07\n"
          ]
        }
      ]
    },
    {
      "cell_type": "markdown",
      "source": [
        "Sprawdzamy czy Bayes przyjmuje średnio większe wartości niż randomizedsearchCv"
      ],
      "metadata": {
        "id": "BcoQIIi3x74f"
      }
    },
    {
      "cell_type": "code",
      "source": [
        "from scipy.stats import ranksums"
      ],
      "metadata": {
        "id": "uPAjyLQSx6fc"
      },
      "execution_count": 137,
      "outputs": []
    },
    {
      "cell_type": "code",
      "source": [
        "\n",
        "statystyka_rf1, p_val_rf1 = ranksums(res_rf_1['mean_test_score'], np.maximum.accumulate(val_rf_1), alternative= 'less')\n",
        "print('RandomForest dane 1')\n",
        "print(\"Statystyka testowa Wilcoxon:\", statystyka_rf1)\n",
        "print(\"P-wartość:\", p_val_rf1)\n",
        "\n",
        "statystyka_rf2, p_val_rf2 = ranksums(res_rf_2['mean_test_score'], np.maximum.accumulate(val_rf_2) , alternative= 'less')\n",
        "print('RandomForest dane 2')\n",
        "print(\"Statystyka testowa Wilcoxon:\", statystyka_rf2)\n",
        "print(\"P-wartość:\", p_val_rf2)\n",
        "\n",
        "statystyka_rf3, p_val_rf3 = ranksums(res_rf_3['mean_test_score'], np.maximum.accumulate(val_rf_3), alternative= 'less')\n",
        "print('RandomForest dane 3')\n",
        "print(\"Statystyka testowa Wilcoxon:\", statystyka_rf3)\n",
        "print(\"P-wartość:\", p_val_rf3)\n",
        "\n",
        "statystyka_rf4, p_val_rf4 = ranksums(res_rf_4['mean_test_score'], np.maximum.accumulate(val_rf_4), alternative= 'less')\n",
        "print('RandomForest dane 4')\n",
        "print(\"Statystyka testowa Wilcoxon:\", statystyka_rf4)\n",
        "print(\"P-wartość:\", p_val_rf4)\n",
        "\n",
        "statystyka_svm1, p_val_svm1 = ranksums(res_svm_1['mean_test_score'], np.maximum.accumulate(val_svm_1), alternative= 'less')\n",
        "print('SVM dane 1')\n",
        "print(\"Statystyka testowa Wilcoxon:\", statystyka_svm1)\n",
        "print(\"P-wartość:\", p_val_svm1)\n",
        "\n",
        "statystyka_svm2, p_val_svm2 = ranksums(res_svm_2['mean_test_score'], np.maximum.accumulate(val_svm_2), alternative= 'less')\n",
        "print('SVM dane 1')\n",
        "print(\"Statystyka testowa Wilcoxon:\", statystyka_svm2)\n",
        "print(\"P-wartość:\", p_val_svm2)\n",
        "\n",
        "statystyka_svm3, p_val_svm3 = ranksums(res_svm_3['mean_test_score'], np.maximum.accumulate(val_svm_3), alternative= 'less')\n",
        "print('SVM dane 1')\n",
        "print(\"Statystyka testowa Wilcoxon:\", statystyka_svm3)\n",
        "print(\"P-wartość:\", p_val_svm3)\n",
        "\n",
        "statystyka_svm4, p_val_svm4 = ranksums(res_svm_4['mean_test_score'], np.maximum.accumulate(val_svm_4), alternative= 'less')\n",
        "print('SVM dane 1')\n",
        "print(\"Statystyka testowa Wilcoxon:\", statystyka_svm4)\n",
        "print(\"P-wartość:\", p_val_svm4)\n",
        "\n",
        "statystyka_gb1, p_val_gb1 = ranksums(res_gb_1['mean_test_score'], np.maximum.accumulate(val_gb_1), alternative= 'less')\n",
        "print('GradientBoosting dane 1')\n",
        "print(\"Statystyka testowa KS:\", statystyka_gb1)\n",
        "print(\"P-wartość:\", p_val_gb1)\n",
        "\n",
        "statystyka_gb2, p_val_gb2 = ranksums(res_gb_2['mean_test_score'], np.maximum.accumulate(val_gb_2), alternative= 'less')\n",
        "print('GradientBoosting dane 1')\n",
        "print(\"Statystyka testowa Wilcoxon:\", statystyka_gb2)\n",
        "print(\"P-wartość:\", p_val_gb2)\n",
        "\n",
        "statystyka_gb3, p_val_gb3 = ranksums(res_gb_3['mean_test_score'], np.maximum.accumulate(val_gb_3), alternative= 'less')\n",
        "print('GradientBoosting dane 1')\n",
        "print(\"Statystyka testowa Wilcoxon:\", statystyka_gb3)\n",
        "print(\"P-wartość:\", p_val_gb3)\n",
        "\n",
        "statystyka_gb4, p_val_gb4 = ranksums(res_gb_4['mean_test_score'], np.maximum.accumulate(val_gb_4), alternative= 'less')\n",
        "print('GradientBoosting dane 1')\n",
        "print(\"Statystyka testowa Wilcoxon:\", statystyka_gb4)\n",
        "print(\"P-wartość:\", p_val_gb4)"
      ],
      "metadata": {
        "colab": {
          "base_uri": "https://localhost:8080/"
        },
        "id": "Ii8HFkMzyVG5",
        "outputId": "95f64477-3610-4ad7-8bd7-c4658d5017b2"
      },
      "execution_count": 139,
      "outputs": [
        {
          "output_type": "stream",
          "name": "stdout",
          "text": [
            "RandomForest dane 1\n",
            "Statystyka testowa Wilcoxon: -6.063390625908324\n",
            "P-wartość: 6.66407147027036e-10\n",
            "RandomForest dane 2\n",
            "Statystyka testowa Wilcoxon: -3.2887830754926752\n",
            "P-wartość: 0.0005031077138389427\n",
            "RandomForest dane 3\n",
            "Statystyka testowa Wilcoxon: -4.860413925728113\n",
            "P-wartość: 5.857028370855434e-07\n",
            "RandomForest dane 4\n",
            "Statystyka testowa Wilcoxon: 6.063390625908324\n",
            "P-wartość: 0.9999999993335928\n",
            "SVM dane 1\n",
            "Statystyka testowa Wilcoxon: -6.024584925902511\n",
            "P-wartość: 8.477208118445542e-10\n",
            "SVM dane 1\n",
            "Statystyka testowa Wilcoxon: -3.8805700005813275\n",
            "P-wartość: 5.210597257904449e-05\n",
            "SVM dane 1\n",
            "Statystyka testowa Wilcoxon: -2.6678918753996625\n",
            "P-wartość: 0.0038164408938961493\n",
            "SVM dane 1\n",
            "Statystyka testowa Wilcoxon: 3.2693802254897686\n",
            "P-wartość: 0.9994610832079034\n",
            "GradientBoosting dane 1\n",
            "Statystyka testowa KS: -6.063390625908324\n",
            "P-wartość: 6.66407147027036e-10\n",
            "GradientBoosting dane 1\n",
            "Statystyka testowa Wilcoxon: -3.1529631254723287\n",
            "P-wartość: 0.0008081111075299929\n",
            "GradientBoosting dane 1\n",
            "Statystyka testowa Wilcoxon: -6.024584925902511\n",
            "P-wartość: 8.477208118445542e-10\n",
            "GradientBoosting dane 1\n",
            "Statystyka testowa Wilcoxon: 3.1529631254723287\n",
            "P-wartość: 0.99919188889247\n"
          ]
        }
      ]
    }
  ],
  "metadata": {
    "colab": {
      "provenance": []
    },
    "kernelspec": {
      "display_name": "Python 3",
      "name": "python3"
    },
    "language_info": {
      "name": "python"
    }
  },
  "nbformat": 4,
  "nbformat_minor": 0
}