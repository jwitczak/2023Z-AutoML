{
 "cells": [
  {
   "cell_type": "code",
   "execution_count": 1,
   "metadata": {},
   "outputs": [
    {
     "data": {
      "text/html": [
       "<div>\n",
       "<style scoped>\n",
       "    .dataframe tbody tr th:only-of-type {\n",
       "        vertical-align: middle;\n",
       "    }\n",
       "\n",
       "    .dataframe tbody tr th {\n",
       "        vertical-align: top;\n",
       "    }\n",
       "\n",
       "    .dataframe thead th {\n",
       "        text-align: right;\n",
       "    }\n",
       "</style>\n",
       "<table border=\"1\" class=\"dataframe\">\n",
       "  <thead>\n",
       "    <tr style=\"text-align: right;\">\n",
       "      <th></th>\n",
       "      <th>0</th>\n",
       "      <th>1</th>\n",
       "      <th>2</th>\n",
       "      <th>3</th>\n",
       "      <th>4</th>\n",
       "      <th>5</th>\n",
       "      <th>6</th>\n",
       "      <th>7</th>\n",
       "      <th>8</th>\n",
       "      <th>9</th>\n",
       "      <th>...</th>\n",
       "      <th>490</th>\n",
       "      <th>491</th>\n",
       "      <th>492</th>\n",
       "      <th>493</th>\n",
       "      <th>494</th>\n",
       "      <th>495</th>\n",
       "      <th>496</th>\n",
       "      <th>497</th>\n",
       "      <th>498</th>\n",
       "      <th>499</th>\n",
       "    </tr>\n",
       "  </thead>\n",
       "  <tbody>\n",
       "    <tr>\n",
       "      <th>0</th>\n",
       "      <td>483</td>\n",
       "      <td>454</td>\n",
       "      <td>513</td>\n",
       "      <td>495</td>\n",
       "      <td>523</td>\n",
       "      <td>469</td>\n",
       "      <td>453</td>\n",
       "      <td>477</td>\n",
       "      <td>506</td>\n",
       "      <td>479</td>\n",
       "      <td>...</td>\n",
       "      <td>455</td>\n",
       "      <td>480</td>\n",
       "      <td>543</td>\n",
       "      <td>259</td>\n",
       "      <td>413</td>\n",
       "      <td>520</td>\n",
       "      <td>485</td>\n",
       "      <td>498</td>\n",
       "      <td>523</td>\n",
       "      <td>510</td>\n",
       "    </tr>\n",
       "    <tr>\n",
       "      <th>1</th>\n",
       "      <td>485</td>\n",
       "      <td>508</td>\n",
       "      <td>493</td>\n",
       "      <td>487</td>\n",
       "      <td>478</td>\n",
       "      <td>472</td>\n",
       "      <td>504</td>\n",
       "      <td>476</td>\n",
       "      <td>479</td>\n",
       "      <td>475</td>\n",
       "      <td>...</td>\n",
       "      <td>486</td>\n",
       "      <td>480</td>\n",
       "      <td>535</td>\n",
       "      <td>534</td>\n",
       "      <td>514</td>\n",
       "      <td>452</td>\n",
       "      <td>484</td>\n",
       "      <td>495</td>\n",
       "      <td>548</td>\n",
       "      <td>477</td>\n",
       "    </tr>\n",
       "    <tr>\n",
       "      <th>2</th>\n",
       "      <td>483</td>\n",
       "      <td>521</td>\n",
       "      <td>507</td>\n",
       "      <td>475</td>\n",
       "      <td>493</td>\n",
       "      <td>486</td>\n",
       "      <td>421</td>\n",
       "      <td>475</td>\n",
       "      <td>496</td>\n",
       "      <td>483</td>\n",
       "      <td>...</td>\n",
       "      <td>491</td>\n",
       "      <td>476</td>\n",
       "      <td>498</td>\n",
       "      <td>495</td>\n",
       "      <td>508</td>\n",
       "      <td>528</td>\n",
       "      <td>486</td>\n",
       "      <td>465</td>\n",
       "      <td>508</td>\n",
       "      <td>503</td>\n",
       "    </tr>\n",
       "    <tr>\n",
       "      <th>3</th>\n",
       "      <td>474</td>\n",
       "      <td>504</td>\n",
       "      <td>576</td>\n",
       "      <td>480</td>\n",
       "      <td>553</td>\n",
       "      <td>483</td>\n",
       "      <td>524</td>\n",
       "      <td>478</td>\n",
       "      <td>483</td>\n",
       "      <td>483</td>\n",
       "      <td>...</td>\n",
       "      <td>521</td>\n",
       "      <td>475</td>\n",
       "      <td>470</td>\n",
       "      <td>463</td>\n",
       "      <td>509</td>\n",
       "      <td>525</td>\n",
       "      <td>479</td>\n",
       "      <td>467</td>\n",
       "      <td>552</td>\n",
       "      <td>517</td>\n",
       "    </tr>\n",
       "    <tr>\n",
       "      <th>4</th>\n",
       "      <td>495</td>\n",
       "      <td>474</td>\n",
       "      <td>523</td>\n",
       "      <td>479</td>\n",
       "      <td>495</td>\n",
       "      <td>488</td>\n",
       "      <td>485</td>\n",
       "      <td>476</td>\n",
       "      <td>497</td>\n",
       "      <td>478</td>\n",
       "      <td>...</td>\n",
       "      <td>510</td>\n",
       "      <td>471</td>\n",
       "      <td>522</td>\n",
       "      <td>343</td>\n",
       "      <td>509</td>\n",
       "      <td>520</td>\n",
       "      <td>475</td>\n",
       "      <td>493</td>\n",
       "      <td>506</td>\n",
       "      <td>491</td>\n",
       "    </tr>\n",
       "    <tr>\n",
       "      <th>...</th>\n",
       "      <td>...</td>\n",
       "      <td>...</td>\n",
       "      <td>...</td>\n",
       "      <td>...</td>\n",
       "      <td>...</td>\n",
       "      <td>...</td>\n",
       "      <td>...</td>\n",
       "      <td>...</td>\n",
       "      <td>...</td>\n",
       "      <td>...</td>\n",
       "      <td>...</td>\n",
       "      <td>...</td>\n",
       "      <td>...</td>\n",
       "      <td>...</td>\n",
       "      <td>...</td>\n",
       "      <td>...</td>\n",
       "      <td>...</td>\n",
       "      <td>...</td>\n",
       "      <td>...</td>\n",
       "      <td>...</td>\n",
       "      <td>...</td>\n",
       "    </tr>\n",
       "    <tr>\n",
       "      <th>595</th>\n",
       "      <td>493</td>\n",
       "      <td>458</td>\n",
       "      <td>503</td>\n",
       "      <td>478</td>\n",
       "      <td>517</td>\n",
       "      <td>479</td>\n",
       "      <td>472</td>\n",
       "      <td>478</td>\n",
       "      <td>444</td>\n",
       "      <td>477</td>\n",
       "      <td>...</td>\n",
       "      <td>469</td>\n",
       "      <td>475</td>\n",
       "      <td>485</td>\n",
       "      <td>443</td>\n",
       "      <td>517</td>\n",
       "      <td>486</td>\n",
       "      <td>474</td>\n",
       "      <td>489</td>\n",
       "      <td>506</td>\n",
       "      <td>506</td>\n",
       "    </tr>\n",
       "    <tr>\n",
       "      <th>596</th>\n",
       "      <td>481</td>\n",
       "      <td>484</td>\n",
       "      <td>481</td>\n",
       "      <td>490</td>\n",
       "      <td>449</td>\n",
       "      <td>481</td>\n",
       "      <td>467</td>\n",
       "      <td>478</td>\n",
       "      <td>469</td>\n",
       "      <td>483</td>\n",
       "      <td>...</td>\n",
       "      <td>506</td>\n",
       "      <td>485</td>\n",
       "      <td>508</td>\n",
       "      <td>599</td>\n",
       "      <td>498</td>\n",
       "      <td>527</td>\n",
       "      <td>481</td>\n",
       "      <td>490</td>\n",
       "      <td>455</td>\n",
       "      <td>451</td>\n",
       "    </tr>\n",
       "    <tr>\n",
       "      <th>597</th>\n",
       "      <td>485</td>\n",
       "      <td>485</td>\n",
       "      <td>530</td>\n",
       "      <td>480</td>\n",
       "      <td>444</td>\n",
       "      <td>487</td>\n",
       "      <td>462</td>\n",
       "      <td>475</td>\n",
       "      <td>509</td>\n",
       "      <td>494</td>\n",
       "      <td>...</td>\n",
       "      <td>442</td>\n",
       "      <td>474</td>\n",
       "      <td>502</td>\n",
       "      <td>368</td>\n",
       "      <td>453</td>\n",
       "      <td>482</td>\n",
       "      <td>478</td>\n",
       "      <td>481</td>\n",
       "      <td>484</td>\n",
       "      <td>517</td>\n",
       "    </tr>\n",
       "    <tr>\n",
       "      <th>598</th>\n",
       "      <td>477</td>\n",
       "      <td>469</td>\n",
       "      <td>528</td>\n",
       "      <td>485</td>\n",
       "      <td>483</td>\n",
       "      <td>469</td>\n",
       "      <td>482</td>\n",
       "      <td>477</td>\n",
       "      <td>494</td>\n",
       "      <td>476</td>\n",
       "      <td>...</td>\n",
       "      <td>473</td>\n",
       "      <td>476</td>\n",
       "      <td>453</td>\n",
       "      <td>638</td>\n",
       "      <td>471</td>\n",
       "      <td>538</td>\n",
       "      <td>470</td>\n",
       "      <td>490</td>\n",
       "      <td>613</td>\n",
       "      <td>492</td>\n",
       "    </tr>\n",
       "    <tr>\n",
       "      <th>599</th>\n",
       "      <td>482</td>\n",
       "      <td>453</td>\n",
       "      <td>515</td>\n",
       "      <td>481</td>\n",
       "      <td>500</td>\n",
       "      <td>493</td>\n",
       "      <td>503</td>\n",
       "      <td>477</td>\n",
       "      <td>501</td>\n",
       "      <td>475</td>\n",
       "      <td>...</td>\n",
       "      <td>484</td>\n",
       "      <td>478</td>\n",
       "      <td>487</td>\n",
       "      <td>694</td>\n",
       "      <td>493</td>\n",
       "      <td>499</td>\n",
       "      <td>474</td>\n",
       "      <td>494</td>\n",
       "      <td>536</td>\n",
       "      <td>526</td>\n",
       "    </tr>\n",
       "  </tbody>\n",
       "</table>\n",
       "<p>600 rows × 500 columns</p>\n",
       "</div>"
      ],
      "text/plain": [
       "     0    1    2    3    4    5    6    7    8    9    ...  490  491  492  \\\n",
       "0    483  454  513  495  523  469  453  477  506  479  ...  455  480  543   \n",
       "1    485  508  493  487  478  472  504  476  479  475  ...  486  480  535   \n",
       "2    483  521  507  475  493  486  421  475  496  483  ...  491  476  498   \n",
       "3    474  504  576  480  553  483  524  478  483  483  ...  521  475  470   \n",
       "4    495  474  523  479  495  488  485  476  497  478  ...  510  471  522   \n",
       "..   ...  ...  ...  ...  ...  ...  ...  ...  ...  ...  ...  ...  ...  ...   \n",
       "595  493  458  503  478  517  479  472  478  444  477  ...  469  475  485   \n",
       "596  481  484  481  490  449  481  467  478  469  483  ...  506  485  508   \n",
       "597  485  485  530  480  444  487  462  475  509  494  ...  442  474  502   \n",
       "598  477  469  528  485  483  469  482  477  494  476  ...  473  476  453   \n",
       "599  482  453  515  481  500  493  503  477  501  475  ...  484  478  487   \n",
       "\n",
       "     493  494  495  496  497  498  499  \n",
       "0    259  413  520  485  498  523  510  \n",
       "1    534  514  452  484  495  548  477  \n",
       "2    495  508  528  486  465  508  503  \n",
       "3    463  509  525  479  467  552  517  \n",
       "4    343  509  520  475  493  506  491  \n",
       "..   ...  ...  ...  ...  ...  ...  ...  \n",
       "595  443  517  486  474  489  506  506  \n",
       "596  599  498  527  481  490  455  451  \n",
       "597  368  453  482  478  481  484  517  \n",
       "598  638  471  538  470  490  613  492  \n",
       "599  694  493  499  474  494  536  526  \n",
       "\n",
       "[600 rows x 500 columns]"
      ]
     },
     "execution_count": 1,
     "metadata": {},
     "output_type": "execute_result"
    }
   ],
   "source": [
    "import pandas as pd\n",
    "df_ultimate_test = pd.read_table(\"artificial_test.data\", sep=\" \", header=None)\n",
    "df_ultimate_test = df_ultimate_test.drop(df_ultimate_test.columns[500], axis=1) # kolumna 500 do wyrzucenia\n",
    "df_ultimate_test"
   ]
  },
  {
   "cell_type": "code",
   "execution_count": 2,
   "metadata": {},
   "outputs": [
    {
     "data": {
      "text/html": [
       "<div>\n",
       "<style scoped>\n",
       "    .dataframe tbody tr th:only-of-type {\n",
       "        vertical-align: middle;\n",
       "    }\n",
       "\n",
       "    .dataframe tbody tr th {\n",
       "        vertical-align: top;\n",
       "    }\n",
       "\n",
       "    .dataframe thead th {\n",
       "        text-align: right;\n",
       "    }\n",
       "</style>\n",
       "<table border=\"1\" class=\"dataframe\">\n",
       "  <thead>\n",
       "    <tr style=\"text-align: right;\">\n",
       "      <th></th>\n",
       "      <th>0</th>\n",
       "      <th>1</th>\n",
       "      <th>2</th>\n",
       "      <th>3</th>\n",
       "      <th>4</th>\n",
       "      <th>5</th>\n",
       "      <th>6</th>\n",
       "      <th>7</th>\n",
       "      <th>8</th>\n",
       "      <th>9</th>\n",
       "      <th>...</th>\n",
       "      <th>490</th>\n",
       "      <th>491</th>\n",
       "      <th>492</th>\n",
       "      <th>493</th>\n",
       "      <th>494</th>\n",
       "      <th>495</th>\n",
       "      <th>496</th>\n",
       "      <th>497</th>\n",
       "      <th>498</th>\n",
       "      <th>499</th>\n",
       "    </tr>\n",
       "  </thead>\n",
       "  <tbody>\n",
       "    <tr>\n",
       "      <th>0</th>\n",
       "      <td>485</td>\n",
       "      <td>477</td>\n",
       "      <td>537</td>\n",
       "      <td>479</td>\n",
       "      <td>452</td>\n",
       "      <td>471</td>\n",
       "      <td>491</td>\n",
       "      <td>476</td>\n",
       "      <td>475</td>\n",
       "      <td>473</td>\n",
       "      <td>...</td>\n",
       "      <td>477</td>\n",
       "      <td>481</td>\n",
       "      <td>477</td>\n",
       "      <td>485</td>\n",
       "      <td>511</td>\n",
       "      <td>485</td>\n",
       "      <td>481</td>\n",
       "      <td>479</td>\n",
       "      <td>475</td>\n",
       "      <td>496</td>\n",
       "    </tr>\n",
       "    <tr>\n",
       "      <th>1</th>\n",
       "      <td>483</td>\n",
       "      <td>458</td>\n",
       "      <td>460</td>\n",
       "      <td>487</td>\n",
       "      <td>587</td>\n",
       "      <td>475</td>\n",
       "      <td>526</td>\n",
       "      <td>479</td>\n",
       "      <td>485</td>\n",
       "      <td>469</td>\n",
       "      <td>...</td>\n",
       "      <td>463</td>\n",
       "      <td>478</td>\n",
       "      <td>487</td>\n",
       "      <td>338</td>\n",
       "      <td>513</td>\n",
       "      <td>486</td>\n",
       "      <td>483</td>\n",
       "      <td>492</td>\n",
       "      <td>510</td>\n",
       "      <td>517</td>\n",
       "    </tr>\n",
       "    <tr>\n",
       "      <th>2</th>\n",
       "      <td>487</td>\n",
       "      <td>542</td>\n",
       "      <td>499</td>\n",
       "      <td>468</td>\n",
       "      <td>448</td>\n",
       "      <td>471</td>\n",
       "      <td>442</td>\n",
       "      <td>478</td>\n",
       "      <td>480</td>\n",
       "      <td>477</td>\n",
       "      <td>...</td>\n",
       "      <td>487</td>\n",
       "      <td>481</td>\n",
       "      <td>492</td>\n",
       "      <td>650</td>\n",
       "      <td>506</td>\n",
       "      <td>501</td>\n",
       "      <td>480</td>\n",
       "      <td>489</td>\n",
       "      <td>499</td>\n",
       "      <td>498</td>\n",
       "    </tr>\n",
       "    <tr>\n",
       "      <th>3</th>\n",
       "      <td>480</td>\n",
       "      <td>491</td>\n",
       "      <td>510</td>\n",
       "      <td>485</td>\n",
       "      <td>495</td>\n",
       "      <td>472</td>\n",
       "      <td>417</td>\n",
       "      <td>474</td>\n",
       "      <td>502</td>\n",
       "      <td>476</td>\n",
       "      <td>...</td>\n",
       "      <td>491</td>\n",
       "      <td>480</td>\n",
       "      <td>474</td>\n",
       "      <td>572</td>\n",
       "      <td>454</td>\n",
       "      <td>469</td>\n",
       "      <td>475</td>\n",
       "      <td>482</td>\n",
       "      <td>494</td>\n",
       "      <td>461</td>\n",
       "    </tr>\n",
       "    <tr>\n",
       "      <th>4</th>\n",
       "      <td>484</td>\n",
       "      <td>502</td>\n",
       "      <td>528</td>\n",
       "      <td>489</td>\n",
       "      <td>466</td>\n",
       "      <td>481</td>\n",
       "      <td>402</td>\n",
       "      <td>478</td>\n",
       "      <td>487</td>\n",
       "      <td>468</td>\n",
       "      <td>...</td>\n",
       "      <td>488</td>\n",
       "      <td>479</td>\n",
       "      <td>452</td>\n",
       "      <td>435</td>\n",
       "      <td>486</td>\n",
       "      <td>508</td>\n",
       "      <td>481</td>\n",
       "      <td>504</td>\n",
       "      <td>495</td>\n",
       "      <td>511</td>\n",
       "    </tr>\n",
       "    <tr>\n",
       "      <th>...</th>\n",
       "      <td>...</td>\n",
       "      <td>...</td>\n",
       "      <td>...</td>\n",
       "      <td>...</td>\n",
       "      <td>...</td>\n",
       "      <td>...</td>\n",
       "      <td>...</td>\n",
       "      <td>...</td>\n",
       "      <td>...</td>\n",
       "      <td>...</td>\n",
       "      <td>...</td>\n",
       "      <td>...</td>\n",
       "      <td>...</td>\n",
       "      <td>...</td>\n",
       "      <td>...</td>\n",
       "      <td>...</td>\n",
       "      <td>...</td>\n",
       "      <td>...</td>\n",
       "      <td>...</td>\n",
       "      <td>...</td>\n",
       "      <td>...</td>\n",
       "    </tr>\n",
       "    <tr>\n",
       "      <th>1995</th>\n",
       "      <td>490</td>\n",
       "      <td>505</td>\n",
       "      <td>503</td>\n",
       "      <td>474</td>\n",
       "      <td>463</td>\n",
       "      <td>461</td>\n",
       "      <td>519</td>\n",
       "      <td>476</td>\n",
       "      <td>518</td>\n",
       "      <td>467</td>\n",
       "      <td>...</td>\n",
       "      <td>467</td>\n",
       "      <td>479</td>\n",
       "      <td>449</td>\n",
       "      <td>588</td>\n",
       "      <td>499</td>\n",
       "      <td>506</td>\n",
       "      <td>475</td>\n",
       "      <td>463</td>\n",
       "      <td>507</td>\n",
       "      <td>501</td>\n",
       "    </tr>\n",
       "    <tr>\n",
       "      <th>1996</th>\n",
       "      <td>480</td>\n",
       "      <td>475</td>\n",
       "      <td>476</td>\n",
       "      <td>480</td>\n",
       "      <td>495</td>\n",
       "      <td>482</td>\n",
       "      <td>515</td>\n",
       "      <td>479</td>\n",
       "      <td>480</td>\n",
       "      <td>484</td>\n",
       "      <td>...</td>\n",
       "      <td>464</td>\n",
       "      <td>474</td>\n",
       "      <td>473</td>\n",
       "      <td>424</td>\n",
       "      <td>454</td>\n",
       "      <td>570</td>\n",
       "      <td>476</td>\n",
       "      <td>493</td>\n",
       "      <td>465</td>\n",
       "      <td>485</td>\n",
       "    </tr>\n",
       "    <tr>\n",
       "      <th>1997</th>\n",
       "      <td>480</td>\n",
       "      <td>517</td>\n",
       "      <td>631</td>\n",
       "      <td>470</td>\n",
       "      <td>485</td>\n",
       "      <td>474</td>\n",
       "      <td>535</td>\n",
       "      <td>476</td>\n",
       "      <td>493</td>\n",
       "      <td>466</td>\n",
       "      <td>...</td>\n",
       "      <td>501</td>\n",
       "      <td>483</td>\n",
       "      <td>479</td>\n",
       "      <td>687</td>\n",
       "      <td>488</td>\n",
       "      <td>488</td>\n",
       "      <td>483</td>\n",
       "      <td>500</td>\n",
       "      <td>523</td>\n",
       "      <td>481</td>\n",
       "    </tr>\n",
       "    <tr>\n",
       "      <th>1998</th>\n",
       "      <td>484</td>\n",
       "      <td>481</td>\n",
       "      <td>505</td>\n",
       "      <td>478</td>\n",
       "      <td>542</td>\n",
       "      <td>477</td>\n",
       "      <td>518</td>\n",
       "      <td>477</td>\n",
       "      <td>510</td>\n",
       "      <td>472</td>\n",
       "      <td>...</td>\n",
       "      <td>487</td>\n",
       "      <td>483</td>\n",
       "      <td>526</td>\n",
       "      <td>750</td>\n",
       "      <td>486</td>\n",
       "      <td>529</td>\n",
       "      <td>484</td>\n",
       "      <td>473</td>\n",
       "      <td>527</td>\n",
       "      <td>485</td>\n",
       "    </tr>\n",
       "    <tr>\n",
       "      <th>1999</th>\n",
       "      <td>474</td>\n",
       "      <td>493</td>\n",
       "      <td>469</td>\n",
       "      <td>486</td>\n",
       "      <td>521</td>\n",
       "      <td>475</td>\n",
       "      <td>494</td>\n",
       "      <td>479</td>\n",
       "      <td>481</td>\n",
       "      <td>473</td>\n",
       "      <td>...</td>\n",
       "      <td>467</td>\n",
       "      <td>476</td>\n",
       "      <td>508</td>\n",
       "      <td>449</td>\n",
       "      <td>463</td>\n",
       "      <td>533</td>\n",
       "      <td>481</td>\n",
       "      <td>489</td>\n",
       "      <td>516</td>\n",
       "      <td>516</td>\n",
       "    </tr>\n",
       "  </tbody>\n",
       "</table>\n",
       "<p>2000 rows × 500 columns</p>\n",
       "</div>"
      ],
      "text/plain": [
       "      0    1    2    3    4    5    6    7    8    9    ...  490  491  492  \\\n",
       "0     485  477  537  479  452  471  491  476  475  473  ...  477  481  477   \n",
       "1     483  458  460  487  587  475  526  479  485  469  ...  463  478  487   \n",
       "2     487  542  499  468  448  471  442  478  480  477  ...  487  481  492   \n",
       "3     480  491  510  485  495  472  417  474  502  476  ...  491  480  474   \n",
       "4     484  502  528  489  466  481  402  478  487  468  ...  488  479  452   \n",
       "...   ...  ...  ...  ...  ...  ...  ...  ...  ...  ...  ...  ...  ...  ...   \n",
       "1995  490  505  503  474  463  461  519  476  518  467  ...  467  479  449   \n",
       "1996  480  475  476  480  495  482  515  479  480  484  ...  464  474  473   \n",
       "1997  480  517  631  470  485  474  535  476  493  466  ...  501  483  479   \n",
       "1998  484  481  505  478  542  477  518  477  510  472  ...  487  483  526   \n",
       "1999  474  493  469  486  521  475  494  479  481  473  ...  467  476  508   \n",
       "\n",
       "      493  494  495  496  497  498  499  \n",
       "0     485  511  485  481  479  475  496  \n",
       "1     338  513  486  483  492  510  517  \n",
       "2     650  506  501  480  489  499  498  \n",
       "3     572  454  469  475  482  494  461  \n",
       "4     435  486  508  481  504  495  511  \n",
       "...   ...  ...  ...  ...  ...  ...  ...  \n",
       "1995  588  499  506  475  463  507  501  \n",
       "1996  424  454  570  476  493  465  485  \n",
       "1997  687  488  488  483  500  523  481  \n",
       "1998  750  486  529  484  473  527  485  \n",
       "1999  449  463  533  481  489  516  516  \n",
       "\n",
       "[2000 rows x 500 columns]"
      ]
     },
     "execution_count": 2,
     "metadata": {},
     "output_type": "execute_result"
    }
   ],
   "source": [
    "df_data_X = pd.read_table(\"artificial_train.data\", sep=\" \", header=None)\n",
    "df_data_X = df_data_X.drop(df_data_X.columns[500], axis=1)\n",
    "df_data_X"
   ]
  },
  {
   "cell_type": "code",
   "execution_count": 3,
   "metadata": {},
   "outputs": [
    {
     "data": {
      "text/html": [
       "<div>\n",
       "<style scoped>\n",
       "    .dataframe tbody tr th:only-of-type {\n",
       "        vertical-align: middle;\n",
       "    }\n",
       "\n",
       "    .dataframe tbody tr th {\n",
       "        vertical-align: top;\n",
       "    }\n",
       "\n",
       "    .dataframe thead th {\n",
       "        text-align: right;\n",
       "    }\n",
       "</style>\n",
       "<table border=\"1\" class=\"dataframe\">\n",
       "  <thead>\n",
       "    <tr style=\"text-align: right;\">\n",
       "      <th></th>\n",
       "      <th>0</th>\n",
       "    </tr>\n",
       "  </thead>\n",
       "  <tbody>\n",
       "    <tr>\n",
       "      <th>0</th>\n",
       "      <td>-1</td>\n",
       "    </tr>\n",
       "    <tr>\n",
       "      <th>1</th>\n",
       "      <td>-1</td>\n",
       "    </tr>\n",
       "    <tr>\n",
       "      <th>2</th>\n",
       "      <td>-1</td>\n",
       "    </tr>\n",
       "    <tr>\n",
       "      <th>3</th>\n",
       "      <td>1</td>\n",
       "    </tr>\n",
       "    <tr>\n",
       "      <th>4</th>\n",
       "      <td>1</td>\n",
       "    </tr>\n",
       "    <tr>\n",
       "      <th>...</th>\n",
       "      <td>...</td>\n",
       "    </tr>\n",
       "    <tr>\n",
       "      <th>1995</th>\n",
       "      <td>1</td>\n",
       "    </tr>\n",
       "    <tr>\n",
       "      <th>1996</th>\n",
       "      <td>-1</td>\n",
       "    </tr>\n",
       "    <tr>\n",
       "      <th>1997</th>\n",
       "      <td>-1</td>\n",
       "    </tr>\n",
       "    <tr>\n",
       "      <th>1998</th>\n",
       "      <td>1</td>\n",
       "    </tr>\n",
       "    <tr>\n",
       "      <th>1999</th>\n",
       "      <td>1</td>\n",
       "    </tr>\n",
       "  </tbody>\n",
       "</table>\n",
       "<p>2000 rows × 1 columns</p>\n",
       "</div>"
      ],
      "text/plain": [
       "      0\n",
       "0    -1\n",
       "1    -1\n",
       "2    -1\n",
       "3     1\n",
       "4     1\n",
       "...  ..\n",
       "1995  1\n",
       "1996 -1\n",
       "1997 -1\n",
       "1998  1\n",
       "1999  1\n",
       "\n",
       "[2000 rows x 1 columns]"
      ]
     },
     "execution_count": 3,
     "metadata": {},
     "output_type": "execute_result"
    }
   ],
   "source": [
    "df_data_Y = pd.read_table(\"artificial_train.labels\", sep=\" \", header=None)\n",
    "df_data_Y"
   ]
  },
  {
   "cell_type": "code",
   "execution_count": 5,
   "metadata": {},
   "outputs": [],
   "source": [
    "from sklearn.model_selection import train_test_split\n",
    "from sklearn.metrics import balanced_accuracy_score\n",
    "X_train, X_test, y_train, y_test = train_test_split(df_data_X, df_data_Y, test_size=0.33, random_state=4)"
   ]
  },
  {
   "cell_type": "code",
   "execution_count": 10,
   "metadata": {},
   "outputs": [
    {
     "data": {
      "text/html": [
       "<style>#sk-container-id-1 {color: black;}#sk-container-id-1 pre{padding: 0;}#sk-container-id-1 div.sk-toggleable {background-color: white;}#sk-container-id-1 label.sk-toggleable__label {cursor: pointer;display: block;width: 100%;margin-bottom: 0;padding: 0.3em;box-sizing: border-box;text-align: center;}#sk-container-id-1 label.sk-toggleable__label-arrow:before {content: \"▸\";float: left;margin-right: 0.25em;color: #696969;}#sk-container-id-1 label.sk-toggleable__label-arrow:hover:before {color: black;}#sk-container-id-1 div.sk-estimator:hover label.sk-toggleable__label-arrow:before {color: black;}#sk-container-id-1 div.sk-toggleable__content {max-height: 0;max-width: 0;overflow: hidden;text-align: left;background-color: #f0f8ff;}#sk-container-id-1 div.sk-toggleable__content pre {margin: 0.2em;color: black;border-radius: 0.25em;background-color: #f0f8ff;}#sk-container-id-1 input.sk-toggleable__control:checked~div.sk-toggleable__content {max-height: 200px;max-width: 100%;overflow: auto;}#sk-container-id-1 input.sk-toggleable__control:checked~label.sk-toggleable__label-arrow:before {content: \"▾\";}#sk-container-id-1 div.sk-estimator input.sk-toggleable__control:checked~label.sk-toggleable__label {background-color: #d4ebff;}#sk-container-id-1 div.sk-label input.sk-toggleable__control:checked~label.sk-toggleable__label {background-color: #d4ebff;}#sk-container-id-1 input.sk-hidden--visually {border: 0;clip: rect(1px 1px 1px 1px);clip: rect(1px, 1px, 1px, 1px);height: 1px;margin: -1px;overflow: hidden;padding: 0;position: absolute;width: 1px;}#sk-container-id-1 div.sk-estimator {font-family: monospace;background-color: #f0f8ff;border: 1px dotted black;border-radius: 0.25em;box-sizing: border-box;margin-bottom: 0.5em;}#sk-container-id-1 div.sk-estimator:hover {background-color: #d4ebff;}#sk-container-id-1 div.sk-parallel-item::after {content: \"\";width: 100%;border-bottom: 1px solid gray;flex-grow: 1;}#sk-container-id-1 div.sk-label:hover label.sk-toggleable__label {background-color: #d4ebff;}#sk-container-id-1 div.sk-serial::before {content: \"\";position: absolute;border-left: 1px solid gray;box-sizing: border-box;top: 0;bottom: 0;left: 50%;z-index: 0;}#sk-container-id-1 div.sk-serial {display: flex;flex-direction: column;align-items: center;background-color: white;padding-right: 0.2em;padding-left: 0.2em;position: relative;}#sk-container-id-1 div.sk-item {position: relative;z-index: 1;}#sk-container-id-1 div.sk-parallel {display: flex;align-items: stretch;justify-content: center;background-color: white;position: relative;}#sk-container-id-1 div.sk-item::before, #sk-container-id-1 div.sk-parallel-item::before {content: \"\";position: absolute;border-left: 1px solid gray;box-sizing: border-box;top: 0;bottom: 0;left: 50%;z-index: -1;}#sk-container-id-1 div.sk-parallel-item {display: flex;flex-direction: column;z-index: 1;position: relative;background-color: white;}#sk-container-id-1 div.sk-parallel-item:first-child::after {align-self: flex-end;width: 50%;}#sk-container-id-1 div.sk-parallel-item:last-child::after {align-self: flex-start;width: 50%;}#sk-container-id-1 div.sk-parallel-item:only-child::after {width: 0;}#sk-container-id-1 div.sk-dashed-wrapped {border: 1px dashed gray;margin: 0 0.4em 0.5em 0.4em;box-sizing: border-box;padding-bottom: 0.4em;background-color: white;}#sk-container-id-1 div.sk-label label {font-family: monospace;font-weight: bold;display: inline-block;line-height: 1.2em;}#sk-container-id-1 div.sk-label-container {text-align: center;}#sk-container-id-1 div.sk-container {/* jupyter's `normalize.less` sets `[hidden] { display: none; }` but bootstrap.min.css set `[hidden] { display: none !important; }` so we also need the `!important` here to be able to override the default hidden behavior on the sphinx rendered scikit-learn.org. See: https://github.com/scikit-learn/scikit-learn/issues/21755 */display: inline-block !important;position: relative;}#sk-container-id-1 div.sk-text-repr-fallback {display: none;}</style><div id=\"sk-container-id-1\" class=\"sk-top-container\"><div class=\"sk-text-repr-fallback\"><pre>XGBClassifier(alpha=10, base_score=None, booster=None, callbacks=None,\n",
       "              colsample_bylevel=None, colsample_bynode=None,\n",
       "              colsample_bytree=0.3, device=None, early_stopping_rounds=None,\n",
       "              enable_categorical=False, eval_metric=None, feature_types=None,\n",
       "              gamma=None, grow_policy=None, importance_type=None,\n",
       "              interaction_constraints=None, learning_rate=0.1, max_bin=None,\n",
       "              max_cat_threshold=None, max_cat_to_onehot=None,\n",
       "              max_delta_step=None, max_depth=5, max_leaves=None,\n",
       "              min_child_weight=None, missing=nan, monotone_constraints=None,\n",
       "              multi_strategy=None, n_estimators=None, n_jobs=None,\n",
       "              num_parallel_tree=None, ...)</pre><b>In a Jupyter environment, please rerun this cell to show the HTML representation or trust the notebook. <br />On GitHub, the HTML representation is unable to render, please try loading this page with nbviewer.org.</b></div><div class=\"sk-container\" hidden><div class=\"sk-item\"><div class=\"sk-estimator sk-toggleable\"><input class=\"sk-toggleable__control sk-hidden--visually\" id=\"sk-estimator-id-1\" type=\"checkbox\" checked><label for=\"sk-estimator-id-1\" class=\"sk-toggleable__label sk-toggleable__label-arrow\">XGBClassifier</label><div class=\"sk-toggleable__content\"><pre>XGBClassifier(alpha=10, base_score=None, booster=None, callbacks=None,\n",
       "              colsample_bylevel=None, colsample_bynode=None,\n",
       "              colsample_bytree=0.3, device=None, early_stopping_rounds=None,\n",
       "              enable_categorical=False, eval_metric=None, feature_types=None,\n",
       "              gamma=None, grow_policy=None, importance_type=None,\n",
       "              interaction_constraints=None, learning_rate=0.1, max_bin=None,\n",
       "              max_cat_threshold=None, max_cat_to_onehot=None,\n",
       "              max_delta_step=None, max_depth=5, max_leaves=None,\n",
       "              min_child_weight=None, missing=nan, monotone_constraints=None,\n",
       "              multi_strategy=None, n_estimators=None, n_jobs=None,\n",
       "              num_parallel_tree=None, ...)</pre></div></div></div></div></div>"
      ],
      "text/plain": [
       "XGBClassifier(alpha=10, base_score=None, booster=None, callbacks=None,\n",
       "              colsample_bylevel=None, colsample_bynode=None,\n",
       "              colsample_bytree=0.3, device=None, early_stopping_rounds=None,\n",
       "              enable_categorical=False, eval_metric=None, feature_types=None,\n",
       "              gamma=None, grow_policy=None, importance_type=None,\n",
       "              interaction_constraints=None, learning_rate=0.1, max_bin=None,\n",
       "              max_cat_threshold=None, max_cat_to_onehot=None,\n",
       "              max_delta_step=None, max_depth=5, max_leaves=None,\n",
       "              min_child_weight=None, missing=nan, monotone_constraints=None,\n",
       "              multi_strategy=None, n_estimators=None, n_jobs=None,\n",
       "              num_parallel_tree=None, ...)"
      ]
     },
     "execution_count": 10,
     "metadata": {},
     "output_type": "execute_result"
    }
   ],
   "source": [
    "# potencjalne wrzucenie do pipeline'u wyciaganie z xgb i pca\n",
    "import xgboost as xgb\n",
    "params = {\"objective\":\"binary:logistic\",'colsample_bytree': 0.3,'learning_rate': 0.1,\n",
    "                'max_depth': 5, 'alpha': 10}\n",
    "classification = xgb.XGBClassifier(**params)\n",
    "df_data_Y_mapped = df_data_Y\n",
    "df_data_Y_mapped[df_data_Y_mapped == -1] = 0\n",
    "classification.fit(df_data_X, df_data_Y_mapped)"
   ]
  },
  {
   "cell_type": "code",
   "execution_count": 20,
   "metadata": {},
   "outputs": [
    {
     "data": {
      "text/plain": [
       "Index([  0,   1,   2,   3,   4,   5,   6,   7,   8,   9,\n",
       "       ...\n",
       "       490, 491, 492, 493, 494, 495, 496, 497, 498, 499],\n",
       "      dtype='int64', length=500)"
      ]
     },
     "execution_count": 20,
     "metadata": {},
     "output_type": "execute_result"
    }
   ],
   "source": [
    "df_data_X.columns"
   ]
  },
  {
   "cell_type": "code",
   "execution_count": null,
   "metadata": {},
   "outputs": [],
   "source": []
  },
  {
   "cell_type": "code",
   "execution_count": null,
   "metadata": {},
   "outputs": [],
   "source": [
    "from sklearn.decomposition import PCA\n",
    "from sklearn.feature_selection import SelectKBest\n",
    "from sklearn.pipeline import Pipeline, FeatureUnion\n",
    "from sklearn.model_selection import GridSearchCV\n",
    "from sklearn.ensemble import RandomForestClassifier\n",
    "from sklearn.compose import ColumnTransformer\n",
    "\n",
    "pca = PCA(n_components=7, svd_solver='full')\n",
    "selection = SelectKBest()\n",
    "\n",
    "pca_pipeline = Pipeline(steps=[('pca', pca)])\n",
    "univ_select_pipeline = Pipeline(steps = [('selectKBest', selection)])\n",
    "\n",
    "# Define feature union\n",
    "features_reductor = ColumnTransformer(transformers = [(\"pca\", pca_pipeline, df_data_X.columns), \n",
    "                                                      (\"univ_select\", univ_select_pipeline, df_data_X.columns)], \n",
    "                                                      remainder='passthrough')\n",
    "\n",
    "# Define classifier\n",
    "rf = RandomForestClassifier()\n",
    "\n",
    "# Define pipeline\n",
    "pipeline = Pipeline([(\"features\", combined_features), (\"rf\", rf)])\n",
    "\n",
    "# Define parameter grid\n",
    "param_grid = {\n",
    "    'features__pca__n_components': [10, 20, 30],\n",
    "    'features__univ_select__k': [10, 20],\n",
    "}\n",
    "\n",
    "# Define grid search\n",
    "grid_search = GridSearchCV(pipeline, param_grid, cv=5, verbose=10, n_jobs=-1)\n",
    "\n",
    "# Fit grid search\n",
    "grid_search.fit(X, y)"
   ]
  },
  {
   "cell_type": "code",
   "execution_count": 18,
   "metadata": {},
   "outputs": [
    {
     "name": "stdout",
     "output_type": "stream",
     "text": [
      "Feature    499.000000\n",
      "F-Score      0.016533\n",
      "dtype: float64\n"
     ]
    }
   ],
   "source": [
    "#classification.feature_importances_\n",
    "feature_importance_df = pd.DataFrame({\"Feature\": df_data_X.columns, \"F-Score\": classification.feature_importances_})\n",
    "print(feature_importance_df.max())\n",
    "# selected_features = feature_importance_df[feature_importance_df[\"F-Score\"] >= 10][\"Feature\"].tolist()\n",
    "# print(selected_features)"
   ]
  },
  {
   "cell_type": "code",
   "execution_count": 19,
   "metadata": {},
   "outputs": [
    {
     "data": {
      "image/png": "[encoded data removed]",
      "text/plain": [
       "<Figure size 5000x5000 with 1 Axes>"
      ]
     },
     "metadata": {},
     "output_type": "display_data"
    }
   ],
   "source": [
    "import matplotlib.pyplot as plt\n",
    "xgb.plot_importance(classification, max_num_features=50)\n",
    "plt.rcParams['figure.figsize'] = [50, 50]\n",
    "plt.show()"
   ]
  },
  {
   "cell_type": "code",
   "execution_count": 50,
   "metadata": {},
   "outputs": [
    {
     "name": "stderr",
     "output_type": "stream",
     "text": [
      "d:\\Politechnika_Warszawska\\SEM7\\AutoML\\HW2\\pd2\\venv\\lib\\site-packages\\sklearn\\neighbors\\_classification.py:233: DataConversionWarning: A column-vector y was passed when a 1d array was expected. Please change the shape of y to (n_samples,), for example using ravel().\n",
      "  return self._fit(X, y)\n"
     ]
    },
    {
     "data": {
      "text/plain": [
       "0.7071796567209412"
      ]
     },
     "execution_count": 50,
     "metadata": {},
     "output_type": "execute_result"
    }
   ],
   "source": [
    "# raw data, all columns\n",
    "from sklearn.neighbors import KNeighborsClassifier\n",
    "classifier = KNeighborsClassifier()\n",
    "classifier.fit(X_train, y_train)\n",
    "pred_y_knn = classifier.predict(X_test)\n",
    "balanced_accuracy_score(y_test, pred_y_knn)"
   ]
  },
  {
   "cell_type": "code",
   "execution_count": 46,
   "metadata": {},
   "outputs": [],
   "source": [
    "from sklearn.decomposition import PCA\n",
    "pca = PCA(n_components=7, svd_solver='full')\n",
    "df_data_X_transformed = pca.fit_transform(df_data_X, df_data_Y)\n",
    "X_train_transformed, X_test_transformed, y_train, y_test = train_test_split(df_data_X_transformed, df_data_Y, test_size=0.33, random_state=4)"
   ]
  },
  {
   "cell_type": "code",
   "execution_count": 79,
   "metadata": {},
   "outputs": [
    {
     "name": "stderr",
     "output_type": "stream",
     "text": [
      "d:\\Politechnika_Warszawska\\SEM7\\AutoML\\HW2\\pd2\\venv\\lib\\site-packages\\sklearn\\neighbors\\_classification.py:233: DataConversionWarning: A column-vector y was passed when a 1d array was expected. Please change the shape of y to (n_samples,), for example using ravel().\n",
      "  return self._fit(X, y)\n"
     ]
    },
    {
     "data": {
      "text/plain": [
       "0.8589828360470562"
      ]
     },
     "execution_count": 79,
     "metadata": {},
     "output_type": "execute_result"
    }
   ],
   "source": [
    "classifier = KNeighborsClassifier()\n",
    "classifier.fit(X_train_transformed, y_train)\n",
    "pred_y_knn = classifier.predict(X_test_transformed)\n",
    "balanced_accuracy_score(y_test, pred_y_knn)"
   ]
  },
  {
   "cell_type": "code",
   "execution_count": 48,
   "metadata": {},
   "outputs": [
    {
     "name": "stderr",
     "output_type": "stream",
     "text": [
      "d:\\Politechnika_Warszawska\\SEM7\\AutoML\\HW2\\pd2\\venv\\lib\\site-packages\\sklearn\\utils\\validation.py:1183: DataConversionWarning: A column-vector y was passed when a 1d array was expected. Please change the shape of y to (n_samples, ), for example using ravel().\n",
      "  y = column_or_1d(y, warn=True)\n"
     ]
    },
    {
     "data": {
      "text/plain": [
       "0.5801719150343003"
      ]
     },
     "execution_count": 48,
     "metadata": {},
     "output_type": "execute_result"
    }
   ],
   "source": [
    "from sklearn.linear_model import LogisticRegression\n",
    "\n",
    "classifier_LR = LogisticRegression()\n",
    "classifier_LR.fit(X_train_transformed, y_train)\n",
    "pred_y_LR = classifier_LR.predict(X_test_transformed)\n",
    "balanced_accuracy_score(y_test, pred_y_LR)"
   ]
  },
  {
   "cell_type": "code",
   "execution_count": 49,
   "metadata": {},
   "outputs": [
    {
     "name": "stderr",
     "output_type": "stream",
     "text": [
      "d:\\Politechnika_Warszawska\\SEM7\\AutoML\\HW2\\pd2\\venv\\lib\\site-packages\\sklearn\\utils\\validation.py:1183: DataConversionWarning: A column-vector y was passed when a 1d array was expected. Please change the shape of y to (n_samples, ), for example using ravel().\n",
      "  y = column_or_1d(y, warn=True)\n"
     ]
    },
    {
     "data": {
      "text/plain": [
       "0.8072981238118853"
      ]
     },
     "execution_count": 49,
     "metadata": {},
     "output_type": "execute_result"
    }
   ],
   "source": [
    "from sklearn.svm import SVC\n",
    "classifier_SVC = SVC()\n",
    "classifier_SVC.fit(X_train_transformed, y_train)\n",
    "pred_y_SVC = classifier_SVC.predict(X_test_transformed)\n",
    "balanced_accuracy_score(y_test, pred_y_SVC)"
   ]
  },
  {
   "cell_type": "code",
   "execution_count": 94,
   "metadata": {},
   "outputs": [
    {
     "name": "stderr",
     "output_type": "stream",
     "text": [
      "d:\\Politechnika_Warszawska\\SEM7\\AutoML\\HW2\\pd2\\venv\\lib\\site-packages\\sklearn\\utils\\validation.py:1183: DataConversionWarning: A column-vector y was passed when a 1d array was expected. Please change the shape of y to (n_samples, ), for example using ravel().\n",
      "  y = column_or_1d(y, warn=True)\n"
     ]
    },
    {
     "data": {
      "text/plain": [
       "0.6046367468385817"
      ]
     },
     "execution_count": 94,
     "metadata": {},
     "output_type": "execute_result"
    }
   ],
   "source": [
    "from sklearn.ensemble import AdaBoostClassifier\n",
    "classifier_ADA = AdaBoostClassifier(n_estimators=200)\n",
    "classifier_ADA.fit(X_train_transformed, y_train)\n",
    "pred_y_ADA = classifier_ADA.predict(X_test_transformed)\n",
    "balanced_accuracy_score(y_test, pred_y_ADA)\n"
   ]
  },
  {
   "cell_type": "code",
   "execution_count": 55,
   "metadata": {},
   "outputs": [
    {
     "name": "stderr",
     "output_type": "stream",
     "text": [
      "d:\\Politechnika_Warszawska\\SEM7\\AutoML\\HW2\\pd2\\venv\\lib\\site-packages\\sklearn\\ensemble\\_gb.py:424: DataConversionWarning: A column-vector y was passed when a 1d array was expected. Please change the shape of y to (n_samples, ), for example using ravel().\n",
      "  y = column_or_1d(y, warn=True)\n"
     ]
    },
    {
     "data": {
      "text/plain": [
       "0.7545802683417362"
      ]
     },
     "execution_count": 55,
     "metadata": {},
     "output_type": "execute_result"
    }
   ],
   "source": [
    "from sklearn.ensemble import GradientBoostingClassifier\n",
    "classifier_GBC = GradientBoostingClassifier()\n",
    "classifier_GBC.fit(X_train_transformed, y_train)\n",
    "pred_y_GBC = classifier_GBC.predict(X_test_transformed)\n",
    "balanced_accuracy_score(y_test, pred_y_GBC)"
   ]
  },
  {
   "cell_type": "code",
   "execution_count": 65,
   "metadata": {},
   "outputs": [
    {
     "name": "stderr",
     "output_type": "stream",
     "text": [
      "d:\\Politechnika_Warszawska\\SEM7\\AutoML\\HW2\\pd2\\venv\\lib\\site-packages\\sklearn\\base.py:1152: DataConversionWarning: A column-vector y was passed when a 1d array was expected. Please change the shape of y to (n_samples,), for example using ravel().\n",
      "  return fit_method(estimator, *args, **kwargs)\n"
     ]
    },
    {
     "data": {
      "text/plain": [
       "0.8394908670138028"
      ]
     },
     "execution_count": 65,
     "metadata": {},
     "output_type": "execute_result"
    }
   ],
   "source": [
    "from sklearn.ensemble import RandomForestClassifier\n",
    "classifier_RFC = RandomForestClassifier(n_estimators=250)\n",
    "classifier_RFC.fit(X_train_transformed, y_train)\n",
    "pred_y_RFC = classifier_RFC.predict(X_test_transformed)\n",
    "balanced_accuracy_score(y_test, pred_y_RFC)"
   ]
  },
  {
   "cell_type": "code",
   "execution_count": 71,
   "metadata": {},
   "outputs": [
    {
     "name": "stderr",
     "output_type": "stream",
     "text": [
      "d:\\Politechnika_Warszawska\\SEM7\\AutoML\\HW2\\pd2\\venv\\lib\\site-packages\\sklearn\\base.py:1152: DataConversionWarning: A column-vector y was passed when a 1d array was expected. Please change the shape of y to (n_samples,), for example using ravel().\n",
      "  return fit_method(estimator, *args, **kwargs)\n"
     ]
    },
    {
     "data": {
      "text/plain": [
       "0.8423285670992093"
      ]
     },
     "execution_count": 71,
     "metadata": {},
     "output_type": "execute_result"
    }
   ],
   "source": [
    "from sklearn.ensemble import ExtraTreesClassifier\n",
    "classifier_ETC = ExtraTreesClassifier(n_estimators=200)\n",
    "classifier_ETC.fit(X_train_transformed, y_train)\n",
    "pred_y_ETC = classifier_ETC.predict(X_test_transformed)\n",
    "balanced_accuracy_score(y_test, pred_y_ETC)"
   ]
  },
  {
   "cell_type": "code",
   "execution_count": 93,
   "metadata": {},
   "outputs": [
    {
     "name": "stderr",
     "output_type": "stream",
     "text": [
      "d:\\Politechnika_Warszawska\\SEM7\\AutoML\\HW2\\pd2\\venv\\lib\\site-packages\\sklearn\\preprocessing\\_label.py:97: DataConversionWarning: A column-vector y was passed when a 1d array was expected. Please change the shape of y to (n_samples, ), for example using ravel().\n",
      "  y = column_or_1d(y, warn=True)\n",
      "d:\\Politechnika_Warszawska\\SEM7\\AutoML\\HW2\\pd2\\venv\\lib\\site-packages\\sklearn\\preprocessing\\_label.py:132: DataConversionWarning: A column-vector y was passed when a 1d array was expected. Please change the shape of y to (n_samples, ), for example using ravel().\n",
      "  y = column_or_1d(y, dtype=self.classes_.dtype, warn=True)\n"
     ]
    },
    {
     "name": "stdout",
     "output_type": "stream",
     "text": [
      "[Voting] ...................... (1 of 2) Processing knn, total=   0.0s\n",
      "[Voting] ...................... (2 of 2) Processing etc, total=   0.7s\n"
     ]
    },
    {
     "data": {
      "text/plain": [
       "0.8771937074689369"
      ]
     },
     "execution_count": 93,
     "metadata": {},
     "output_type": "execute_result"
    }
   ],
   "source": [
    "from sklearn.ensemble import VotingClassifier\n",
    "model_tab_edit = [('knn', classifier), ('etc', classifier_ETC)]\n",
    "model_tab = [('knn', classifier), ('etc', classifier_ETC), ('rfc', classifier_RFC)]\n",
    "model_tab_with_SVC = [('knn', classifier), ('etc', classifier_ETC), ('rfc', classifier_RFC), ('svc', classifier_SVC)]\n",
    "\n",
    "#TODO - fix: throws error when used on model_tab_with_SVC\n",
    "#TODO - pipeline\n",
    "\n",
    "voting_classifier = VotingClassifier(estimators=model_tab_edit, voting='soft', verbose=True)\n",
    "\n",
    "voting_classifier.fit(X_train_transformed, y_train)\n",
    "pred_y_voting = voting_classifier.predict(X_test_transformed)\n",
    "balanced_accuracy_score(y_test, pred_y_voting)\n"
   ]
  },
  {
   "cell_type": "code",
   "execution_count": null,
   "metadata": {},
   "outputs": [],
   "source": []
  },
  {
   "cell_type": "code",
   "execution_count": 34,
   "metadata": {},
   "outputs": [
    {
     "data": {
      "text/plain": [
       "[<matplotlib.lines.Line2D at 0x168a33b8580>]"
      ]
     },
     "execution_count": 34,
     "metadata": {},
     "output_type": "execute_result"
    },
    {
     "data": {
      "image/png": "[encoded data removed]",
      "text/plain": [
       "<Figure size 640x480 with 1 Axes>"
      ]
     },
     "metadata": {},
     "output_type": "display_data"
    }
   ],
   "source": [
    "#df_data_X.shape\n",
    "import numpy as np\n",
    "pca.explained_variance_ratio_\n",
    "import matplotlib.pyplot as pyplot\n",
    "pyplot.plot(np.arange(0, len(pca.explained_variance_ratio_)), pca.explained_variance_ratio_)"
   ]
  },
  {
   "cell_type": "code",
   "execution_count": 26,
   "metadata": {},
   "outputs": [
    {
     "data": {
      "text/plain": [
       "array([[ 1.01963426e-04, -4.91376921e-04,  2.23881024e-03, ...,\n",
       "         2.09475927e-03, -9.38218731e-04,  1.45652154e-03],\n",
       "       [ 5.20839601e-04,  5.38187960e-03,  2.17503093e-04, ...,\n",
       "        -1.79331735e-03,  3.42019751e-03, -2.02055348e-04],\n",
       "       [ 1.92019139e-03,  2.08891331e-03, -4.02096745e-03, ...,\n",
       "         1.92396820e-03,  9.14958422e-03, -2.33279799e-03],\n",
       "       ...,\n",
       "       [-5.54956796e-03,  7.48506004e-04,  8.78867927e-04, ...,\n",
       "         3.33521667e-04, -1.97003908e-04, -2.83838420e-04],\n",
       "       [-4.14900803e-03, -3.80860807e-04, -1.10515341e-03, ...,\n",
       "        -9.50400455e-04,  3.06835713e-04,  2.32748720e-05],\n",
       "       [-3.63420525e-03, -3.03471754e-04,  9.60278705e-04, ...,\n",
       "        -1.13131150e-03, -2.60298388e-04, -7.64453561e-04]])"
      ]
     },
     "execution_count": 26,
     "metadata": {},
     "output_type": "execute_result"
    }
   ],
   "source": [
    "pca.components_"
   ]
  }
 ],
 "metadata": {
  "kernelspec": {
   "display_name": "venv",
   "language": "python",
   "name": "python3"
  },
  "language_info": {
   "codemirror_mode": {
    "name": "ipython",
    "version": 3
   },
   "file_extension": ".py",
   "mimetype": "text/x-python",
   "name": "python",
   "nbconvert_exporter": "python",
   "pygments_lexer": "ipython3",
   "version": "3.8.10"
  }
 },
 "nbformat": 4,
 "nbformat_minor": 2
}
