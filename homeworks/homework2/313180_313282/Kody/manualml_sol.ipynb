{
 "cells": [
  {
   "cell_type": "markdown",
   "metadata": {},
   "source": [
    "# Tests on manual classifiers"
   ]
  },
  {
   "cell_type": "code",
   "execution_count": 1,
   "metadata": {},
   "outputs": [],
   "source": [
    "from utils import get_data_with_filtered_columns"
   ]
  },
  {
   "cell_type": "code",
   "execution_count": 2,
   "metadata": {},
   "outputs": [
    {
     "name": "stderr",
     "output_type": "stream",
     "text": [
      "/home/uxeruses/.local/lib/python3.10/site-packages/sklearn/utils/validation.py:63: DataConversionWarning: A column-vector y was passed when a 1d array was expected. Please change the shape of y to (n_samples, ), for example using ravel().\n",
      "  return f(*args, **kwargs)\n"
     ]
    },
    {
     "data": {
      "text/html": [
       "<div>\n",
       "<style scoped>\n",
       "    .dataframe tbody tr th:only-of-type {\n",
       "        vertical-align: middle;\n",
       "    }\n",
       "\n",
       "    .dataframe tbody tr th {\n",
       "        vertical-align: top;\n",
       "    }\n",
       "\n",
       "    .dataframe thead th {\n",
       "        text-align: right;\n",
       "    }\n",
       "</style>\n",
       "<table border=\"1\" class=\"dataframe\">\n",
       "  <thead>\n",
       "    <tr style=\"text-align: right;\">\n",
       "      <th></th>\n",
       "      <th>4</th>\n",
       "      <th>10</th>\n",
       "      <th>12</th>\n",
       "      <th>18</th>\n",
       "      <th>26</th>\n",
       "      <th>42</th>\n",
       "      <th>43</th>\n",
       "      <th>44</th>\n",
       "      <th>46</th>\n",
       "      <th>48</th>\n",
       "      <th>...</th>\n",
       "      <th>454</th>\n",
       "      <th>456</th>\n",
       "      <th>462</th>\n",
       "      <th>466</th>\n",
       "      <th>468</th>\n",
       "      <th>471</th>\n",
       "      <th>481</th>\n",
       "      <th>494</th>\n",
       "      <th>496</th>\n",
       "      <th>497</th>\n",
       "    </tr>\n",
       "  </thead>\n",
       "  <tbody>\n",
       "    <tr>\n",
       "      <th>0</th>\n",
       "      <td>452</td>\n",
       "      <td>455</td>\n",
       "      <td>456</td>\n",
       "      <td>480</td>\n",
       "      <td>509</td>\n",
       "      <td>485</td>\n",
       "      <td>508</td>\n",
       "      <td>517</td>\n",
       "      <td>507</td>\n",
       "      <td>440</td>\n",
       "      <td>...</td>\n",
       "      <td>482</td>\n",
       "      <td>481</td>\n",
       "      <td>496</td>\n",
       "      <td>480</td>\n",
       "      <td>500</td>\n",
       "      <td>470</td>\n",
       "      <td>463</td>\n",
       "      <td>511</td>\n",
       "      <td>481</td>\n",
       "      <td>479</td>\n",
       "    </tr>\n",
       "    <tr>\n",
       "      <th>1</th>\n",
       "      <td>587</td>\n",
       "      <td>434</td>\n",
       "      <td>465</td>\n",
       "      <td>495</td>\n",
       "      <td>516</td>\n",
       "      <td>478</td>\n",
       "      <td>493</td>\n",
       "      <td>472</td>\n",
       "      <td>521</td>\n",
       "      <td>499</td>\n",
       "      <td>...</td>\n",
       "      <td>479</td>\n",
       "      <td>480</td>\n",
       "      <td>485</td>\n",
       "      <td>476</td>\n",
       "      <td>449</td>\n",
       "      <td>478</td>\n",
       "      <td>448</td>\n",
       "      <td>513</td>\n",
       "      <td>483</td>\n",
       "      <td>492</td>\n",
       "    </tr>\n",
       "    <tr>\n",
       "      <th>2</th>\n",
       "      <td>448</td>\n",
       "      <td>468</td>\n",
       "      <td>477</td>\n",
       "      <td>510</td>\n",
       "      <td>454</td>\n",
       "      <td>454</td>\n",
       "      <td>486</td>\n",
       "      <td>459</td>\n",
       "      <td>472</td>\n",
       "      <td>460</td>\n",
       "      <td>...</td>\n",
       "      <td>484</td>\n",
       "      <td>484</td>\n",
       "      <td>513</td>\n",
       "      <td>487</td>\n",
       "      <td>479</td>\n",
       "      <td>481</td>\n",
       "      <td>470</td>\n",
       "      <td>506</td>\n",
       "      <td>480</td>\n",
       "      <td>489</td>\n",
       "    </tr>\n",
       "    <tr>\n",
       "      <th>3</th>\n",
       "      <td>495</td>\n",
       "      <td>455</td>\n",
       "      <td>437</td>\n",
       "      <td>488</td>\n",
       "      <td>506</td>\n",
       "      <td>448</td>\n",
       "      <td>464</td>\n",
       "      <td>487</td>\n",
       "      <td>509</td>\n",
       "      <td>529</td>\n",
       "      <td>...</td>\n",
       "      <td>477</td>\n",
       "      <td>480</td>\n",
       "      <td>472</td>\n",
       "      <td>490</td>\n",
       "      <td>486</td>\n",
       "      <td>481</td>\n",
       "      <td>473</td>\n",
       "      <td>454</td>\n",
       "      <td>475</td>\n",
       "      <td>482</td>\n",
       "    </tr>\n",
       "    <tr>\n",
       "      <th>4</th>\n",
       "      <td>466</td>\n",
       "      <td>432</td>\n",
       "      <td>493</td>\n",
       "      <td>467</td>\n",
       "      <td>505</td>\n",
       "      <td>469</td>\n",
       "      <td>481</td>\n",
       "      <td>543</td>\n",
       "      <td>464</td>\n",
       "      <td>429</td>\n",
       "      <td>...</td>\n",
       "      <td>477</td>\n",
       "      <td>482</td>\n",
       "      <td>528</td>\n",
       "      <td>468</td>\n",
       "      <td>476</td>\n",
       "      <td>476</td>\n",
       "      <td>456</td>\n",
       "      <td>486</td>\n",
       "      <td>481</td>\n",
       "      <td>504</td>\n",
       "    </tr>\n",
       "    <tr>\n",
       "      <th>...</th>\n",
       "      <td>...</td>\n",
       "      <td>...</td>\n",
       "      <td>...</td>\n",
       "      <td>...</td>\n",
       "      <td>...</td>\n",
       "      <td>...</td>\n",
       "      <td>...</td>\n",
       "      <td>...</td>\n",
       "      <td>...</td>\n",
       "      <td>...</td>\n",
       "      <td>...</td>\n",
       "      <td>...</td>\n",
       "      <td>...</td>\n",
       "      <td>...</td>\n",
       "      <td>...</td>\n",
       "      <td>...</td>\n",
       "      <td>...</td>\n",
       "      <td>...</td>\n",
       "      <td>...</td>\n",
       "      <td>...</td>\n",
       "      <td>...</td>\n",
       "    </tr>\n",
       "    <tr>\n",
       "      <th>1995</th>\n",
       "      <td>463</td>\n",
       "      <td>513</td>\n",
       "      <td>473</td>\n",
       "      <td>465</td>\n",
       "      <td>509</td>\n",
       "      <td>463</td>\n",
       "      <td>466</td>\n",
       "      <td>534</td>\n",
       "      <td>504</td>\n",
       "      <td>505</td>\n",
       "      <td>...</td>\n",
       "      <td>488</td>\n",
       "      <td>462</td>\n",
       "      <td>484</td>\n",
       "      <td>478</td>\n",
       "      <td>515</td>\n",
       "      <td>483</td>\n",
       "      <td>462</td>\n",
       "      <td>499</td>\n",
       "      <td>475</td>\n",
       "      <td>463</td>\n",
       "    </tr>\n",
       "    <tr>\n",
       "      <th>1996</th>\n",
       "      <td>495</td>\n",
       "      <td>494</td>\n",
       "      <td>416</td>\n",
       "      <td>502</td>\n",
       "      <td>488</td>\n",
       "      <td>483</td>\n",
       "      <td>482</td>\n",
       "      <td>470</td>\n",
       "      <td>523</td>\n",
       "      <td>448</td>\n",
       "      <td>...</td>\n",
       "      <td>485</td>\n",
       "      <td>488</td>\n",
       "      <td>486</td>\n",
       "      <td>485</td>\n",
       "      <td>494</td>\n",
       "      <td>473</td>\n",
       "      <td>465</td>\n",
       "      <td>454</td>\n",
       "      <td>476</td>\n",
       "      <td>493</td>\n",
       "    </tr>\n",
       "    <tr>\n",
       "      <th>1997</th>\n",
       "      <td>485</td>\n",
       "      <td>534</td>\n",
       "      <td>479</td>\n",
       "      <td>532</td>\n",
       "      <td>486</td>\n",
       "      <td>472</td>\n",
       "      <td>507</td>\n",
       "      <td>476</td>\n",
       "      <td>515</td>\n",
       "      <td>544</td>\n",
       "      <td>...</td>\n",
       "      <td>469</td>\n",
       "      <td>475</td>\n",
       "      <td>500</td>\n",
       "      <td>491</td>\n",
       "      <td>495</td>\n",
       "      <td>481</td>\n",
       "      <td>480</td>\n",
       "      <td>488</td>\n",
       "      <td>483</td>\n",
       "      <td>500</td>\n",
       "    </tr>\n",
       "    <tr>\n",
       "      <th>1998</th>\n",
       "      <td>542</td>\n",
       "      <td>525</td>\n",
       "      <td>446</td>\n",
       "      <td>488</td>\n",
       "      <td>501</td>\n",
       "      <td>464</td>\n",
       "      <td>486</td>\n",
       "      <td>491</td>\n",
       "      <td>472</td>\n",
       "      <td>490</td>\n",
       "      <td>...</td>\n",
       "      <td>480</td>\n",
       "      <td>480</td>\n",
       "      <td>518</td>\n",
       "      <td>484</td>\n",
       "      <td>474</td>\n",
       "      <td>480</td>\n",
       "      <td>517</td>\n",
       "      <td>486</td>\n",
       "      <td>484</td>\n",
       "      <td>473</td>\n",
       "    </tr>\n",
       "    <tr>\n",
       "      <th>1999</th>\n",
       "      <td>521</td>\n",
       "      <td>462</td>\n",
       "      <td>432</td>\n",
       "      <td>454</td>\n",
       "      <td>475</td>\n",
       "      <td>461</td>\n",
       "      <td>464</td>\n",
       "      <td>485</td>\n",
       "      <td>505</td>\n",
       "      <td>431</td>\n",
       "      <td>...</td>\n",
       "      <td>485</td>\n",
       "      <td>492</td>\n",
       "      <td>470</td>\n",
       "      <td>467</td>\n",
       "      <td>496</td>\n",
       "      <td>479</td>\n",
       "      <td>504</td>\n",
       "      <td>463</td>\n",
       "      <td>481</td>\n",
       "      <td>489</td>\n",
       "    </tr>\n",
       "  </tbody>\n",
       "</table>\n",
       "<p>2000 rows × 100 columns</p>\n",
       "</div>"
      ],
      "text/plain": [
       "      4    10   12   18   26   42   43   44   46   48   ...  454  456  462  \\\n",
       "0     452  455  456  480  509  485  508  517  507  440  ...  482  481  496   \n",
       "1     587  434  465  495  516  478  493  472  521  499  ...  479  480  485   \n",
       "2     448  468  477  510  454  454  486  459  472  460  ...  484  484  513   \n",
       "3     495  455  437  488  506  448  464  487  509  529  ...  477  480  472   \n",
       "4     466  432  493  467  505  469  481  543  464  429  ...  477  482  528   \n",
       "...   ...  ...  ...  ...  ...  ...  ...  ...  ...  ...  ...  ...  ...  ...   \n",
       "1995  463  513  473  465  509  463  466  534  504  505  ...  488  462  484   \n",
       "1996  495  494  416  502  488  483  482  470  523  448  ...  485  488  486   \n",
       "1997  485  534  479  532  486  472  507  476  515  544  ...  469  475  500   \n",
       "1998  542  525  446  488  501  464  486  491  472  490  ...  480  480  518   \n",
       "1999  521  462  432  454  475  461  464  485  505  431  ...  485  492  470   \n",
       "\n",
       "      466  468  471  481  494  496  497  \n",
       "0     480  500  470  463  511  481  479  \n",
       "1     476  449  478  448  513  483  492  \n",
       "2     487  479  481  470  506  480  489  \n",
       "3     490  486  481  473  454  475  482  \n",
       "4     468  476  476  456  486  481  504  \n",
       "...   ...  ...  ...  ...  ...  ...  ...  \n",
       "1995  478  515  483  462  499  475  463  \n",
       "1996  485  494  473  465  454  476  493  \n",
       "1997  491  495  481  480  488  483  500  \n",
       "1998  484  474  480  517  486  484  473  \n",
       "1999  467  496  479  504  463  481  489  \n",
       "\n",
       "[2000 rows x 100 columns]"
      ]
     },
     "execution_count": 2,
     "metadata": {},
     "output_type": "execute_result"
    }
   ],
   "source": [
    "X, y, _ = get_data_with_filtered_columns(top_columns=100, correlation_threshold=0.8)\n",
    "X"
   ]
  },
  {
   "cell_type": "code",
   "execution_count": 3,
   "metadata": {},
   "outputs": [],
   "source": [
    "from sklearn.model_selection import train_test_split\n",
    "from sklearn.preprocessing import MinMaxScaler, OneHotEncoder\n",
    "\n",
    "scaler = MinMaxScaler()\n",
    "encoder = OneHotEncoder(sparse=False)\n",
    "\n",
    "X = scaler.fit_transform(X)\n",
    "encoder.fit(y)\n",
    "\n",
    "X_train, X_test, y_train, y_test = train_test_split(\n",
    "    X, y, random_state=42, stratify=y)\n",
    "\n",
    "y_train_encoded = encoder.transform(y_train)\n",
    "y_test_encoded = encoder.transform(y_test)"
   ]
  },
  {
   "cell_type": "code",
   "execution_count": 4,
   "metadata": {},
   "outputs": [],
   "source": [
    "from sklearn.ensemble import RandomForestClassifier\n",
    "from sklearn.neighbors import KNeighborsClassifier\n",
    "from sklearn.neural_network import MLPClassifier\n",
    "from sklearn.tree import DecisionTreeClassifier\n",
    "from sklearn.ensemble import GradientBoostingClassifier\n",
    "from sklearn.linear_model import LogisticRegression\n",
    "from sklearn.ensemble import AdaBoostClassifier\n",
    "from sklearn.svm import SVC\n",
    "from sklearn.gaussian_process import GaussianProcessClassifier\n",
    "from sklearn.gaussian_process.kernels import RBF\n",
    "from sklearn.metrics import accuracy_score"
   ]
  },
  {
   "cell_type": "code",
   "execution_count": 5,
   "metadata": {},
   "outputs": [
    {
     "name": "stdout",
     "output_type": "stream",
     "text": [
      "Accuracy: 0.67\n"
     ]
    }
   ],
   "source": [
    "# Create a RandomForestClassifier instance\n",
    "clf = RandomForestClassifier(n_estimators=100, random_state=42)\n",
    "\n",
    "# Train the classifier on the training data\n",
    "clf.fit(X_train, y_train_encoded)\n",
    "\n",
    "# Make predictions on the test data\n",
    "y_pred = clf.predict(X_test)\n",
    "\n",
    "# Evaluate the performance\n",
    "accuracy = accuracy_score(y_test_encoded, y_pred)\n",
    "print(f'Accuracy: {accuracy:.2f}')\n"
   ]
  },
  {
   "cell_type": "code",
   "execution_count": 6,
   "metadata": {},
   "outputs": [
    {
     "name": "stdout",
     "output_type": "stream",
     "text": [
      "KNeighborsClassifier Accuracy: 0.56\n"
     ]
    },
    {
     "name": "stderr",
     "output_type": "stream",
     "text": [
      "/home/uxeruses/.local/lib/python3.10/site-packages/sklearn/neighbors/_classification.py:211: FutureWarning: Unlike other reduction functions (e.g. `skew`, `kurtosis`), the default behavior of `mode` typically preserves the axis it acts along. In SciPy 1.11.0, this behavior will change: the default value of `keepdims` will become False, the `axis` over which the statistic is taken will be eliminated, and the value None will no longer be accepted. Set `keepdims` to True or False to avoid this warning.\n",
      "  mode, _ = stats.mode(_y[neigh_ind, k], axis=1)\n"
     ]
    }
   ],
   "source": [
    "# Create a KNeighborsClassifier instance\n",
    "knn = KNeighborsClassifier(n_neighbors=5)\n",
    "\n",
    "# Train the classifier on the training data\n",
    "knn.fit(X_train, y_train_encoded)\n",
    "\n",
    "# Make predictions on the test data\n",
    "y_pred_knn = knn.predict(X_test)\n",
    "\n",
    "# Evaluate the performance\n",
    "accuracy_knn = accuracy_score(y_test_encoded, y_pred_knn)\n",
    "print(f'KNeighborsClassifier Accuracy: {accuracy_knn:.2f}')"
   ]
  },
  {
   "cell_type": "code",
   "execution_count": 7,
   "metadata": {},
   "outputs": [
    {
     "name": "stdout",
     "output_type": "stream",
     "text": [
      "DecisionTreeClassifier Accuracy: 0.72\n"
     ]
    }
   ],
   "source": [
    "# Create a DecisionTreeClassifier instance\n",
    "dt_classifier = DecisionTreeClassifier(random_state=42)\n",
    "\n",
    "# Train the classifier on the training data\n",
    "dt_classifier.fit(X_train, y_train_encoded)\n",
    "\n",
    "# Make predictions on the test data\n",
    "y_pred_dt = dt_classifier.predict(X_test)\n",
    "\n",
    "# Evaluate the performance\n",
    "accuracy_dt = accuracy_score(y_test_encoded, y_pred_dt)\n",
    "print(f'DecisionTreeClassifier Accuracy: {accuracy_dt:.2f}')\n"
   ]
  },
  {
   "cell_type": "code",
   "execution_count": 8,
   "metadata": {},
   "outputs": [
    {
     "name": "stdout",
     "output_type": "stream",
     "text": [
      "MLPClassifier Accuracy: 0.66\n"
     ]
    },
    {
     "name": "stderr",
     "output_type": "stream",
     "text": [
      "/home/uxeruses/.local/lib/python3.10/site-packages/sklearn/neural_network/_multilayer_perceptron.py:614: ConvergenceWarning: Stochastic Optimizer: Maximum iterations (500) reached and the optimization hasn't converged yet.\n",
      "  warnings.warn(\n"
     ]
    }
   ],
   "source": [
    "# Create an MLPClassifier instance\n",
    "mlp_classifier = MLPClassifier(hidden_layer_sizes=(100,), max_iter=500, random_state=42)\n",
    "\n",
    "# Train the classifier on the training data\n",
    "mlp_classifier.fit(X_train, y_train_encoded)\n",
    "\n",
    "# Make predictions on the test data\n",
    "y_pred_mlp = mlp_classifier.predict(X_test)\n",
    "\n",
    "# Evaluate the performance\n",
    "accuracy_mlp = accuracy_score(y_test_encoded, y_pred_mlp)\n",
    "print(f'MLPClassifier Accuracy: {accuracy_mlp:.2f}')\n"
   ]
  },
  {
   "cell_type": "code",
   "execution_count": 9,
   "metadata": {},
   "outputs": [
    {
     "name": "stderr",
     "output_type": "stream",
     "text": [
      "/home/uxeruses/.local/lib/python3.10/site-packages/sklearn/utils/validation.py:63: DataConversionWarning: A column-vector y was passed when a 1d array was expected. Please change the shape of y to (n_samples, ), for example using ravel().\n",
      "  return f(*args, **kwargs)\n"
     ]
    },
    {
     "name": "stdout",
     "output_type": "stream",
     "text": [
      "GradientBoostingClassifier Accuracy: 0.70\n"
     ]
    }
   ],
   "source": [
    "# Create a GradientBoostingClassifier instance\n",
    "gb_classifier = GradientBoostingClassifier(n_estimators=100, learning_rate=1.0, max_depth=3, random_state=42)\n",
    "\n",
    "# Train the classifier on the training data\n",
    "gb_classifier.fit(X_train, y_train)\n",
    "\n",
    "# Make predictions on the test data\n",
    "y_pred_gb = gb_classifier.predict(X_test)\n",
    "\n",
    "# Evaluate the performance\n",
    "accuracy_gb = accuracy_score(y_test, y_pred_gb)\n",
    "print(f'GradientBoostingClassifier Accuracy: {accuracy_gb:.2f}')\n"
   ]
  },
  {
   "cell_type": "code",
   "execution_count": 10,
   "metadata": {},
   "outputs": [
    {
     "name": "stdout",
     "output_type": "stream",
     "text": [
      "Logistic Regression Accuracy: 0.59\n"
     ]
    },
    {
     "name": "stderr",
     "output_type": "stream",
     "text": [
      "/home/uxeruses/.local/lib/python3.10/site-packages/sklearn/utils/validation.py:63: DataConversionWarning: A column-vector y was passed when a 1d array was expected. Please change the shape of y to (n_samples, ), for example using ravel().\n",
      "  return f(*args, **kwargs)\n"
     ]
    }
   ],
   "source": [
    "# Create a LogisticRegression instance\n",
    "logreg_classifier = LogisticRegression(random_state=42)\n",
    "\n",
    "# Train the classifier on the training data\n",
    "logreg_classifier.fit(X_train, y_train)\n",
    "\n",
    "# Make predictions on the test data\n",
    "y_pred_logreg = logreg_classifier.predict(X_test)\n",
    "\n",
    "# Evaluate the performance\n",
    "accuracy_logreg = accuracy_score(y_test, y_pred_logreg)\n",
    "print(f'Logistic Regression Accuracy: {accuracy_logreg:.2f}')\n"
   ]
  },
  {
   "cell_type": "code",
   "execution_count": 11,
   "metadata": {},
   "outputs": [
    {
     "name": "stderr",
     "output_type": "stream",
     "text": [
      "/home/uxeruses/.local/lib/python3.10/site-packages/sklearn/utils/validation.py:63: DataConversionWarning: A column-vector y was passed when a 1d array was expected. Please change the shape of y to (n_samples, ), for example using ravel().\n",
      "  return f(*args, **kwargs)\n"
     ]
    },
    {
     "name": "stdout",
     "output_type": "stream",
     "text": [
      "AdaBoostClassifier Accuracy: 0.63\n"
     ]
    }
   ],
   "source": [
    "# Create an AdaBoostClassifier instance with a base classifier (e.g., DecisionTreeClassifier)\n",
    "base_classifier = DecisionTreeClassifier(max_depth=1)\n",
    "adaboost_classifier = AdaBoostClassifier(base_classifier, n_estimators=50, random_state=42)\n",
    "\n",
    "# Train the classifier on the training data\n",
    "adaboost_classifier.fit(X_train, y_train)\n",
    "\n",
    "# Make predictions on the test data\n",
    "y_pred_adaboost = adaboost_classifier.predict(X_test)\n",
    "\n",
    "# Evaluate the performance\n",
    "accuracy_adaboost = accuracy_score(y_test, y_pred_adaboost)\n",
    "print(f'AdaBoostClassifier Accuracy: {accuracy_adaboost:.2f}')"
   ]
  },
  {
   "cell_type": "code",
   "execution_count": 12,
   "metadata": {},
   "outputs": [
    {
     "name": "stderr",
     "output_type": "stream",
     "text": [
      "/home/uxeruses/.local/lib/python3.10/site-packages/sklearn/utils/validation.py:63: DataConversionWarning: A column-vector y was passed when a 1d array was expected. Please change the shape of y to (n_samples, ), for example using ravel().\n",
      "  return f(*args, **kwargs)\n"
     ]
    },
    {
     "name": "stdout",
     "output_type": "stream",
     "text": [
      "Support Vector Classifier Accuracy: 0.61\n"
     ]
    }
   ],
   "source": [
    "# Create an SVC instance\n",
    "svc = SVC(kernel='linear', C=1.0)\n",
    "\n",
    "# Train the classifier on the training data\n",
    "svc.fit(X_train, y_train)\n",
    "\n",
    "# Make predictions on the test data\n",
    "y_pred_svc = svc.predict(X_test)\n",
    "\n",
    "# Evaluate the performance\n",
    "accuracy_svc = accuracy_score(y_test, y_pred_svc)\n",
    "print(f'Support Vector Classifier Accuracy: {accuracy_svc:.2f}')"
   ]
  },
  {
   "cell_type": "code",
   "execution_count": 13,
   "metadata": {},
   "outputs": [
    {
     "name": "stderr",
     "output_type": "stream",
     "text": [
      "/home/uxeruses/.local/lib/python3.10/site-packages/sklearn/utils/validation.py:63: DataConversionWarning: A column-vector y was passed when a 1d array was expected. Please change the shape of y to (n_samples, ), for example using ravel().\n",
      "  return f(*args, **kwargs)\n"
     ]
    },
    {
     "name": "stdout",
     "output_type": "stream",
     "text": [
      "GaussianProcessClassifier Accuracy: 0.60\n"
     ]
    }
   ],
   "source": [
    "# Create a GaussianProcessClassifier instance with an RBF kernel\n",
    "kernel = 1.0 * RBF(1.0)\n",
    "gpc = GaussianProcessClassifier(kernel=kernel, random_state=42)\n",
    "\n",
    "# Train the classifier on the training data\n",
    "gpc.fit(X_train, y_train)\n",
    "\n",
    "# Make predictions on the test data\n",
    "y_pred_gpc = gpc.predict(X_test)\n",
    "\n",
    "# Evaluate the performance\n",
    "accuracy_gpc = accuracy_score(y_test, y_pred_gpc)\n",
    "print(f'GaussianProcessClassifier Accuracy: {accuracy_gpc:.2f}')"
   ]
  }
 ],
 "metadata": {
  "kernelspec": {
   "display_name": "Python 3",
   "language": "python",
   "name": "python3"
  },
  "language_info": {
   "codemirror_mode": {
    "name": "ipython",
    "version": 3
   },
   "file_extension": ".py",
   "mimetype": "text/x-python",
   "name": "python",
   "nbconvert_exporter": "python",
   "pygments_lexer": "ipython3",
   "version": "3.10.12"
  }
 },
 "nbformat": 4,
 "nbformat_minor": 2
}
