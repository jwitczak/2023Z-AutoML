{
  "cells": [
    {
      "cell_type": "markdown",
      "metadata": {
        "id": "OYWM-JJ-jcjQ"
      },
      "source": [
        "# HM2 : Szukanie modelu z pomocą frameworka AutoMLowego\n",
        "W notebooku dwa frameworki AutoMLowe zostały wykorzytsane do wyznaczenia modelu, robiącego dobre predykcje dla zbioru 'artificial'."
      ]
    },
    {
      "cell_type": "markdown",
      "metadata": {
        "id": "4Yo7IQ-vjyES"
      },
      "source": [
        "### Import plików"
      ]
    },
    {
      "cell_type": "code",
      "execution_count": 6,
      "metadata": {
        "id": "vgwWro6PkqKo"
      },
      "outputs": [],
      "source": [
        "import pandas as pd\n",
        "\n",
        "# nazwy plików \n",
        "# root oznacza ścieżkę, którą należy odpowiednio zmienić\n",
        "file_path_test = \"root/artificial_test.data\"\n",
        "file_path_train = \"root/artificial_train.data\"\n",
        "file_path_labels = \"root/artificial_train.labels\"\n",
        "\n",
        "# import pliku z danymi do trenowania\n",
        "data = pd.read_csv(file_path_train, sep=\" \", header = None )\n",
        "data = data[data.columns[:-1]]\n",
        "\n",
        "data_labels = pd.read_csv(file_path_labels, header = None)\n",
        "\n",
        "# import pliku z danymi do robienia predykcji\n",
        "test = pd.read_csv(file_path_test, sep=\" \", header = None)\n",
        "test = test[test.columns[:-1]]"
      ]
    },
    {
      "cell_type": "markdown",
      "metadata": {
        "id": "IeQcFpYKj0Rc"
      },
      "source": [
        "### Podział zbioru 'data' na treningowy oraz testowy"
      ]
    },
    {
      "cell_type": "code",
      "execution_count": 13,
      "metadata": {
        "id": "huB_rzTzq9yr"
      },
      "outputs": [],
      "source": [
        "from autosklearn.experimental.askl2 import AutoSklearn2Classifier\n",
        "from autosklearn.classification import AutoSklearnClassifier\n",
        "from autosklearn.metrics import balanced_accuracy\n",
        "from sklearn.metrics import balanced_accuracy_score\n",
        "from sklearn.model_selection import train_test_split\n",
        "\n",
        "# podział danych 7:3\n",
        "test_size = 0.3\n",
        "X_train, X_test, y_train, y_test = train_test_split(\n",
        "        data, data_labels, test_size = test_size, random_state=4)\n",
        "\n",
        "def scoring_function(estimator):\n",
        "    predictions = estimator.predict(X_test)\n",
        "    return balanced_accuracy_score(y_test, predictions)"
      ]
    },
    {
      "cell_type": "markdown",
      "metadata": {
        "id": "mk4gsxGv6Hsz"
      },
      "source": [
        "## Trening AutoSklearn1, AutoSklearn2\n"
      ]
    },
    {
      "cell_type": "markdown",
      "metadata": {
        "id": "pFI7KfzFCTAP"
      },
      "source": [
        "## AutoSklearn2"
      ]
    },
    {
      "cell_type": "code",
      "execution_count": 52,
      "metadata": {
        "colab": {
          "base_uri": "https://localhost:8080/"
        },
        "id": "8yl9CMGG9gIW",
        "outputId": "36f60f56-8dd1-4b68-8009-64d1a8dc9975"
      },
      "outputs": [
        {
          "name": "stderr",
          "output_type": "stream",
          "text": [
            "/usr/local/lib/python3.10/dist-packages/autosklearn/experimental/selector.py:26: FutureWarning: iteritems is deprecated and will be removed in a future version. Use .items instead.\n",
            "  for col, series in prediction.iteritems():\n"
          ]
        },
        {
          "data": {
            "text/plain": [
              "AutoSklearn2Classifier(metric=balanced_accuracy, n_jobs=4,\n",
              "                       per_run_time_limit=720, seed=42,\n",
              "                       time_left_for_this_task=1800)"
            ]
          },
          "execution_count": 52,
          "metadata": {},
          "output_type": "execute_result"
        }
      ],
      "source": [
        "settings = {\n",
        "  \"time_left_for_this_task\": 1800,  # 30 minutes\n",
        "  \"seed\": 42,\n",
        "  \"metric\": balanced_accuracy,\n",
        "  \"n_jobs\": 4,\n",
        "}\n",
        "askl2 = AutoSklearn2Classifier(\n",
        "    **settings\n",
        ")\n",
        "askl2.fit(X_train, y_train)"
      ]
    },
    {
      "cell_type": "markdown",
      "metadata": {
        "id": "MiUlXbyrOUwr"
      },
      "source": [
        "Statystyki podsumowujące"
      ]
    },
    {
      "cell_type": "code",
      "execution_count": 53,
      "metadata": {
        "colab": {
          "base_uri": "https://localhost:8080/"
        },
        "id": "9thQPs-zcCtu",
        "outputId": "f5ca2932-d218-45e6-8ccf-22cdb2e2bd39"
      },
      "outputs": [
        {
          "name": "stdout",
          "output_type": "stream",
          "text": [
            "auto-sklearn results:\n",
            "  Dataset name: a6b057d7-b4a0-11ee-a0f7-0242ac1c000c\n",
            "  Metric: balanced_accuracy\n",
            "  Best validation score: 0.831533\n",
            "  Number of target algorithm runs: 35\n",
            "  Number of successful target algorithm runs: 33\n",
            "  Number of crashed target algorithm runs: 0\n",
            "  Number of target algorithms that exceeded the time limit: 2\n",
            "  Number of target algorithms that exceeded the memory limit: 0\n",
            "\n",
            "          rank  ensemble_weight           type      cost    duration\n",
            "model_id                                                            \n",
            "8            2             0.02    extra_trees  0.186365  114.714006\n",
            "9            4             0.84            sgd  0.480786   44.524346\n",
            "15           1             0.06  random_forest  0.168467  675.849760\n",
            "17           5             0.04    extra_trees  0.491542   53.625321\n",
            "19           3             0.04    extra_trees  0.452243   57.378551\n"
          ]
        }
      ],
      "source": [
        "# statystyki podsumowujące\n",
        "print(askl2.sprint_statistics())\n",
        "\n",
        "leaderboard = askl2.leaderboard(sort_by=\"model_id\", ensemble_only=True)\n",
        "print(leaderboard)"
      ]
    },
    {
      "cell_type": "markdown",
      "metadata": {
        "id": "UeQnGer3n_zv"
      },
      "source": [
        "### Wynik dla zbioru testowego"
      ]
    },
    {
      "cell_type": "code",
      "execution_count": 54,
      "metadata": {
        "colab": {
          "base_uri": "https://localhost:8080/"
        },
        "id": "3H0jd5lolG1f",
        "outputId": "0dc351a0-f6bb-4325-c5da-bd2f98e64c73"
      },
      "outputs": [
        {
          "data": {
            "text/plain": [
              "0.8334592648562158"
            ]
          },
          "execution_count": 54,
          "metadata": {},
          "output_type": "execute_result"
        }
      ],
      "source": [
        "scoring_function(askl2)"
      ]
    },
    {
      "cell_type": "markdown",
      "metadata": {
        "id": "J-8ADH6Lx5wh"
      },
      "source": [
        "## AutoSklearn1"
      ]
    },
    {
      "cell_type": "code",
      "execution_count": 14,
      "metadata": {
        "colab": {
          "base_uri": "https://localhost:8080/",
          "height": 126
        },
        "id": "DiDoIXnOx5J5",
        "outputId": "9defcd72-dde7-4750-fd21-b0142a1a63da"
      },
      "outputs": [
        {
          "data": {
            "text/html": [
              "<style>#sk-container-id-1 {color: black;}#sk-container-id-1 pre{padding: 0;}#sk-container-id-1 div.sk-toggleable {background-color: white;}#sk-container-id-1 label.sk-toggleable__label {cursor: pointer;display: block;width: 100%;margin-bottom: 0;padding: 0.3em;box-sizing: border-box;text-align: center;}#sk-container-id-1 label.sk-toggleable__label-arrow:before {content: \"▸\";float: left;margin-right: 0.25em;color: #696969;}#sk-container-id-1 label.sk-toggleable__label-arrow:hover:before {color: black;}#sk-container-id-1 div.sk-estimator:hover label.sk-toggleable__label-arrow:before {color: black;}#sk-container-id-1 div.sk-toggleable__content {max-height: 0;max-width: 0;overflow: hidden;text-align: left;background-color: #f0f8ff;}#sk-container-id-1 div.sk-toggleable__content pre {margin: 0.2em;color: black;border-radius: 0.25em;background-color: #f0f8ff;}#sk-container-id-1 input.sk-toggleable__control:checked~div.sk-toggleable__content {max-height: 200px;max-width: 100%;overflow: auto;}#sk-container-id-1 input.sk-toggleable__control:checked~label.sk-toggleable__label-arrow:before {content: \"▾\";}#sk-container-id-1 div.sk-estimator input.sk-toggleable__control:checked~label.sk-toggleable__label {background-color: #d4ebff;}#sk-container-id-1 div.sk-label input.sk-toggleable__control:checked~label.sk-toggleable__label {background-color: #d4ebff;}#sk-container-id-1 input.sk-hidden--visually {border: 0;clip: rect(1px 1px 1px 1px);clip: rect(1px, 1px, 1px, 1px);height: 1px;margin: -1px;overflow: hidden;padding: 0;position: absolute;width: 1px;}#sk-container-id-1 div.sk-estimator {font-family: monospace;background-color: #f0f8ff;border: 1px dotted black;border-radius: 0.25em;box-sizing: border-box;margin-bottom: 0.5em;}#sk-container-id-1 div.sk-estimator:hover {background-color: #d4ebff;}#sk-container-id-1 div.sk-parallel-item::after {content: \"\";width: 100%;border-bottom: 1px solid gray;flex-grow: 1;}#sk-container-id-1 div.sk-label:hover label.sk-toggleable__label {background-color: #d4ebff;}#sk-container-id-1 div.sk-serial::before {content: \"\";position: absolute;border-left: 1px solid gray;box-sizing: border-box;top: 0;bottom: 0;left: 50%;z-index: 0;}#sk-container-id-1 div.sk-serial {display: flex;flex-direction: column;align-items: center;background-color: white;padding-right: 0.2em;padding-left: 0.2em;position: relative;}#sk-container-id-1 div.sk-item {position: relative;z-index: 1;}#sk-container-id-1 div.sk-parallel {display: flex;align-items: stretch;justify-content: center;background-color: white;position: relative;}#sk-container-id-1 div.sk-item::before, #sk-container-id-1 div.sk-parallel-item::before {content: \"\";position: absolute;border-left: 1px solid gray;box-sizing: border-box;top: 0;bottom: 0;left: 50%;z-index: -1;}#sk-container-id-1 div.sk-parallel-item {display: flex;flex-direction: column;z-index: 1;position: relative;background-color: white;}#sk-container-id-1 div.sk-parallel-item:first-child::after {align-self: flex-end;width: 50%;}#sk-container-id-1 div.sk-parallel-item:last-child::after {align-self: flex-start;width: 50%;}#sk-container-id-1 div.sk-parallel-item:only-child::after {width: 0;}#sk-container-id-1 div.sk-dashed-wrapped {border: 1px dashed gray;margin: 0 0.4em 0.5em 0.4em;box-sizing: border-box;padding-bottom: 0.4em;background-color: white;}#sk-container-id-1 div.sk-label label {font-family: monospace;font-weight: bold;display: inline-block;line-height: 1.2em;}#sk-container-id-1 div.sk-label-container {text-align: center;}#sk-container-id-1 div.sk-container {/* jupyter's `normalize.less` sets `[hidden] { display: none; }` but bootstrap.min.css set `[hidden] { display: none !important; }` so we also need the `!important` here to be able to override the default hidden behavior on the sphinx rendered scikit-learn.org. See: https://github.com/scikit-learn/scikit-learn/issues/21755 */display: inline-block !important;position: relative;}#sk-container-id-1 div.sk-text-repr-fallback {display: none;}</style><div id=\"sk-container-id-1\" class=\"sk-top-container\"><div class=\"sk-text-repr-fallback\"><pre>AutoSklearnClassifier(ensemble_class=&lt;class &#x27;autosklearn.ensembles.ensemble_selection.EnsembleSelection&#x27;&gt;,\n",
              "                      metric=balanced_accuracy, n_jobs=4,\n",
              "                      per_run_time_limit=720, resampling_strategy=&#x27;cv&#x27;, seed=42,\n",
              "                      time_left_for_this_task=1800)</pre><b>In a Jupyter environment, please rerun this cell to show the HTML representation or trust the notebook. <br />On GitHub, the HTML representation is unable to render, please try loading this page with nbviewer.org.</b></div><div class=\"sk-container\" hidden><div class=\"sk-item\"><div class=\"sk-estimator sk-toggleable\"><input class=\"sk-toggleable__control sk-hidden--visually\" id=\"sk-estimator-id-1\" type=\"checkbox\" checked><label for=\"sk-estimator-id-1\" class=\"sk-toggleable__label sk-toggleable__label-arrow\">AutoSklearnClassifier</label><div class=\"sk-toggleable__content\"><pre>AutoSklearnClassifier(ensemble_class=&lt;class &#x27;autosklearn.ensembles.ensemble_selection.EnsembleSelection&#x27;&gt;,\n",
              "                      metric=balanced_accuracy, n_jobs=4,\n",
              "                      per_run_time_limit=720, resampling_strategy=&#x27;cv&#x27;, seed=42,\n",
              "                      time_left_for_this_task=1800)</pre></div></div></div></div></div>"
            ],
            "text/plain": [
              "AutoSklearnClassifier(ensemble_class=<class 'autosklearn.ensembles.ensemble_selection.EnsembleSelection'>,\n",
              "                      metric=balanced_accuracy, n_jobs=4,\n",
              "                      per_run_time_limit=720, resampling_strategy='cv', seed=42,\n",
              "                      time_left_for_this_task=1800)"
            ]
          },
          "execution_count": 14,
          "metadata": {},
          "output_type": "execute_result"
        }
      ],
      "source": [
        "settings = {\n",
        "  \"time_left_for_this_task\": 1800,  # 30 minutes\n",
        "  \"seed\": 42,\n",
        "  \"metric\": balanced_accuracy,\n",
        "  \"n_jobs\": 4,\n",
        "}\n",
        "\n",
        "askl1 = AutoSklearnClassifier(\n",
        "    **settings,\n",
        "    resampling_strategy='cv'\n",
        ")\n",
        "askl1.fit(X_train, y_train)"
      ]
    },
    {
      "cell_type": "markdown",
      "metadata": {
        "id": "BMQbxES9ObjU"
      },
      "source": [
        "Statystyki podsumowujące"
      ]
    },
    {
      "cell_type": "code",
      "execution_count": 17,
      "metadata": {
        "colab": {
          "base_uri": "https://localhost:8080/"
        },
        "id": "TNpMz_LXyFzL",
        "outputId": "e3a02608-f385-4862-c6fa-33a9a4534062"
      },
      "outputs": [
        {
          "name": "stdout",
          "output_type": "stream",
          "text": [
            "auto-sklearn results:\n",
            "  Dataset name: 53599121-b4b8-11ee-b767-0242ac1c000c\n",
            "  Metric: balanced_accuracy\n",
            "  Best validation score: 0.865022\n",
            "  Number of target algorithm runs: 58\n",
            "  Number of successful target algorithm runs: 41\n",
            "  Number of crashed target algorithm runs: 9\n",
            "  Number of target algorithms that exceeded the time limit: 3\n",
            "  Number of target algorithms that exceeded the memory limit: 5\n",
            "\n",
            "          rank  ensemble_weight                 type      cost    duration\n",
            "model_id                                                                  \n",
            "3            3             0.04        random_forest  0.142860  178.211706\n",
            "8            2             0.10        random_forest  0.142825  224.459829\n",
            "9            1             0.20          extra_trees  0.134978  208.847505\n",
            "20           8             0.06             adaboost  0.374109  403.026729\n",
            "21          10             0.02   passive_aggressive  0.436448   25.757276\n",
            "24           7             0.02             adaboost  0.365543  113.137676\n",
            "31           4             0.08  k_nearest_neighbors  0.168606  144.484710\n",
            "37           9             0.08                  lda  0.435095   64.928237\n",
            "39           6             0.04          extra_trees  0.323374  189.211635\n",
            "46          12             0.06        random_forest  0.497082  126.518417\n",
            "48          11             0.28         bernoulli_nb  0.493510  156.270699\n",
            "51           5             0.02          extra_trees  0.226291  108.292097\n"
          ]
        }
      ],
      "source": [
        "# statystyki podsumowujące\n",
        "print(askl1.sprint_statistics())\n",
        "\n",
        "leaderboard = askl1.leaderboard(sort_by=\"model_id\", ensemble_only=True)\n",
        "print(leaderboard)"
      ]
    },
    {
      "cell_type": "markdown",
      "metadata": {},
      "source": [
        "Wypisanie operacji wykonanych na zbiorze przed uczeniem przez każdy z modeli wraz z ich wagami."
      ]
    },
    {
      "cell_type": "code",
      "execution_count": 24,
      "metadata": {
        "colab": {
          "base_uri": "https://localhost:8080/"
        },
        "id": "Fi-nCMLFyGZz",
        "outputId": "8d3d2977-0ce9-46cc-8702-4a9d587d1939"
      },
      "outputs": [
        {
          "name": "stdout",
          "output_type": "stream",
          "text": [
            "0.28\n",
            "\n",
            "data preprocessor\n",
            "\n",
            "autosklearn.pipeline Feature Type Splitter\n",
            "\n",
            "feature preprocessor\n",
            "\n",
            "autosklearn.pipeline Extra Trees Classifier Preprocessing\n",
            "\n",
            "classifier\n",
            "\n",
            "autosklearn.pipeline Bernoulli Naive Bayes classifier\n",
            "0.2\n",
            "\n",
            "data preprocessor\n",
            "\n",
            "autosklearn.pipeline Feature Type Splitter\n",
            "\n",
            "feature preprocessor\n",
            "\n",
            "autosklearn.pipeline Extra Trees Classifier Preprocessing\n",
            "\n",
            "classifier\n",
            "\n",
            "autosklearn.pipeline Extra Trees Classifier\n",
            "0.1\n",
            "\n",
            "data preprocessor\n",
            "\n",
            "autosklearn.pipeline Feature Type Splitter\n",
            "\n",
            "feature preprocessor\n",
            "\n",
            "autosklearn.pipeline Extra Trees Classifier Preprocessing\n",
            "\n",
            "classifier\n",
            "\n",
            "autosklearn.pipeline Random Forest Classifier\n",
            "0.08\n",
            "\n",
            "data preprocessor\n",
            "\n",
            "autosklearn.pipeline Feature Type Splitter\n",
            "\n",
            "feature preprocessor\n",
            "\n",
            "autosklearn.pipeline Extra Trees Classifier Preprocessing\n",
            "\n",
            "classifier\n",
            "\n",
            "autosklearn.pipeline K-Nearest Neighbor Classification\n",
            "0.08\n",
            "\n",
            "data preprocessor\n",
            "\n",
            "autosklearn.pipeline Feature Type Splitter\n",
            "\n",
            "feature preprocessor\n",
            "\n",
            "autosklearn.pipeline Principle Component Analysis\n",
            "\n",
            "classifier\n",
            "\n",
            "autosklearn.pipeline Linear Discriminant Analysis\n",
            "0.06\n",
            "\n",
            "data preprocessor\n",
            "\n",
            "autosklearn.pipeline Feature Type Splitter\n",
            "\n",
            "feature preprocessor\n",
            "\n",
            "autosklearn.pipeline Extra Trees Classifier Preprocessing\n",
            "\n",
            "classifier\n",
            "\n",
            "autosklearn.pipeline AdaBoost Classifier\n",
            "0.06\n",
            "\n",
            "data preprocessor\n",
            "\n",
            "autosklearn.pipeline Feature Type Splitter\n",
            "\n",
            "feature preprocessor\n",
            "\n",
            "autosklearn.pipeline Random Trees Embedding\n",
            "\n",
            "classifier\n",
            "\n",
            "autosklearn.pipeline Random Forest Classifier\n",
            "0.04\n",
            "\n",
            "data preprocessor\n",
            "\n",
            "autosklearn.pipeline Feature Type Splitter\n",
            "\n",
            "feature preprocessor\n",
            "\n",
            "autosklearn.pipeline Extra Trees Classifier Preprocessing\n",
            "\n",
            "classifier\n",
            "\n",
            "autosklearn.pipeline Random Forest Classifier\n",
            "0.04\n",
            "\n",
            "data preprocessor\n",
            "\n",
            "autosklearn.pipeline Feature Type Splitter\n",
            "\n",
            "feature preprocessor\n",
            "\n",
            "autosklearn.pipeline Extra Trees Classifier Preprocessing\n",
            "\n",
            "classifier\n",
            "\n",
            "autosklearn.pipeline Extra Trees Classifier\n",
            "0.02\n",
            "\n",
            "data preprocessor\n",
            "\n",
            "autosklearn.pipeline Feature Type Splitter\n",
            "\n",
            "feature preprocessor\n",
            "\n",
            "autosklearn.pipeline Random Kitchen Sinks\n",
            "\n",
            "classifier\n",
            "\n",
            "autosklearn.pipeline Passive Aggressive Classifier\n",
            "0.02\n",
            "\n",
            "data preprocessor\n",
            "\n",
            "autosklearn.pipeline Feature Type Splitter\n",
            "\n",
            "feature preprocessor\n",
            "\n",
            "autosklearn.pipeline Feature Agglomeration\n",
            "\n",
            "classifier\n",
            "\n",
            "autosklearn.pipeline AdaBoost Classifier\n",
            "0.02\n",
            "\n",
            "data preprocessor\n",
            "\n",
            "autosklearn.pipeline Feature Type Splitter\n",
            "\n",
            "feature preprocessor\n",
            "\n",
            "autosklearn.pipeline Extra Trees Classifier Preprocessing\n",
            "\n",
            "classifier\n",
            "\n",
            "autosklearn.pipeline Extra Trees Classifier\n"
          ]
        }
      ],
      "source": [
        "for i, (weight, pipeline) in enumerate(askl1.get_models_with_weights()):\n",
        "    print(weight)\n",
        "    for stage_name, component in pipeline.named_steps.items():\n",
        "        if \"feature_preprocessor\" in stage_name:\n",
        "          print(\"\\nfeature preprocessor\\n\")\n",
        "          print(component.choice )\n",
        "        if \"data_preprocessor\" in stage_name:\n",
        "          print(\"\\ndata preprocessor\\n\")\n",
        "          print(component.choice)\n",
        "        if \"classifier\" in stage_name:\n",
        "          print(\"\\nclassifier\\n\")\n",
        "          print(component.choice)"
      ]
    },
    {
      "cell_type": "markdown",
      "metadata": {
        "id": "Z0kS6bMnEdc1"
      },
      "source": [
        "### Wynik dla zbioru testowego"
      ]
    },
    {
      "cell_type": "code",
      "execution_count": 20,
      "metadata": {
        "colab": {
          "base_uri": "https://localhost:8080/"
        },
        "id": "5DnOp9-7yLzf",
        "outputId": "4e745a1f-b118-498a-b478-d690346e4e05"
      },
      "outputs": [
        {
          "data": {
            "text/plain": [
              "0.8699497755455798"
            ]
          },
          "execution_count": 20,
          "metadata": {},
          "output_type": "execute_result"
        }
      ],
      "source": [
        "scoring_function(askl1)"
      ]
    },
    {
      "cell_type": "markdown",
      "metadata": {
        "id": "HmYGhYgSym4c"
      },
      "source": [
        "### Szukane predykcje oraz ich zapis do pliku txt wykonane przez model opracowany przez AutoSklearnClassifier"
      ]
    },
    {
      "cell_type": "code",
      "execution_count": 21,
      "metadata": {
        "id": "Ez5rtjRPyQn8"
      },
      "outputs": [],
      "source": [
        "# numery indeksów dodawane ręcznie po utworzeniu pliku\n",
        "pred = askl1.predict_proba(test)[:,1]\n",
        "with open(\"output_skl1.txt\", \"w\") as txt_file:\n",
        "    for line in pred:\n",
        "        txt_file.write(str(line)+'\\n')"
      ]
    }
  ],
  "metadata": {
    "colab": {
      "provenance": []
    },
    "kernelspec": {
      "display_name": "Python 3",
      "name": "python3"
    },
    "language_info": {
      "name": "python"
    }
  },
  "nbformat": 4,
  "nbformat_minor": 0
}
