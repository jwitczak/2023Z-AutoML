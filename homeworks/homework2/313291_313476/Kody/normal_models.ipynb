{
  "nbformat": 4,
  "nbformat_minor": 0,
  "metadata": {
    "colab": {
      "provenance": []
    },
    "kernelspec": {
      "name": "python3",
      "display_name": "Python 3"
    },
    "language_info": {
      "name": "python"
    }
  },
  "cells": [
    {
      "cell_type": "code",
      "source": [
        "import pandas as pd\n",
        "import numpy as np\n",
        "import matplotlib.pyplot as plt\n",
        "\n",
        "from sklearn.metrics import balanced_accuracy_score\n",
        "from sklearn.preprocessing import StandardScaler\n",
        "from sklearn.model_selection import train_test_split, cross_val_score, KFold, RandomizedSearchCV\n",
        "from sklearn.ensemble import BaggingClassifier\n",
        "from sklearn.pipeline import Pipeline\n",
        "\n",
        "# models\n",
        "from sklearn.linear_model import LogisticRegression\n",
        "from sklearn.ensemble import RandomForestClassifier, VotingClassifier\n",
        "from sklearn.neighbors import KNeighborsClassifier\n",
        "from sklearn.discriminant_analysis import LinearDiscriminantAnalysis, QuadraticDiscriminantAnalysis\n",
        "from sklearn.svm import SVC\n",
        "from sklearn.ensemble import GradientBoostingClassifier\n",
        "from sklearn.naive_bayes import GaussianNB"
      ],
      "metadata": {
        "id": "nh_hwYF0mPLu"
      },
      "execution_count": null,
      "outputs": []
    },
    {
      "cell_type": "code",
      "source": [
        "import warnings\n",
        "warnings.filterwarnings('ignore')"
      ],
      "metadata": {
        "id": "R3j8J3jh0YtO"
      },
      "execution_count": null,
      "outputs": []
    },
    {
      "cell_type": "code",
      "execution_count": null,
      "metadata": {
        "id": "LZWMTYvTjck3"
      },
      "outputs": [],
      "source": [
        "data_train = pd.read_table('data/artificial_train.data', sep=\" \", header=None)\n",
        "y_train = pd.read_table('data/artificial_train.labels', sep=\" \", header=None)"
      ]
    },
    {
      "cell_type": "code",
      "source": [
        "data_train.shape"
      ],
      "metadata": {
        "colab": {
          "base_uri": "https://localhost:8080/"
        },
        "id": "QDKJGke8qiFD",
        "outputId": "4763bbe6-1535-45c1-cf8d-ec13992bee5e"
      },
      "execution_count": null,
      "outputs": [
        {
          "output_type": "execute_result",
          "data": {
            "text/plain": [
              "(2000, 501)"
            ]
          },
          "metadata": {},
          "execution_count": 5
        }
      ]
    },
    {
      "cell_type": "code",
      "source": [
        "\n",
        "cv_split = KFold(6, shuffle=True, random_state=123)"
      ],
      "metadata": {
        "id": "8swCfMPvxjUq"
      },
      "execution_count": null,
      "outputs": []
    },
    {
      "cell_type": "code",
      "source": [
        "y_train"
      ],
      "metadata": {
        "colab": {
          "base_uri": "https://localhost:8080/",
          "height": 423
        },
        "id": "5oVXp4E36rlV",
        "outputId": "135a2073-79d5-42ca-d884-c1b82fa7736a"
      },
      "execution_count": null,
      "outputs": [
        {
          "output_type": "execute_result",
          "data": {
            "text/plain": [
              "      0\n",
              "0    -1\n",
              "1    -1\n",
              "2    -1\n",
              "3     1\n",
              "4     1\n",
              "...  ..\n",
              "1995  1\n",
              "1996 -1\n",
              "1997 -1\n",
              "1998  1\n",
              "1999  1\n",
              "\n",
              "[2000 rows x 1 columns]"
            ],
            "text/html": [
              "\n",
              "  <div id=\"df-67642b15-4e89-4d4d-be73-a63112934c5f\" class=\"colab-df-container\">\n",
              "    <div>\n",
              "<style scoped>\n",
              "    .dataframe tbody tr th:only-of-type {\n",
              "        vertical-align: middle;\n",
              "    }\n",
              "\n",
              "    .dataframe tbody tr th {\n",
              "        vertical-align: top;\n",
              "    }\n",
              "\n",
              "    .dataframe thead th {\n",
              "        text-align: right;\n",
              "    }\n",
              "</style>\n",
              "<table border=\"1\" class=\"dataframe\">\n",
              "  <thead>\n",
              "    <tr style=\"text-align: right;\">\n",
              "      <th></th>\n",
              "      <th>0</th>\n",
              "    </tr>\n",
              "  </thead>\n",
              "  <tbody>\n",
              "    <tr>\n",
              "      <th>0</th>\n",
              "      <td>-1</td>\n",
              "    </tr>\n",
              "    <tr>\n",
              "      <th>1</th>\n",
              "      <td>-1</td>\n",
              "    </tr>\n",
              "    <tr>\n",
              "      <th>2</th>\n",
              "      <td>-1</td>\n",
              "    </tr>\n",
              "    <tr>\n",
              "      <th>3</th>\n",
              "      <td>1</td>\n",
              "    </tr>\n",
              "    <tr>\n",
              "      <th>4</th>\n",
              "      <td>1</td>\n",
              "    </tr>\n",
              "    <tr>\n",
              "      <th>...</th>\n",
              "      <td>...</td>\n",
              "    </tr>\n",
              "    <tr>\n",
              "      <th>1995</th>\n",
              "      <td>1</td>\n",
              "    </tr>\n",
              "    <tr>\n",
              "      <th>1996</th>\n",
              "      <td>-1</td>\n",
              "    </tr>\n",
              "    <tr>\n",
              "      <th>1997</th>\n",
              "      <td>-1</td>\n",
              "    </tr>\n",
              "    <tr>\n",
              "      <th>1998</th>\n",
              "      <td>1</td>\n",
              "    </tr>\n",
              "    <tr>\n",
              "      <th>1999</th>\n",
              "      <td>1</td>\n",
              "    </tr>\n",
              "  </tbody>\n",
              "</table>\n",
              "<p>2000 rows × 1 columns</p>\n",
              "</div>\n",
              "    <div class=\"colab-df-buttons\">\n",
              "\n",
              "  <div class=\"colab-df-container\">\n",
              "    <button class=\"colab-df-convert\" onclick=\"convertToInteractive('df-67642b15-4e89-4d4d-be73-a63112934c5f')\"\n",
              "            title=\"Convert this dataframe to an interactive table.\"\n",
              "            style=\"display:none;\">\n",
              "\n",
              "  <svg xmlns=\"http://www.w3.org/2000/svg\" height=\"24px\" viewBox=\"0 -960 960 960\">\n",
              "    <path d=\"M120-120v-720h720v720H120Zm60-500h600v-160H180v160Zm220 220h160v-160H400v160Zm0 220h160v-160H400v160ZM180-400h160v-160H180v160Zm440 0h160v-160H620v160ZM180-180h160v-160H180v160Zm440 0h160v-160H620v160Z\"/>\n",
              "  </svg>\n",
              "    </button>\n",
              "\n",
              "  <style>\n",
              "    .colab-df-container {\n",
              "      display:flex;\n",
              "      gap: 12px;\n",
              "    }\n",
              "\n",
              "    .colab-df-convert {\n",
              "      background-color: #E8F0FE;\n",
              "      border: none;\n",
              "      border-radius: 50%;\n",
              "      cursor: pointer;\n",
              "      display: none;\n",
              "      fill: #1967D2;\n",
              "      height: 32px;\n",
              "      padding: 0 0 0 0;\n",
              "      width: 32px;\n",
              "    }\n",
              "\n",
              "    .colab-df-convert:hover {\n",
              "      background-color: #E2EBFA;\n",
              "      box-shadow: 0px 1px 2px rgba(60, 64, 67, 0.3), 0px 1px 3px 1px rgba(60, 64, 67, 0.15);\n",
              "      fill: #174EA6;\n",
              "    }\n",
              "\n",
              "    .colab-df-buttons div {\n",
              "      margin-bottom: 4px;\n",
              "    }\n",
              "\n",
              "    [theme=dark] .colab-df-convert {\n",
              "      background-color: #3B4455;\n",
              "      fill: #D2E3FC;\n",
              "    }\n",
              "\n",
              "    [theme=dark] .colab-df-convert:hover {\n",
              "      background-color: #434B5C;\n",
              "      box-shadow: 0px 1px 3px 1px rgba(0, 0, 0, 0.15);\n",
              "      filter: drop-shadow(0px 1px 2px rgba(0, 0, 0, 0.3));\n",
              "      fill: #FFFFFF;\n",
              "    }\n",
              "  </style>\n",
              "\n",
              "    <script>\n",
              "      const buttonEl =\n",
              "        document.querySelector('#df-67642b15-4e89-4d4d-be73-a63112934c5f button.colab-df-convert');\n",
              "      buttonEl.style.display =\n",
              "        google.colab.kernel.accessAllowed ? 'block' : 'none';\n",
              "\n",
              "      async function convertToInteractive(key) {\n",
              "        const element = document.querySelector('#df-67642b15-4e89-4d4d-be73-a63112934c5f');\n",
              "        const dataTable =\n",
              "          await google.colab.kernel.invokeFunction('convertToInteractive',\n",
              "                                                    [key], {});\n",
              "        if (!dataTable) return;\n",
              "\n",
              "        const docLinkHtml = 'Like what you see? Visit the ' +\n",
              "          '<a target=\"_blank\" href=https://colab.research.google.com/notebooks/data_table.ipynb>data table notebook</a>'\n",
              "          + ' to learn more about interactive tables.';\n",
              "        element.innerHTML = '';\n",
              "        dataTable['output_type'] = 'display_data';\n",
              "        await google.colab.output.renderOutput(dataTable, element);\n",
              "        const docLink = document.createElement('div');\n",
              "        docLink.innerHTML = docLinkHtml;\n",
              "        element.appendChild(docLink);\n",
              "      }\n",
              "    </script>\n",
              "  </div>\n",
              "\n",
              "\n",
              "<div id=\"df-509d6ddd-e51f-4fb8-bfc4-3388c74a711d\">\n",
              "  <button class=\"colab-df-quickchart\" onclick=\"quickchart('df-509d6ddd-e51f-4fb8-bfc4-3388c74a711d')\"\n",
              "            title=\"Suggest charts\"\n",
              "            style=\"display:none;\">\n",
              "\n",
              "<svg xmlns=\"http://www.w3.org/2000/svg\" height=\"24px\"viewBox=\"0 0 24 24\"\n",
              "     width=\"24px\">\n",
              "    <g>\n",
              "        <path d=\"M19 3H5c-1.1 0-2 .9-2 2v14c0 1.1.9 2 2 2h14c1.1 0 2-.9 2-2V5c0-1.1-.9-2-2-2zM9 17H7v-7h2v7zm4 0h-2V7h2v10zm4 0h-2v-4h2v4z\"/>\n",
              "    </g>\n",
              "</svg>\n",
              "  </button>\n",
              "\n",
              "<style>\n",
              "  .colab-df-quickchart {\n",
              "      --bg-color: #E8F0FE;\n",
              "      --fill-color: #1967D2;\n",
              "      --hover-bg-color: #E2EBFA;\n",
              "      --hover-fill-color: #174EA6;\n",
              "      --disabled-fill-color: #AAA;\n",
              "      --disabled-bg-color: #DDD;\n",
              "  }\n",
              "\n",
              "  [theme=dark] .colab-df-quickchart {\n",
              "      --bg-color: #3B4455;\n",
              "      --fill-color: #D2E3FC;\n",
              "      --hover-bg-color: #434B5C;\n",
              "      --hover-fill-color: #FFFFFF;\n",
              "      --disabled-bg-color: #3B4455;\n",
              "      --disabled-fill-color: #666;\n",
              "  }\n",
              "\n",
              "  .colab-df-quickchart {\n",
              "    background-color: var(--bg-color);\n",
              "    border: none;\n",
              "    border-radius: 50%;\n",
              "    cursor: pointer;\n",
              "    display: none;\n",
              "    fill: var(--fill-color);\n",
              "    height: 32px;\n",
              "    padding: 0;\n",
              "    width: 32px;\n",
              "  }\n",
              "\n",
              "  .colab-df-quickchart:hover {\n",
              "    background-color: var(--hover-bg-color);\n",
              "    box-shadow: 0 1px 2px rgba(60, 64, 67, 0.3), 0 1px 3px 1px rgba(60, 64, 67, 0.15);\n",
              "    fill: var(--button-hover-fill-color);\n",
              "  }\n",
              "\n",
              "  .colab-df-quickchart-complete:disabled,\n",
              "  .colab-df-quickchart-complete:disabled:hover {\n",
              "    background-color: var(--disabled-bg-color);\n",
              "    fill: var(--disabled-fill-color);\n",
              "    box-shadow: none;\n",
              "  }\n",
              "\n",
              "  .colab-df-spinner {\n",
              "    border: 2px solid var(--fill-color);\n",
              "    border-color: transparent;\n",
              "    border-bottom-color: var(--fill-color);\n",
              "    animation:\n",
              "      spin 1s steps(1) infinite;\n",
              "  }\n",
              "\n",
              "  @keyframes spin {\n",
              "    0% {\n",
              "      border-color: transparent;\n",
              "      border-bottom-color: var(--fill-color);\n",
              "      border-left-color: var(--fill-color);\n",
              "    }\n",
              "    20% {\n",
              "      border-color: transparent;\n",
              "      border-left-color: var(--fill-color);\n",
              "      border-top-color: var(--fill-color);\n",
              "    }\n",
              "    30% {\n",
              "      border-color: transparent;\n",
              "      border-left-color: var(--fill-color);\n",
              "      border-top-color: var(--fill-color);\n",
              "      border-right-color: var(--fill-color);\n",
              "    }\n",
              "    40% {\n",
              "      border-color: transparent;\n",
              "      border-right-color: var(--fill-color);\n",
              "      border-top-color: var(--fill-color);\n",
              "    }\n",
              "    60% {\n",
              "      border-color: transparent;\n",
              "      border-right-color: var(--fill-color);\n",
              "    }\n",
              "    80% {\n",
              "      border-color: transparent;\n",
              "      border-right-color: var(--fill-color);\n",
              "      border-bottom-color: var(--fill-color);\n",
              "    }\n",
              "    90% {\n",
              "      border-color: transparent;\n",
              "      border-bottom-color: var(--fill-color);\n",
              "    }\n",
              "  }\n",
              "</style>\n",
              "\n",
              "  <script>\n",
              "    async function quickchart(key) {\n",
              "      const quickchartButtonEl =\n",
              "        document.querySelector('#' + key + ' button');\n",
              "      quickchartButtonEl.disabled = true;  // To prevent multiple clicks.\n",
              "      quickchartButtonEl.classList.add('colab-df-spinner');\n",
              "      try {\n",
              "        const charts = await google.colab.kernel.invokeFunction(\n",
              "            'suggestCharts', [key], {});\n",
              "      } catch (error) {\n",
              "        console.error('Error during call to suggestCharts:', error);\n",
              "      }\n",
              "      quickchartButtonEl.classList.remove('colab-df-spinner');\n",
              "      quickchartButtonEl.classList.add('colab-df-quickchart-complete');\n",
              "    }\n",
              "    (() => {\n",
              "      let quickchartButtonEl =\n",
              "        document.querySelector('#df-509d6ddd-e51f-4fb8-bfc4-3388c74a711d button');\n",
              "      quickchartButtonEl.style.display =\n",
              "        google.colab.kernel.accessAllowed ? 'block' : 'none';\n",
              "    })();\n",
              "  </script>\n",
              "</div>\n",
              "    </div>\n",
              "  </div>\n"
            ]
          },
          "metadata": {},
          "execution_count": 7
        }
      ]
    },
    {
      "cell_type": "code",
      "source": [
        "data_train.head()"
      ],
      "metadata": {
        "colab": {
          "base_uri": "https://localhost:8080/",
          "height": 235
        },
        "id": "wD13bjKFmyy4",
        "outputId": "70821692-4e46-4131-ca74-e32ee2121b19"
      },
      "execution_count": null,
      "outputs": [
        {
          "output_type": "execute_result",
          "data": {
            "text/plain": [
              "   0    1    2    3    4    5    6    7    8    9    ...  491  492  493  494  \\\n",
              "0  485  477  537  479  452  471  491  476  475  473  ...  481  477  485  511   \n",
              "1  483  458  460  487  587  475  526  479  485  469  ...  478  487  338  513   \n",
              "2  487  542  499  468  448  471  442  478  480  477  ...  481  492  650  506   \n",
              "3  480  491  510  485  495  472  417  474  502  476  ...  480  474  572  454   \n",
              "4  484  502  528  489  466  481  402  478  487  468  ...  479  452  435  486   \n",
              "\n",
              "   495  496  497  498  499  500  \n",
              "0  485  481  479  475  496  NaN  \n",
              "1  486  483  492  510  517  NaN  \n",
              "2  501  480  489  499  498  NaN  \n",
              "3  469  475  482  494  461  NaN  \n",
              "4  508  481  504  495  511  NaN  \n",
              "\n",
              "[5 rows x 501 columns]"
            ],
            "text/html": [
              "\n",
              "  <div id=\"df-a2734ee5-0493-4d08-91bc-7dae94e836ec\" class=\"colab-df-container\">\n",
              "    <div>\n",
              "<style scoped>\n",
              "    .dataframe tbody tr th:only-of-type {\n",
              "        vertical-align: middle;\n",
              "    }\n",
              "\n",
              "    .dataframe tbody tr th {\n",
              "        vertical-align: top;\n",
              "    }\n",
              "\n",
              "    .dataframe thead th {\n",
              "        text-align: right;\n",
              "    }\n",
              "</style>\n",
              "<table border=\"1\" class=\"dataframe\">\n",
              "  <thead>\n",
              "    <tr style=\"text-align: right;\">\n",
              "      <th></th>\n",
              "      <th>0</th>\n",
              "      <th>1</th>\n",
              "      <th>2</th>\n",
              "      <th>3</th>\n",
              "      <th>4</th>\n",
              "      <th>5</th>\n",
              "      <th>6</th>\n",
              "      <th>7</th>\n",
              "      <th>8</th>\n",
              "      <th>9</th>\n",
              "      <th>...</th>\n",
              "      <th>491</th>\n",
              "      <th>492</th>\n",
              "      <th>493</th>\n",
              "      <th>494</th>\n",
              "      <th>495</th>\n",
              "      <th>496</th>\n",
              "      <th>497</th>\n",
              "      <th>498</th>\n",
              "      <th>499</th>\n",
              "      <th>500</th>\n",
              "    </tr>\n",
              "  </thead>\n",
              "  <tbody>\n",
              "    <tr>\n",
              "      <th>0</th>\n",
              "      <td>485</td>\n",
              "      <td>477</td>\n",
              "      <td>537</td>\n",
              "      <td>479</td>\n",
              "      <td>452</td>\n",
              "      <td>471</td>\n",
              "      <td>491</td>\n",
              "      <td>476</td>\n",
              "      <td>475</td>\n",
              "      <td>473</td>\n",
              "      <td>...</td>\n",
              "      <td>481</td>\n",
              "      <td>477</td>\n",
              "      <td>485</td>\n",
              "      <td>511</td>\n",
              "      <td>485</td>\n",
              "      <td>481</td>\n",
              "      <td>479</td>\n",
              "      <td>475</td>\n",
              "      <td>496</td>\n",
              "      <td>NaN</td>\n",
              "    </tr>\n",
              "    <tr>\n",
              "      <th>1</th>\n",
              "      <td>483</td>\n",
              "      <td>458</td>\n",
              "      <td>460</td>\n",
              "      <td>487</td>\n",
              "      <td>587</td>\n",
              "      <td>475</td>\n",
              "      <td>526</td>\n",
              "      <td>479</td>\n",
              "      <td>485</td>\n",
              "      <td>469</td>\n",
              "      <td>...</td>\n",
              "      <td>478</td>\n",
              "      <td>487</td>\n",
              "      <td>338</td>\n",
              "      <td>513</td>\n",
              "      <td>486</td>\n",
              "      <td>483</td>\n",
              "      <td>492</td>\n",
              "      <td>510</td>\n",
              "      <td>517</td>\n",
              "      <td>NaN</td>\n",
              "    </tr>\n",
              "    <tr>\n",
              "      <th>2</th>\n",
              "      <td>487</td>\n",
              "      <td>542</td>\n",
              "      <td>499</td>\n",
              "      <td>468</td>\n",
              "      <td>448</td>\n",
              "      <td>471</td>\n",
              "      <td>442</td>\n",
              "      <td>478</td>\n",
              "      <td>480</td>\n",
              "      <td>477</td>\n",
              "      <td>...</td>\n",
              "      <td>481</td>\n",
              "      <td>492</td>\n",
              "      <td>650</td>\n",
              "      <td>506</td>\n",
              "      <td>501</td>\n",
              "      <td>480</td>\n",
              "      <td>489</td>\n",
              "      <td>499</td>\n",
              "      <td>498</td>\n",
              "      <td>NaN</td>\n",
              "    </tr>\n",
              "    <tr>\n",
              "      <th>3</th>\n",
              "      <td>480</td>\n",
              "      <td>491</td>\n",
              "      <td>510</td>\n",
              "      <td>485</td>\n",
              "      <td>495</td>\n",
              "      <td>472</td>\n",
              "      <td>417</td>\n",
              "      <td>474</td>\n",
              "      <td>502</td>\n",
              "      <td>476</td>\n",
              "      <td>...</td>\n",
              "      <td>480</td>\n",
              "      <td>474</td>\n",
              "      <td>572</td>\n",
              "      <td>454</td>\n",
              "      <td>469</td>\n",
              "      <td>475</td>\n",
              "      <td>482</td>\n",
              "      <td>494</td>\n",
              "      <td>461</td>\n",
              "      <td>NaN</td>\n",
              "    </tr>\n",
              "    <tr>\n",
              "      <th>4</th>\n",
              "      <td>484</td>\n",
              "      <td>502</td>\n",
              "      <td>528</td>\n",
              "      <td>489</td>\n",
              "      <td>466</td>\n",
              "      <td>481</td>\n",
              "      <td>402</td>\n",
              "      <td>478</td>\n",
              "      <td>487</td>\n",
              "      <td>468</td>\n",
              "      <td>...</td>\n",
              "      <td>479</td>\n",
              "      <td>452</td>\n",
              "      <td>435</td>\n",
              "      <td>486</td>\n",
              "      <td>508</td>\n",
              "      <td>481</td>\n",
              "      <td>504</td>\n",
              "      <td>495</td>\n",
              "      <td>511</td>\n",
              "      <td>NaN</td>\n",
              "    </tr>\n",
              "  </tbody>\n",
              "</table>\n",
              "<p>5 rows × 501 columns</p>\n",
              "</div>\n",
              "    <div class=\"colab-df-buttons\">\n",
              "\n",
              "  <div class=\"colab-df-container\">\n",
              "    <button class=\"colab-df-convert\" onclick=\"convertToInteractive('df-a2734ee5-0493-4d08-91bc-7dae94e836ec')\"\n",
              "            title=\"Convert this dataframe to an interactive table.\"\n",
              "            style=\"display:none;\">\n",
              "\n",
              "  <svg xmlns=\"http://www.w3.org/2000/svg\" height=\"24px\" viewBox=\"0 -960 960 960\">\n",
              "    <path d=\"M120-120v-720h720v720H120Zm60-500h600v-160H180v160Zm220 220h160v-160H400v160Zm0 220h160v-160H400v160ZM180-400h160v-160H180v160Zm440 0h160v-160H620v160ZM180-180h160v-160H180v160Zm440 0h160v-160H620v160Z\"/>\n",
              "  </svg>\n",
              "    </button>\n",
              "\n",
              "  <style>\n",
              "    .colab-df-container {\n",
              "      display:flex;\n",
              "      gap: 12px;\n",
              "    }\n",
              "\n",
              "    .colab-df-convert {\n",
              "      background-color: #E8F0FE;\n",
              "      border: none;\n",
              "      border-radius: 50%;\n",
              "      cursor: pointer;\n",
              "      display: none;\n",
              "      fill: #1967D2;\n",
              "      height: 32px;\n",
              "      padding: 0 0 0 0;\n",
              "      width: 32px;\n",
              "    }\n",
              "\n",
              "    .colab-df-convert:hover {\n",
              "      background-color: #E2EBFA;\n",
              "      box-shadow: 0px 1px 2px rgba(60, 64, 67, 0.3), 0px 1px 3px 1px rgba(60, 64, 67, 0.15);\n",
              "      fill: #174EA6;\n",
              "    }\n",
              "\n",
              "    .colab-df-buttons div {\n",
              "      margin-bottom: 4px;\n",
              "    }\n",
              "\n",
              "    [theme=dark] .colab-df-convert {\n",
              "      background-color: #3B4455;\n",
              "      fill: #D2E3FC;\n",
              "    }\n",
              "\n",
              "    [theme=dark] .colab-df-convert:hover {\n",
              "      background-color: #434B5C;\n",
              "      box-shadow: 0px 1px 3px 1px rgba(0, 0, 0, 0.15);\n",
              "      filter: drop-shadow(0px 1px 2px rgba(0, 0, 0, 0.3));\n",
              "      fill: #FFFFFF;\n",
              "    }\n",
              "  </style>\n",
              "\n",
              "    <script>\n",
              "      const buttonEl =\n",
              "        document.querySelector('#df-a2734ee5-0493-4d08-91bc-7dae94e836ec button.colab-df-convert');\n",
              "      buttonEl.style.display =\n",
              "        google.colab.kernel.accessAllowed ? 'block' : 'none';\n",
              "\n",
              "      async function convertToInteractive(key) {\n",
              "        const element = document.querySelector('#df-a2734ee5-0493-4d08-91bc-7dae94e836ec');\n",
              "        const dataTable =\n",
              "          await google.colab.kernel.invokeFunction('convertToInteractive',\n",
              "                                                    [key], {});\n",
              "        if (!dataTable) return;\n",
              "\n",
              "        const docLinkHtml = 'Like what you see? Visit the ' +\n",
              "          '<a target=\"_blank\" href=https://colab.research.google.com/notebooks/data_table.ipynb>data table notebook</a>'\n",
              "          + ' to learn more about interactive tables.';\n",
              "        element.innerHTML = '';\n",
              "        dataTable['output_type'] = 'display_data';\n",
              "        await google.colab.output.renderOutput(dataTable, element);\n",
              "        const docLink = document.createElement('div');\n",
              "        docLink.innerHTML = docLinkHtml;\n",
              "        element.appendChild(docLink);\n",
              "      }\n",
              "    </script>\n",
              "  </div>\n",
              "\n",
              "\n",
              "<div id=\"df-8285590a-20fb-4be8-b84c-e66faa836998\">\n",
              "  <button class=\"colab-df-quickchart\" onclick=\"quickchart('df-8285590a-20fb-4be8-b84c-e66faa836998')\"\n",
              "            title=\"Suggest charts\"\n",
              "            style=\"display:none;\">\n",
              "\n",
              "<svg xmlns=\"http://www.w3.org/2000/svg\" height=\"24px\"viewBox=\"0 0 24 24\"\n",
              "     width=\"24px\">\n",
              "    <g>\n",
              "        <path d=\"M19 3H5c-1.1 0-2 .9-2 2v14c0 1.1.9 2 2 2h14c1.1 0 2-.9 2-2V5c0-1.1-.9-2-2-2zM9 17H7v-7h2v7zm4 0h-2V7h2v10zm4 0h-2v-4h2v4z\"/>\n",
              "    </g>\n",
              "</svg>\n",
              "  </button>\n",
              "\n",
              "<style>\n",
              "  .colab-df-quickchart {\n",
              "      --bg-color: #E8F0FE;\n",
              "      --fill-color: #1967D2;\n",
              "      --hover-bg-color: #E2EBFA;\n",
              "      --hover-fill-color: #174EA6;\n",
              "      --disabled-fill-color: #AAA;\n",
              "      --disabled-bg-color: #DDD;\n",
              "  }\n",
              "\n",
              "  [theme=dark] .colab-df-quickchart {\n",
              "      --bg-color: #3B4455;\n",
              "      --fill-color: #D2E3FC;\n",
              "      --hover-bg-color: #434B5C;\n",
              "      --hover-fill-color: #FFFFFF;\n",
              "      --disabled-bg-color: #3B4455;\n",
              "      --disabled-fill-color: #666;\n",
              "  }\n",
              "\n",
              "  .colab-df-quickchart {\n",
              "    background-color: var(--bg-color);\n",
              "    border: none;\n",
              "    border-radius: 50%;\n",
              "    cursor: pointer;\n",
              "    display: none;\n",
              "    fill: var(--fill-color);\n",
              "    height: 32px;\n",
              "    padding: 0;\n",
              "    width: 32px;\n",
              "  }\n",
              "\n",
              "  .colab-df-quickchart:hover {\n",
              "    background-color: var(--hover-bg-color);\n",
              "    box-shadow: 0 1px 2px rgba(60, 64, 67, 0.3), 0 1px 3px 1px rgba(60, 64, 67, 0.15);\n",
              "    fill: var(--button-hover-fill-color);\n",
              "  }\n",
              "\n",
              "  .colab-df-quickchart-complete:disabled,\n",
              "  .colab-df-quickchart-complete:disabled:hover {\n",
              "    background-color: var(--disabled-bg-color);\n",
              "    fill: var(--disabled-fill-color);\n",
              "    box-shadow: none;\n",
              "  }\n",
              "\n",
              "  .colab-df-spinner {\n",
              "    border: 2px solid var(--fill-color);\n",
              "    border-color: transparent;\n",
              "    border-bottom-color: var(--fill-color);\n",
              "    animation:\n",
              "      spin 1s steps(1) infinite;\n",
              "  }\n",
              "\n",
              "  @keyframes spin {\n",
              "    0% {\n",
              "      border-color: transparent;\n",
              "      border-bottom-color: var(--fill-color);\n",
              "      border-left-color: var(--fill-color);\n",
              "    }\n",
              "    20% {\n",
              "      border-color: transparent;\n",
              "      border-left-color: var(--fill-color);\n",
              "      border-top-color: var(--fill-color);\n",
              "    }\n",
              "    30% {\n",
              "      border-color: transparent;\n",
              "      border-left-color: var(--fill-color);\n",
              "      border-top-color: var(--fill-color);\n",
              "      border-right-color: var(--fill-color);\n",
              "    }\n",
              "    40% {\n",
              "      border-color: transparent;\n",
              "      border-right-color: var(--fill-color);\n",
              "      border-top-color: var(--fill-color);\n",
              "    }\n",
              "    60% {\n",
              "      border-color: transparent;\n",
              "      border-right-color: var(--fill-color);\n",
              "    }\n",
              "    80% {\n",
              "      border-color: transparent;\n",
              "      border-right-color: var(--fill-color);\n",
              "      border-bottom-color: var(--fill-color);\n",
              "    }\n",
              "    90% {\n",
              "      border-color: transparent;\n",
              "      border-bottom-color: var(--fill-color);\n",
              "    }\n",
              "  }\n",
              "</style>\n",
              "\n",
              "  <script>\n",
              "    async function quickchart(key) {\n",
              "      const quickchartButtonEl =\n",
              "        document.querySelector('#' + key + ' button');\n",
              "      quickchartButtonEl.disabled = true;  // To prevent multiple clicks.\n",
              "      quickchartButtonEl.classList.add('colab-df-spinner');\n",
              "      try {\n",
              "        const charts = await google.colab.kernel.invokeFunction(\n",
              "            'suggestCharts', [key], {});\n",
              "      } catch (error) {\n",
              "        console.error('Error during call to suggestCharts:', error);\n",
              "      }\n",
              "      quickchartButtonEl.classList.remove('colab-df-spinner');\n",
              "      quickchartButtonEl.classList.add('colab-df-quickchart-complete');\n",
              "    }\n",
              "    (() => {\n",
              "      let quickchartButtonEl =\n",
              "        document.querySelector('#df-8285590a-20fb-4be8-b84c-e66faa836998 button');\n",
              "      quickchartButtonEl.style.display =\n",
              "        google.colab.kernel.accessAllowed ? 'block' : 'none';\n",
              "    })();\n",
              "  </script>\n",
              "</div>\n",
              "    </div>\n",
              "  </div>\n"
            ]
          },
          "metadata": {},
          "execution_count": 8
        }
      ]
    },
    {
      "cell_type": "code",
      "source": [
        "# drop column with nan values\n",
        "nan_column = 500\n",
        "data_train.drop(columns=[nan_column], inplace=True)"
      ],
      "metadata": {
        "id": "s1_xk9kSkWQZ"
      },
      "execution_count": null,
      "outputs": []
    },
    {
      "cell_type": "code",
      "source": [
        "# kod skopiowany z https://stackoverflow.com/questions/17778394/list-highest-correlation-pairs-from-a-large-correlation-matrix-in-pandas\n",
        "\n",
        "def get_redundant_pairs(df):\n",
        "    '''Get diagonal and lower triangular pairs of correlation matrix'''\n",
        "    pairs_to_drop = set()\n",
        "    cols = df.columns\n",
        "    for i in range(0, df.shape[1]):\n",
        "        for j in range(0, i+1):\n",
        "            pairs_to_drop.add((cols[i], cols[j]))\n",
        "    return pairs_to_drop\n",
        "\n",
        "def get_top_abs_correlations(df, n=5):\n",
        "    au_corr = df.corr().abs().unstack()\n",
        "    labels_to_drop = get_redundant_pairs(df)\n",
        "    au_corr = au_corr.drop(labels=labels_to_drop).sort_values(ascending=False)\n",
        "    return au_corr[0:n]\n",
        "\n",
        "print(\"Top Absolute Correlations\")\n",
        "correlations = get_top_abs_correlations(data_train, 20)"
      ],
      "metadata": {
        "id": "y053duxhkVus",
        "colab": {
          "base_uri": "https://localhost:8080/"
        },
        "outputId": "deef4f7a-fbaa-4aa6-e983-80b9a7303f8f"
      },
      "execution_count": null,
      "outputs": [
        {
          "output_type": "stream",
          "name": "stdout",
          "text": [
            "Top Absolute Correlations\n"
          ]
        }
      ]
    },
    {
      "cell_type": "code",
      "source": [
        "correlations"
      ],
      "metadata": {
        "colab": {
          "base_uri": "https://localhost:8080/"
        },
        "id": "ds_QcBRgnpPY",
        "outputId": "45e79a36-896a-4ea0-e421-429583aae716"
      },
      "execution_count": null,
      "outputs": [
        {
          "output_type": "execute_result",
          "data": {
            "text/plain": [
              "64   336    0.990429\n",
              "442  472    0.990300\n",
              "28   318    0.989628\n",
              "105  128    0.989410\n",
              "153  433    0.989355\n",
              "241  475    0.989272\n",
              "28   451    0.989168\n",
              "281  433    0.989047\n",
              "153  281    0.988695\n",
              "318  451    0.988690\n",
              "453  493    0.988458\n",
              "48   378    0.988338\n",
              "241  336    0.735253\n",
              "64   241    0.734728\n",
              "     475    0.733741\n",
              "336  475    0.733736\n",
              "128  455    0.695884\n",
              "105  455    0.695428\n",
              "128  338    0.685630\n",
              "105  338    0.684663\n",
              "dtype: float64"
            ]
          },
          "metadata": {},
          "execution_count": 11
        }
      ]
    },
    {
      "cell_type": "code",
      "source": [
        "columns_to_drop = [64, 442, 28, 105, 153, 241, 318, 281, 453, 48]\n",
        "\n",
        "data_train.drop(columns=columns_to_drop, inplace=True)"
      ],
      "metadata": {
        "id": "LMYsVunRnuhT"
      },
      "execution_count": null,
      "outputs": []
    },
    {
      "cell_type": "code",
      "source": [
        "correlations = get_top_abs_correlations(data_train, 10)"
      ],
      "metadata": {
        "id": "7rxOXzdfpIUW"
      },
      "execution_count": null,
      "outputs": []
    },
    {
      "cell_type": "code",
      "source": [
        "correlations"
      ],
      "metadata": {
        "colab": {
          "base_uri": "https://localhost:8080/"
        },
        "id": "0sBu-6WKpNCE",
        "outputId": "c75fd3e8-0ab3-4101-c832-e17f915f884f"
      },
      "execution_count": null,
      "outputs": [
        {
          "output_type": "execute_result",
          "data": {
            "text/plain": [
              "336  475    0.733736\n",
              "128  455    0.695884\n",
              "     338    0.685630\n",
              "451  472    0.661783\n",
              "338  472    0.646701\n",
              "455  493    0.635489\n",
              "338  433    0.628206\n",
              "336  455    0.622168\n",
              "338  475    0.597291\n",
              "128  336    0.575316\n",
              "dtype: float64"
            ]
          },
          "metadata": {},
          "execution_count": 14
        }
      ]
    },
    {
      "cell_type": "code",
      "source": [
        "X_train, X_test, y_train, y_test = train_test_split(data_train, y_train, test_size = 0.2, random_state=123)"
      ],
      "metadata": {
        "id": "5XhLz89uRAI3"
      },
      "execution_count": null,
      "outputs": []
    },
    {
      "cell_type": "code",
      "source": [
        "from sklearn.preprocessing import StandardScaler\n",
        "scaler = StandardScaler().set_output(transform=\"pandas\")\n",
        "\n",
        "X_train_scaled = scaler.fit_transform(X_train)\n",
        "X_test_scaled = scaler.transform(X_test)"
      ],
      "metadata": {
        "id": "JFf5jqsps1vU"
      },
      "execution_count": null,
      "outputs": []
    },
    {
      "cell_type": "code",
      "source": [
        "from sklearn.ensemble import RandomForestClassifier\n",
        "\n",
        "forest = RandomForestClassifier(random_state=123).fit(X_train_scaled, y_train)"
      ],
      "metadata": {
        "id": "Z_Bo2bF1pdiP"
      },
      "execution_count": null,
      "outputs": []
    },
    {
      "cell_type": "code",
      "source": [
        "forest_coefs = pd.Series(forest.feature_importances_, index=forest.feature_names_in_)\n",
        "\n",
        "forest_coefs.sort_values(ascending=False, inplace=True)"
      ],
      "metadata": {
        "id": "u0EI_Q-gq8jW"
      },
      "execution_count": null,
      "outputs": []
    },
    {
      "cell_type": "code",
      "source": [
        "forest_coefs[:50]"
      ],
      "metadata": {
        "colab": {
          "base_uri": "https://localhost:8080/"
        },
        "id": "U7D6UBDNu0lJ",
        "outputId": "f8163104-8762-4fb6-e920-9828bab77c46"
      },
      "execution_count": null,
      "outputs": [
        {
          "output_type": "execute_result",
          "data": {
            "text/plain": [
              "x465    0.016748\n",
              "x330    0.014952\n",
              "x328    0.009580\n",
              "x462    0.009513\n",
              "x124    0.007870\n",
              "x370    0.007141\n",
              "x425    0.004371\n",
              "x483    0.004298\n",
              "x199    0.004211\n",
              "x442    0.003582\n",
              "x219    0.003519\n",
              "x194    0.003431\n",
              "x47     0.003418\n",
              "x275    0.003216\n",
              "x32     0.003126\n",
              "x350    0.003102\n",
              "x310    0.003092\n",
              "x70     0.003070\n",
              "x271    0.003048\n",
              "x132    0.003008\n",
              "x423    0.002985\n",
              "x238    0.002961\n",
              "x152    0.002955\n",
              "x155    0.002844\n",
              "x167    0.002835\n",
              "x10     0.002826\n",
              "x224    0.002799\n",
              "x339    0.002792\n",
              "x291    0.002785\n",
              "x133    0.002780\n",
              "x49     0.002772\n",
              "x326    0.002766\n",
              "x78     0.002755\n",
              "x359    0.002722\n",
              "x18     0.002722\n",
              "x404    0.002715\n",
              "x175    0.002713\n",
              "x301    0.002695\n",
              "x62     0.002681\n",
              "x24     0.002675\n",
              "x136    0.002668\n",
              "x486    0.002664\n",
              "x437    0.002649\n",
              "x177    0.002633\n",
              "x439    0.002603\n",
              "x95     0.002601\n",
              "x355    0.002600\n",
              "x366    0.002595\n",
              "x122    0.002586\n",
              "x445    0.002585\n",
              "dtype: float64"
            ]
          },
          "metadata": {},
          "execution_count": 21
        }
      ]
    },
    {
      "cell_type": "code",
      "source": [
        "plt.figure(figsize=(15, 8))\n",
        "forest_coefs[:60].plot.barh()\n",
        "\n",
        "plt.savefig('data/forest_coefs', bbox_inches='tight')"
      ],
      "metadata": {
        "colab": {
          "base_uri": "https://localhost:8080/",
          "height": 553
        },
        "id": "8knrJ9LZt3eG",
        "outputId": "8303728f-ff13-45f1-f510-740cb63a597c"
      },
      "execution_count": null,
      "outputs": [
        {
          "output_type": "display_data",
          "data": {
            "text/plain": [
              "<Figure size 1500x800 with 1 Axes>"
            ],
            "image/png": "[encoded data removed]"
          },
          "metadata": {}
        }
      ]
    },
    {
      "cell_type": "code",
      "source": [
        "knn = KNeighborsClassifier().fit(X_train_scaled, y_train)\n",
        "knn_reduced = KNeighborsClassifier().fit(X_train_scaled[forest_coefs[:50].index], y_train)"
      ],
      "metadata": {
        "id": "axV07FxNwd5b"
      },
      "execution_count": null,
      "outputs": []
    },
    {
      "cell_type": "code",
      "source": [
        "from sklearn.feature_selection import SequentialFeatureSelector\n",
        "from itertools import compress\n",
        "\n",
        "sfs_scores_knn = []\n",
        "reduced_features_knn = []\n",
        "current_features_knn = X_train_scaled[forest_coefs[:50].index].columns\n",
        "number_of_steps = 45\n",
        "\n",
        "for i in range(1, number_of_steps + 1):\n",
        "    sfs = SequentialFeatureSelector(estimator=KNeighborsClassifier(), n_features_to_select=50-i, direction='backward', scoring='balanced_accuracy', cv=cv_split, n_jobs=-1)\n",
        "    sfs.fit(X_train_scaled[current_features_knn], y_train)\n",
        "\n",
        "\n",
        "    current_features_knn = list(compress(current_features_knn, sfs.get_support()))\n",
        "\n",
        "    reduced_features_knn.append(current_features_knn)\n",
        "\n",
        "    cv_score_knn = cross_val_score(KNeighborsClassifier(), X_train_scaled[current_features_knn], y_train, cv=cv_split, scoring='balanced_accuracy')\n",
        "\n",
        "    print(\"STEP DONE\")\n",
        "    sfs_scores_knn.append(cv_score_knn)"
      ],
      "metadata": {
        "colab": {
          "base_uri": "https://localhost:8080/"
        },
        "id": "IvAKRWOizQZG",
        "outputId": "c0f9fee3-a27e-435b-8ae5-cda2bfbe8604"
      },
      "execution_count": null,
      "outputs": [
        {
          "output_type": "stream",
          "name": "stdout",
          "text": [
            "STEP DONE\n",
            "STEP DONE\n",
            "STEP DONE\n",
            "STEP DONE\n",
            "STEP DONE\n",
            "STEP DONE\n",
            "STEP DONE\n",
            "STEP DONE\n",
            "STEP DONE\n",
            "STEP DONE\n",
            "STEP DONE\n",
            "STEP DONE\n",
            "STEP DONE\n",
            "STEP DONE\n",
            "STEP DONE\n",
            "STEP DONE\n",
            "STEP DONE\n",
            "STEP DONE\n",
            "STEP DONE\n",
            "STEP DONE\n",
            "STEP DONE\n",
            "STEP DONE\n",
            "STEP DONE\n",
            "STEP DONE\n",
            "STEP DONE\n",
            "STEP DONE\n",
            "STEP DONE\n",
            "STEP DONE\n",
            "STEP DONE\n",
            "STEP DONE\n",
            "STEP DONE\n",
            "STEP DONE\n",
            "STEP DONE\n",
            "STEP DONE\n",
            "STEP DONE\n",
            "STEP DONE\n",
            "STEP DONE\n",
            "STEP DONE\n",
            "STEP DONE\n",
            "STEP DONE\n",
            "STEP DONE\n",
            "STEP DONE\n",
            "STEP DONE\n",
            "STEP DONE\n",
            "STEP DONE\n"
          ]
        }
      ]
    },
    {
      "cell_type": "code",
      "source": [
        "for i in range(number_of_steps):\n",
        "    print(f'features: {reduced_features_knn[i]}')\n",
        "    print(f'mean and std of CV score is {round(np.mean(sfs_scores_knn[i]), 4)}, {round(np.std(sfs_scores_knn[i]), 4)}')"
      ],
      "metadata": {
        "colab": {
          "base_uri": "https://localhost:8080/"
        },
        "id": "F7Ovapxw0OM9",
        "outputId": "2bc1e39c-d131-4f70-844c-268c6dce7036"
      },
      "execution_count": null,
      "outputs": [
        {
          "output_type": "stream",
          "name": "stdout",
          "text": [
            "features: ['x465', 'x330', 'x328', 'x462', 'x124', 'x370', 'x425', 'x483', 'x199', 'x442', 'x219', 'x194', 'x47', 'x275', 'x32', 'x350', 'x310', 'x70', 'x271', 'x132', 'x423', 'x238', 'x152', 'x155', 'x167', 'x10', 'x224', 'x339', 'x291', 'x133', 'x49', 'x326', 'x359', 'x18', 'x404', 'x175', 'x301', 'x62', 'x24', 'x136', 'x486', 'x437', 'x177', 'x439', 'x95', 'x355', 'x366', 'x122', 'x445']\n",
            "mean and std of CV score is 0.6285, 0.0164\n",
            "features: ['x465', 'x330', 'x328', 'x462', 'x124', 'x370', 'x425', 'x483', 'x199', 'x442', 'x219', 'x194', 'x47', 'x275', 'x32', 'x350', 'x310', 'x70', 'x271', 'x132', 'x238', 'x152', 'x155', 'x167', 'x10', 'x224', 'x339', 'x291', 'x133', 'x49', 'x326', 'x359', 'x18', 'x404', 'x175', 'x301', 'x62', 'x24', 'x136', 'x486', 'x437', 'x177', 'x439', 'x95', 'x355', 'x366', 'x122', 'x445']\n",
            "mean and std of CV score is 0.635, 0.0207\n",
            "features: ['x465', 'x330', 'x328', 'x462', 'x124', 'x370', 'x425', 'x483', 'x199', 'x442', 'x219', 'x194', 'x47', 'x275', 'x32', 'x350', 'x310', 'x70', 'x271', 'x132', 'x238', 'x152', 'x155', 'x167', 'x10', 'x224', 'x339', 'x291', 'x133', 'x49', 'x326', 'x359', 'x18', 'x404', 'x175', 'x301', 'x62', 'x24', 'x136', 'x486', 'x437', 'x177', 'x439', 'x95', 'x355', 'x122', 'x445']\n",
            "mean and std of CV score is 0.6439, 0.0321\n",
            "features: ['x465', 'x330', 'x328', 'x462', 'x124', 'x370', 'x425', 'x483', 'x199', 'x442', 'x219', 'x194', 'x47', 'x275', 'x32', 'x350', 'x310', 'x70', 'x271', 'x132', 'x238', 'x152', 'x155', 'x167', 'x10', 'x224', 'x339', 'x291', 'x133', 'x49', 'x326', 'x18', 'x404', 'x175', 'x301', 'x62', 'x24', 'x136', 'x486', 'x437', 'x177', 'x439', 'x95', 'x355', 'x122', 'x445']\n",
            "mean and std of CV score is 0.6505, 0.0352\n",
            "features: ['x465', 'x330', 'x328', 'x462', 'x124', 'x370', 'x425', 'x483', 'x199', 'x442', 'x219', 'x194', 'x47', 'x275', 'x32', 'x350', 'x310', 'x70', 'x271', 'x132', 'x152', 'x155', 'x167', 'x10', 'x224', 'x339', 'x291', 'x133', 'x49', 'x326', 'x18', 'x404', 'x175', 'x301', 'x62', 'x24', 'x136', 'x486', 'x437', 'x177', 'x439', 'x95', 'x355', 'x122', 'x445']\n",
            "mean and std of CV score is 0.6617, 0.0206\n",
            "features: ['x465', 'x330', 'x328', 'x462', 'x124', 'x370', 'x425', 'x483', 'x199', 'x442', 'x219', 'x194', 'x47', 'x275', 'x32', 'x350', 'x310', 'x70', 'x271', 'x132', 'x152', 'x155', 'x167', 'x10', 'x339', 'x291', 'x133', 'x49', 'x326', 'x18', 'x404', 'x175', 'x301', 'x62', 'x24', 'x136', 'x486', 'x437', 'x177', 'x439', 'x95', 'x355', 'x122', 'x445']\n",
            "mean and std of CV score is 0.6638, 0.022\n",
            "features: ['x465', 'x330', 'x328', 'x462', 'x124', 'x370', 'x425', 'x483', 'x442', 'x219', 'x194', 'x47', 'x275', 'x32', 'x350', 'x310', 'x70', 'x271', 'x132', 'x152', 'x155', 'x167', 'x10', 'x339', 'x291', 'x133', 'x49', 'x326', 'x18', 'x404', 'x175', 'x301', 'x62', 'x24', 'x136', 'x486', 'x437', 'x177', 'x439', 'x95', 'x355', 'x122', 'x445']\n",
            "mean and std of CV score is 0.6743, 0.0083\n",
            "features: ['x465', 'x330', 'x328', 'x462', 'x124', 'x370', 'x425', 'x483', 'x442', 'x219', 'x194', 'x47', 'x275', 'x32', 'x350', 'x310', 'x70', 'x271', 'x132', 'x152', 'x155', 'x167', 'x10', 'x339', 'x291', 'x133', 'x49', 'x326', 'x18', 'x404', 'x175', 'x301', 'x62', 'x24', 'x136', 'x486', 'x437', 'x177', 'x439', 'x95', 'x122', 'x445']\n",
            "mean and std of CV score is 0.6765, 0.0132\n",
            "features: ['x465', 'x330', 'x328', 'x462', 'x124', 'x370', 'x425', 'x483', 'x442', 'x219', 'x194', 'x47', 'x275', 'x350', 'x310', 'x70', 'x271', 'x132', 'x152', 'x155', 'x167', 'x10', 'x339', 'x291', 'x133', 'x49', 'x326', 'x18', 'x404', 'x175', 'x301', 'x62', 'x24', 'x136', 'x486', 'x437', 'x177', 'x439', 'x95', 'x122', 'x445']\n",
            "mean and std of CV score is 0.6807, 0.0146\n",
            "features: ['x465', 'x330', 'x328', 'x462', 'x124', 'x370', 'x425', 'x483', 'x442', 'x219', 'x194', 'x47', 'x275', 'x350', 'x310', 'x70', 'x271', 'x132', 'x152', 'x155', 'x167', 'x10', 'x339', 'x291', 'x133', 'x49', 'x18', 'x404', 'x175', 'x301', 'x62', 'x24', 'x136', 'x486', 'x437', 'x177', 'x439', 'x95', 'x122', 'x445']\n",
            "mean and std of CV score is 0.6794, 0.0202\n",
            "features: ['x465', 'x330', 'x328', 'x462', 'x124', 'x370', 'x425', 'x483', 'x442', 'x219', 'x194', 'x47', 'x275', 'x350', 'x310', 'x70', 'x271', 'x132', 'x152', 'x155', 'x167', 'x10', 'x339', 'x291', 'x133', 'x49', 'x18', 'x404', 'x301', 'x62', 'x24', 'x136', 'x486', 'x437', 'x177', 'x439', 'x95', 'x122', 'x445']\n",
            "mean and std of CV score is 0.6843, 0.0174\n",
            "features: ['x465', 'x330', 'x328', 'x462', 'x124', 'x370', 'x425', 'x483', 'x442', 'x219', 'x194', 'x47', 'x275', 'x350', 'x310', 'x70', 'x271', 'x132', 'x152', 'x155', 'x167', 'x10', 'x339', 'x291', 'x133', 'x49', 'x404', 'x301', 'x62', 'x24', 'x136', 'x486', 'x437', 'x177', 'x439', 'x95', 'x122', 'x445']\n",
            "mean and std of CV score is 0.6915, 0.0238\n",
            "features: ['x465', 'x330', 'x328', 'x462', 'x124', 'x370', 'x425', 'x483', 'x442', 'x219', 'x194', 'x47', 'x275', 'x350', 'x310', 'x70', 'x132', 'x152', 'x155', 'x167', 'x10', 'x339', 'x291', 'x133', 'x49', 'x404', 'x301', 'x62', 'x24', 'x136', 'x486', 'x437', 'x177', 'x439', 'x95', 'x122', 'x445']\n",
            "mean and std of CV score is 0.6943, 0.0203\n",
            "features: ['x465', 'x330', 'x328', 'x462', 'x124', 'x370', 'x425', 'x483', 'x442', 'x219', 'x194', 'x47', 'x275', 'x350', 'x310', 'x70', 'x132', 'x152', 'x155', 'x167', 'x10', 'x291', 'x133', 'x49', 'x404', 'x301', 'x62', 'x24', 'x136', 'x486', 'x437', 'x177', 'x439', 'x95', 'x122', 'x445']\n",
            "mean and std of CV score is 0.6989, 0.0307\n",
            "features: ['x465', 'x330', 'x328', 'x462', 'x124', 'x370', 'x425', 'x483', 'x442', 'x219', 'x194', 'x47', 'x275', 'x310', 'x70', 'x132', 'x152', 'x155', 'x167', 'x10', 'x291', 'x133', 'x49', 'x404', 'x301', 'x62', 'x24', 'x136', 'x486', 'x437', 'x177', 'x439', 'x95', 'x122', 'x445']\n",
            "mean and std of CV score is 0.6944, 0.0399\n",
            "features: ['x465', 'x330', 'x328', 'x462', 'x124', 'x370', 'x425', 'x483', 'x442', 'x219', 'x194', 'x47', 'x275', 'x310', 'x70', 'x132', 'x152', 'x155', 'x10', 'x291', 'x133', 'x49', 'x404', 'x301', 'x62', 'x24', 'x136', 'x486', 'x437', 'x177', 'x439', 'x95', 'x122', 'x445']\n",
            "mean and std of CV score is 0.7071, 0.0342\n",
            "features: ['x465', 'x330', 'x328', 'x462', 'x124', 'x370', 'x425', 'x483', 'x442', 'x219', 'x194', 'x47', 'x275', 'x310', 'x70', 'x132', 'x155', 'x10', 'x291', 'x133', 'x49', 'x404', 'x301', 'x62', 'x24', 'x136', 'x486', 'x437', 'x177', 'x439', 'x95', 'x122', 'x445']\n",
            "mean and std of CV score is 0.7101, 0.0306\n",
            "features: ['x465', 'x330', 'x328', 'x462', 'x124', 'x370', 'x425', 'x483', 'x442', 'x219', 'x194', 'x47', 'x275', 'x310', 'x70', 'x132', 'x155', 'x10', 'x291', 'x133', 'x49', 'x404', 'x301', 'x62', 'x24', 'x136', 'x486', 'x437', 'x439', 'x95', 'x122', 'x445']\n",
            "mean and std of CV score is 0.7074, 0.0307\n",
            "features: ['x465', 'x330', 'x328', 'x462', 'x124', 'x370', 'x425', 'x483', 'x442', 'x219', 'x194', 'x47', 'x275', 'x310', 'x70', 'x132', 'x155', 'x10', 'x291', 'x133', 'x49', 'x404', 'x301', 'x62', 'x24', 'x136', 'x486', 'x437', 'x439', 'x95', 'x445']\n",
            "mean and std of CV score is 0.7097, 0.0236\n",
            "features: ['x465', 'x330', 'x328', 'x462', 'x124', 'x370', 'x425', 'x483', 'x442', 'x219', 'x194', 'x47', 'x275', 'x310', 'x70', 'x132', 'x155', 'x10', 'x291', 'x133', 'x49', 'x404', 'x301', 'x62', 'x24', 'x136', 'x486', 'x437', 'x439', 'x95']\n",
            "mean and std of CV score is 0.7056, 0.0287\n",
            "features: ['x465', 'x330', 'x328', 'x462', 'x124', 'x370', 'x425', 'x483', 'x442', 'x219', 'x194', 'x47', 'x275', 'x310', 'x70', 'x132', 'x10', 'x291', 'x133', 'x49', 'x404', 'x301', 'x62', 'x24', 'x136', 'x486', 'x437', 'x439', 'x95']\n",
            "mean and std of CV score is 0.7157, 0.0365\n",
            "features: ['x465', 'x330', 'x328', 'x462', 'x124', 'x370', 'x425', 'x483', 'x442', 'x219', 'x194', 'x47', 'x275', 'x310', 'x70', 'x10', 'x291', 'x133', 'x49', 'x404', 'x301', 'x62', 'x24', 'x136', 'x486', 'x437', 'x439', 'x95']\n",
            "mean and std of CV score is 0.7076, 0.0189\n",
            "features: ['x465', 'x330', 'x328', 'x462', 'x124', 'x370', 'x425', 'x483', 'x442', 'x219', 'x194', 'x47', 'x275', 'x310', 'x70', 'x10', 'x291', 'x133', 'x49', 'x404', 'x62', 'x24', 'x136', 'x486', 'x437', 'x439', 'x95']\n",
            "mean and std of CV score is 0.7073, 0.0207\n",
            "features: ['x465', 'x330', 'x328', 'x462', 'x124', 'x370', 'x425', 'x483', 'x442', 'x219', 'x194', 'x47', 'x275', 'x310', 'x10', 'x291', 'x133', 'x49', 'x404', 'x62', 'x24', 'x136', 'x486', 'x437', 'x439', 'x95']\n",
            "mean and std of CV score is 0.7091, 0.0254\n",
            "features: ['x465', 'x330', 'x328', 'x462', 'x124', 'x370', 'x425', 'x483', 'x442', 'x219', 'x194', 'x47', 'x275', 'x310', 'x10', 'x291', 'x133', 'x49', 'x404', 'x62', 'x24', 'x136', 'x486', 'x437', 'x439']\n",
            "mean and std of CV score is 0.7135, 0.0226\n",
            "features: ['x465', 'x330', 'x328', 'x462', 'x124', 'x370', 'x425', 'x483', 'x442', 'x219', 'x194', 'x47', 'x275', 'x310', 'x10', 'x291', 'x133', 'x49', 'x404', 'x62', 'x24', 'x136', 'x437', 'x439']\n",
            "mean and std of CV score is 0.714, 0.0139\n",
            "features: ['x465', 'x330', 'x328', 'x462', 'x124', 'x370', 'x425', 'x483', 'x442', 'x219', 'x194', 'x47', 'x275', 'x310', 'x10', 'x291', 'x133', 'x49', 'x404', 'x62', 'x24', 'x136', 'x439']\n",
            "mean and std of CV score is 0.7187, 0.0154\n",
            "features: ['x465', 'x330', 'x328', 'x462', 'x124', 'x370', 'x425', 'x483', 'x442', 'x219', 'x194', 'x47', 'x275', 'x310', 'x10', 'x291', 'x133', 'x49', 'x62', 'x24', 'x136', 'x439']\n",
            "mean and std of CV score is 0.738, 0.019\n",
            "features: ['x465', 'x330', 'x328', 'x462', 'x124', 'x370', 'x425', 'x483', 'x442', 'x194', 'x47', 'x275', 'x310', 'x10', 'x291', 'x133', 'x49', 'x62', 'x24', 'x136', 'x439']\n",
            "mean and std of CV score is 0.7418, 0.0084\n",
            "features: ['x465', 'x330', 'x328', 'x462', 'x124', 'x370', 'x425', 'x483', 'x442', 'x194', 'x275', 'x310', 'x10', 'x291', 'x133', 'x49', 'x62', 'x24', 'x136', 'x439']\n",
            "mean and std of CV score is 0.7434, 0.0209\n",
            "features: ['x465', 'x330', 'x328', 'x462', 'x124', 'x370', 'x425', 'x483', 'x442', 'x194', 'x275', 'x310', 'x10', 'x291', 'x133', 'x49', 'x62', 'x136', 'x439']\n",
            "mean and std of CV score is 0.7579, 0.0364\n",
            "features: ['x465', 'x330', 'x328', 'x462', 'x124', 'x370', 'x425', 'x483', 'x442', 'x194', 'x275', 'x310', 'x10', 'x291', 'x133', 'x49', 'x62', 'x439']\n",
            "mean and std of CV score is 0.7731, 0.0175\n",
            "features: ['x465', 'x330', 'x328', 'x462', 'x124', 'x370', 'x425', 'x483', 'x442', 'x194', 'x275', 'x10', 'x291', 'x133', 'x49', 'x62', 'x439']\n",
            "mean and std of CV score is 0.7832, 0.0177\n",
            "features: ['x465', 'x330', 'x328', 'x462', 'x124', 'x370', 'x425', 'x483', 'x442', 'x194', 'x10', 'x291', 'x133', 'x49', 'x62', 'x439']\n",
            "mean and std of CV score is 0.7957, 0.0281\n",
            "features: ['x465', 'x330', 'x328', 'x462', 'x124', 'x370', 'x425', 'x483', 'x442', 'x10', 'x291', 'x133', 'x49', 'x62', 'x439']\n",
            "mean and std of CV score is 0.8019, 0.0176\n",
            "features: ['x465', 'x330', 'x328', 'x462', 'x124', 'x370', 'x425', 'x483', 'x442', 'x291', 'x133', 'x49', 'x62', 'x439']\n",
            "mean and std of CV score is 0.8105, 0.0237\n",
            "features: ['x465', 'x330', 'x328', 'x462', 'x124', 'x370', 'x425', 'x483', 'x442', 'x291', 'x133', 'x49', 'x62']\n",
            "mean and std of CV score is 0.8233, 0.03\n",
            "features: ['x465', 'x330', 'x328', 'x462', 'x124', 'x370', 'x425', 'x483', 'x442', 'x291', 'x49', 'x62']\n",
            "mean and std of CV score is 0.8364, 0.0212\n",
            "features: ['x465', 'x330', 'x328', 'x462', 'x124', 'x370', 'x425', 'x483', 'x442', 'x291', 'x49']\n",
            "mean and std of CV score is 0.8492, 0.0052\n",
            "features: ['x465', 'x330', 'x328', 'x462', 'x124', 'x370', 'x425', 'x483', 'x442', 'x49']\n",
            "mean and std of CV score is 0.8723, 0.0143\n",
            "features: ['x465', 'x330', 'x328', 'x462', 'x124', 'x370', 'x425', 'x483', 'x442']\n",
            "mean and std of CV score is 0.8922, 0.0168\n",
            "features: ['x465', 'x328', 'x462', 'x124', 'x370', 'x425', 'x483', 'x442']\n",
            "mean and std of CV score is 0.8941, 0.0133\n",
            "features: ['x465', 'x328', 'x462', 'x370', 'x425', 'x483', 'x442']\n",
            "mean and std of CV score is 0.8961, 0.0154\n",
            "features: ['x328', 'x462', 'x370', 'x425', 'x483', 'x442']\n",
            "mean and std of CV score is 0.9002, 0.0137\n",
            "features: ['x328', 'x370', 'x425', 'x483', 'x442']\n",
            "mean and std of CV score is 0.8874, 0.0177\n"
          ]
        }
      ]
    },
    {
      "cell_type": "code",
      "source": [
        "RANDOM_STATE = 123\n",
        "SCORING = 'balanced_accuracy'"
      ],
      "metadata": {
        "id": "N29juNBw-ECC"
      },
      "execution_count": null,
      "outputs": []
    },
    {
      "cell_type": "code",
      "source": [
        "base_lr = LogisticRegression()\n",
        "base_forest = RandomForestClassifier(random_state=RANDOM_STATE)\n",
        "base_knn = KNeighborsClassifier()\n",
        "base_LDA = LinearDiscriminantAnalysis()\n",
        "base_QDA = QuadraticDiscriminantAnalysis()\n",
        "base_SVC = SVC()\n",
        "base_nb = GaussianNB()\n",
        "base_xgb = GradientBoostingClassifier(random_state=RANDOM_STATE)"
      ],
      "metadata": {
        "id": "9ciBdxxEazY5"
      },
      "execution_count": null,
      "outputs": []
    },
    {
      "cell_type": "code",
      "source": [
        "base_lr.fit(X_train_scaled, y_train);\n",
        "base_forest.fit(X_train_scaled, y_train);\n",
        "base_knn.fit(X_train_scaled, y_train);\n",
        "base_LDA.fit(X_train_scaled, y_train);\n",
        "base_QDA.fit(X_train_scaled, y_train);\n",
        "base_SVC.fit(X_train_scaled, y_train);\n",
        "base_nb.fit(X_train_scaled, y_train);\n",
        "base_xgb.fit(X_train_scaled, y_train);"
      ],
      "metadata": {
        "id": "wb4Wn_POa8bF"
      },
      "execution_count": null,
      "outputs": []
    },
    {
      "cell_type": "code",
      "source": [
        "base_models = [base_lr, base_forest, base_knn, base_LDA, base_QDA, base_SVC, base_nb, base_xgb]\n",
        "base_models_keys = [\n",
        "'LogisticRegression',\n",
        "'RandomForestClassifier',\n",
        "'KNeighborsClassifier',\n",
        "'LinearDiscriminantAnalysis',\n",
        "'QuadraticDiscriminantAnalysis',\n",
        "'SupportVectorClassifier',\n",
        "'GausianBN',\n",
        "'GradientBoostingClassifer'\n",
        "]"
      ],
      "metadata": {
        "id": "7Ue7P7xhbCep"
      },
      "execution_count": null,
      "outputs": []
    },
    {
      "cell_type": "code",
      "source": [
        "base_models_test_results = {}\n",
        "base_models_c_val_results = {}\n",
        "\n",
        "for idx in range(len(base_models_keys)):\n",
        "    base_models_test_results[base_models_keys[idx]] = balanced_accuracy_score(y_test, base_models[idx].predict(X_test_scaled))\n",
        "\n",
        "    base_models_c_val_results[base_models_keys[idx]] = cross_val_score(base_models[idx], X_train_scaled, y_train, cv=cv_split, scoring=SCORING)"
      ],
      "metadata": {
        "id": "YaCkXhYLbFzn"
      },
      "execution_count": null,
      "outputs": []
    },
    {
      "cell_type": "code",
      "source": [
        "for key in base_models_keys:\n",
        "    print(f'{key}, balanced accuracy: {base_models_test_results[key]}')\n",
        "    print(f'{key}, cross val score: {base_models_c_val_results[key].mean()}')"
      ],
      "metadata": {
        "colab": {
          "base_uri": "https://localhost:8080/"
        },
        "id": "ULdsiIOqbN3_",
        "outputId": "6f9aaea9-9311-4d31-cb77-ea335b3ae966"
      },
      "execution_count": null,
      "outputs": [
        {
          "output_type": "stream",
          "name": "stdout",
          "text": [
            "LogisticRegression, balanced accuracy: 0.513157894736842\n",
            "LogisticRegression, cross val score: 0.5344681038805738\n",
            "RandomForestClassifier, balanced accuracy: 0.6110275689223058\n",
            "RandomForestClassifier, cross val score: 0.6290949960555946\n",
            "KNeighborsClassifier, balanced accuracy: 0.5412280701754386\n",
            "KNeighborsClassifier, cross val score: 0.5158300119353858\n",
            "LinearDiscriminantAnalysis, balanced accuracy: 0.5028822055137845\n",
            "LinearDiscriminantAnalysis, cross val score: 0.5355350983115432\n",
            "QuadraticDiscriminantAnalysis, balanced accuracy: 0.512781954887218\n",
            "QuadraticDiscriminantAnalysis, cross val score: 0.5026902743686238\n",
            "SupportVectorClassifier, balanced accuracy: 0.5342105263157895\n",
            "SupportVectorClassifier, cross val score: 0.5487673912255061\n",
            "GausianBN, balanced accuracy: 0.5735588972431078\n",
            "GausianBN, cross val score: 0.5646213466799596\n",
            "GradientBoostingClassifer, balanced accuracy: 0.7590225563909774\n",
            "GradientBoostingClassifer, cross val score: 0.7033448774648944\n"
          ]
        }
      ]
    },
    {
      "cell_type": "code",
      "source": [
        "base_lr_red = LogisticRegression()\n",
        "base_forest_red = RandomForestClassifier()\n",
        "base_knn_red = KNeighborsClassifier()\n",
        "base_LDA_red = LinearDiscriminantAnalysis()\n",
        "base_QDA_red = QuadraticDiscriminantAnalysis()\n",
        "base_SVC_red = SVC()\n",
        "base_nb_red = GaussianNB()\n",
        "base_xgb_red = GradientBoostingClassifier(random_state=RANDOM_STATE)"
      ],
      "metadata": {
        "id": "EUGwa8uQbEnE"
      },
      "execution_count": null,
      "outputs": []
    },
    {
      "cell_type": "code",
      "source": [
        "best_feat_1 = ['x465', 'x330', 'x328', 'x462', 'x124', 'x370', 'x425', 'x483', 'x442'] # topFeaturesSecond\n",
        "best_feat_2 = ['x465', 'x328', 'x462', 'x124', 'x370', 'x425', 'x483', 'x442'] # subset of topFeaturesSecond\n",
        "best_feat_3 = ['x465', 'x328', 'x462', 'x370', 'x425', 'x483', 'x442'] # subset of topFeaturesSecond\n",
        "best_feat_4 = ['x328', 'x462', 'x370', 'x425', 'x483', 'x442'] # subset of topFeaturesSecond"
      ],
      "metadata": {
        "id": "fu0Uedk5-JP8"
      },
      "execution_count": null,
      "outputs": []
    },
    {
      "cell_type": "code",
      "source": [
        "X_train_scaled"
      ],
      "metadata": {
        "id": "Otxbr0LWbSIA"
      },
      "execution_count": null,
      "outputs": []
    },
    {
      "cell_type": "code",
      "source": [
        "base_lr_red.fit(X_train_scaled[best_feat_3], y_train)\n",
        "base_forest_red.fit(X_train_scaled[best_feat_3], y_train)\n",
        "base_knn_red.fit(X_train_scaled[best_feat_3], y_train)\n",
        "base_LDA_red.fit(X_train_scaled[best_feat_3], y_train)\n",
        "base_QDA_red.fit(X_train_scaled[best_feat_3], y_train)\n",
        "base_SVC_red.fit(X_train_scaled[best_feat_3], y_train)\n",
        "base_nb_red.fit(X_train_scaled[best_feat_3], y_train)\n",
        "base_xgb_red.fit(X_train_scaled[best_feat_3], y_train)"
      ],
      "metadata": {
        "colab": {
          "base_uri": "https://localhost:8080/",
          "height": 74
        },
        "id": "EiXTlG2PbKCB",
        "outputId": "92113bce-40b2-46fd-b2d9-a474d8e33955"
      },
      "execution_count": null,
      "outputs": [
        {
          "output_type": "execute_result",
          "data": {
            "text/plain": [
              "GradientBoostingClassifier(random_state=123)"
            ],
            "text/html": [
              "<style>#sk-container-id-1 {color: black;background-color: white;}#sk-container-id-1 pre{padding: 0;}#sk-container-id-1 div.sk-toggleable {background-color: white;}#sk-container-id-1 label.sk-toggleable__label {cursor: pointer;display: block;width: 100%;margin-bottom: 0;padding: 0.3em;box-sizing: border-box;text-align: center;}#sk-container-id-1 label.sk-toggleable__label-arrow:before {content: \"▸\";float: left;margin-right: 0.25em;color: #696969;}#sk-container-id-1 label.sk-toggleable__label-arrow:hover:before {color: black;}#sk-container-id-1 div.sk-estimator:hover label.sk-toggleable__label-arrow:before {color: black;}#sk-container-id-1 div.sk-toggleable__content {max-height: 0;max-width: 0;overflow: hidden;text-align: left;background-color: #f0f8ff;}#sk-container-id-1 div.sk-toggleable__content pre {margin: 0.2em;color: black;border-radius: 0.25em;background-color: #f0f8ff;}#sk-container-id-1 input.sk-toggleable__control:checked~div.sk-toggleable__content {max-height: 200px;max-width: 100%;overflow: auto;}#sk-container-id-1 input.sk-toggleable__control:checked~label.sk-toggleable__label-arrow:before {content: \"▾\";}#sk-container-id-1 div.sk-estimator input.sk-toggleable__control:checked~label.sk-toggleable__label {background-color: #d4ebff;}#sk-container-id-1 div.sk-label input.sk-toggleable__control:checked~label.sk-toggleable__label {background-color: #d4ebff;}#sk-container-id-1 input.sk-hidden--visually {border: 0;clip: rect(1px 1px 1px 1px);clip: rect(1px, 1px, 1px, 1px);height: 1px;margin: -1px;overflow: hidden;padding: 0;position: absolute;width: 1px;}#sk-container-id-1 div.sk-estimator {font-family: monospace;background-color: #f0f8ff;border: 1px dotted black;border-radius: 0.25em;box-sizing: border-box;margin-bottom: 0.5em;}#sk-container-id-1 div.sk-estimator:hover {background-color: #d4ebff;}#sk-container-id-1 div.sk-parallel-item::after {content: \"\";width: 100%;border-bottom: 1px solid gray;flex-grow: 1;}#sk-container-id-1 div.sk-label:hover label.sk-toggleable__label {background-color: #d4ebff;}#sk-container-id-1 div.sk-serial::before {content: \"\";position: absolute;border-left: 1px solid gray;box-sizing: border-box;top: 0;bottom: 0;left: 50%;z-index: 0;}#sk-container-id-1 div.sk-serial {display: flex;flex-direction: column;align-items: center;background-color: white;padding-right: 0.2em;padding-left: 0.2em;position: relative;}#sk-container-id-1 div.sk-item {position: relative;z-index: 1;}#sk-container-id-1 div.sk-parallel {display: flex;align-items: stretch;justify-content: center;background-color: white;position: relative;}#sk-container-id-1 div.sk-item::before, #sk-container-id-1 div.sk-parallel-item::before {content: \"\";position: absolute;border-left: 1px solid gray;box-sizing: border-box;top: 0;bottom: 0;left: 50%;z-index: -1;}#sk-container-id-1 div.sk-parallel-item {display: flex;flex-direction: column;z-index: 1;position: relative;background-color: white;}#sk-container-id-1 div.sk-parallel-item:first-child::after {align-self: flex-end;width: 50%;}#sk-container-id-1 div.sk-parallel-item:last-child::after {align-self: flex-start;width: 50%;}#sk-container-id-1 div.sk-parallel-item:only-child::after {width: 0;}#sk-container-id-1 div.sk-dashed-wrapped {border: 1px dashed gray;margin: 0 0.4em 0.5em 0.4em;box-sizing: border-box;padding-bottom: 0.4em;background-color: white;}#sk-container-id-1 div.sk-label label {font-family: monospace;font-weight: bold;display: inline-block;line-height: 1.2em;}#sk-container-id-1 div.sk-label-container {text-align: center;}#sk-container-id-1 div.sk-container {/* jupyter's `normalize.less` sets `[hidden] { display: none; }` but bootstrap.min.css set `[hidden] { display: none !important; }` so we also need the `!important` here to be able to override the default hidden behavior on the sphinx rendered scikit-learn.org. See: https://github.com/scikit-learn/scikit-learn/issues/21755 */display: inline-block !important;position: relative;}#sk-container-id-1 div.sk-text-repr-fallback {display: none;}</style><div id=\"sk-container-id-1\" class=\"sk-top-container\"><div class=\"sk-text-repr-fallback\"><pre>GradientBoostingClassifier(random_state=123)</pre><b>In a Jupyter environment, please rerun this cell to show the HTML representation or trust the notebook. <br />On GitHub, the HTML representation is unable to render, please try loading this page with nbviewer.org.</b></div><div class=\"sk-container\" hidden><div class=\"sk-item\"><div class=\"sk-estimator sk-toggleable\"><input class=\"sk-toggleable__control sk-hidden--visually\" id=\"sk-estimator-id-1\" type=\"checkbox\" checked><label for=\"sk-estimator-id-1\" class=\"sk-toggleable__label sk-toggleable__label-arrow\">GradientBoostingClassifier</label><div class=\"sk-toggleable__content\"><pre>GradientBoostingClassifier(random_state=123)</pre></div></div></div></div></div>"
            ]
          },
          "metadata": {},
          "execution_count": 32
        }
      ]
    },
    {
      "cell_type": "code",
      "source": [
        "base_models_red = [base_lr_red, base_forest_red, base_knn_red, base_LDA_red, base_QDA_red, base_SVC_red, base_nb_red, base_xgb_red]\n",
        "base_models_keys_red = [\n",
        "'LogisticRegression',\n",
        "'RandomForestClassifier',\n",
        "'KNeighborsClassifier',\n",
        "'LinearDiscriminantAnalysis',\n",
        "'QuadraticDiscriminantAnalysis',\n",
        "'SupportVectorClassifier',\n",
        "'GausianBN',\n",
        "'GradientBoostingClassifer'\n",
        "]"
      ],
      "metadata": {
        "id": "CpkZkLLpbnfU"
      },
      "execution_count": null,
      "outputs": []
    },
    {
      "cell_type": "code",
      "source": [
        "base_models_test_results_red = {}\n",
        "base_models_c_val_results_red = {}\n",
        "\n",
        "for idx in range(len(base_models_keys_red)):\n",
        "    base_models_test_results_red[base_models_keys_red[idx]] = balanced_accuracy_score(y_test, base_models_red[idx].predict(X_test_scaled[best_feat_3]))\n",
        "\n",
        "    base_models_c_val_results_red[base_models_keys_red[idx]] = cross_val_score(base_models_red[idx], X_train_scaled[best_feat_3], y_train, cv=cv_split, scoring=SCORING)"
      ],
      "metadata": {
        "id": "tdk0IJVBbr6-"
      },
      "execution_count": null,
      "outputs": []
    },
    {
      "cell_type": "code",
      "source": [
        "for key in base_models_keys_red:\n",
        "    print(f'{key}, balanced accuracy: {base_models_test_results_red[key]}')\n",
        "    print(f'{key}, cross val score: {base_models_c_val_results_red[key].mean()}')"
      ],
      "metadata": {
        "colab": {
          "base_uri": "https://localhost:8080/"
        },
        "id": "S_e25CNCb7TA",
        "outputId": "6947676f-0502-4105-8a6a-a94d80d492af"
      },
      "execution_count": null,
      "outputs": [
        {
          "output_type": "stream",
          "name": "stdout",
          "text": [
            "LogisticRegression, balanced accuracy: 0.5903508771929824\n",
            "LogisticRegression, cross val score: 0.6164175926901677\n",
            "RandomForestClassifier, balanced accuracy: 0.8788220551378446\n",
            "RandomForestClassifier, cross val score: 0.8701476243283138\n",
            "KNeighborsClassifier, balanced accuracy: 0.900501253132832\n",
            "KNeighborsClassifier, cross val score: 0.896124922484624\n",
            "LinearDiscriminantAnalysis, balanced accuracy: 0.5903508771929824\n",
            "LinearDiscriminantAnalysis, cross val score: 0.6146319563631203\n",
            "QuadraticDiscriminantAnalysis, balanced accuracy: 0.7165413533834586\n",
            "QuadraticDiscriminantAnalysis, cross val score: 0.7016734865905542\n",
            "SupportVectorClassifier, balanced accuracy: 0.8487468671679198\n",
            "SupportVectorClassifier, cross val score: 0.839023975647649\n",
            "GausianBN, balanced accuracy: 0.606265664160401\n",
            "GausianBN, cross val score: 0.5966962043771663\n",
            "GradientBoostingClassifer, balanced accuracy: 0.8112781954887218\n",
            "GradientBoostingClassifer, cross val score: 0.7999335001703479\n"
          ]
        }
      ]
    },
    {
      "cell_type": "code",
      "source": [],
      "metadata": {
        "id": "c8QTaQc9bvT0"
      },
      "execution_count": null,
      "outputs": []
    },
    {
      "cell_type": "code",
      "source": [
        "grid_svc = {\n",
        "    'model__C': np.logspace(-3, 3, 100),\n",
        "    'model__gamma': np.logspace(-9, 3, 100),\n",
        "    'featureSelector__columns': [best_feat_1, best_feat_2, best_feat_3, best_feat_4]\n",
        "}\n",
        "grid_forest = {\n",
        "    'model__n_estimators': list(range(50, 550, 25)),\n",
        "    'model__max_depth': [None, *list(range(2, 30))],\n",
        "    'model__min_samples_split': list(range(2, 11)),\n",
        "    'model__min_samples_leaf': [1,2,3,4],\n",
        "    'featureSelector__columns': [best_feat_1, best_feat_2, best_feat_3, best_feat_4]\n",
        "}\n",
        "grid_knn = {\n",
        "    'model__n_neighbors': list(range(3, 31)),\n",
        "    'model__weights': ['uniform', 'distance'],\n",
        "    'featureSelector__columns': [best_feat_1, best_feat_2, best_feat_3, best_feat_4]\n",
        "}"
      ],
      "metadata": {
        "id": "l8e4zQfc-7MZ"
      },
      "execution_count": null,
      "outputs": []
    },
    {
      "cell_type": "code",
      "source": [
        "# Helper to select columns in search CV\n",
        "\n",
        "from sklearn.base import BaseEstimator, TransformerMixin\n",
        "from sklearn.pipeline import Pipeline\n",
        "\n",
        "class FeatureSelector(BaseEstimator, TransformerMixin):\n",
        "    def __init__(self, columns):\n",
        "        self.columns = columns\n",
        "\n",
        "    def fit(self, X, y=None):\n",
        "        return self\n",
        "\n",
        "    def transform(self, X, y=None):\n",
        "        return X[self.columns]\n",
        "\n",
        "\n",
        "pipeline = Pipeline([('selector', FeatureSelector(columns=best_feat_1))\n",
        "                     ])"
      ],
      "metadata": {
        "id": "mAnTq8he-9Vq"
      },
      "execution_count": null,
      "outputs": []
    },
    {
      "cell_type": "code",
      "source": [
        "\n",
        "svc_pipe = Pipeline(steps=[\n",
        "    ('featureSelector', FeatureSelector(columns=best_feat_1)),\n",
        "    ('model', SVC(probability=True))\n",
        "])\n",
        "\n",
        "forest_pipe = Pipeline(steps=[\n",
        "    ('featureSelector', FeatureSelector(columns=best_feat_1)),\n",
        "    ('model', RandomForestClassifier(random_state=RANDOM_STATE))\n",
        "])\n",
        "\n",
        "gb_pipe = Pipeline(steps=[\n",
        "    ('featureSelector', FeatureSelector(columns=best_feat_1)),\n",
        "    ('model', GradientBoostingClassifier(random_state=RANDOM_STATE))\n",
        "])\n",
        "\n",
        "knn_pipe = Pipeline(steps=[\n",
        "    ('featureSelector', FeatureSelector(columns=best_feat_1)),\n",
        "    ('model', KNeighborsClassifier())\n",
        "])\n",
        "\n",
        "svc_search = RandomizedSearchCV(\n",
        "    estimator=svc_pipe,\n",
        "    param_distributions=grid_svc,\n",
        "    cv=cv_split,\n",
        "    random_state=RANDOM_STATE,\n",
        "    n_iter=100,\n",
        "    n_jobs=-1,\n",
        "    verbose=3,\n",
        "    scoring=SCORING\n",
        "    )\n",
        "\n",
        "knn_search = RandomizedSearchCV(\n",
        "    estimator=knn_pipe,\n",
        "    param_distributions=grid_knn,\n",
        "    cv=cv_split,\n",
        "    random_state=RANDOM_STATE,\n",
        "    n_iter=100,\n",
        "    n_jobs=-1,\n",
        "    scoring=SCORING\n",
        "    )\n",
        "\n",
        "forest_search = RandomizedSearchCV(\n",
        "    estimator=forest_pipe,\n",
        "    param_distributions=grid_forest,\n",
        "    cv=cv_split,\n",
        "    random_state=RANDOM_STATE,\n",
        "    n_iter=100,\n",
        "    n_jobs=-1,\n",
        "    scoring=SCORING\n",
        "    )"
      ],
      "metadata": {
        "id": "fU_g4_wn-_5h"
      },
      "execution_count": null,
      "outputs": []
    },
    {
      "cell_type": "code",
      "source": [
        "svc_search.fit(X_train_scaled, y_train);"
      ],
      "metadata": {
        "colab": {
          "base_uri": "https://localhost:8080/"
        },
        "id": "2w8qaXBN_KE5",
        "outputId": "47d303b9-a8df-4323-8ba0-c07d3ec500ff"
      },
      "execution_count": null,
      "outputs": [
        {
          "output_type": "stream",
          "name": "stdout",
          "text": [
            "Fitting 6 folds for each of 100 candidates, totalling 600 fits\n"
          ]
        }
      ]
    },
    {
      "cell_type": "code",
      "source": [
        "knn_search.fit(X_train_scaled, y_train);"
      ],
      "metadata": {
        "id": "XaLwCOX8_UXp"
      },
      "execution_count": null,
      "outputs": []
    },
    {
      "cell_type": "code",
      "source": [
        "forest_search.fit(X_train_scaled, y_train);"
      ],
      "metadata": {
        "id": "AOApdrTD_ZSK"
      },
      "execution_count": null,
      "outputs": []
    },
    {
      "cell_type": "code",
      "source": [
        "print('SVC best score: ', svc_search.best_score_)\n",
        "print('SVC best scores std: ', svc_search.cv_results_['std_test_score'][svc_search.best_index_])\n",
        "print('SVC test score: ', balanced_accuracy_score(y_test, svc_search.best_estimator_.predict(X_test_scaled)))\n",
        "print('SVC best params: ',svc_search.best_params_)\n",
        "\n",
        "print('KNN best score: ', knn_search.best_score_)\n",
        "print('KNN best scores std: ', knn_search.cv_results_['std_test_score'][knn_search.best_index_])\n",
        "print('KNN test score: ', balanced_accuracy_score(y_test, knn_search.best_estimator_.predict(X_test_scaled)))\n",
        "print('KNN best params: ', knn_search.best_params_)\n",
        "\n",
        "print('Forest best score: ', forest_search.best_score_)\n",
        "print('Forest best scores std: ', forest_search.cv_results_['std_test_score'][forest_search.best_index_])\n",
        "print('Forest test score: ', balanced_accuracy_score(y_test, forest_search.best_estimator_.predict(X_test_scaled)))\n",
        "print('Forest best params: ', forest_search.best_params_)"
      ],
      "metadata": {
        "colab": {
          "base_uri": "https://localhost:8080/"
        },
        "id": "Glqt0vlk_qos",
        "outputId": "18f6b34e-4907-4798-87aa-5f5f2bf52645"
      },
      "execution_count": null,
      "outputs": [
        {
          "output_type": "stream",
          "name": "stdout",
          "text": [
            "SVC best score:  0.9032291660488775\n",
            "SVC best scores std:  0.019384312005644336\n",
            "SVC test score:  0.9\n",
            "SVC best params:  {'model__gamma': 0.9326033468832219, 'model__C': 1.873817422860385, 'featureSelector__columns': ['x465', 'x330', 'x328', 'x462', 'x124', 'x370', 'x425', 'x483', 'x442']}\n",
            "KNN best score:  0.9055201212239292\n",
            "KNN best scores std:  0.019086836729693683\n",
            "KNN test score:  0.9081453634085213\n",
            "KNN best params:  {'model__weights': 'distance', 'model__n_neighbors': 6, 'featureSelector__columns': ['x328', 'x462', 'x370', 'x425', 'x483', 'x442']}\n",
            "Forest best score:  0.8869681991256386\n",
            "Forest best scores std:  0.022040319772296542\n",
            "Forest test score:  0.8833333333333333\n",
            "Forest best params:  {'model__n_estimators': 200, 'model__min_samples_split': 3, 'model__min_samples_leaf': 1, 'model__max_depth': 22, 'featureSelector__columns': ['x465', 'x328', 'x462', 'x124', 'x370', 'x425', 'x483', 'x442']}\n"
          ]
        }
      ]
    },
    {
      "cell_type": "code",
      "source": [
        "grid_knn_bc = {\n",
        "    'model__estimator__n_neighbors': list(range(3, 31)),\n",
        "    'model__n_estimators': list(range(20, 500, 10)),\n",
        "    'model__estimator__weights': ['uniform', 'distance'],\n",
        "    'featureSelector__columns': [best_feat_1, best_feat_2, best_feat_3, best_feat_4]\n",
        "}\n",
        "\n",
        "grid_svc_bc = {\n",
        "    'model__estimator__C': np.logspace(-3, 3, 100),\n",
        "    'model__n_estimators': list(range(10, 70, 10)),\n",
        "    'model__estimator__gamma': np.logspace(-9, 3, 100),\n",
        "    'featureSelector__columns': [best_feat_1, best_feat_2, best_feat_3, best_feat_4]\n",
        "}\n",
        "\n",
        "knn_bc_pipe = Pipeline(steps=[\n",
        "    ('featureSelector', FeatureSelector(columns=best_feat_1)),\n",
        "    ('model', BaggingClassifier(estimator = KNeighborsClassifier(),  n_estimators = 50))\n",
        "])\n",
        "\n",
        "svc_bc_pipe = Pipeline(steps=[\n",
        "    ('featureSelector', FeatureSelector(columns=best_feat_1)),\n",
        "    ('model', BaggingClassifier(estimator = SVC(probability=True),  n_estimators = 50))\n",
        "])\n",
        "\n",
        "knn_bc_search = RandomizedSearchCV(\n",
        "    estimator=knn_bc_pipe,\n",
        "    param_distributions=grid_knn_bc,\n",
        "    cv=cv_split,\n",
        "    random_state=RANDOM_STATE,\n",
        "    n_iter=100,\n",
        "    n_jobs=-1,\n",
        "    scoring=SCORING\n",
        "    )\n",
        "\n",
        "svc_bc_search = RandomizedSearchCV(\n",
        "    estimator=svc_bc_pipe,\n",
        "    param_distributions=grid_svc_bc,\n",
        "    cv=cv_split,\n",
        "    random_state=RANDOM_STATE,\n",
        "    n_iter=100,\n",
        "    n_jobs=-1,\n",
        "    scoring=SCORING\n",
        "    )"
      ],
      "metadata": {
        "id": "LjUUSs-0B6HZ"
      },
      "execution_count": null,
      "outputs": []
    },
    {
      "cell_type": "code",
      "source": [
        "knn_bc_search.fit(X_train_scaled, y_train);"
      ],
      "metadata": {
        "id": "FEwvUVMpBOid"
      },
      "execution_count": null,
      "outputs": []
    },
    {
      "cell_type": "code",
      "source": [
        "svc_bc_search.fit(X_train_scaled, y_train);"
      ],
      "metadata": {
        "id": "HEVNEQaiCIWB"
      },
      "execution_count": null,
      "outputs": []
    },
    {
      "cell_type": "code",
      "source": [
        "print('SVC BC best score: ', svc_bc_search.best_score_)\n",
        "print('SVC BC best scores std: ', svc_bc_search.cv_results_['std_test_score'][svc_bc_search.best_index_])\n",
        "print('SVC BC test score: ', balanced_accuracy_score(y_test, svc_bc_search.best_estimator_.predict(X_test_scaled)))\n",
        "print('SVC BC best params: ',svc_bc_search.best_params_)\n",
        "\n",
        "print('KNN BC best score: ', knn_bc_search.best_score_)\n",
        "print('KNN BC best scores std: ', knn_bc_search.cv_results_['std_test_score'][knn_bc_search.best_index_])\n",
        "print('KNN BC test score: ', balanced_accuracy_score(y_test, knn_bc_search.best_estimator_.predict(X_test_scaled)))\n",
        "print('KNN BC best params: ', knn_bc_search.best_params_)"
      ],
      "metadata": {
        "colab": {
          "base_uri": "https://localhost:8080/"
        },
        "id": "zXlIRCyrCLHm",
        "outputId": "63abc815-2b6a-4933-8f1a-a3f3e4138a11"
      },
      "execution_count": null,
      "outputs": [
        {
          "output_type": "stream",
          "name": "stdout",
          "text": [
            "SVC BC best score:  0.893490102091957\n",
            "SVC BC best scores std:  0.013335296006876293\n",
            "SVC BC test score:  0.893107769423559\n",
            "SVC BC best params:  {'model__n_estimators': 50, 'model__estimator__gamma': 0.40370172585965497, 'model__estimator__C': 0.6135907273413176, 'featureSelector__columns': ['x465', 'x330', 'x328', 'x462', 'x124', 'x370', 'x425', 'x483', 'x442']}\n",
            "KNN BC best score:  0.901307179687875\n",
            "KNN BC best scores std:  0.011074743072942745\n",
            "KNN BC test score:  0.900501253132832\n",
            "KNN BC best params:  {'model__n_estimators': 20, 'model__estimator__weights': 'uniform', 'model__estimator__n_neighbors': 4, 'featureSelector__columns': ['x465', 'x330', 'x328', 'x462', 'x124', 'x370', 'x425', 'x483', 'x442']}\n"
          ]
        }
      ]
    },
    {
      "cell_type": "code",
      "source": [
        "grid_vc = {\n",
        "    'model__svc__gamma': np.logspace(-9, 3, 50),\n",
        "    'model__svc__C': np.logspace(-3, 3, 50),\n",
        "    'model__forest__n_estimators': list(range(50, 550, 50)),\n",
        "    'model__forest__max_depth': [None, *list(range(2, 28))],\n",
        "    'model__forest__min_samples_split': list(range(2, 10)),\n",
        "    'model__forest__min_samples_leaf': [1,2,3,4],\n",
        "    'model__knn__n_neighbors': list(range(3, 15)),\n",
        "    'model__knn__weights': ['uniform', 'distance'],\n",
        "    'featureSelector__columns': [best_feat_1, best_feat_2, best_feat_3, best_feat_4]\n",
        "}\n",
        "\n",
        "vc_pipe = Pipeline(steps=[\n",
        "    ('featureSelector', FeatureSelector(columns=best_feat_1)),\n",
        "    ('model', VotingClassifier(estimators=[\n",
        "        ('svc', SVC(probability=True)),\n",
        "        ('forest', RandomForestClassifier(random_state=RANDOM_STATE)),\n",
        "        ('knn', KNeighborsClassifier())\n",
        "    ], voting='soft'))\n",
        "])\n",
        "\n",
        "vc_search = RandomizedSearchCV(\n",
        "    estimator=vc_pipe,\n",
        "    param_distributions=grid_vc,\n",
        "    cv=cv_split,\n",
        "    random_state=RANDOM_STATE,\n",
        "    n_iter=100,\n",
        "    n_jobs=-1,\n",
        "    verbose=3,\n",
        "    scoring=SCORING\n",
        "    )"
      ],
      "metadata": {
        "id": "82_R6axQfabj"
      },
      "execution_count": null,
      "outputs": []
    },
    {
      "cell_type": "code",
      "source": [
        "vc_search.fit(X_train_scaled, y_train);"
      ],
      "metadata": {
        "colab": {
          "base_uri": "https://localhost:8080/"
        },
        "id": "muugZWgMf_3l",
        "outputId": "6a58c461-2559-459d-872d-2d2e8fd21244"
      },
      "execution_count": null,
      "outputs": [
        {
          "output_type": "stream",
          "name": "stdout",
          "text": [
            "Fitting 6 folds for each of 100 candidates, totalling 600 fits\n"
          ]
        }
      ]
    },
    {
      "cell_type": "code",
      "source": [
        "print('VC best score: ', vc_search.best_score_)\n",
        "print('VC best scores std: ', vc_search.cv_results_['std_test_score'][vc_search.best_index_])\n",
        "print('VC test score: ', balanced_accuracy_score(y_test, vc_search.best_estimator_.predict(X_test_scaled)))\n",
        "print('VC best params: ',vc_search.best_params_)"
      ],
      "metadata": {
        "colab": {
          "base_uri": "https://localhost:8080/"
        },
        "id": "08UV4OJCgD0j",
        "outputId": "2be1fdf4-0927-48c3-e111-5d6fc837c073"
      },
      "execution_count": null,
      "outputs": [
        {
          "output_type": "stream",
          "name": "stdout",
          "text": [
            "VC best score:  0.9022656922487072\n",
            "VC best scores std:  0.01731227415220158\n",
            "VC test score:  0.9052631578947369\n",
            "VC best params:  {'model__svc__gamma': 5.1794746792312124e-08, 'model__svc__C': 754.3120063354608, 'model__knn__weights': 'distance', 'model__knn__n_neighbors': 7, 'model__forest__n_estimators': 500, 'model__forest__min_samples_split': 5, 'model__forest__min_samples_leaf': 2, 'model__forest__max_depth': 15, 'featureSelector__columns': ['x328', 'x462', 'x370', 'x425', 'x483', 'x442']}\n"
          ]
        }
      ]
    },
    {
      "cell_type": "code",
      "source": [
        "grid_vc_bc = {\n",
        "    'model__svc__estimator__gamma': np.logspace(-9, 3, 30),\n",
        "    'model__svc__estimator__C': np.logspace(-3, 3, 30),\n",
        "    'model__svc__n_estimators': list(range(10, 70, 10)),\n",
        "    'model__forest__n_estimators': list(range(50, 300, 50)),\n",
        "    'model__forest__max_depth': [None, *list(range(2, 20, 2))],\n",
        "    'model__forest__min_samples_split': list(range(2, 8)),\n",
        "    'model__forest__min_samples_leaf': [1,2,3,4],\n",
        "    'model__knn__estimator__n_neighbors': list(range(3, 9)),\n",
        "    'model__knn__estimator__weights': ['uniform', 'distance'],\n",
        "    'model__knn__n_estimators': list(range(20, 140, 20)),\n",
        "    'featureSelector__columns': [best_feat_1, best_feat_2, best_feat_3, best_feat_4]\n",
        "}\n",
        "\n",
        "vc_bc_pipe = Pipeline(steps=[\n",
        "    ('featureSelector', FeatureSelector(columns=best_feat_1)),\n",
        "    ('model', VotingClassifier(estimators=[\n",
        "        ('svc', BaggingClassifier(estimator = SVC(probability=True),  n_estimators = 50)),\n",
        "        ('forest', RandomForestClassifier(random_state=RANDOM_STATE)),\n",
        "        ('knn', BaggingClassifier(estimator = KNeighborsClassifier(),  n_estimators = 50))\n",
        "    ], voting='soft'))\n",
        "])\n",
        "\n",
        "vc_bc_search = RandomizedSearchCV(\n",
        "    estimator=vc_bc_pipe,\n",
        "    param_distributions=grid_vc_bc,\n",
        "    cv=cv_split,\n",
        "    random_state=RANDOM_STATE,\n",
        "    n_iter=100,\n",
        "    n_jobs=-1,\n",
        "    scoring=SCORING\n",
        "    )"
      ],
      "metadata": {
        "id": "1oQSQqRwfnn-"
      },
      "execution_count": null,
      "outputs": []
    },
    {
      "cell_type": "code",
      "source": [
        "vc_bc_search.fit(X_train_scaled, y_train);"
      ],
      "metadata": {
        "id": "NRTCubqvgQgA"
      },
      "execution_count": null,
      "outputs": []
    },
    {
      "cell_type": "code",
      "source": [
        "print('VC BC best score: ', vc_bc_search.best_score_)\n",
        "print('VC BC best scores std: ', vc_bc_search.cv_results_['std_test_score'][vc_bc_search.best_index_])\n",
        "print('VC BC test score: ', balanced_accuracy_score(y_test, vc_bc_search.best_estimator_.predict(X_test_scaled)))\n",
        "print('VC BC best params: ', vc_bc_search.best_params_)"
      ],
      "metadata": {
        "colab": {
          "base_uri": "https://localhost:8080/"
        },
        "id": "hUxZmy8fgS0f",
        "outputId": "5e00ec9e-3b3d-480a-a8f9-48bd46b3b991"
      },
      "execution_count": null,
      "outputs": [
        {
          "output_type": "stream",
          "name": "stdout",
          "text": [
            "VC BC best score:  0.9047783678961828\n",
            "VC BC best scores std:  0.01253754835422797\n",
            "VC BC test score:  0.900501253132832\n",
            "VC BC best params:  {'model__svc__n_estimators': 50, 'model__svc__estimator__gamma': 1.2689610031679235, 'model__svc__estimator__C': 92.36708571873865, 'model__knn__n_estimators': 60, 'model__knn__estimator__weights': 'uniform', 'model__knn__estimator__n_neighbors': 6, 'model__forest__n_estimators': 250, 'model__forest__min_samples_split': 7, 'model__forest__min_samples_leaf': 4, 'model__forest__max_depth': 14, 'featureSelector__columns': ['x465', 'x328', 'x462', 'x370', 'x425', 'x483', 'x442']}\n"
          ]
        }
      ]
    },
    {
      "cell_type": "code",
      "source": [
        "models = [svc_search.best_estimator_, knn_search.best_estimator_, forest_search.best_estimator_, svc_bc_search.best_estimator_, knn_bc_search.best_estimator_, vc_search.best_estimator_, vc_bc_search.best_estimator_]\n",
        "cv_scores = [cross_val_score(model, X_train_scaled, y_train, cv=cv_split, scoring='balanced_accuracy') for model in models]\n",
        "b_a_scores = [balanced_accuracy_score(y_test, model.predict(X_test_scaled)) for model in models]\n",
        "\n",
        "results = pd.DataFrame({\n",
        "    'name': ['SVC',\n",
        "             'KNN',\n",
        "             'RandomForest',\n",
        "             'SVCBagging',\n",
        "             'KNNBagging',\n",
        "             'Voting',\n",
        "             'BaggingVoting'],\n",
        "    'CVScore': [np.mean(scores) for scores in cv_scores],\n",
        "    'CVScoreStd': [np.std(scores) for scores in cv_scores],\n",
        "    'testScore': b_a_scores\n",
        "})"
      ],
      "metadata": {
        "id": "kkuWV8d5gdvw"
      },
      "execution_count": null,
      "outputs": []
    },
    {
      "cell_type": "code",
      "source": [
        "results.to_csv('data/results.csv')"
      ],
      "metadata": {
        "id": "69j2V_4BK5Gw"
      },
      "execution_count": null,
      "outputs": []
    },
    {
      "cell_type": "code",
      "source": [
        "results"
      ],
      "metadata": {
        "colab": {
          "base_uri": "https://localhost:8080/",
          "height": 269
        },
        "id": "RHJ0WFv2LqKP",
        "outputId": "a0511f8e-7c54-4e16-809a-86c3cc4acfe9"
      },
      "execution_count": null,
      "outputs": [
        {
          "output_type": "execute_result",
          "data": {
            "text/plain": [
              "            name   CVScore  CVScoreStd  testScore\n",
              "0            SVC  0.903229    0.019384   0.900000\n",
              "1            KNN  0.905520    0.019087   0.908145\n",
              "2   RandomForest  0.886968    0.022040   0.883333\n",
              "3     SVCBagging  0.906415    0.014001   0.897619\n",
              "4     KNNBagging  0.898775    0.015895   0.887594\n",
              "5         Voting  0.899846    0.013205   0.905263\n",
              "6  BaggingVoting  0.904234    0.015530   0.900501"
            ],
            "text/html": [
              "\n",
              "  <div id=\"df-9ad54313-664e-4927-85d3-7cd0d9bc7d6e\" class=\"colab-df-container\">\n",
              "    <div>\n",
              "<style scoped>\n",
              "    .dataframe tbody tr th:only-of-type {\n",
              "        vertical-align: middle;\n",
              "    }\n",
              "\n",
              "    .dataframe tbody tr th {\n",
              "        vertical-align: top;\n",
              "    }\n",
              "\n",
              "    .dataframe thead th {\n",
              "        text-align: right;\n",
              "    }\n",
              "</style>\n",
              "<table border=\"1\" class=\"dataframe\">\n",
              "  <thead>\n",
              "    <tr style=\"text-align: right;\">\n",
              "      <th></th>\n",
              "      <th>name</th>\n",
              "      <th>CVScore</th>\n",
              "      <th>CVScoreStd</th>\n",
              "      <th>testScore</th>\n",
              "    </tr>\n",
              "  </thead>\n",
              "  <tbody>\n",
              "    <tr>\n",
              "      <th>0</th>\n",
              "      <td>SVC</td>\n",
              "      <td>0.903229</td>\n",
              "      <td>0.019384</td>\n",
              "      <td>0.900000</td>\n",
              "    </tr>\n",
              "    <tr>\n",
              "      <th>1</th>\n",
              "      <td>KNN</td>\n",
              "      <td>0.905520</td>\n",
              "      <td>0.019087</td>\n",
              "      <td>0.908145</td>\n",
              "    </tr>\n",
              "    <tr>\n",
              "      <th>2</th>\n",
              "      <td>RandomForest</td>\n",
              "      <td>0.886968</td>\n",
              "      <td>0.022040</td>\n",
              "      <td>0.883333</td>\n",
              "    </tr>\n",
              "    <tr>\n",
              "      <th>3</th>\n",
              "      <td>SVCBagging</td>\n",
              "      <td>0.906415</td>\n",
              "      <td>0.014001</td>\n",
              "      <td>0.897619</td>\n",
              "    </tr>\n",
              "    <tr>\n",
              "      <th>4</th>\n",
              "      <td>KNNBagging</td>\n",
              "      <td>0.898775</td>\n",
              "      <td>0.015895</td>\n",
              "      <td>0.887594</td>\n",
              "    </tr>\n",
              "    <tr>\n",
              "      <th>5</th>\n",
              "      <td>Voting</td>\n",
              "      <td>0.899846</td>\n",
              "      <td>0.013205</td>\n",
              "      <td>0.905263</td>\n",
              "    </tr>\n",
              "    <tr>\n",
              "      <th>6</th>\n",
              "      <td>BaggingVoting</td>\n",
              "      <td>0.904234</td>\n",
              "      <td>0.015530</td>\n",
              "      <td>0.900501</td>\n",
              "    </tr>\n",
              "  </tbody>\n",
              "</table>\n",
              "</div>\n",
              "    <div class=\"colab-df-buttons\">\n",
              "\n",
              "  <div class=\"colab-df-container\">\n",
              "    <button class=\"colab-df-convert\" onclick=\"convertToInteractive('df-9ad54313-664e-4927-85d3-7cd0d9bc7d6e')\"\n",
              "            title=\"Convert this dataframe to an interactive table.\"\n",
              "            style=\"display:none;\">\n",
              "\n",
              "  <svg xmlns=\"http://www.w3.org/2000/svg\" height=\"24px\" viewBox=\"0 -960 960 960\">\n",
              "    <path d=\"M120-120v-720h720v720H120Zm60-500h600v-160H180v160Zm220 220h160v-160H400v160Zm0 220h160v-160H400v160ZM180-400h160v-160H180v160Zm440 0h160v-160H620v160ZM180-180h160v-160H180v160Zm440 0h160v-160H620v160Z\"/>\n",
              "  </svg>\n",
              "    </button>\n",
              "\n",
              "  <style>\n",
              "    .colab-df-container {\n",
              "      display:flex;\n",
              "      gap: 12px;\n",
              "    }\n",
              "\n",
              "    .colab-df-convert {\n",
              "      background-color: #E8F0FE;\n",
              "      border: none;\n",
              "      border-radius: 50%;\n",
              "      cursor: pointer;\n",
              "      display: none;\n",
              "      fill: #1967D2;\n",
              "      height: 32px;\n",
              "      padding: 0 0 0 0;\n",
              "      width: 32px;\n",
              "    }\n",
              "\n",
              "    .colab-df-convert:hover {\n",
              "      background-color: #E2EBFA;\n",
              "      box-shadow: 0px 1px 2px rgba(60, 64, 67, 0.3), 0px 1px 3px 1px rgba(60, 64, 67, 0.15);\n",
              "      fill: #174EA6;\n",
              "    }\n",
              "\n",
              "    .colab-df-buttons div {\n",
              "      margin-bottom: 4px;\n",
              "    }\n",
              "\n",
              "    [theme=dark] .colab-df-convert {\n",
              "      background-color: #3B4455;\n",
              "      fill: #D2E3FC;\n",
              "    }\n",
              "\n",
              "    [theme=dark] .colab-df-convert:hover {\n",
              "      background-color: #434B5C;\n",
              "      box-shadow: 0px 1px 3px 1px rgba(0, 0, 0, 0.15);\n",
              "      filter: drop-shadow(0px 1px 2px rgba(0, 0, 0, 0.3));\n",
              "      fill: #FFFFFF;\n",
              "    }\n",
              "  </style>\n",
              "\n",
              "    <script>\n",
              "      const buttonEl =\n",
              "        document.querySelector('#df-9ad54313-664e-4927-85d3-7cd0d9bc7d6e button.colab-df-convert');\n",
              "      buttonEl.style.display =\n",
              "        google.colab.kernel.accessAllowed ? 'block' : 'none';\n",
              "\n",
              "      async function convertToInteractive(key) {\n",
              "        const element = document.querySelector('#df-9ad54313-664e-4927-85d3-7cd0d9bc7d6e');\n",
              "        const dataTable =\n",
              "          await google.colab.kernel.invokeFunction('convertToInteractive',\n",
              "                                                    [key], {});\n",
              "        if (!dataTable) return;\n",
              "\n",
              "        const docLinkHtml = 'Like what you see? Visit the ' +\n",
              "          '<a target=\"_blank\" href=https://colab.research.google.com/notebooks/data_table.ipynb>data table notebook</a>'\n",
              "          + ' to learn more about interactive tables.';\n",
              "        element.innerHTML = '';\n",
              "        dataTable['output_type'] = 'display_data';\n",
              "        await google.colab.output.renderOutput(dataTable, element);\n",
              "        const docLink = document.createElement('div');\n",
              "        docLink.innerHTML = docLinkHtml;\n",
              "        element.appendChild(docLink);\n",
              "      }\n",
              "    </script>\n",
              "  </div>\n",
              "\n",
              "\n",
              "<div id=\"df-c068fd42-d56a-4902-9213-e816ecef5cb3\">\n",
              "  <button class=\"colab-df-quickchart\" onclick=\"quickchart('df-c068fd42-d56a-4902-9213-e816ecef5cb3')\"\n",
              "            title=\"Suggest charts\"\n",
              "            style=\"display:none;\">\n",
              "\n",
              "<svg xmlns=\"http://www.w3.org/2000/svg\" height=\"24px\"viewBox=\"0 0 24 24\"\n",
              "     width=\"24px\">\n",
              "    <g>\n",
              "        <path d=\"M19 3H5c-1.1 0-2 .9-2 2v14c0 1.1.9 2 2 2h14c1.1 0 2-.9 2-2V5c0-1.1-.9-2-2-2zM9 17H7v-7h2v7zm4 0h-2V7h2v10zm4 0h-2v-4h2v4z\"/>\n",
              "    </g>\n",
              "</svg>\n",
              "  </button>\n",
              "\n",
              "<style>\n",
              "  .colab-df-quickchart {\n",
              "      --bg-color: #E8F0FE;\n",
              "      --fill-color: #1967D2;\n",
              "      --hover-bg-color: #E2EBFA;\n",
              "      --hover-fill-color: #174EA6;\n",
              "      --disabled-fill-color: #AAA;\n",
              "      --disabled-bg-color: #DDD;\n",
              "  }\n",
              "\n",
              "  [theme=dark] .colab-df-quickchart {\n",
              "      --bg-color: #3B4455;\n",
              "      --fill-color: #D2E3FC;\n",
              "      --hover-bg-color: #434B5C;\n",
              "      --hover-fill-color: #FFFFFF;\n",
              "      --disabled-bg-color: #3B4455;\n",
              "      --disabled-fill-color: #666;\n",
              "  }\n",
              "\n",
              "  .colab-df-quickchart {\n",
              "    background-color: var(--bg-color);\n",
              "    border: none;\n",
              "    border-radius: 50%;\n",
              "    cursor: pointer;\n",
              "    display: none;\n",
              "    fill: var(--fill-color);\n",
              "    height: 32px;\n",
              "    padding: 0;\n",
              "    width: 32px;\n",
              "  }\n",
              "\n",
              "  .colab-df-quickchart:hover {\n",
              "    background-color: var(--hover-bg-color);\n",
              "    box-shadow: 0 1px 2px rgba(60, 64, 67, 0.3), 0 1px 3px 1px rgba(60, 64, 67, 0.15);\n",
              "    fill: var(--button-hover-fill-color);\n",
              "  }\n",
              "\n",
              "  .colab-df-quickchart-complete:disabled,\n",
              "  .colab-df-quickchart-complete:disabled:hover {\n",
              "    background-color: var(--disabled-bg-color);\n",
              "    fill: var(--disabled-fill-color);\n",
              "    box-shadow: none;\n",
              "  }\n",
              "\n",
              "  .colab-df-spinner {\n",
              "    border: 2px solid var(--fill-color);\n",
              "    border-color: transparent;\n",
              "    border-bottom-color: var(--fill-color);\n",
              "    animation:\n",
              "      spin 1s steps(1) infinite;\n",
              "  }\n",
              "\n",
              "  @keyframes spin {\n",
              "    0% {\n",
              "      border-color: transparent;\n",
              "      border-bottom-color: var(--fill-color);\n",
              "      border-left-color: var(--fill-color);\n",
              "    }\n",
              "    20% {\n",
              "      border-color: transparent;\n",
              "      border-left-color: var(--fill-color);\n",
              "      border-top-color: var(--fill-color);\n",
              "    }\n",
              "    30% {\n",
              "      border-color: transparent;\n",
              "      border-left-color: var(--fill-color);\n",
              "      border-top-color: var(--fill-color);\n",
              "      border-right-color: var(--fill-color);\n",
              "    }\n",
              "    40% {\n",
              "      border-color: transparent;\n",
              "      border-right-color: var(--fill-color);\n",
              "      border-top-color: var(--fill-color);\n",
              "    }\n",
              "    60% {\n",
              "      border-color: transparent;\n",
              "      border-right-color: var(--fill-color);\n",
              "    }\n",
              "    80% {\n",
              "      border-color: transparent;\n",
              "      border-right-color: var(--fill-color);\n",
              "      border-bottom-color: var(--fill-color);\n",
              "    }\n",
              "    90% {\n",
              "      border-color: transparent;\n",
              "      border-bottom-color: var(--fill-color);\n",
              "    }\n",
              "  }\n",
              "</style>\n",
              "\n",
              "  <script>\n",
              "    async function quickchart(key) {\n",
              "      const quickchartButtonEl =\n",
              "        document.querySelector('#' + key + ' button');\n",
              "      quickchartButtonEl.disabled = true;  // To prevent multiple clicks.\n",
              "      quickchartButtonEl.classList.add('colab-df-spinner');\n",
              "      try {\n",
              "        const charts = await google.colab.kernel.invokeFunction(\n",
              "            'suggestCharts', [key], {});\n",
              "      } catch (error) {\n",
              "        console.error('Error during call to suggestCharts:', error);\n",
              "      }\n",
              "      quickchartButtonEl.classList.remove('colab-df-spinner');\n",
              "      quickchartButtonEl.classList.add('colab-df-quickchart-complete');\n",
              "    }\n",
              "    (() => {\n",
              "      let quickchartButtonEl =\n",
              "        document.querySelector('#df-c068fd42-d56a-4902-9213-e816ecef5cb3 button');\n",
              "      quickchartButtonEl.style.display =\n",
              "        google.colab.kernel.accessAllowed ? 'block' : 'none';\n",
              "    })();\n",
              "  </script>\n",
              "</div>\n",
              "    </div>\n",
              "  </div>\n"
            ]
          },
          "metadata": {},
          "execution_count": 63
        }
      ]
    },
    {
      "cell_type": "code",
      "source": [
        "unseen_data = pd.read_csv('data/artificial_test.data', sep=\" \", header=None)"
      ],
      "metadata": {
        "id": "ADjI2OEcRlv3"
      },
      "execution_count": null,
      "outputs": []
    },
    {
      "cell_type": "code",
      "source": [
        "unseen_data_scaled = scaler.transform(unseen_data[data_train.columns])"
      ],
      "metadata": {
        "id": "_FRv-r1sRr7j"
      },
      "execution_count": null,
      "outputs": []
    },
    {
      "cell_type": "code",
      "source": [
        "svc_preds_prob = svc_search.best_estimator_.predict_proba(unseen_data_scaled)\n",
        "knn_preds_prob = knn_search.best_estimator_.predict_proba(unseen_data_scaled)\n",
        "forest_preds_prob = forest_search.best_estimator_.predict_proba(unseen_data_scaled)\n",
        "svc_bc_preds_prob = svc_bc_search.best_estimator_.predict_proba(unseen_data_scaled)\n",
        "knn_bc_preds_prob = knn_bc_search.best_estimator_.predict_proba(unseen_data_scaled)\n",
        "vc_preds_prob = vc_search.best_estimator_.predict_proba(unseen_data_scaled)\n",
        "vc_bc_preds_prob = vc_bc_search.best_estimator_.predict_proba(unseen_data_scaled)"
      ],
      "metadata": {
        "id": "TrF6NH-fh6fx"
      },
      "execution_count": null,
      "outputs": []
    },
    {
      "cell_type": "code",
      "source": [
        "svc_search.best_estimator_.classes_"
      ],
      "metadata": {
        "colab": {
          "base_uri": "https://localhost:8080/"
        },
        "id": "w1i_i1guidTU",
        "outputId": "838d0a25-1751-4701-e223-b3615e0af834"
      },
      "execution_count": null,
      "outputs": [
        {
          "output_type": "execute_result",
          "data": {
            "text/plain": [
              "array([-1,  1])"
            ]
          },
          "metadata": {},
          "execution_count": 67
        }
      ]
    },
    {
      "cell_type": "code",
      "source": [
        "np.savetxt('results/313291_313476_svc.txt', svc_preds_prob[:, 1])\n",
        "\n",
        "np.savetxt('results/313291_313476_knn.txt', knn_preds_prob[:, 1])\n",
        "\n",
        "np.savetxt('results/313291_313476_forest.txt', forest_preds_prob[:, 1])\n",
        "\n",
        "np.savetxt('results/313291_313476_svc_bc.txt', svc_bc_preds_prob[:, 1])\n",
        "\n",
        "np.savetxt('results/313291_313476_knn_bc.txt', knn_bc_preds_prob[:, 1])\n",
        "\n",
        "np.savetxt('results/313291_313476_vc.txt', vc_preds_prob[:, 1])\n",
        "\n",
        "np.savetxt('results/313291_313476_vc_bc.txt', vc_bc_preds_prob[:, 1])"
      ],
      "metadata": {
        "id": "fCP7bxA7ib8p"
      },
      "execution_count": null,
      "outputs": []
    }
  ]
}