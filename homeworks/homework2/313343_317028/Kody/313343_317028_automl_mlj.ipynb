{
  "cells": [
    {
      "cell_type": "code",
      "execution_count": null,
      "metadata": {
        "id": "Xk43anV0SMqO"
      },
      "outputs": [],
      "source": [
        "!pip install mljar-supervised"
      ]
    },
    {
      "cell_type": "code",
      "execution_count": null,
      "metadata": {
        "id": "94whND6KSO2m"
      },
      "outputs": [],
      "source": [
        "import numpy as np\n",
        "import pandas as pd\n",
        "from sklearn.datasets import fetch_california_housing\n",
        "from sklearn.model_selection import train_test_split\n",
        "from sklearn.metrics import mean_squared_error\n",
        "from supervised.automl import AutoML"
      ]
    },
    {
      "cell_type": "code",
      "execution_count": null,
      "metadata": {
        "id": "BWJOKTVlSaZm"
      },
      "outputs": [],
      "source": [
        "X_train = pd.read_csv('https://raw.githubusercontent.com/kozaka93/2023Z-AutoML/main/homeworks/homework2/artificial_train.data',\n",
        "                         sep=' ', header=None).iloc[:, :-1]\n",
        "y_train = pd.read_csv(\"https://raw.githubusercontent.com/kozaka93/2023Z-AutoML/main/homeworks/homework2/artificial_train.labels\", sep=' ', header=None).replace(-1, 0, inplace=False)\n",
        "\n",
        "X_val = pd.read_csv('https://raw.githubusercontent.com/kozaka93/2023Z-AutoML/main/homeworks/homework2/artificial_test.data',\n",
        "                         sep=' ', header=None).iloc[:, :-1]"
      ]
    },
    {
      "cell_type": "code",
      "execution_count": null,
      "metadata": {
        "id": "cijp1NnqSlMB"
      },
      "outputs": [],
      "source": [
        "automl = AutoML(mode=\"Compete\", total_time_limit=7200)\n",
        "automl.fit(X_train, y_train)"
      ]
    },
    {
      "cell_type": "code",
      "source": [
        "automl.score(X_train, y_train)\n"
      ],
      "metadata": {
        "colab": {
          "base_uri": "https://localhost:8080/"
        },
        "id": "uq_h6RcczVkG",
        "outputId": "cf5e453d-5380-4be2-b460-388386af7d22"
      },
      "execution_count": null,
      "outputs": [
        {
          "output_type": "execute_result",
          "data": {
            "text/plain": [
              "1.0"
            ]
          },
          "metadata": {},
          "execution_count": 8
        }
      ]
    },
    {
      "cell_type": "code",
      "source": [
        "y_val = automl.predict_proba(X_val)"
      ],
      "metadata": {
        "id": "ES3s3BVyzY_M"
      },
      "execution_count": null,
      "outputs": []
    },
    {
      "cell_type": "code",
      "source": [
        "pd.Series(y_val[:,1], name='313343').to_csv(\"313343_artifical_automl_prediction.txt\", index=False)"
      ],
      "metadata": {
        "id": "eo0QePzy0AIu"
      },
      "execution_count": null,
      "outputs": []
    }
  ],
  "metadata": {
    "colab": {
      "provenance": []
    },
    "kernelspec": {
      "display_name": "Python 3",
      "name": "python3"
    },
    "language_info": {
      "name": "python"
    }
  },
  "nbformat": 4,
  "nbformat_minor": 0
}