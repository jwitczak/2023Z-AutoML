{
 "cells": [
  {
   "cell_type": "code",
   "execution_count": null,
   "metadata": {},
   "outputs": [],
   "source": [
    "import pandas as pd\n",
    "import json\n",
    "from data_loader import DataLoader\n",
    "from pandas import DataFrame\n",
    "from sklearn.model_selection import train_test_split\n",
    "from sklearn.feature_selection import SelectFromModel\n",
    "from sklearn.metrics import balanced_accuracy_score\n",
    "from sklearn.ensemble import ExtraTreesClassifier\n",
    "from tabpfn import TabPFNClassifier\n",
    "from autogluon.tabular import TabularPredictor\n",
    "from supervised.automl import AutoML \n",
    "from tabpfn import TabPFNClassifier"
   ]
  },
  {
   "cell_type": "markdown",
   "metadata": {},
   "source": [
    "Autogluon dla wszystkich cech"
   ]
  },
  {
   "cell_type": "code",
   "execution_count": null,
   "metadata": {},
   "outputs": [],
   "source": [
    "X, y = DataLoader.read_train_data()\n",
    "predictor = TabularPredictor(label='target', eval_metric='balanced_accuracy')\n",
    "\n",
    "X_train, X_test, y_train, y_test = train_test_split(X, y, test_size=0.3, random_state=0)\n",
    "X_y = pd.concat([X_train, y_train], axis=1)\n",
    "\n",
    "predictor.fit(X_y, time_limit=60*60*6, presets='best_quality')\n",
    "y_pred = predictor.predict(X_test)\n",
    "balanced_accuracy_score(y_pred, y_test)"
   ]
  },
  {
   "cell_type": "markdown",
   "metadata": {},
   "source": [
    "Autogluon dla 18 wybranych cech"
   ]
  },
  {
   "cell_type": "code",
   "execution_count": null,
   "metadata": {},
   "outputs": [],
   "source": [
    "X, y = DataLoader.read_train_data()\n",
    "X_train, X_test, y_train, y_test = train_test_split(X, y, test_size=0.3, random_state=0)\n",
    "\n",
    "feature_selector = SelectFromModel(ExtraTreesClassifier(random_state=0), max_features=18)\n",
    "feature_selector.fit(X_train, y_train)\n",
    "top_columns = X_train.columns[feature_selector.get_support()]\n",
    "X_train = X_train[top_columns]\n",
    "\n",
    "predictor = TabularPredictor(label='target', eval_metric='balanced_accuracy')\n",
    "X_y = pd.concat([X_train, y_train], axis=1)\n",
    "\n",
    "predictor.fit(X_y, time_limit=60*60*6, presets='best_quality')\n",
    "y_pred = predictor.predict(X_test)\n",
    "balanced_accuracy_score(y_pred, y_test)"
   ]
  },
  {
   "cell_type": "code",
   "execution_count": null,
   "metadata": {},
   "outputs": [],
   "source": [
    "x_final_test = DataLoader.read_test_data()\n",
    "x_final_test = x_final_test[top_columns]\n",
    "\n",
    "y_pred = predictor.predict_proba(x_final_test)\n",
    "y_pred = DataFrame(y_pred)\n",
    "DataLoader.save_results(y_pred.reset_index(drop=True)[1])"
   ]
  },
  {
   "cell_type": "markdown",
   "metadata": {},
   "source": [
    "MLJar dla wszystkich cech"
   ]
  },
  {
   "cell_type": "code",
   "execution_count": null,
   "metadata": {},
   "outputs": [],
   "source": [
    "predictor = AutoML(mode=\"Compete\", total_time_limit=60)\n",
    "X, y = DataLoader.read_train_data()\n",
    "\n",
    "X_train, X_test, y_train, y_test = train_test_split(X, y, test_size=0.3, random_state=0)\n",
    "\n",
    "predictor.fit(X_train, y_train)\n",
    "predictions = predictor.predict(X_test)\n",
    "balanced_accuracy_score(y_test, predictions)"
   ]
  },
  {
   "cell_type": "markdown",
   "metadata": {},
   "source": [
    "TabPFN dla wszystkich cech"
   ]
  },
  {
   "cell_type": "code",
   "execution_count": null,
   "metadata": {},
   "outputs": [],
   "source": [
    "predictor = TabPFNClassifier(device='cpu', N_ensemble_configurations=32, subsample_features=True)\n",
    "X, y = DataLoader.read_train_data()\n",
    "\n",
    "X_train, X_test, y_train, y_test = train_test_split(X, y, test_size=0.3, random_state=0)\n",
    "\n",
    "predictor.fit(X_train, y_train, overwrite_warning = True)\n",
    "predictions = predictor.predict(X_test)\n",
    "balanced_acc = balanced_accuracy_score(y_test, predictions)"
   ]
  },
  {
   "cell_type": "markdown",
   "metadata": {},
   "source": [
    "TabPFN z forward feature selection"
   ]
  },
  {
   "cell_type": "code",
   "execution_count": null,
   "metadata": {},
   "outputs": [],
   "source": [
    "def tabPFN_forward_feature_selection(X : DataFrame, y : DataFrame): \n",
    "    best_results = DataFrame()\n",
    "    best_score = 0.0\n",
    "    firstRecord = True\n",
    "\n",
    "    with open('tabPFN_feature_selection_results.json', 'w') as file:\n",
    "        file.write('[]')\n",
    "\n",
    "        for _ in range(X.columns.size):\n",
    "            localBest = best_results\n",
    "            localScore = best_score\n",
    "            scoreImproved = False\n",
    "\n",
    "            for column in X.columns:\n",
    "\n",
    "                if column in best_results.columns:\n",
    "                    continue\n",
    "\n",
    "                X_current = pd.concat([best_results, X[column]], axis=1)\n",
    "\n",
    "                (X_train, X_test, y_train, y_test) = train_test_split(X_current, y, test_size=0.3, random_state=42)\n",
    "\n",
    "                predictor = TabPFNClassifier(device='cuda', subsample_features=True)\n",
    "\n",
    "                predictor.fit(X_train, y_train, overwrite_warning = True)\n",
    "                y_pred = predictor.predict(X_test)\n",
    "\n",
    "                balanced_acc = balanced_accuracy_score(y_pred, y_test)\n",
    "\n",
    "                current_record = {\n",
    "                    'score': balanced_acc,\n",
    "                    'columns': list(X_current.columns)\n",
    "                }\n",
    "\n",
    "                file.seek(0, 2)\n",
    "                end_position = file.tell() - 1\n",
    "                file.seek(end_position)\n",
    "\n",
    "                if(firstRecord == False):\n",
    "                    file.write(',')\n",
    "                else:\n",
    "                    firstRecord = False\n",
    "\n",
    "                json.dump(current_record, file)\n",
    "                file.write(']')\n",
    "                \n",
    "                file.flush()\n",
    "\n",
    "                if(balanced_acc > localScore):\n",
    "                    localScore = balanced_acc\n",
    "                    localBest = X_current\n",
    "                    scoreImproved = True\n",
    "\n",
    "                predictor.remove_models_from_memory()\n",
    "\n",
    "            print(\"score: \" + localScore.__str__())\n",
    "\n",
    "            if(scoreImproved == False):\n",
    "                break\n",
    "\n",
    "            if(localScore > best_score):\n",
    "                best_score = localScore\n",
    "                best_results = localBest\n",
    "\n",
    "    return best_results, best_score"
   ]
  },
  {
   "cell_type": "code",
   "execution_count": null,
   "metadata": {},
   "outputs": [],
   "source": [
    "X, y = DataLoader.read_train_data()\n",
    "result, score = tabPFN_forward_feature_selection(X, y)\n",
    "top_columns = result.columns"
   ]
  },
  {
   "cell_type": "code",
   "execution_count": null,
   "metadata": {},
   "outputs": [],
   "source": [
    "X, y = DataLoader.read_train_data()\n",
    "X = X[top_columns]"
   ]
  },
  {
   "cell_type": "code",
   "execution_count": null,
   "metadata": {},
   "outputs": [],
   "source": [
    "predictor = TabPFNClassifier(device='cuda', N_ensemble_configurations=32, subsample_features=True)\n",
    "X_train, X_test, y_train, y_test = train_test_split(X, y, test_size=0.5, random_state=0)\n",
    "\n",
    "predictor.fit(X_train, y_train, overwrite_warning = True)\n",
    "predictions = predictor.predict(X_test)\n",
    "balanced_accuracy_score(y_test, predictions)"
   ]
  }
 ],
 "metadata": {
  "kernelspec": {
   "display_name": "AutoML",
   "language": "python",
   "name": "python3"
  },
  "language_info": {
   "codemirror_mode": {
    "name": "ipython",
    "version": 3
   },
   "file_extension": ".py",
   "mimetype": "text/x-python",
   "name": "python",
   "nbconvert_exporter": "python",
   "pygments_lexer": "ipython3",
   "version": "3.10.13"
  }
 },
 "nbformat": 4,
 "nbformat_minor": 2
}
