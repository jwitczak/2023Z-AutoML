{
  "nbformat": 4,
  "nbformat_minor": 0,
  "metadata": {
    "colab": {
      "provenance": []
    },
    "kernelspec": {
      "name": "python3",
      "display_name": "Python 3"
    },
    "language_info": {
      "name": "python"
    }
  },
  "cells": [
    {
      "cell_type": "code",
      "source": [
        "##\n",
        "# from google.colab import files\n",
        "# from google.colab import drive\n",
        "# drive.mount('/drive')"
      ],
      "metadata": {
        "colab": {
          "base_uri": "https://localhost:8080/"
        },
        "id": "rzLAevWZnkp3",
        "outputId": "a72b5b40-ee76-41b3-fc44-c15817175578"
      },
      "execution_count": null,
      "outputs": [
        {
          "output_type": "stream",
          "name": "stdout",
          "text": [
            "Mounted at /drive\n"
          ]
        }
      ]
    },
    {
      "cell_type": "markdown",
      "source": [
        "## Loading the data"
      ],
      "metadata": {
        "id": "LVbML3Kg002N"
      }
    },
    {
      "cell_type": "code",
      "execution_count": null,
      "metadata": {
        "id": "4YsMbLnMlt_C"
      },
      "outputs": [],
      "source": [
        "import os\n",
        "import pandas as pd\n",
        "import numpy as np\n",
        "import matplotlib.pyplot as plt\n",
        "import seaborn as sns\n",
        "from scipy import stats\n",
        "\n",
        "import random\n",
        "random.seed(420)\n",
        "\n",
        "\n",
        "url = 'https://raw.githubusercontent.com/kozaka93/2023Z-AutoML/main/homeworks/homework2/artificial_test.data'\n",
        "df_test = pd.read_csv(url, header=None, sep =' ')\n",
        "df_test = df_test.dropna(how='all', axis=1)\n",
        "\n",
        "url = 'https://raw.githubusercontent.com/kozaka93/2023Z-AutoML/main/homeworks/homework2/artificial_train.data'\n",
        "X_train = pd.read_csv(url, header=None, sep =' ')\n",
        "X_train = X_train.dropna(how='all', axis=1)\n",
        "\n",
        "url = 'https://raw.githubusercontent.com/kozaka93/2023Z-AutoML/main/homeworks/homework2/artificial_train.labels'\n",
        "y_train = pd.read_csv(url, header=None)"
      ]
    },
    {
      "cell_type": "markdown",
      "source": [
        "## Loading the models"
      ],
      "metadata": {
        "id": "hVN6vN0U02-c"
      }
    },
    {
      "cell_type": "code",
      "source": [
        "xgb_results_rs = pd.read_csv('xgb_results_rs.csv')\n",
        "best_params_xgb = xgb_results_rs.loc[xgb_results_rs['a_scores']==max(xgb_results_rs['a_scores'])]['params']\n",
        "best_params_xgb = eval(best_params_xgb.values[0])\n",
        "best_params_xgb"
      ],
      "metadata": {
        "colab": {
          "base_uri": "https://localhost:8080/"
        },
        "id": "_gnI994Z09YH",
        "outputId": "4a184542-b69d-4818-bd2d-546ce412464b"
      },
      "execution_count": null,
      "outputs": [
        {
          "output_type": "execute_result",
          "data": {
            "text/plain": [
              "{'learning_rate': 0.38721346767512266,\n",
              " 'max_depth': 5,\n",
              " 'min_child_weight': 0.6010107840065457,\n",
              " 'n_estimators': 427}"
            ]
          },
          "metadata": {},
          "execution_count": 4
        }
      ]
    },
    {
      "cell_type": "code",
      "source": [
        "gbc_results_rs = pd.read_csv('gb_results_rs.csv')\n",
        "best_params_gbc = gbc_results_rs.loc[gbc_results_rs['a_scores']==max(gbc_results_rs['a_scores'])]['params']\n",
        "best_params_gbc = eval(best_params_gbc.values[0])\n",
        "best_params_gbc"
      ],
      "metadata": {
        "colab": {
          "base_uri": "https://localhost:8080/"
        },
        "id": "26tgRVe-1a11",
        "outputId": "ae3c1c97-29a8-43f7-e896-2aabd2fa06d8"
      },
      "execution_count": null,
      "outputs": [
        {
          "output_type": "execute_result",
          "data": {
            "text/plain": [
              "{'learning_rate': 0.056666453522918596,\n",
              " 'max_depth': 9,\n",
              " 'max_leaf_nodes': 39,\n",
              " 'min_samples_leaf': 10,\n",
              " 'n_estimators': 252}"
            ]
          },
          "metadata": {},
          "execution_count": 5
        }
      ]
    },
    {
      "cell_type": "code",
      "source": [
        "rfc_results_rs = pd.read_csv('rf_results_rs.csv')\n",
        "best_params_rfc = rfc_results_rs.loc[rfc_results_rs['a_scores']==max(rfc_results_rs['a_scores'])]['params']\n",
        "best_params_rfc = eval(best_params_rfc.values[0])\n",
        "best_params_rfc"
      ],
      "metadata": {
        "colab": {
          "base_uri": "https://localhost:8080/"
        },
        "id": "3yNYUXXp1c-Z",
        "outputId": "4fd78b92-c91d-42aa-fec3-1dcb01f14a63"
      },
      "execution_count": null,
      "outputs": [
        {
          "output_type": "execute_result",
          "data": {
            "text/plain": [
              "{'bootstrap': False,\n",
              " 'max_features': 0.3732560346542585,\n",
              " 'min_samples_split': 0.06145870228764971,\n",
              " 'n_estimators': 627}"
            ]
          },
          "metadata": {},
          "execution_count": 6
        }
      ]
    },
    {
      "cell_type": "markdown",
      "source": [
        "## Voting classifier"
      ],
      "metadata": {
        "id": "QWN_iiMC05Nn"
      }
    },
    {
      "cell_type": "code",
      "source": [
        "from sklearn.preprocessing import LabelEncoder\n",
        "\n",
        "y_train2 = LabelEncoder().fit_transform(y_train)\n",
        "y_train2"
      ],
      "metadata": {
        "colab": {
          "base_uri": "https://localhost:8080/"
        },
        "id": "LxDwJJrcmEtG",
        "outputId": "462e003c-2de9-400f-fca4-3922e1c9f6ae"
      },
      "execution_count": null,
      "outputs": [
        {
          "output_type": "stream",
          "name": "stderr",
          "text": [
            "/usr/local/lib/python3.10/dist-packages/sklearn/preprocessing/_label.py:116: DataConversionWarning: A column-vector y was passed when a 1d array was expected. Please change the shape of y to (n_samples, ), for example using ravel().\n",
            "  y = column_or_1d(y, warn=True)\n"
          ]
        },
        {
          "output_type": "execute_result",
          "data": {
            "text/plain": [
              "array([0, 0, 0, ..., 0, 1, 1])"
            ]
          },
          "metadata": {},
          "execution_count": 7
        }
      ]
    },
    {
      "cell_type": "code",
      "source": [
        "from sklearn.feature_selection import f_classif, SelectKBest\n",
        "from sklearn.ensemble import VotingClassifier, RandomForestClassifier, GradientBoostingClassifier\n",
        "from xgboost import XGBClassifier\n",
        "from sklearn.pipeline import Pipeline\n",
        "\n",
        "rfc = RandomForestClassifier(**best_params_rfc, random_state=21).fit(X_train, y_train2)\n",
        "gbc = GradientBoostingClassifier(**best_params_gbc, random_state=21).fit(X_train, y_train2)\n",
        "xgb = XGBClassifier(**best_params_gbc, random_state=21).fit(X_train, y_train2)"
      ],
      "metadata": {
        "id": "vKNFD57D-QBN",
        "colab": {
          "base_uri": "https://localhost:8080/"
        },
        "outputId": "d32d64e7-bb82-4f7a-affd-f2bf68c9a97d"
      },
      "execution_count": null,
      "outputs": [
        {
          "output_type": "stream",
          "name": "stderr",
          "text": [
            "/usr/local/lib/python3.10/dist-packages/xgboost/core.py:160: UserWarning: [22:37:12] WARNING: /workspace/src/learner.cc:742: \n",
            "Parameters: { \"max_leaf_nodes\", \"min_samples_leaf\" } are not used.\n",
            "\n",
            "  warnings.warn(smsg, UserWarning)\n"
          ]
        }
      ]
    },
    {
      "cell_type": "code",
      "source": [
        "rfc_proba = pd.DataFrame(rfc.predict_proba(df_test)[:,1])\n",
        "rfc_proba.to_csv(\"/drive/My Drive/AutoML/hw2/ensemble/bez_selekcji/1rfc_proba1.csv\",index=False)\n",
        "\n",
        "gbc_proba = pd.DataFrame(gbc.predict_proba(df_test)[:,1])\n",
        "gbc_proba.to_csv(\"/drive/My Drive/AutoML/hw2/ensemble/bez_selekcji/1gbc_proba1.csv\",index=False)\n",
        "\n",
        "xgb_proba = pd.DataFrame(xgb.predict_proba(df_test)[:,1])\n",
        "xgb_proba.to_csv(\"/drive/My Drive/AutoML/hw2/ensemble/bez_selekcji/1xgb_proba1.csv\",index=False)"
      ],
      "metadata": {
        "id": "iodjjo5kI0DM"
      },
      "execution_count": null,
      "outputs": []
    },
    {
      "cell_type": "code",
      "source": [
        "np.savetxt('probs_rf.txt', rfc.predict_proba(df_test)[:,1], fmt = '%10.25f')"
      ],
      "metadata": {
        "id": "pGVE3bd0JRL5"
      },
      "execution_count": null,
      "outputs": []
    },
    {
      "cell_type": "code",
      "source": [
        "np.savetxt('probs_gb.txt', gbc.predict_proba(df_test)[:,1], fmt = '%10.25f')"
      ],
      "metadata": {
        "id": "bfjxRFEBJpc5"
      },
      "execution_count": null,
      "outputs": []
    },
    {
      "cell_type": "code",
      "source": [
        "np.savetxt('probs_xgb.txt', xgb.predict_proba(df_test)[:,1], fmt = '%10.25f')"
      ],
      "metadata": {
        "id": "BZpjER7FJrlB"
      },
      "execution_count": null,
      "outputs": []
    }
  ]
}