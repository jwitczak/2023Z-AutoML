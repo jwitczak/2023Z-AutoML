{
  "nbformat": 4,
  "nbformat_minor": 0,
  "metadata": {
    "colab": {
      "provenance": []
    },
    "kernelspec": {
      "name": "python3",
      "display_name": "Python 3"
    },
    "language_info": {
      "name": "python"
    }
  },
  "cells": [
    {
      "cell_type": "code",
      "source": [
        "# from google.colab import files\n",
        "# from google.colab import drive\n",
        "# drive.mount('/drive')"
      ],
      "metadata": {
        "colab": {
          "base_uri": "https://localhost:8080/"
        },
        "id": "rzLAevWZnkp3",
        "outputId": "22118fb1-b07c-41fa-d9fe-088c33ec1642"
      },
      "execution_count": null,
      "outputs": [
        {
          "output_type": "stream",
          "name": "stdout",
          "text": [
            "Mounted at /drive\n"
          ]
        }
      ]
    },
    {
      "cell_type": "markdown",
      "source": [
        "## Loading the data"
      ],
      "metadata": {
        "id": "LVbML3Kg002N"
      }
    },
    {
      "cell_type": "code",
      "execution_count": null,
      "metadata": {
        "id": "4YsMbLnMlt_C"
      },
      "outputs": [],
      "source": [
        "import os\n",
        "import pandas as pd\n",
        "import numpy as np\n",
        "import matplotlib.pyplot as plt\n",
        "import seaborn as sns\n",
        "from scipy import stats\n",
        "\n",
        "import random\n",
        "random.seed(420)\n",
        "\n",
        "\n",
        "url = 'https://raw.githubusercontent.com/kozaka93/2023Z-AutoML/main/homeworks/homework2/artificial_test.data'\n",
        "df_test = pd.read_csv(url, header=None, sep =' ')\n",
        "df_test = df_test.dropna(how='all', axis=1)\n",
        "\n",
        "url = 'https://raw.githubusercontent.com/kozaka93/2023Z-AutoML/main/homeworks/homework2/artificial_train.data'\n",
        "X_train = pd.read_csv(url, header=None, sep =' ')\n",
        "X_train = X_train.dropna(how='all', axis=1)\n",
        "\n",
        "url = 'https://raw.githubusercontent.com/kozaka93/2023Z-AutoML/main/homeworks/homework2/artificial_train.labels'\n",
        "y_train = pd.read_csv(url, header=None)"
      ]
    },
    {
      "cell_type": "markdown",
      "source": [
        "## Voting classifier"
      ],
      "metadata": {
        "id": "QWN_iiMC05Nn"
      }
    },
    {
      "cell_type": "code",
      "source": [
        "from sklearn.preprocessing import LabelEncoder\n",
        "\n",
        "y_train2 = LabelEncoder().fit_transform(y_train)\n",
        "y_train2"
      ],
      "metadata": {
        "colab": {
          "base_uri": "https://localhost:8080/"
        },
        "id": "LxDwJJrcmEtG",
        "outputId": "5e58a94e-1365-44e4-e504-15b877556563"
      },
      "execution_count": null,
      "outputs": [
        {
          "output_type": "stream",
          "name": "stderr",
          "text": [
            "/usr/local/lib/python3.10/dist-packages/sklearn/preprocessing/_label.py:116: DataConversionWarning: A column-vector y was passed when a 1d array was expected. Please change the shape of y to (n_samples, ), for example using ravel().\n",
            "  y = column_or_1d(y, warn=True)\n"
          ]
        },
        {
          "output_type": "execute_result",
          "data": {
            "text/plain": [
              "array([0, 0, 0, ..., 0, 1, 1])"
            ]
          },
          "metadata": {},
          "execution_count": 3
        }
      ]
    },
    {
      "cell_type": "code",
      "source": [
        "from sklearn.feature_selection import f_classif, SelectKBest\n",
        "from sklearn.ensemble import VotingClassifier, RandomForestClassifier, GradientBoostingClassifier\n",
        "from xgboost import XGBClassifier\n",
        "from sklearn.pipeline import Pipeline\n",
        "\n",
        "rfc = RandomForestClassifier(random_state=21)\n",
        "gbc = GradientBoostingClassifier(random_state=21)\n",
        "xgb = XGBClassifier(random_state=21)\n",
        "\n",
        "anova = SelectKBest(score_func=f_classif,k=15)\n",
        "vc = VotingClassifier(estimators=[('rfc', rfc), ('gbc', gbc),  ('xgb', xgb)], voting='soft')\n",
        "\n",
        "pipe = Pipeline([('anova', anova), ('vc', vc)])"
      ],
      "metadata": {
        "id": "vKNFD57D-QBN"
      },
      "execution_count": null,
      "outputs": []
    },
    {
      "cell_type": "code",
      "source": [
        "pipe.get_params(['deep'])"
      ],
      "metadata": {
        "colab": {
          "base_uri": "https://localhost:8080/"
        },
        "id": "KABdHtqZEPT4",
        "outputId": "c8abde62-3591-4160-c537-85f95b60c26b"
      },
      "execution_count": null,
      "outputs": [
        {
          "output_type": "execute_result",
          "data": {
            "text/plain": [
              "{'memory': None,\n",
              " 'steps': [('anova', SelectKBest(k=15)),\n",
              "  ('vc',\n",
              "   VotingClassifier(estimators=[('rfc', RandomForestClassifier(random_state=21)),\n",
              "                                ('gbc',\n",
              "                                 GradientBoostingClassifier(random_state=21)),\n",
              "                                ('xgb',\n",
              "                                 XGBClassifier(base_score=None, booster=None,\n",
              "                                               callbacks=None,\n",
              "                                               colsample_bylevel=None,\n",
              "                                               colsample_bynode=None,\n",
              "                                               colsample_bytree=None, device=None,\n",
              "                                               early_stopping_rounds=None,\n",
              "                                               enable_categorical=False,\n",
              "                                               eval_metric=None,\n",
              "                                               feature_...\n",
              "                                               grow_policy=None,\n",
              "                                               importance_type=None,\n",
              "                                               interaction_constraints=None,\n",
              "                                               learning_rate=None, max_bin=None,\n",
              "                                               max_cat_threshold=None,\n",
              "                                               max_cat_to_onehot=None,\n",
              "                                               max_delta_step=None, max_depth=None,\n",
              "                                               max_leaves=None,\n",
              "                                               min_child_weight=None, missing=nan,\n",
              "                                               monotone_constraints=None,\n",
              "                                               multi_strategy=None,\n",
              "                                               n_estimators=None, n_jobs=None,\n",
              "                                               num_parallel_tree=None,\n",
              "                                               random_state=21, ...))],\n",
              "                    voting='soft'))],\n",
              " 'verbose': False,\n",
              " 'anova': SelectKBest(k=15),\n",
              " 'vc': VotingClassifier(estimators=[('rfc', RandomForestClassifier(random_state=21)),\n",
              "                              ('gbc',\n",
              "                               GradientBoostingClassifier(random_state=21)),\n",
              "                              ('xgb',\n",
              "                               XGBClassifier(base_score=None, booster=None,\n",
              "                                             callbacks=None,\n",
              "                                             colsample_bylevel=None,\n",
              "                                             colsample_bynode=None,\n",
              "                                             colsample_bytree=None, device=None,\n",
              "                                             early_stopping_rounds=None,\n",
              "                                             enable_categorical=False,\n",
              "                                             eval_metric=None,\n",
              "                                             feature_...\n",
              "                                             grow_policy=None,\n",
              "                                             importance_type=None,\n",
              "                                             interaction_constraints=None,\n",
              "                                             learning_rate=None, max_bin=None,\n",
              "                                             max_cat_threshold=None,\n",
              "                                             max_cat_to_onehot=None,\n",
              "                                             max_delta_step=None, max_depth=None,\n",
              "                                             max_leaves=None,\n",
              "                                             min_child_weight=None, missing=nan,\n",
              "                                             monotone_constraints=None,\n",
              "                                             multi_strategy=None,\n",
              "                                             n_estimators=None, n_jobs=None,\n",
              "                                             num_parallel_tree=None,\n",
              "                                             random_state=21, ...))],\n",
              "                  voting='soft'),\n",
              " 'anova__k': 15,\n",
              " 'anova__score_func': <function sklearn.feature_selection._univariate_selection.f_classif(X, y)>,\n",
              " 'vc__estimators': [('rfc', RandomForestClassifier(random_state=21)),\n",
              "  ('gbc', GradientBoostingClassifier(random_state=21)),\n",
              "  ('xgb',\n",
              "   XGBClassifier(base_score=None, booster=None, callbacks=None,\n",
              "                 colsample_bylevel=None, colsample_bynode=None,\n",
              "                 colsample_bytree=None, device=None, early_stopping_rounds=None,\n",
              "                 enable_categorical=False, eval_metric=None, feature_types=None,\n",
              "                 gamma=None, grow_policy=None, importance_type=None,\n",
              "                 interaction_constraints=None, learning_rate=None, max_bin=None,\n",
              "                 max_cat_threshold=None, max_cat_to_onehot=None,\n",
              "                 max_delta_step=None, max_depth=None, max_leaves=None,\n",
              "                 min_child_weight=None, missing=nan, monotone_constraints=None,\n",
              "                 multi_strategy=None, n_estimators=None, n_jobs=None,\n",
              "                 num_parallel_tree=None, random_state=21, ...))],\n",
              " 'vc__flatten_transform': True,\n",
              " 'vc__n_jobs': None,\n",
              " 'vc__verbose': False,\n",
              " 'vc__voting': 'soft',\n",
              " 'vc__weights': None,\n",
              " 'vc__rfc': RandomForestClassifier(random_state=21),\n",
              " 'vc__gbc': GradientBoostingClassifier(random_state=21),\n",
              " 'vc__xgb': XGBClassifier(base_score=None, booster=None, callbacks=None,\n",
              "               colsample_bylevel=None, colsample_bynode=None,\n",
              "               colsample_bytree=None, device=None, early_stopping_rounds=None,\n",
              "               enable_categorical=False, eval_metric=None, feature_types=None,\n",
              "               gamma=None, grow_policy=None, importance_type=None,\n",
              "               interaction_constraints=None, learning_rate=None, max_bin=None,\n",
              "               max_cat_threshold=None, max_cat_to_onehot=None,\n",
              "               max_delta_step=None, max_depth=None, max_leaves=None,\n",
              "               min_child_weight=None, missing=nan, monotone_constraints=None,\n",
              "               multi_strategy=None, n_estimators=None, n_jobs=None,\n",
              "               num_parallel_tree=None, random_state=21, ...),\n",
              " 'vc__rfc__bootstrap': True,\n",
              " 'vc__rfc__ccp_alpha': 0.0,\n",
              " 'vc__rfc__class_weight': None,\n",
              " 'vc__rfc__criterion': 'gini',\n",
              " 'vc__rfc__max_depth': None,\n",
              " 'vc__rfc__max_features': 'sqrt',\n",
              " 'vc__rfc__max_leaf_nodes': None,\n",
              " 'vc__rfc__max_samples': None,\n",
              " 'vc__rfc__min_impurity_decrease': 0.0,\n",
              " 'vc__rfc__min_samples_leaf': 1,\n",
              " 'vc__rfc__min_samples_split': 2,\n",
              " 'vc__rfc__min_weight_fraction_leaf': 0.0,\n",
              " 'vc__rfc__n_estimators': 100,\n",
              " 'vc__rfc__n_jobs': None,\n",
              " 'vc__rfc__oob_score': False,\n",
              " 'vc__rfc__random_state': 21,\n",
              " 'vc__rfc__verbose': 0,\n",
              " 'vc__rfc__warm_start': False,\n",
              " 'vc__gbc__ccp_alpha': 0.0,\n",
              " 'vc__gbc__criterion': 'friedman_mse',\n",
              " 'vc__gbc__init': None,\n",
              " 'vc__gbc__learning_rate': 0.1,\n",
              " 'vc__gbc__loss': 'log_loss',\n",
              " 'vc__gbc__max_depth': 3,\n",
              " 'vc__gbc__max_features': None,\n",
              " 'vc__gbc__max_leaf_nodes': None,\n",
              " 'vc__gbc__min_impurity_decrease': 0.0,\n",
              " 'vc__gbc__min_samples_leaf': 1,\n",
              " 'vc__gbc__min_samples_split': 2,\n",
              " 'vc__gbc__min_weight_fraction_leaf': 0.0,\n",
              " 'vc__gbc__n_estimators': 100,\n",
              " 'vc__gbc__n_iter_no_change': None,\n",
              " 'vc__gbc__random_state': 21,\n",
              " 'vc__gbc__subsample': 1.0,\n",
              " 'vc__gbc__tol': 0.0001,\n",
              " 'vc__gbc__validation_fraction': 0.1,\n",
              " 'vc__gbc__verbose': 0,\n",
              " 'vc__gbc__warm_start': False,\n",
              " 'vc__xgb__objective': 'binary:logistic',\n",
              " 'vc__xgb__base_score': None,\n",
              " 'vc__xgb__booster': None,\n",
              " 'vc__xgb__callbacks': None,\n",
              " 'vc__xgb__colsample_bylevel': None,\n",
              " 'vc__xgb__colsample_bynode': None,\n",
              " 'vc__xgb__colsample_bytree': None,\n",
              " 'vc__xgb__device': None,\n",
              " 'vc__xgb__early_stopping_rounds': None,\n",
              " 'vc__xgb__enable_categorical': False,\n",
              " 'vc__xgb__eval_metric': None,\n",
              " 'vc__xgb__feature_types': None,\n",
              " 'vc__xgb__gamma': None,\n",
              " 'vc__xgb__grow_policy': None,\n",
              " 'vc__xgb__importance_type': None,\n",
              " 'vc__xgb__interaction_constraints': None,\n",
              " 'vc__xgb__learning_rate': None,\n",
              " 'vc__xgb__max_bin': None,\n",
              " 'vc__xgb__max_cat_threshold': None,\n",
              " 'vc__xgb__max_cat_to_onehot': None,\n",
              " 'vc__xgb__max_delta_step': None,\n",
              " 'vc__xgb__max_depth': None,\n",
              " 'vc__xgb__max_leaves': None,\n",
              " 'vc__xgb__min_child_weight': None,\n",
              " 'vc__xgb__missing': nan,\n",
              " 'vc__xgb__monotone_constraints': None,\n",
              " 'vc__xgb__multi_strategy': None,\n",
              " 'vc__xgb__n_estimators': None,\n",
              " 'vc__xgb__n_jobs': None,\n",
              " 'vc__xgb__num_parallel_tree': None,\n",
              " 'vc__xgb__random_state': 21,\n",
              " 'vc__xgb__reg_alpha': None,\n",
              " 'vc__xgb__reg_lambda': None,\n",
              " 'vc__xgb__sampling_method': None,\n",
              " 'vc__xgb__scale_pos_weight': None,\n",
              " 'vc__xgb__subsample': None,\n",
              " 'vc__xgb__tree_method': None,\n",
              " 'vc__xgb__validate_parameters': None,\n",
              " 'vc__xgb__verbosity': None}"
            ]
          },
          "metadata": {},
          "execution_count": 7
        }
      ]
    },
    {
      "cell_type": "code",
      "source": [
        "from scipy.stats import uniform, randint\n",
        "from sklearn.model_selection import RandomizedSearchCV\n",
        "\n",
        "grid_params_rs = [{\n",
        "    \"vc__gbc__n_estimators\": randint(1,500),\n",
        "    \"vc__gbc__learning_rate\": uniform(0.01,0.99),\n",
        "    \"vc__gbc__max_leaf_nodes\":  randint(2,50),\n",
        "    \"vc__gbc__min_samples_leaf\": randint(1,50),\n",
        "    \"vc__gbc__max_depth\": randint(1,15),\n",
        "    'vc__rfc__bootstrap': [True, False],   # replace\n",
        "    'vc__rfc__max_features': uniform(0.01, 1),   # mtry\n",
        "    'vc__rfc__min_samples_split': uniform(0.01, 1),  # min.node.size\n",
        "    'vc__rfc__n_estimators': randint(1, 2001),\n",
        "    \"vc__xgb__n_estimators\": randint(1,5000),\n",
        "    \"vc__xgb__learning_rate\": uniform(0,10),\n",
        "    \"vc__xgb__max_depth\": randint(1,15),\n",
        "    \"vc__xgb__min_child_weight\": uniform(0,7)\n",
        "}]"
      ],
      "metadata": {
        "id": "qY3uaQXuMCr1"
      },
      "execution_count": null,
      "outputs": []
    },
    {
      "cell_type": "code",
      "source": [
        "bscv = RandomizedSearchCV(pipe, grid_params_rs, random_state=21, scoring=\"balanced_accuracy\", n_iter=50)\n",
        "bscv.fit(X_train, y_train2)"
      ],
      "metadata": {
        "id": "m5A1-6wiEaR_",
        "colab": {
          "base_uri": "https://localhost:8080/",
          "height": 957
        },
        "outputId": "823459d0-efc4-4e00-db2d-0cf4b7196130"
      },
      "execution_count": null,
      "outputs": [
        {
          "output_type": "stream",
          "name": "stderr",
          "text": [
            "/usr/local/lib/python3.10/dist-packages/sklearn/model_selection/_validation.py:378: FitFailedWarning: \n",
            "5 fits failed out of a total of 250.\n",
            "The score on these train-test partitions for these parameters will be set to nan.\n",
            "If these failures are not expected, you can try to debug them by setting error_score='raise'.\n",
            "\n",
            "Below are more details about the failures:\n",
            "--------------------------------------------------------------------------------\n",
            "5 fits failed with the following error:\n",
            "Traceback (most recent call last):\n",
            "  File \"/usr/local/lib/python3.10/dist-packages/sklearn/model_selection/_validation.py\", line 686, in _fit_and_score\n",
            "    estimator.fit(X_train, y_train, **fit_params)\n",
            "  File \"/usr/local/lib/python3.10/dist-packages/sklearn/pipeline.py\", line 405, in fit\n",
            "    self._final_estimator.fit(Xt, y, **fit_params_last_step)\n",
            "  File \"/usr/local/lib/python3.10/dist-packages/sklearn/ensemble/_voting.py\", line 346, in fit\n",
            "    return super().fit(X, transformed_y, sample_weight)\n",
            "  File \"/usr/local/lib/python3.10/dist-packages/sklearn/ensemble/_voting.py\", line 81, in fit\n",
            "    self.estimators_ = Parallel(n_jobs=self.n_jobs)(\n",
            "  File \"/usr/local/lib/python3.10/dist-packages/sklearn/utils/parallel.py\", line 63, in __call__\n",
            "    return super().__call__(iterable_with_config)\n",
            "  File \"/usr/local/lib/python3.10/dist-packages/joblib/parallel.py\", line 1863, in __call__\n",
            "    return output if self.return_generator else list(output)\n",
            "  File \"/usr/local/lib/python3.10/dist-packages/joblib/parallel.py\", line 1792, in _get_sequential_output\n",
            "    res = func(*args, **kwargs)\n",
            "  File \"/usr/local/lib/python3.10/dist-packages/sklearn/utils/parallel.py\", line 123, in __call__\n",
            "    return self.function(*args, **kwargs)\n",
            "  File \"/usr/local/lib/python3.10/dist-packages/sklearn/ensemble/_base.py\", line 46, in _fit_single_estimator\n",
            "    estimator.fit(X, y)\n",
            "  File \"/usr/local/lib/python3.10/dist-packages/sklearn/ensemble/_forest.py\", line 340, in fit\n",
            "    self._validate_params()\n",
            "  File \"/usr/local/lib/python3.10/dist-packages/sklearn/base.py\", line 600, in _validate_params\n",
            "    validate_parameter_constraints(\n",
            "  File \"/usr/local/lib/python3.10/dist-packages/sklearn/utils/_param_validation.py\", line 97, in validate_parameter_constraints\n",
            "    raise InvalidParameterError(\n",
            "sklearn.utils._param_validation.InvalidParameterError: The 'min_samples_split' parameter of RandomForestClassifier must be an int in the range [2, inf) or a float in the range (0.0, 1.0]. Got 1.0048124987621443 instead.\n",
            "\n",
            "  warnings.warn(some_fits_failed_message, FitFailedWarning)\n",
            "/usr/local/lib/python3.10/dist-packages/sklearn/model_selection/_search.py:952: UserWarning: One or more of the test scores are non-finite: [0.517  0.5805 0.831  0.566  0.537  0.621  0.5345 0.6265 0.5915 0.5375\n",
            " 0.555  0.5715 0.63   0.55   0.7125 0.5435 0.7515 0.582  0.7785 0.6015\n",
            " 0.7795 0.8015 0.833  0.716  0.5665 0.8385 0.826  0.5235 0.706  0.685\n",
            " 0.7    0.7015 0.67   0.708  0.687  0.6905 0.6665 0.7175 0.7265 0.5255\n",
            " 0.5095 0.8265 0.543  0.776  0.695  0.5175    nan 0.743  0.5805 0.5645]\n",
            "  warnings.warn(\n"
          ]
        },
        {
          "output_type": "execute_result",
          "data": {
            "text/plain": [
              "RandomizedSearchCV(estimator=Pipeline(steps=[('anova', SelectKBest(k=15)),\n",
              "                                             ('vc',\n",
              "                                              VotingClassifier(estimators=[('rfc',\n",
              "                                                                            RandomForestClassifier(random_state=21)),\n",
              "                                                                           ('gbc',\n",
              "                                                                            GradientBoostingClassifier(random_state=21)),\n",
              "                                                                           ('xgb',\n",
              "                                                                            XGBClassifier(base_score=None,\n",
              "                                                                                          booster=None,\n",
              "                                                                                          callbacks=None,\n",
              "                                                                                          colsample_bylevel=None,\n",
              "                                                                                          colsample_bynode=None,\n",
              "                                                                                          colsample_bytree=None,\n",
              "                                                                                          device=Non...\n",
              "                                         'vc__xgb__max_depth': <scipy.stats._distn_infrastructure.rv_discrete_frozen object at 0x7860ca4c9d80>,\n",
              "                                         'vc__xgb__min_child_weight': <scipy.stats._distn_infrastructure.rv_continuous_frozen object at 0x7860ca4caa10>,\n",
              "                                         'vc__xgb__n_estimators': <scipy.stats._distn_infrastructure.rv_discrete_frozen object at 0x7860ca4ca080>}],\n",
              "                   random_state=21, scoring='balanced_accuracy')"
            ],
            "text/html": [
              "<style>#sk-container-id-1 {color: black;background-color: white;}#sk-container-id-1 pre{padding: 0;}#sk-container-id-1 div.sk-toggleable {background-color: white;}#sk-container-id-1 label.sk-toggleable__label {cursor: pointer;display: block;width: 100%;margin-bottom: 0;padding: 0.3em;box-sizing: border-box;text-align: center;}#sk-container-id-1 label.sk-toggleable__label-arrow:before {content: \"▸\";float: left;margin-right: 0.25em;color: #696969;}#sk-container-id-1 label.sk-toggleable__label-arrow:hover:before {color: black;}#sk-container-id-1 div.sk-estimator:hover label.sk-toggleable__label-arrow:before {color: black;}#sk-container-id-1 div.sk-toggleable__content {max-height: 0;max-width: 0;overflow: hidden;text-align: left;background-color: #f0f8ff;}#sk-container-id-1 div.sk-toggleable__content pre {margin: 0.2em;color: black;border-radius: 0.25em;background-color: #f0f8ff;}#sk-container-id-1 input.sk-toggleable__control:checked~div.sk-toggleable__content {max-height: 200px;max-width: 100%;overflow: auto;}#sk-container-id-1 input.sk-toggleable__control:checked~label.sk-toggleable__label-arrow:before {content: \"▾\";}#sk-container-id-1 div.sk-estimator input.sk-toggleable__control:checked~label.sk-toggleable__label {background-color: #d4ebff;}#sk-container-id-1 div.sk-label input.sk-toggleable__control:checked~label.sk-toggleable__label {background-color: #d4ebff;}#sk-container-id-1 input.sk-hidden--visually {border: 0;clip: rect(1px 1px 1px 1px);clip: rect(1px, 1px, 1px, 1px);height: 1px;margin: -1px;overflow: hidden;padding: 0;position: absolute;width: 1px;}#sk-container-id-1 div.sk-estimator {font-family: monospace;background-color: #f0f8ff;border: 1px dotted black;border-radius: 0.25em;box-sizing: border-box;margin-bottom: 0.5em;}#sk-container-id-1 div.sk-estimator:hover {background-color: #d4ebff;}#sk-container-id-1 div.sk-parallel-item::after {content: \"\";width: 100%;border-bottom: 1px solid gray;flex-grow: 1;}#sk-container-id-1 div.sk-label:hover label.sk-toggleable__label {background-color: #d4ebff;}#sk-container-id-1 div.sk-serial::before {content: \"\";position: absolute;border-left: 1px solid gray;box-sizing: border-box;top: 0;bottom: 0;left: 50%;z-index: 0;}#sk-container-id-1 div.sk-serial {display: flex;flex-direction: column;align-items: center;background-color: white;padding-right: 0.2em;padding-left: 0.2em;position: relative;}#sk-container-id-1 div.sk-item {position: relative;z-index: 1;}#sk-container-id-1 div.sk-parallel {display: flex;align-items: stretch;justify-content: center;background-color: white;position: relative;}#sk-container-id-1 div.sk-item::before, #sk-container-id-1 div.sk-parallel-item::before {content: \"\";position: absolute;border-left: 1px solid gray;box-sizing: border-box;top: 0;bottom: 0;left: 50%;z-index: -1;}#sk-container-id-1 div.sk-parallel-item {display: flex;flex-direction: column;z-index: 1;position: relative;background-color: white;}#sk-container-id-1 div.sk-parallel-item:first-child::after {align-self: flex-end;width: 50%;}#sk-container-id-1 div.sk-parallel-item:last-child::after {align-self: flex-start;width: 50%;}#sk-container-id-1 div.sk-parallel-item:only-child::after {width: 0;}#sk-container-id-1 div.sk-dashed-wrapped {border: 1px dashed gray;margin: 0 0.4em 0.5em 0.4em;box-sizing: border-box;padding-bottom: 0.4em;background-color: white;}#sk-container-id-1 div.sk-label label {font-family: monospace;font-weight: bold;display: inline-block;line-height: 1.2em;}#sk-container-id-1 div.sk-label-container {text-align: center;}#sk-container-id-1 div.sk-container {/* jupyter's `normalize.less` sets `[hidden] { display: none; }` but bootstrap.min.css set `[hidden] { display: none !important; }` so we also need the `!important` here to be able to override the default hidden behavior on the sphinx rendered scikit-learn.org. See: https://github.com/scikit-learn/scikit-learn/issues/21755 */display: inline-block !important;position: relative;}#sk-container-id-1 div.sk-text-repr-fallback {display: none;}</style><div id=\"sk-container-id-1\" class=\"sk-top-container\"><div class=\"sk-text-repr-fallback\"><pre>RandomizedSearchCV(estimator=Pipeline(steps=[(&#x27;anova&#x27;, SelectKBest(k=15)),\n",
              "                                             (&#x27;vc&#x27;,\n",
              "                                              VotingClassifier(estimators=[(&#x27;rfc&#x27;,\n",
              "                                                                            RandomForestClassifier(random_state=21)),\n",
              "                                                                           (&#x27;gbc&#x27;,\n",
              "                                                                            GradientBoostingClassifier(random_state=21)),\n",
              "                                                                           (&#x27;xgb&#x27;,\n",
              "                                                                            XGBClassifier(base_score=None,\n",
              "                                                                                          booster=None,\n",
              "                                                                                          callbacks=None,\n",
              "                                                                                          colsample_bylevel=None,\n",
              "                                                                                          colsample_bynode=None,\n",
              "                                                                                          colsample_bytree=None,\n",
              "                                                                                          device=Non...\n",
              "                                         &#x27;vc__xgb__max_depth&#x27;: &lt;scipy.stats._distn_infrastructure.rv_discrete_frozen object at 0x7860ca4c9d80&gt;,\n",
              "                                         &#x27;vc__xgb__min_child_weight&#x27;: &lt;scipy.stats._distn_infrastructure.rv_continuous_frozen object at 0x7860ca4caa10&gt;,\n",
              "                                         &#x27;vc__xgb__n_estimators&#x27;: &lt;scipy.stats._distn_infrastructure.rv_discrete_frozen object at 0x7860ca4ca080&gt;}],\n",
              "                   random_state=21, scoring=&#x27;balanced_accuracy&#x27;)</pre><b>In a Jupyter environment, please rerun this cell to show the HTML representation or trust the notebook. <br />On GitHub, the HTML representation is unable to render, please try loading this page with nbviewer.org.</b></div><div class=\"sk-container\" hidden><div class=\"sk-item sk-dashed-wrapped\"><div class=\"sk-label-container\"><div class=\"sk-label sk-toggleable\"><input class=\"sk-toggleable__control sk-hidden--visually\" id=\"sk-estimator-id-1\" type=\"checkbox\" ><label for=\"sk-estimator-id-1\" class=\"sk-toggleable__label sk-toggleable__label-arrow\">RandomizedSearchCV</label><div class=\"sk-toggleable__content\"><pre>RandomizedSearchCV(estimator=Pipeline(steps=[(&#x27;anova&#x27;, SelectKBest(k=15)),\n",
              "                                             (&#x27;vc&#x27;,\n",
              "                                              VotingClassifier(estimators=[(&#x27;rfc&#x27;,\n",
              "                                                                            RandomForestClassifier(random_state=21)),\n",
              "                                                                           (&#x27;gbc&#x27;,\n",
              "                                                                            GradientBoostingClassifier(random_state=21)),\n",
              "                                                                           (&#x27;xgb&#x27;,\n",
              "                                                                            XGBClassifier(base_score=None,\n",
              "                                                                                          booster=None,\n",
              "                                                                                          callbacks=None,\n",
              "                                                                                          colsample_bylevel=None,\n",
              "                                                                                          colsample_bynode=None,\n",
              "                                                                                          colsample_bytree=None,\n",
              "                                                                                          device=Non...\n",
              "                                         &#x27;vc__xgb__max_depth&#x27;: &lt;scipy.stats._distn_infrastructure.rv_discrete_frozen object at 0x7860ca4c9d80&gt;,\n",
              "                                         &#x27;vc__xgb__min_child_weight&#x27;: &lt;scipy.stats._distn_infrastructure.rv_continuous_frozen object at 0x7860ca4caa10&gt;,\n",
              "                                         &#x27;vc__xgb__n_estimators&#x27;: &lt;scipy.stats._distn_infrastructure.rv_discrete_frozen object at 0x7860ca4ca080&gt;}],\n",
              "                   random_state=21, scoring=&#x27;balanced_accuracy&#x27;)</pre></div></div></div><div class=\"sk-parallel\"><div class=\"sk-parallel-item\"><div class=\"sk-item\"><div class=\"sk-label-container\"><div class=\"sk-label sk-toggleable\"><input class=\"sk-toggleable__control sk-hidden--visually\" id=\"sk-estimator-id-2\" type=\"checkbox\" ><label for=\"sk-estimator-id-2\" class=\"sk-toggleable__label sk-toggleable__label-arrow\">estimator: Pipeline</label><div class=\"sk-toggleable__content\"><pre>Pipeline(steps=[(&#x27;anova&#x27;, SelectKBest(k=15)),\n",
              "                (&#x27;vc&#x27;,\n",
              "                 VotingClassifier(estimators=[(&#x27;rfc&#x27;,\n",
              "                                               RandomForestClassifier(random_state=21)),\n",
              "                                              (&#x27;gbc&#x27;,\n",
              "                                               GradientBoostingClassifier(random_state=21)),\n",
              "                                              (&#x27;xgb&#x27;,\n",
              "                                               XGBClassifier(base_score=None,\n",
              "                                                             booster=None,\n",
              "                                                             callbacks=None,\n",
              "                                                             colsample_bylevel=None,\n",
              "                                                             colsample_bynode=None,\n",
              "                                                             colsample_bytree=None,\n",
              "                                                             device=None,\n",
              "                                                             early_stopping_rounds=None,...\n",
              "                                                             importance_type=None,\n",
              "                                                             interaction_constraints=None,\n",
              "                                                             learning_rate=None,\n",
              "                                                             max_bin=None,\n",
              "                                                             max_cat_threshold=None,\n",
              "                                                             max_cat_to_onehot=None,\n",
              "                                                             max_delta_step=None,\n",
              "                                                             max_depth=None,\n",
              "                                                             max_leaves=None,\n",
              "                                                             min_child_weight=None,\n",
              "                                                             missing=nan,\n",
              "                                                             monotone_constraints=None,\n",
              "                                                             multi_strategy=None,\n",
              "                                                             n_estimators=None,\n",
              "                                                             n_jobs=None,\n",
              "                                                             num_parallel_tree=None,\n",
              "                                                             random_state=21, ...))],\n",
              "                                  voting=&#x27;soft&#x27;))])</pre></div></div></div><div class=\"sk-serial\"><div class=\"sk-item\"><div class=\"sk-serial\"><div class=\"sk-item\"><div class=\"sk-estimator sk-toggleable\"><input class=\"sk-toggleable__control sk-hidden--visually\" id=\"sk-estimator-id-3\" type=\"checkbox\" ><label for=\"sk-estimator-id-3\" class=\"sk-toggleable__label sk-toggleable__label-arrow\">SelectKBest</label><div class=\"sk-toggleable__content\"><pre>SelectKBest(k=15)</pre></div></div></div><div class=\"sk-item sk-dashed-wrapped\"><div class=\"sk-label-container\"><div class=\"sk-label sk-toggleable\"><input class=\"sk-toggleable__control sk-hidden--visually\" id=\"sk-estimator-id-4\" type=\"checkbox\" ><label for=\"sk-estimator-id-4\" class=\"sk-toggleable__label sk-toggleable__label-arrow\">vc: VotingClassifier</label><div class=\"sk-toggleable__content\"><pre>VotingClassifier(estimators=[(&#x27;rfc&#x27;, RandomForestClassifier(random_state=21)),\n",
              "                             (&#x27;gbc&#x27;,\n",
              "                              GradientBoostingClassifier(random_state=21)),\n",
              "                             (&#x27;xgb&#x27;,\n",
              "                              XGBClassifier(base_score=None, booster=None,\n",
              "                                            callbacks=None,\n",
              "                                            colsample_bylevel=None,\n",
              "                                            colsample_bynode=None,\n",
              "                                            colsample_bytree=None, device=None,\n",
              "                                            early_stopping_rounds=None,\n",
              "                                            enable_categorical=False,\n",
              "                                            eval_metric=None,\n",
              "                                            feature_...\n",
              "                                            grow_policy=None,\n",
              "                                            importance_type=None,\n",
              "                                            interaction_constraints=None,\n",
              "                                            learning_rate=None, max_bin=None,\n",
              "                                            max_cat_threshold=None,\n",
              "                                            max_cat_to_onehot=None,\n",
              "                                            max_delta_step=None, max_depth=None,\n",
              "                                            max_leaves=None,\n",
              "                                            min_child_weight=None, missing=nan,\n",
              "                                            monotone_constraints=None,\n",
              "                                            multi_strategy=None,\n",
              "                                            n_estimators=None, n_jobs=None,\n",
              "                                            num_parallel_tree=None,\n",
              "                                            random_state=21, ...))],\n",
              "                 voting=&#x27;soft&#x27;)</pre></div></div></div><div class=\"sk-parallel\"><div class=\"sk-parallel-item\"><div class=\"sk-item\"><div class=\"sk-label-container\"><div class=\"sk-label sk-toggleable\"><label>rfc</label></div></div><div class=\"sk-serial\"><div class=\"sk-item\"><div class=\"sk-estimator sk-toggleable\"><input class=\"sk-toggleable__control sk-hidden--visually\" id=\"sk-estimator-id-5\" type=\"checkbox\" ><label for=\"sk-estimator-id-5\" class=\"sk-toggleable__label sk-toggleable__label-arrow\">RandomForestClassifier</label><div class=\"sk-toggleable__content\"><pre>RandomForestClassifier(random_state=21)</pre></div></div></div></div></div></div><div class=\"sk-parallel-item\"><div class=\"sk-item\"><div class=\"sk-label-container\"><div class=\"sk-label sk-toggleable\"><label>gbc</label></div></div><div class=\"sk-serial\"><div class=\"sk-item\"><div class=\"sk-estimator sk-toggleable\"><input class=\"sk-toggleable__control sk-hidden--visually\" id=\"sk-estimator-id-6\" type=\"checkbox\" ><label for=\"sk-estimator-id-6\" class=\"sk-toggleable__label sk-toggleable__label-arrow\">GradientBoostingClassifier</label><div class=\"sk-toggleable__content\"><pre>GradientBoostingClassifier(random_state=21)</pre></div></div></div></div></div></div><div class=\"sk-parallel-item\"><div class=\"sk-item\"><div class=\"sk-label-container\"><div class=\"sk-label sk-toggleable\"><label>xgb</label></div></div><div class=\"sk-serial\"><div class=\"sk-item\"><div class=\"sk-estimator sk-toggleable\"><input class=\"sk-toggleable__control sk-hidden--visually\" id=\"sk-estimator-id-7\" type=\"checkbox\" ><label for=\"sk-estimator-id-7\" class=\"sk-toggleable__label sk-toggleable__label-arrow\">XGBClassifier</label><div class=\"sk-toggleable__content\"><pre>XGBClassifier(base_score=None, booster=None, callbacks=None,\n",
              "              colsample_bylevel=None, colsample_bynode=None,\n",
              "              colsample_bytree=None, device=None, early_stopping_rounds=None,\n",
              "              enable_categorical=False, eval_metric=None, feature_types=None,\n",
              "              gamma=None, grow_policy=None, importance_type=None,\n",
              "              interaction_constraints=None, learning_rate=None, max_bin=None,\n",
              "              max_cat_threshold=None, max_cat_to_onehot=None,\n",
              "              max_delta_step=None, max_depth=None, max_leaves=None,\n",
              "              min_child_weight=None, missing=nan, monotone_constraints=None,\n",
              "              multi_strategy=None, n_estimators=None, n_jobs=None,\n",
              "              num_parallel_tree=None, random_state=21, ...)</pre></div></div></div></div></div></div></div></div></div></div></div></div></div></div></div></div></div>"
            ]
          },
          "metadata": {},
          "execution_count": 9
        }
      ]
    },
    {
      "cell_type": "code",
      "source": [
        "results_bs = pd.DataFrame()\n",
        "results_bs[\"params\"] = bscv.cv_results_[\"params\"]\n",
        "results_bs[\"a_scores\"] = bscv.cv_results_[\"mean_test_score\"]\n",
        "\n",
        "results_bs.to_csv(\"/drive/My Drive/AutoML/hw2/ensemble/ANOVA_ensemble_results_rs.csv\",index=False)"
      ],
      "metadata": {
        "id": "XyB8gMd6Elwv"
      },
      "execution_count": null,
      "outputs": []
    },
    {
      "cell_type": "code",
      "source": [
        "bscv.best_score_\n"
      ],
      "metadata": {
        "colab": {
          "base_uri": "https://localhost:8080/"
        },
        "id": "x-SA7vzcN6tL",
        "outputId": "1f98b439-494a-4c41-9599-50994fe69a0e"
      },
      "execution_count": null,
      "outputs": [
        {
          "output_type": "execute_result",
          "data": {
            "text/plain": [
              "0.8384999999999998"
            ]
          },
          "metadata": {},
          "execution_count": 12
        }
      ]
    },
    {
      "cell_type": "code",
      "source": [
        "ensemble = bscv.best_estimator_\n",
        "ensemble_proba = pd.DataFrame(ensemble.predict_proba(df_test)[:,1])\n",
        "np.savetxt('probs_anova_ensemble.txt', ensemble.predict_proba(df_test)[:,1], fmt = '%10.25f')"
      ],
      "metadata": {
        "id": "KF_yoqc72GUg"
      },
      "execution_count": null,
      "outputs": []
    },
    {
      "cell_type": "code",
      "source": [
        "np.savetxt('probs_anova_ensemble2.txt', ensemble.predict_proba(df_test)[:,1], fmt = '%10.25f')"
      ],
      "metadata": {
        "id": "g3SYV7n_SW_n"
      },
      "execution_count": null,
      "outputs": []
    }
  ]
}