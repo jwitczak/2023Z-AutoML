{
  "nbformat": 4,
  "nbformat_minor": 0,
  "metadata": {
    "colab": {
      "provenance": []
    },
    "kernelspec": {
      "name": "python3",
      "display_name": "Python 3"
    },
    "language_info": {
      "name": "python"
    }
  },
  "cells": [
    {
      "cell_type": "code",
      "source": [
        "from google.colab import files\n",
        "from google.colab import drive\n",
        "drive.mount('/drive')"
      ],
      "metadata": {
        "colab": {
          "base_uri": "https://localhost:8080/"
        },
        "id": "rzLAevWZnkp3",
        "outputId": "97f7bbc0-f05a-4723-fe2b-7221639bd306"
      },
      "execution_count": null,
      "outputs": [
        {
          "output_type": "stream",
          "name": "stdout",
          "text": [
            "Mounted at /drive\n"
          ]
        }
      ]
    },
    {
      "cell_type": "code",
      "execution_count": null,
      "metadata": {
        "id": "4YsMbLnMlt_C"
      },
      "outputs": [],
      "source": [
        "import os\n",
        "import pandas as pd\n",
        "import numpy as np\n",
        "import matplotlib.pyplot as plt\n",
        "import seaborn as sns\n",
        "from scipy import stats\n",
        "\n",
        "import random\n",
        "random.seed(420)\n",
        "\n",
        "\n",
        "url = 'https://raw.githubusercontent.com/kozaka93/2023Z-AutoML/main/homeworks/homework2/artificial_test.data'\n",
        "df_test = pd.read_csv(url, header=None, sep =' ')\n",
        "df_test = df_test.dropna(how='all', axis=1)\n",
        "\n",
        "url = 'https://raw.githubusercontent.com/kozaka93/2023Z-AutoML/main/homeworks/homework2/artificial_train.data'\n",
        "X_train = pd.read_csv(url, header=None, sep =' ')\n",
        "X_train = X_train.dropna(how='all', axis=1)\n",
        "\n",
        "url = 'https://raw.githubusercontent.com/kozaka93/2023Z-AutoML/main/homeworks/homework2/artificial_train.labels'\n",
        "y_train = pd.read_csv(url, header=None)"
      ]
    },
    {
      "cell_type": "code",
      "source": [
        "from sklearn.preprocessing import LabelEncoder\n",
        "\n",
        "y_train2 = LabelEncoder().fit_transform(y_train)\n",
        "y_train2"
      ],
      "metadata": {
        "colab": {
          "base_uri": "https://localhost:8080/"
        },
        "id": "LxDwJJrcmEtG",
        "outputId": "765e4ff2-858c-42e1-9afd-5e59718fd191"
      },
      "execution_count": null,
      "outputs": [
        {
          "output_type": "stream",
          "name": "stderr",
          "text": [
            "/usr/local/lib/python3.10/dist-packages/sklearn/preprocessing/_label.py:116: DataConversionWarning: A column-vector y was passed when a 1d array was expected. Please change the shape of y to (n_samples, ), for example using ravel().\n",
            "  y = column_or_1d(y, warn=True)\n"
          ]
        },
        {
          "output_type": "execute_result",
          "data": {
            "text/plain": [
              "array([0, 0, 0, ..., 0, 1, 1])"
            ]
          },
          "metadata": {},
          "execution_count": 3
        }
      ]
    },
    {
      "cell_type": "code",
      "source": [
        "from sklearn.feature_selection import f_classif, SelectKBest\n",
        "fs = SelectKBest(score_func=f_classif,k=25)\n",
        "fit = fs.fit(X_train,y_train2)"
      ],
      "metadata": {
        "id": "cMOWTgp7mdh6"
      },
      "execution_count": null,
      "outputs": []
    },
    {
      "cell_type": "code",
      "source": [
        "features_score = pd.DataFrame(fit.scores_)\n",
        "features = pd.DataFrame(X_train.columns)\n",
        "feature_score = pd.concat([features,features_score],axis=1)\n",
        "feature_score.columns = [\"Input_Features\",\"F_Score\"]\n",
        "print(feature_score.nlargest(25,columns=\"F_Score\"))"
      ],
      "metadata": {
        "colab": {
          "base_uri": "https://localhost:8080/"
        },
        "id": "Hdrct6DpmmMb",
        "outputId": "28b7122f-0144-4d25-ff47-c7206ce277ca"
      },
      "execution_count": null,
      "outputs": [
        {
          "output_type": "stream",
          "name": "stdout",
          "text": [
            "     Input_Features     F_Score\n",
            "475             475  101.556789\n",
            "241             241   99.524269\n",
            "336             336   47.045066\n",
            "64               64   46.194897\n",
            "128             128   32.627036\n",
            "105             105   32.368782\n",
            "338             338   30.081219\n",
            "48               48   28.444776\n",
            "378             378   27.233677\n",
            "442             442   26.474649\n",
            "472             472   25.413854\n",
            "453             453   18.405687\n",
            "493             493   18.217882\n",
            "323             323    8.392836\n",
            "424             424    6.638351\n",
            "282             282    6.462605\n",
            "411             411    6.220247\n",
            "205             205    6.007540\n",
            "296             296    5.975923\n",
            "496             496    5.697433\n",
            "55               55    5.647685\n",
            "204             204    5.616683\n",
            "430             430    5.476813\n",
            "119             119    5.431805\n",
            "136             136    5.280475\n"
          ]
        }
      ]
    },
    {
      "cell_type": "code",
      "source": [
        "from sklearn.feature_selection import f_classif, SelectKBest\n",
        "from xgboost import XGBClassifier\n",
        "from sklearn.pipeline import Pipeline\n",
        "\n",
        "# anova = SelectKBest(score_func=f_classif,k=15)\n",
        "# clf = XGBClassifier(random_state=21)\n",
        "\n",
        "pipe = Pipeline([('anova', SelectKBest(score_func=f_classif,k=15)), ('xgb', XGBClassifier(random_state=21))])\n",
        "pipe.get_params\n",
        "# clf.fit(X_train2, y_train2)\n",
        "# clf.score(X_train2, y_train2)"
      ],
      "metadata": {
        "colab": {
          "base_uri": "https://localhost:8080/"
        },
        "id": "FZjRJGLcm2g1",
        "outputId": "248d1067-b48b-4163-f736-118f1f3abddb"
      },
      "execution_count": null,
      "outputs": [
        {
          "output_type": "execute_result",
          "data": {
            "text/plain": [
              "<bound method Pipeline.get_params of Pipeline(steps=[('anova', SelectKBest(k=15)),\n",
              "                ('xgb',\n",
              "                 XGBClassifier(base_score=None, booster=None, callbacks=None,\n",
              "                               colsample_bylevel=None, colsample_bynode=None,\n",
              "                               colsample_bytree=None, device=None,\n",
              "                               early_stopping_rounds=None,\n",
              "                               enable_categorical=False, eval_metric=None,\n",
              "                               feature_types=None, gamma=None, grow_policy=None,\n",
              "                               importance_type=None,\n",
              "                               interaction_constraints=None, learning_rate=None,\n",
              "                               max_bin=None, max_cat_threshold=None,\n",
              "                               max_cat_to_onehot=None, max_delta_step=None,\n",
              "                               max_depth=None, max_leaves=None,\n",
              "                               min_child_weight=None, missing=nan,\n",
              "                               monotone_constraints=None, multi_strategy=None,\n",
              "                               n_estimators=None, n_jobs=None,\n",
              "                               num_parallel_tree=None, random_state=21, ...))])>"
            ]
          },
          "metadata": {},
          "execution_count": 6
        }
      ]
    },
    {
      "cell_type": "code",
      "source": [
        "from scipy.stats import uniform, randint\n",
        "\n",
        "\n",
        "grid_params_rs = [{\n",
        "    \"xgb__n_estimators\": randint(1,5000),\n",
        "    \"xgb__learning_rate\": uniform(0,10),\n",
        "    \"xgb__max_depth\": randint(1,15),\n",
        "    \"xgb__min_child_weight\": uniform(0,7)\n",
        "}]"
      ],
      "metadata": {
        "id": "PyDjvg0PnaCW"
      },
      "execution_count": null,
      "outputs": []
    },
    {
      "cell_type": "code",
      "source": [
        "from sklearn.model_selection import RandomizedSearchCV\n",
        "\n",
        "results_rs = pd.DataFrame()\n",
        "grid = RandomizedSearchCV(pipe,grid_params_rs, scoring='balanced_accuracy', random_state=37, n_iter=50)"
      ],
      "metadata": {
        "id": "_oaexsdendVf"
      },
      "execution_count": null,
      "outputs": []
    },
    {
      "cell_type": "code",
      "source": [
        "grid.fit(X_train, y_train2)"
      ],
      "metadata": {
        "colab": {
          "base_uri": "https://localhost:8080/",
          "height": 151
        },
        "id": "pYf5TFconguP",
        "outputId": "d31a42bf-4afc-45fa-9227-15dcafc3b7b5"
      },
      "execution_count": null,
      "outputs": [
        {
          "output_type": "execute_result",
          "data": {
            "text/plain": [
              "RandomizedSearchCV(estimator=Pipeline(steps=[('anova', SelectKBest(k=15)),\n",
              "                                             ('xgb',\n",
              "                                              XGBClassifier(base_score=None,\n",
              "                                                            booster=None,\n",
              "                                                            callbacks=None,\n",
              "                                                            colsample_bylevel=None,\n",
              "                                                            colsample_bynode=None,\n",
              "                                                            colsample_bytree=None,\n",
              "                                                            device=None,\n",
              "                                                            early_stopping_rounds=None,\n",
              "                                                            enable_categorical=False,\n",
              "                                                            eval_metric=None,\n",
              "                                                            feature_types=None,\n",
              "                                                            gamma=None,\n",
              "                                                            grow_policy=None,\n",
              "                                                            importance_type=N...\n",
              "                   param_distributions=[{'xgb__learning_rate': <scipy.stats._distn_infrastructure.rv_continuous_frozen object at 0x7da2de7bd5d0>,\n",
              "                                         'xgb__max_depth': <scipy.stats._distn_infrastructure.rv_discrete_frozen object at 0x7da2de7bee60>,\n",
              "                                         'xgb__min_child_weight': <scipy.stats._distn_infrastructure.rv_continuous_frozen object at 0x7da2de7be590>,\n",
              "                                         'xgb__n_estimators': <scipy.stats._distn_infrastructure.rv_discrete_frozen object at 0x7da2de700c70>}],\n",
              "                   random_state=37, scoring='balanced_accuracy')"
            ],
            "text/html": [
              "<style>#sk-container-id-1 {color: black;background-color: white;}#sk-container-id-1 pre{padding: 0;}#sk-container-id-1 div.sk-toggleable {background-color: white;}#sk-container-id-1 label.sk-toggleable__label {cursor: pointer;display: block;width: 100%;margin-bottom: 0;padding: 0.3em;box-sizing: border-box;text-align: center;}#sk-container-id-1 label.sk-toggleable__label-arrow:before {content: \"▸\";float: left;margin-right: 0.25em;color: #696969;}#sk-container-id-1 label.sk-toggleable__label-arrow:hover:before {color: black;}#sk-container-id-1 div.sk-estimator:hover label.sk-toggleable__label-arrow:before {color: black;}#sk-container-id-1 div.sk-toggleable__content {max-height: 0;max-width: 0;overflow: hidden;text-align: left;background-color: #f0f8ff;}#sk-container-id-1 div.sk-toggleable__content pre {margin: 0.2em;color: black;border-radius: 0.25em;background-color: #f0f8ff;}#sk-container-id-1 input.sk-toggleable__control:checked~div.sk-toggleable__content {max-height: 200px;max-width: 100%;overflow: auto;}#sk-container-id-1 input.sk-toggleable__control:checked~label.sk-toggleable__label-arrow:before {content: \"▾\";}#sk-container-id-1 div.sk-estimator input.sk-toggleable__control:checked~label.sk-toggleable__label {background-color: #d4ebff;}#sk-container-id-1 div.sk-label input.sk-toggleable__control:checked~label.sk-toggleable__label {background-color: #d4ebff;}#sk-container-id-1 input.sk-hidden--visually {border: 0;clip: rect(1px 1px 1px 1px);clip: rect(1px, 1px, 1px, 1px);height: 1px;margin: -1px;overflow: hidden;padding: 0;position: absolute;width: 1px;}#sk-container-id-1 div.sk-estimator {font-family: monospace;background-color: #f0f8ff;border: 1px dotted black;border-radius: 0.25em;box-sizing: border-box;margin-bottom: 0.5em;}#sk-container-id-1 div.sk-estimator:hover {background-color: #d4ebff;}#sk-container-id-1 div.sk-parallel-item::after {content: \"\";width: 100%;border-bottom: 1px solid gray;flex-grow: 1;}#sk-container-id-1 div.sk-label:hover label.sk-toggleable__label {background-color: #d4ebff;}#sk-container-id-1 div.sk-serial::before {content: \"\";position: absolute;border-left: 1px solid gray;box-sizing: border-box;top: 0;bottom: 0;left: 50%;z-index: 0;}#sk-container-id-1 div.sk-serial {display: flex;flex-direction: column;align-items: center;background-color: white;padding-right: 0.2em;padding-left: 0.2em;position: relative;}#sk-container-id-1 div.sk-item {position: relative;z-index: 1;}#sk-container-id-1 div.sk-parallel {display: flex;align-items: stretch;justify-content: center;background-color: white;position: relative;}#sk-container-id-1 div.sk-item::before, #sk-container-id-1 div.sk-parallel-item::before {content: \"\";position: absolute;border-left: 1px solid gray;box-sizing: border-box;top: 0;bottom: 0;left: 50%;z-index: -1;}#sk-container-id-1 div.sk-parallel-item {display: flex;flex-direction: column;z-index: 1;position: relative;background-color: white;}#sk-container-id-1 div.sk-parallel-item:first-child::after {align-self: flex-end;width: 50%;}#sk-container-id-1 div.sk-parallel-item:last-child::after {align-self: flex-start;width: 50%;}#sk-container-id-1 div.sk-parallel-item:only-child::after {width: 0;}#sk-container-id-1 div.sk-dashed-wrapped {border: 1px dashed gray;margin: 0 0.4em 0.5em 0.4em;box-sizing: border-box;padding-bottom: 0.4em;background-color: white;}#sk-container-id-1 div.sk-label label {font-family: monospace;font-weight: bold;display: inline-block;line-height: 1.2em;}#sk-container-id-1 div.sk-label-container {text-align: center;}#sk-container-id-1 div.sk-container {/* jupyter's `normalize.less` sets `[hidden] { display: none; }` but bootstrap.min.css set `[hidden] { display: none !important; }` so we also need the `!important` here to be able to override the default hidden behavior on the sphinx rendered scikit-learn.org. See: https://github.com/scikit-learn/scikit-learn/issues/21755 */display: inline-block !important;position: relative;}#sk-container-id-1 div.sk-text-repr-fallback {display: none;}</style><div id=\"sk-container-id-1\" class=\"sk-top-container\"><div class=\"sk-text-repr-fallback\"><pre>RandomizedSearchCV(estimator=Pipeline(steps=[(&#x27;anova&#x27;, SelectKBest(k=15)),\n",
              "                                             (&#x27;xgb&#x27;,\n",
              "                                              XGBClassifier(base_score=None,\n",
              "                                                            booster=None,\n",
              "                                                            callbacks=None,\n",
              "                                                            colsample_bylevel=None,\n",
              "                                                            colsample_bynode=None,\n",
              "                                                            colsample_bytree=None,\n",
              "                                                            device=None,\n",
              "                                                            early_stopping_rounds=None,\n",
              "                                                            enable_categorical=False,\n",
              "                                                            eval_metric=None,\n",
              "                                                            feature_types=None,\n",
              "                                                            gamma=None,\n",
              "                                                            grow_policy=None,\n",
              "                                                            importance_type=N...\n",
              "                   param_distributions=[{&#x27;xgb__learning_rate&#x27;: &lt;scipy.stats._distn_infrastructure.rv_continuous_frozen object at 0x7da2de7bd5d0&gt;,\n",
              "                                         &#x27;xgb__max_depth&#x27;: &lt;scipy.stats._distn_infrastructure.rv_discrete_frozen object at 0x7da2de7bee60&gt;,\n",
              "                                         &#x27;xgb__min_child_weight&#x27;: &lt;scipy.stats._distn_infrastructure.rv_continuous_frozen object at 0x7da2de7be590&gt;,\n",
              "                                         &#x27;xgb__n_estimators&#x27;: &lt;scipy.stats._distn_infrastructure.rv_discrete_frozen object at 0x7da2de700c70&gt;}],\n",
              "                   random_state=37, scoring=&#x27;balanced_accuracy&#x27;)</pre><b>In a Jupyter environment, please rerun this cell to show the HTML representation or trust the notebook. <br />On GitHub, the HTML representation is unable to render, please try loading this page with nbviewer.org.</b></div><div class=\"sk-container\" hidden><div class=\"sk-item sk-dashed-wrapped\"><div class=\"sk-label-container\"><div class=\"sk-label sk-toggleable\"><input class=\"sk-toggleable__control sk-hidden--visually\" id=\"sk-estimator-id-1\" type=\"checkbox\" ><label for=\"sk-estimator-id-1\" class=\"sk-toggleable__label sk-toggleable__label-arrow\">RandomizedSearchCV</label><div class=\"sk-toggleable__content\"><pre>RandomizedSearchCV(estimator=Pipeline(steps=[(&#x27;anova&#x27;, SelectKBest(k=15)),\n",
              "                                             (&#x27;xgb&#x27;,\n",
              "                                              XGBClassifier(base_score=None,\n",
              "                                                            booster=None,\n",
              "                                                            callbacks=None,\n",
              "                                                            colsample_bylevel=None,\n",
              "                                                            colsample_bynode=None,\n",
              "                                                            colsample_bytree=None,\n",
              "                                                            device=None,\n",
              "                                                            early_stopping_rounds=None,\n",
              "                                                            enable_categorical=False,\n",
              "                                                            eval_metric=None,\n",
              "                                                            feature_types=None,\n",
              "                                                            gamma=None,\n",
              "                                                            grow_policy=None,\n",
              "                                                            importance_type=N...\n",
              "                   param_distributions=[{&#x27;xgb__learning_rate&#x27;: &lt;scipy.stats._distn_infrastructure.rv_continuous_frozen object at 0x7da2de7bd5d0&gt;,\n",
              "                                         &#x27;xgb__max_depth&#x27;: &lt;scipy.stats._distn_infrastructure.rv_discrete_frozen object at 0x7da2de7bee60&gt;,\n",
              "                                         &#x27;xgb__min_child_weight&#x27;: &lt;scipy.stats._distn_infrastructure.rv_continuous_frozen object at 0x7da2de7be590&gt;,\n",
              "                                         &#x27;xgb__n_estimators&#x27;: &lt;scipy.stats._distn_infrastructure.rv_discrete_frozen object at 0x7da2de700c70&gt;}],\n",
              "                   random_state=37, scoring=&#x27;balanced_accuracy&#x27;)</pre></div></div></div><div class=\"sk-parallel\"><div class=\"sk-parallel-item\"><div class=\"sk-item\"><div class=\"sk-label-container\"><div class=\"sk-label sk-toggleable\"><input class=\"sk-toggleable__control sk-hidden--visually\" id=\"sk-estimator-id-2\" type=\"checkbox\" ><label for=\"sk-estimator-id-2\" class=\"sk-toggleable__label sk-toggleable__label-arrow\">estimator: Pipeline</label><div class=\"sk-toggleable__content\"><pre>Pipeline(steps=[(&#x27;anova&#x27;, SelectKBest(k=15)),\n",
              "                (&#x27;xgb&#x27;,\n",
              "                 XGBClassifier(base_score=None, booster=None, callbacks=None,\n",
              "                               colsample_bylevel=None, colsample_bynode=None,\n",
              "                               colsample_bytree=None, device=None,\n",
              "                               early_stopping_rounds=None,\n",
              "                               enable_categorical=False, eval_metric=None,\n",
              "                               feature_types=None, gamma=None, grow_policy=None,\n",
              "                               importance_type=None,\n",
              "                               interaction_constraints=None, learning_rate=None,\n",
              "                               max_bin=None, max_cat_threshold=None,\n",
              "                               max_cat_to_onehot=None, max_delta_step=None,\n",
              "                               max_depth=None, max_leaves=None,\n",
              "                               min_child_weight=None, missing=nan,\n",
              "                               monotone_constraints=None, multi_strategy=None,\n",
              "                               n_estimators=None, n_jobs=None,\n",
              "                               num_parallel_tree=None, random_state=21, ...))])</pre></div></div></div><div class=\"sk-serial\"><div class=\"sk-item\"><div class=\"sk-serial\"><div class=\"sk-item\"><div class=\"sk-estimator sk-toggleable\"><input class=\"sk-toggleable__control sk-hidden--visually\" id=\"sk-estimator-id-3\" type=\"checkbox\" ><label for=\"sk-estimator-id-3\" class=\"sk-toggleable__label sk-toggleable__label-arrow\">SelectKBest</label><div class=\"sk-toggleable__content\"><pre>SelectKBest(k=15)</pre></div></div></div><div class=\"sk-item\"><div class=\"sk-estimator sk-toggleable\"><input class=\"sk-toggleable__control sk-hidden--visually\" id=\"sk-estimator-id-4\" type=\"checkbox\" ><label for=\"sk-estimator-id-4\" class=\"sk-toggleable__label sk-toggleable__label-arrow\">XGBClassifier</label><div class=\"sk-toggleable__content\"><pre>XGBClassifier(base_score=None, booster=None, callbacks=None,\n",
              "              colsample_bylevel=None, colsample_bynode=None,\n",
              "              colsample_bytree=None, device=None, early_stopping_rounds=None,\n",
              "              enable_categorical=False, eval_metric=None, feature_types=None,\n",
              "              gamma=None, grow_policy=None, importance_type=None,\n",
              "              interaction_constraints=None, learning_rate=None, max_bin=None,\n",
              "              max_cat_threshold=None, max_cat_to_onehot=None,\n",
              "              max_delta_step=None, max_depth=None, max_leaves=None,\n",
              "              min_child_weight=None, missing=nan, monotone_constraints=None,\n",
              "              multi_strategy=None, n_estimators=None, n_jobs=None,\n",
              "              num_parallel_tree=None, random_state=21, ...)</pre></div></div></div></div></div></div></div></div></div></div></div></div>"
            ]
          },
          "metadata": {},
          "execution_count": 9
        }
      ]
    },
    {
      "cell_type": "code",
      "source": [
        "results_rs[\"params\"] = grid.cv_results_[\"params\"]\n",
        "results_rs[\"a_scores\"] = grid.cv_results_[\"mean_test_score\"]"
      ],
      "metadata": {
        "id": "5XZ1H4jrniwv"
      },
      "execution_count": null,
      "outputs": []
    },
    {
      "cell_type": "code",
      "source": [
        "grid.best_estimator_.get_params"
      ],
      "metadata": {
        "colab": {
          "base_uri": "https://localhost:8080/"
        },
        "id": "YxCNswjmwnRv",
        "outputId": "1b91710d-e87a-4da8-e66a-4389b5de3c7b"
      },
      "execution_count": null,
      "outputs": [
        {
          "output_type": "execute_result",
          "data": {
            "text/plain": [
              "<bound method Pipeline.get_params of Pipeline(steps=[('anova', SelectKBest(k=15)),\n",
              "                ('xgb',\n",
              "                 XGBClassifier(base_score=None, booster=None, callbacks=None,\n",
              "                               colsample_bylevel=None, colsample_bynode=None,\n",
              "                               colsample_bytree=None, device=None,\n",
              "                               early_stopping_rounds=None,\n",
              "                               enable_categorical=False, eval_metric=None,\n",
              "                               feature_types=None, gamma=None, grow_policy=None,\n",
              "                               importance_type=None,\n",
              "                               interaction_constraints=None,\n",
              "                               learning_rate=0.38721346767512266, max_bin=None,\n",
              "                               max_cat_threshold=None, max_cat_to_onehot=None,\n",
              "                               max_delta_step=None, max_depth=5,\n",
              "                               max_leaves=None,\n",
              "                               min_child_weight=0.6010107840065457, missing=nan,\n",
              "                               monotone_constraints=None, multi_strategy=None,\n",
              "                               n_estimators=427, n_jobs=None,\n",
              "                               num_parallel_tree=None, random_state=21, ...))])>"
            ]
          },
          "metadata": {},
          "execution_count": 11
        }
      ]
    },
    {
      "cell_type": "code",
      "source": [
        "grid.best_score_"
      ],
      "metadata": {
        "colab": {
          "base_uri": "https://localhost:8080/"
        },
        "id": "E6aWpFJ4xFM6",
        "outputId": "23c9d161-e095-46be-c12e-b04169990700"
      },
      "execution_count": null,
      "outputs": [
        {
          "output_type": "execute_result",
          "data": {
            "text/plain": [
              "0.8364999999999998"
            ]
          },
          "metadata": {},
          "execution_count": 13
        }
      ]
    },
    {
      "cell_type": "code",
      "source": [
        "grid.best_estimator_.predict_proba(df_test)[:,0]"
      ],
      "metadata": {
        "id": "5BbEncls1CIv"
      },
      "execution_count": null,
      "outputs": []
    },
    {
      "cell_type": "code",
      "source": [
        "results_rs.to_csv(\"/drive/My Drive/AutoML/hw2/xgb/xgb_pipe_results_rs.csv\",index=False)"
      ],
      "metadata": {
        "id": "SsdLERlsnmMP"
      },
      "execution_count": null,
      "outputs": []
    }
  ]
}