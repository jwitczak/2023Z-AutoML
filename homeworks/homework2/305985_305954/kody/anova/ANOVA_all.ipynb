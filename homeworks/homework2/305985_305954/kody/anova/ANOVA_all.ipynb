{
  "cells": [
    {
      "cell_type": "markdown",
      "metadata": {
        "id": "7yLCjiY0s17k"
      },
      "source": [
        "# Models with ANOVA feature selection"
      ]
    },
    {
      "cell_type": "markdown",
      "metadata": {
        "id": "DPvI_LJKtJvU"
      },
      "source": [
        "For this part, we applied ANOVA feature selection and picked the first 15 features with the highest F-score. Then we trained the gradient boosting, random forest and xgboost models on the reduced dataset."
      ]
    },
    {
      "cell_type": "markdown",
      "metadata": {
        "id": "LVbML3Kg002N"
      },
      "source": [
        "## Loading the data"
      ]
    },
    {
      "cell_type": "code",
      "execution_count": 1,
      "metadata": {
        "id": "4YsMbLnMlt_C"
      },
      "outputs": [],
      "source": [
        "import os\n",
        "import pandas as pd\n",
        "import numpy as np\n",
        "import matplotlib.pyplot as plt\n",
        "import seaborn as sns\n",
        "from scipy import stats\n",
        "\n",
        "import random\n",
        "random.seed(420)\n",
        "\n",
        "\n",
        "url = 'https://raw.githubusercontent.com/kozaka93/2023Z-AutoML/main/homeworks/homework2/artificial_test.data'\n",
        "df_test = pd.read_csv(url, header=None, sep =' ')\n",
        "df_test = df_test.dropna(how='all', axis=1)\n",
        "\n",
        "url = 'https://raw.githubusercontent.com/kozaka93/2023Z-AutoML/main/homeworks/homework2/artificial_train.data'\n",
        "X_train = pd.read_csv(url, header=None, sep =' ')\n",
        "X_train = X_train.dropna(how='all', axis=1)\n",
        "\n",
        "url = 'https://raw.githubusercontent.com/kozaka93/2023Z-AutoML/main/homeworks/homework2/artificial_train.labels'\n",
        "y_train = pd.read_csv(url, header=None)"
      ]
    },
    {
      "cell_type": "markdown",
      "metadata": {
        "id": "hVN6vN0U02-c"
      },
      "source": [
        "## Loading the models"
      ]
    },
    {
      "cell_type": "code",
      "execution_count": 2,
      "metadata": {
        "colab": {
          "base_uri": "https://localhost:8080/"
        },
        "id": "_gnI994Z09YH",
        "outputId": "8f259034-2634-440d-f8f6-8a966fb827c3"
      },
      "outputs": [
        {
          "data": {
            "text/plain": [
              "{'xgb__learning_rate': 0.38721346767512266,\n",
              " 'xgb__max_depth': 5,\n",
              " 'xgb__min_child_weight': 0.6010107840065457,\n",
              " 'xgb__n_estimators': 427}"
            ]
          },
          "execution_count": 2,
          "metadata": {},
          "output_type": "execute_result"
        }
      ],
      "source": [
        "xgb_results_rs = pd.read_csv('xgb_pipe_results_rs.csv')\n",
        "best_params_xgb = xgb_results_rs.loc[xgb_results_rs['a_scores']==max(xgb_results_rs['a_scores'])]['params']\n",
        "best_params_xgb = eval(best_params_xgb.values[0])\n",
        "best_params_xgb"
      ]
    },
    {
      "cell_type": "code",
      "execution_count": 3,
      "metadata": {},
      "outputs": [
        {
          "data": {
            "text/plain": [
              "0.8364999999999998"
            ]
          },
          "execution_count": 3,
          "metadata": {},
          "output_type": "execute_result"
        }
      ],
      "source": [
        "max(xgb_results_rs['a_scores'])"
      ]
    },
    {
      "cell_type": "code",
      "execution_count": 4,
      "metadata": {
        "colab": {
          "base_uri": "https://localhost:8080/"
        },
        "id": "26tgRVe-1a11",
        "outputId": "cd31da5e-4339-4cdf-af9d-793edf01e033"
      },
      "outputs": [
        {
          "data": {
            "text/plain": [
              "{'gbc__learning_rate': 0.2891592793734936,\n",
              " 'gbc__max_depth': 9,\n",
              " 'gbc__max_leaf_nodes': 42,\n",
              " 'gbc__min_samples_leaf': 4,\n",
              " 'gbc__n_estimators': 435}"
            ]
          },
          "execution_count": 4,
          "metadata": {},
          "output_type": "execute_result"
        }
      ],
      "source": [
        "gbc_results_rs = pd.read_csv('gb_pipe_results_rs.csv')\n",
        "best_params_gbc = gbc_results_rs.loc[gbc_results_rs['a_scores']==max(gbc_results_rs['a_scores'])]['params']\n",
        "best_params_gbc = eval(best_params_gbc.values[0])\n",
        "best_params_gbc"
      ]
    },
    {
      "cell_type": "code",
      "execution_count": 5,
      "metadata": {},
      "outputs": [
        {
          "data": {
            "text/plain": [
              "0.858"
            ]
          },
          "execution_count": 5,
          "metadata": {},
          "output_type": "execute_result"
        }
      ],
      "source": [
        "max(gbc_results_rs['a_scores'])"
      ]
    },
    {
      "cell_type": "code",
      "execution_count": 6,
      "metadata": {
        "colab": {
          "base_uri": "https://localhost:8080/"
        },
        "id": "3yNYUXXp1c-Z",
        "outputId": "95a4fdb1-1a8d-4916-d3b2-c0471ae4832f"
      },
      "outputs": [
        {
          "data": {
            "text/plain": [
              "{'rf__bootstrap': False,\n",
              " 'rf__max_features': 0.3732560346542585,\n",
              " 'rf__min_samples_split': 0.06145870228764971,\n",
              " 'rf__n_estimators': 627}"
            ]
          },
          "execution_count": 6,
          "metadata": {},
          "output_type": "execute_result"
        }
      ],
      "source": [
        "rfc_results_rs = pd.read_csv('rf_pipe_results_rs.csv')\n",
        "best_params_rfc = rfc_results_rs.loc[rfc_results_rs['a_scores']==max(rfc_results_rs['a_scores'])]['params']\n",
        "best_params_rfc = eval(best_params_rfc.values[0])\n",
        "best_params_rfc"
      ]
    },
    {
      "cell_type": "code",
      "execution_count": 7,
      "metadata": {},
      "outputs": [
        {
          "data": {
            "text/plain": [
              "0.7940000000000002"
            ]
          },
          "execution_count": 7,
          "metadata": {},
          "output_type": "execute_result"
        }
      ],
      "source": [
        "max(rfc_results_rs['a_scores'])"
      ]
    },
    {
      "cell_type": "markdown",
      "metadata": {
        "id": "QWN_iiMC05Nn"
      },
      "source": [
        "## Label encodning"
      ]
    },
    {
      "cell_type": "code",
      "execution_count": null,
      "metadata": {
        "colab": {
          "base_uri": "https://localhost:8080/"
        },
        "id": "LxDwJJrcmEtG",
        "outputId": "c27af8da-6294-4a3e-a312-51fd0b48a950"
      },
      "outputs": [
        {
          "name": "stderr",
          "output_type": "stream",
          "text": [
            "/usr/local/lib/python3.10/dist-packages/sklearn/preprocessing/_label.py:116: DataConversionWarning: A column-vector y was passed when a 1d array was expected. Please change the shape of y to (n_samples, ), for example using ravel().\n",
            "  y = column_or_1d(y, warn=True)\n"
          ]
        },
        {
          "data": {
            "text/plain": [
              "array([0, 0, 0, ..., 0, 1, 1])"
            ]
          },
          "execution_count": 7,
          "metadata": {},
          "output_type": "execute_result"
        }
      ],
      "source": [
        "from sklearn.preprocessing import LabelEncoder\n",
        "\n",
        "y_train2 = LabelEncoder().fit_transform(y_train)\n",
        "y_train2"
      ]
    },
    {
      "cell_type": "markdown",
      "metadata": {
        "id": "-dLck7L8spHd"
      },
      "source": [
        "## Model fitting and saving"
      ]
    },
    {
      "cell_type": "code",
      "execution_count": null,
      "metadata": {
        "id": "FyIYA-OlsnZ3"
      },
      "outputs": [],
      "source": [
        "from sklearn.feature_selection import f_classif, SelectKBest\n",
        "from sklearn.ensemble import RandomForestClassifier, GradientBoostingClassifier\n",
        "from xgboost import XGBClassifier\n",
        "from sklearn.pipeline import Pipeline"
      ]
    },
    {
      "cell_type": "code",
      "execution_count": null,
      "metadata": {
        "id": "vKNFD57D-QBN"
      },
      "outputs": [],
      "source": [
        "rfc = Pipeline([('anova', SelectKBest(score_func=f_classif,k=15)), ('rf', RandomForestClassifier(random_state=21))])\n",
        "rfc.set_params(**best_params_rfc)\n",
        "rfc.fit(X_train, y_train2)\n",
        "rfc_proba = pd.DataFrame(rfc.predict_proba(df_test)[:,0])\n",
        "# rfc_proba.to_csv(\"rfc_pipe_proba.csv\",index='index')\n",
        "np.savetxt('probs_rf_pipe.txt', rfc.predict_proba(df_test)[:,1], fmt = '%10.25f')"
      ]
    },
    {
      "cell_type": "code",
      "execution_count": null,
      "metadata": {
        "id": "i1bBwpU1sgjH"
      },
      "outputs": [],
      "source": [
        "gbc = Pipeline([('anova', SelectKBest(score_func=f_classif,k=15)), ('gbc', GradientBoostingClassifier(random_state=21))])\n",
        "gbc.set_params(**best_params_gbc)\n",
        "gbc.fit(X_train, y_train2)\n",
        "gbc_proba = pd.DataFrame(gbc.predict_proba(df_test)[:,0])\n",
        "# gbc_proba.to_csv(\"gbc_pipe_proba.csv\",index='index')\n",
        "np.savetxt('probs_gb_pipe.txt', rfc.predict_proba(df_test)[:,1], fmt = '%10.25f')"
      ]
    },
    {
      "cell_type": "code",
      "execution_count": null,
      "metadata": {
        "id": "kDr8ob6qsjWr"
      },
      "outputs": [],
      "source": [
        "xgb = Pipeline([('anova', SelectKBest(score_func=f_classif,k=15)), ('xgb', XGBClassifier(random_state=21))])\n",
        "xgb.set_params(**best_params_xgb)\n",
        "xgb.fit(X_train, y_train2)\n",
        "xgb_proba = pd.DataFrame(xgb.predict_proba(df_test)[:,0])\n",
        "# xgb_proba.to_csv(\"xgb_pipe_proba.csv\",index='index')\n",
        "np.savetxt('probs_xgb_pipe.txt', rfc.predict_proba(df_test)[:,1], fmt = '%10.25f')"
      ]
    }
  ],
  "metadata": {
    "colab": {
      "provenance": []
    },
    "kernelspec": {
      "display_name": "Python 3",
      "name": "python3"
    },
    "language_info": {
      "codemirror_mode": {
        "name": "ipython",
        "version": 3
      },
      "file_extension": ".py",
      "mimetype": "text/x-python",
      "name": "python",
      "nbconvert_exporter": "python",
      "pygments_lexer": "ipython3",
      "version": "3.9.13"
    }
  },
  "nbformat": 4,
  "nbformat_minor": 0
}
