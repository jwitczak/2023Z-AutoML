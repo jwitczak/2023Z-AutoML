{
 "cells": [
  {
   "cell_type": "markdown",
   "metadata": {},
   "source": [
    "# Test data"
   ]
  },
  {
   "cell_type": "code",
   "execution_count": 1,
   "metadata": {},
   "outputs": [
    {
     "name": "stdout",
     "output_type": "stream",
     "text": [
      "(600, 271)\n",
      "          1         3         4         5         6         8        10  \\\n",
      "0  0.333333  0.636364  0.479495  0.217391  0.429603  0.716981  0.436090   \n",
      "1  0.579909  0.515152  0.337539  0.282609  0.613718  0.462264  0.672932   \n",
      "2  0.639269  0.333333  0.384858  0.586957  0.314079  0.622642  0.278195   \n",
      "\n",
      "         11        13        14  ...       485       486       488       489  \\\n",
      "0  0.650538  0.253571  0.848101  ...  0.506329  0.441176  0.453988  0.234375   \n",
      "1  0.569892  0.371429  0.481013  ...  0.493671  0.411765  0.355828  0.296875   \n",
      "2  0.494624  0.807143  0.455696  ...  0.455696  0.411765  0.595092  0.437500   \n",
      "\n",
      "        490       492       494       495       498       499  \n",
      "0  0.338028  0.878613  0.182186  0.463878  0.569395  0.594444  \n",
      "1  0.556338  0.832370  0.591093  0.205323  0.658363  0.411111  \n",
      "2  0.591549  0.618497  0.566802  0.494297  0.516014  0.555556  \n",
      "\n",
      "[3 rows x 271 columns]\n"
     ]
    }
   ],
   "source": [
    "import mlflow\n",
    "import pandas as pd\n",
    "\n",
    "DATA_PATH = '../processed_data/X_test.csv'\n",
    "\n",
    "test_data = pd.read_csv(DATA_PATH)\n",
    "print(test_data.shape)\n",
    "print(test_data.head(3))"
   ]
  },
  {
   "cell_type": "code",
   "execution_count": 2,
   "metadata": {},
   "outputs": [
    {
     "data": {
      "text/plain": [
       "array([[0.76761993, 0.23238007],\n",
       "       [0.94856902, 0.05143098],\n",
       "       [0.52090137, 0.47909863],\n",
       "       ...,\n",
       "       [0.15820737, 0.84179263],\n",
       "       [0.10150273, 0.89849727],\n",
       "       [0.92144845, 0.07855155]])"
      ]
     },
     "execution_count": 2,
     "metadata": {},
     "output_type": "execute_result"
    }
   ],
   "source": [
    "# our best model - catboost random search\n",
    "logged_model = 'runs:/89df553505624413aa8d641f8d70fbee/catboost_model'\n",
    "\n",
    "mlflow.set_tracking_uri('../mlruns')\n",
    "loaded_model = mlflow.catboost.load_model(logged_model)\n",
    "\n",
    "probabilities =  loaded_model.predict_proba(test_data)\n",
    "probabilities"
   ]
  },
  {
   "cell_type": "code",
   "execution_count": 3,
   "metadata": {},
   "outputs": [],
   "source": [
    "preds = pd.DataFrame(probabilities[:, 1])\n",
    "preds.columns = ['313325_313342']\n",
    "preds.to_csv(f'../../313325_313342_artificial_model_prediction.txt', index=False)"
   ]
  }
 ],
 "metadata": {
  "kernelspec": {
   "display_name": "hw2_automl",
   "language": "python",
   "name": "python3"
  },
  "language_info": {
   "codemirror_mode": {
    "name": "ipython",
    "version": 3
   },
   "file_extension": ".py",
   "mimetype": "text/x-python",
   "name": "python",
   "nbconvert_exporter": "python",
   "pygments_lexer": "ipython3",
   "version": "3.10.13"
  }
 },
 "nbformat": 4,
 "nbformat_minor": 2
}
